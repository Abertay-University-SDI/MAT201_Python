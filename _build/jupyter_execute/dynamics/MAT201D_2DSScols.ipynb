{
 "cells": [
  {
   "cell_type": "markdown",
   "id": "6ec91ce8",
   "metadata": {
    "id": "6ec91ce8"
   },
   "source": [
    "# 2D Oblique Sphere Collisions\n",
    "\n",
    "Interactive code to illustrate concepts from MAT201 at Abertay University (JT 2022).\n",
    "\n",
    "Using the maths we learned in lectures, we'll create a visualisation of a ball collision with another ball. Post-impact trajectories are determined by the solution of a set of simultaneous equations, for an initial set of speeds, angles, masses and coefficient of restitution. Impact takes place at origin for simplicity."
   ]
  },
  {
   "cell_type": "markdown",
   "id": "HhTPKmA6LVNB",
   "metadata": {
    "id": "HhTPKmA6LVNB"
   },
   "source": [
    "As always, we need to load in the Python libraries that we need to carry out the plotting, animation and (in this case) solve a set of simultaneous equations."
   ]
  },
  {
   "cell_type": "code",
   "execution_count": 1,
   "id": "c10d447e",
   "metadata": {
    "executionInfo": {
     "elapsed": 412,
     "status": "ok",
     "timestamp": 1646662034959,
     "user": {
      "displayName": "James Threlfall",
      "photoUrl": "https://lh3.googleusercontent.com/a-/AOh14Gh5AMmwJn-QgnyAtyVfjDwEfQL-5FfwAhQ1uZjJ=s64",
      "userId": "12893452708265254015"
     },
     "user_tz": 0
    },
    "id": "c10d447e"
   },
   "outputs": [
    {
     "name": "stdout",
     "output_type": "stream",
     "text": [
      "\u001b[33mDEPRECATION: Configuring installation scheme with distutils config files is deprecated and will no longer work in the near future. If you are using a Homebrew or Linuxbrew Python, please see discussion at https://github.com/Homebrew/homebrew-core/issues/76621\u001b[0m\u001b[33m\r\n",
      "\u001b[0m"
     ]
    },
    {
     "name": "stdout",
     "output_type": "stream",
     "text": [
      "Requirement already satisfied: Ipython in /Users/jamesthrelfall/Library/Python/3.9/lib/python/site-packages (8.13.2)\r\n"
     ]
    },
    {
     "name": "stdout",
     "output_type": "stream",
     "text": [
      "Requirement already satisfied: traitlets>=5 in /usr/local/lib/python3.9/site-packages (from Ipython) (5.1.1)\r\n",
      "Requirement already satisfied: backcall in /usr/local/lib/python3.9/site-packages (from Ipython) (0.2.0)\r\n",
      "Requirement already satisfied: stack-data in /Users/jamesthrelfall/Library/Python/3.9/lib/python/site-packages (from Ipython) (0.6.2)\r\n",
      "Requirement already satisfied: jedi>=0.16 in /usr/local/lib/python3.9/site-packages (from Ipython) (0.18.0)\r\n",
      "Requirement already satisfied: pygments>=2.4.0 in /usr/local/lib/python3.9/site-packages (from Ipython) (2.10.0)\r\n",
      "Requirement already satisfied: appnope in /usr/local/lib/python3.9/site-packages (from Ipython) (0.1.2)\r\n",
      "Requirement already satisfied: matplotlib-inline in /usr/local/lib/python3.9/site-packages (from Ipython) (0.1.3)\r\n",
      "Requirement already satisfied: decorator in /usr/local/lib/python3.9/site-packages (from Ipython) (5.1.0)\r\n",
      "Requirement already satisfied: pickleshare in /usr/local/lib/python3.9/site-packages (from Ipython) (0.7.5)\r\n",
      "Requirement already satisfied: typing-extensions in /Users/jamesthrelfall/Library/Python/3.9/lib/python/site-packages (from Ipython) (3.10.0.0)\r\n",
      "Requirement already satisfied: prompt-toolkit!=3.0.37,<3.1.0,>=3.0.30 in /Users/jamesthrelfall/Library/Python/3.9/lib/python/site-packages (from Ipython) (3.0.38)\r\n",
      "Requirement already satisfied: pexpect>4.3 in /usr/local/lib/python3.9/site-packages (from Ipython) (4.8.0)\r\n",
      "Requirement already satisfied: parso<0.9.0,>=0.8.0 in /usr/local/lib/python3.9/site-packages (from jedi>=0.16->Ipython) (0.8.2)\r\n"
     ]
    },
    {
     "name": "stdout",
     "output_type": "stream",
     "text": [
      "Requirement already satisfied: ptyprocess>=0.5 in /usr/local/lib/python3.9/site-packages (from pexpect>4.3->Ipython) (0.7.0)\r\n",
      "Requirement already satisfied: wcwidth in /usr/local/lib/python3.9/site-packages (from prompt-toolkit!=3.0.37,<3.1.0,>=3.0.30->Ipython) (0.2.5)\r\n",
      "Requirement already satisfied: pure-eval in /Users/jamesthrelfall/Library/Python/3.9/lib/python/site-packages (from stack-data->Ipython) (0.2.2)\r\n",
      "Requirement already satisfied: asttokens>=2.1.0 in /Users/jamesthrelfall/Library/Python/3.9/lib/python/site-packages (from stack-data->Ipython) (2.2.1)\r\n",
      "Requirement already satisfied: executing>=1.2.0 in /Users/jamesthrelfall/Library/Python/3.9/lib/python/site-packages (from stack-data->Ipython) (1.2.0)\r\n",
      "Requirement already satisfied: six in /usr/local/lib/python3.9/site-packages (from asttokens>=2.1.0->stack-data->Ipython) (1.16.0)\r\n"
     ]
    },
    {
     "name": "stdout",
     "output_type": "stream",
     "text": [
      "\u001b[33mDEPRECATION: Configuring installation scheme with distutils config files is deprecated and will no longer work in the near future. If you are using a Homebrew or Linuxbrew Python, please see discussion at https://github.com/Homebrew/homebrew-core/issues/76621\u001b[0m\u001b[33m\r\n",
      "\u001b[0m"
     ]
    },
    {
     "name": "stdout",
     "output_type": "stream",
     "text": [
      "\r\n",
      "\u001b[1m[\u001b[0m\u001b[34;49mnotice\u001b[0m\u001b[1;39;49m]\u001b[0m\u001b[39;49m A new release of pip available: \u001b[0m\u001b[31;49m22.3.1\u001b[0m\u001b[39;49m -> \u001b[0m\u001b[32;49m23.1.2\u001b[0m\r\n",
      "\u001b[1m[\u001b[0m\u001b[34;49mnotice\u001b[0m\u001b[1;39;49m]\u001b[0m\u001b[39;49m To update, run: \u001b[0m\u001b[32;49m/usr/local/opt/python@3.9/bin/python3.9 -m pip install --upgrade pip\u001b[0m\r\n"
     ]
    }
   ],
   "source": [
    "%matplotlib inline\n",
    "import matplotlib.pyplot as plt\n",
    "import numpy as np\n",
    "import matplotlib.animation as animation\n",
    "import matplotlib.patches as patches\n",
    "import random\n",
    "import math\n",
    "import sys\n",
    "!{sys.executable} -m pip install --upgrade Ipython"
   ]
  },
  {
   "cell_type": "markdown",
   "id": "I71We155Lhlc",
   "metadata": {
    "id": "I71We155Lhlc"
   },
   "source": [
    "With the libraries ready, we can set up some of the initial conditions for our collision. We'll have two balls, labelled A and B, and each is associated with a mass, an initial speed and at some initial angle to the line of centers created when the two spheres meet:"
   ]
  },
  {
   "cell_type": "code",
   "execution_count": 2,
   "id": "5f5bOWq3L1jL",
   "metadata": {
    "executionInfo": {
     "elapsed": 14,
     "status": "ok",
     "timestamp": 1646662035593,
     "user": {
      "displayName": "James Threlfall",
      "photoUrl": "https://lh3.googleusercontent.com/a-/AOh14Gh5AMmwJn-QgnyAtyVfjDwEfQL-5FfwAhQ1uZjJ=s64",
      "userId": "12893452708265254015"
     },
     "user_tz": 0
    },
    "id": "5f5bOWq3L1jL"
   },
   "outputs": [],
   "source": [
    "# angle of incidence\n",
    "alpha_A = 45.0\n",
    "alpha_B = 45.0-180.0\n",
    "#initial velocity (m/s)\n",
    "u_A = 2.0\n",
    "u_B = 2.0\n",
    "# masses (kg)\n",
    "m_A = 2.0\n",
    "m_B = 2.0"
   ]
  },
  {
   "cell_type": "markdown",
   "id": "E-ZFqRxbL0Ez",
   "metadata": {
    "id": "E-ZFqRxbL0Ez"
   },
   "source": [
    "We should also set up the coefficient of restitution and the step size in time of the simulation"
   ]
  },
  {
   "cell_type": "code",
   "execution_count": 3,
   "id": "Y3E6c4eCLz6o",
   "metadata": {
    "executionInfo": {
     "elapsed": 13,
     "status": "ok",
     "timestamp": 1646662035593,
     "user": {
      "displayName": "James Threlfall",
      "photoUrl": "https://lh3.googleusercontent.com/a-/AOh14Gh5AMmwJn-QgnyAtyVfjDwEfQL-5FfwAhQ1uZjJ=s64",
      "userId": "12893452708265254015"
     },
     "user_tz": 0
    },
    "id": "Y3E6c4eCLz6o"
   },
   "outputs": [],
   "source": [
    "# The coefficient of restitution for bounces (-v_up/v_down).\n",
    "e = 0.5\n",
    "# The time step for the animation (s)\n",
    "dt = 0.05"
   ]
  },
  {
   "cell_type": "markdown",
   "id": "pWQHjvM0MCft",
   "metadata": {
    "id": "pWQHjvM0MCft"
   },
   "source": [
    "We will once again be solving two equations of motion, one in the horizontal ($x$) direction and one in the vertical ($y$) direction. \n",
    "With our initial conditions, this means calculating initial components of velocity using trig functions (again noting that Python trig functions work in radians). The total velocity is therefore also the sum of each of these components squared.  "
   ]
  },
  {
   "cell_type": "code",
   "execution_count": 4,
   "id": "ffL1HzYOOdJV",
   "metadata": {
    "executionInfo": {
     "elapsed": 14,
     "status": "ok",
     "timestamp": 1646662035594,
     "user": {
      "displayName": "James Threlfall",
      "photoUrl": "https://lh3.googleusercontent.com/a-/AOh14Gh5AMmwJn-QgnyAtyVfjDwEfQL-5FfwAhQ1uZjJ=s64",
      "userId": "12893452708265254015"
     },
     "user_tz": 0
    },
    "id": "ffL1HzYOOdJV"
   },
   "outputs": [],
   "source": [
    "vx0_A = u_A * math.cos(math.radians(alpha_A))\n",
    "vy0_A = u_A * math.sin(math.radians(alpha_A))\n",
    "vx0_B = u_B * math.cos(math.radians(alpha_B))\n",
    "vy0_B = u_B * math.sin(math.radians(alpha_B))\n",
    "vA = math.sqrt(vx0_A * vx0_A + vy0_A * vy0_A) \n",
    "vB = math.sqrt(vx0_B * vx0_B + vy0_B * vy0_B) "
   ]
  },
  {
   "cell_type": "markdown",
   "id": "7Qplrd68Ok7y",
   "metadata": {
    "id": "7Qplrd68Ok7y"
   },
   "source": [
    "The initial position is trickier; the balls are travelling at different speeds and angles. \n",
    "\n",
    "Our tactic is to fix the collision to take place at $\\left(x=0,y=0\\right)$.  We know the velocity the balls travel at, and they are not accelerating; our first year CGT maths lets us work out a displacement through $s=ut+1/2at^2$, which reduces to $s=ut$ if $a=0$. \n",
    "\n",
    "So our $x$  and $y$ positions will behave like $(x,y)=(u_x t,u_y t)$ before the collision, which will take place at $t=0$. \n",
    "\n",
    "Our neat trick here is to pick a time *before* $t=0$ and see where the ball would be. I fix $t=-1$, and hence $(x,y)=(-u_x,-u_y)$ as our initial positions. \n"
   ]
  },
  {
   "cell_type": "code",
   "execution_count": 5,
   "id": "6f37a1d6",
   "metadata": {
    "executionInfo": {
     "elapsed": 14,
     "status": "ok",
     "timestamp": 1646662035594,
     "user": {
      "displayName": "James Threlfall",
      "photoUrl": "https://lh3.googleusercontent.com/a-/AOh14Gh5AMmwJn-QgnyAtyVfjDwEfQL-5FfwAhQ1uZjJ=s64",
      "userId": "12893452708265254015"
     },
     "user_tz": 0
    },
    "id": "6f37a1d6"
   },
   "outputs": [],
   "source": [
    "# Initial position and velocity vectors.\n",
    "x0_A, y0_A = -vx0_A, -vy0_A\n",
    "x0_B, y0_B = -vx0_B, -vy0_B"
   ]
  },
  {
   "cell_type": "markdown",
   "id": "7jML8eTFSD2y",
   "metadata": {
    "id": "7jML8eTFSD2y"
   },
   "source": [
    "Now that our initial positions are fixed, this will essentially also fix the size of our plotting area. We'll fix the extent of our plot to be twice as big as the largest initial displacement in x or y, in order to prevent either ball beginning off-screen."
   ]
  },
  {
   "cell_type": "code",
   "execution_count": 6,
   "id": "N_g_NLf3SFNR",
   "metadata": {
    "executionInfo": {
     "elapsed": 14,
     "status": "ok",
     "timestamp": 1646662035595,
     "user": {
      "displayName": "James Threlfall",
      "photoUrl": "https://lh3.googleusercontent.com/a-/AOh14Gh5AMmwJn-QgnyAtyVfjDwEfQL-5FfwAhQ1uZjJ=s64",
      "userId": "12893452708265254015"
     },
     "user_tz": 0
    },
    "id": "N_g_NLf3SFNR"
   },
   "outputs": [],
   "source": [
    "lval = (max(abs(x0_A), abs(x0_B), abs(y0_A), abs(y0_B)))\n",
    "extent = 2 * int(math.ceil(lval))"
   ]
  },
  {
   "cell_type": "markdown",
   "id": "7ZLXITsYSG5C",
   "metadata": {
    "id": "7ZLXITsYSG5C"
   },
   "source": [
    "We now have to deal with what happens when the balls collide.\n",
    "In MAT201 we learned that 2D sphere collisions essentially boil down to:\n",
    "\n",
    "1.   perpendicular velocities remain unchanged\n",
    "2.   conservation of momentum (parallel to LOC):\n",
    "\n",
    "$$ \n",
    "m_{1}U_{1}\\cos{\\alpha}+m_{2}U_{2}\\cos{\\beta}=m_{1}v_{1}+m_{2}v_{2} \n",
    "$$\n",
    "\n",
    "3.   Newton's Law of Restitution (parallel to LOC):\n",
    "\n",
    "$$ \n",
    "v_{2}-v_{1}=e\\left(U_{1}\\cos{\\alpha}-U_{2}\\cos{\\beta}\\right). \n",
    "$$\n",
    "\n",
    "The first item fixes the $y$-components of velocity; the final two equations reduce to a set of simultaneous equations to solve for $v_x$ of each particle. \n",
    "\n",
    "When we tackle these problems by hand, we usually use substitution or row operations. Python is excellent at solving simultaneous equations (as we will see), provided we format the simultaneous equations in matrix form $Ax=B$. This then means that the solutions are given by inverting matrix $A$ and multiplying it to the coefficients in $B$; mathematically, $A^{-1}Ax=Ix=A^{-1}B$ for identity matrix $I$. We'll therefore arrange some of the coefficients in the final two equations to be in the form of a matrix:"
   ]
  },
  {
   "cell_type": "code",
   "execution_count": 7,
   "id": "Z4FvSLwRSHfn",
   "metadata": {
    "executionInfo": {
     "elapsed": 14,
     "status": "ok",
     "timestamp": 1646662035595,
     "user": {
      "displayName": "James Threlfall",
      "photoUrl": "https://lh3.googleusercontent.com/a-/AOh14Gh5AMmwJn-QgnyAtyVfjDwEfQL-5FfwAhQ1uZjJ=s64",
      "userId": "12893452708265254015"
     },
     "user_tz": 0
    },
    "id": "Z4FvSLwRSHfn"
   },
   "outputs": [],
   "source": [
    "# matrix of coeffs (to use to solve simultaneous equations)\n",
    "A = [[1, -1], [m_B, m_A]]"
   ]
  },
  {
   "cell_type": "markdown",
   "id": "5AO9txhqjB4n",
   "metadata": {
    "id": "5AO9txhqjB4n"
   },
   "source": [
    "We know that the collisions will take place at the origin. However, we're moving in time using discreet timesteps; depending on the size of dt, we might not actually hit the origin exactly, but potentially miss it by a small amount.\n",
    "\n",
    "We'lll model each ball as a circle. Another way to detect a collision (without relying on it taking place at the origin) is to check if one of the circles overlaps the other. To do this, we'll make a function to check the distance between the centres of the circles. If the distance is less than the radius of each circle added together, then the circles have overlapped."
   ]
  },
  {
   "cell_type": "code",
   "execution_count": 8,
   "id": "k5_0nyJuoQJt",
   "metadata": {
    "executionInfo": {
     "elapsed": 14,
     "status": "ok",
     "timestamp": 1646662035596,
     "user": {
      "displayName": "James Threlfall",
      "photoUrl": "https://lh3.googleusercontent.com/a-/AOh14Gh5AMmwJn-QgnyAtyVfjDwEfQL-5FfwAhQ1uZjJ=s64",
      "userId": "12893452708265254015"
     },
     "user_tz": 0
    },
    "id": "k5_0nyJuoQJt"
   },
   "outputs": [],
   "source": [
    "def overlap(x1, y1, x2, y2, r1, r2):\n",
    "# subroutine to check if circles overlap  \n",
    "    distSq = (x1 - x2) * (x1 - x2) + (y1 - y2) * (y1 - y2);\n",
    "    radSumSq = (r1 + r2) * (r1 + r2);\n",
    "    if (distSq == radSumSq):\n",
    "        return 1\n",
    "    elif (distSq > radSumSq):\n",
    "        return -1\n",
    "    else:\n",
    "        return 0"
   ]
  },
  {
   "cell_type": "markdown",
   "id": "TuJLdb3dkmXb",
   "metadata": {
    "id": "TuJLdb3dkmXb"
   },
   "source": [
    "We now need a function that returns the position of each ball over time.\n",
    "\n",
    "We need this function iterate in time (by dt), and with each iteration, we need to check if the balls have overlapped using the overlap function we just created. If an overlap is detected, then we need to calculate the remaining coefficients in the simultaneous equations, and have Pythons linear algebra package (\"linalg\") solve the simultaneous equations and return the new velocities parallel to LoC."
   ]
  },
  {
   "cell_type": "code",
   "execution_count": 9,
   "id": "39db7198",
   "metadata": {
    "executionInfo": {
     "elapsed": 14,
     "status": "ok",
     "timestamp": 1646662035596,
     "user": {
      "displayName": "James Threlfall",
      "photoUrl": "https://lh3.googleusercontent.com/a-/AOh14Gh5AMmwJn-QgnyAtyVfjDwEfQL-5FfwAhQ1uZjJ=s64",
      "userId": "12893452708265254015"
     },
     "user_tz": 0
    },
    "id": "39db7198"
   },
   "outputs": [],
   "source": [
    "def get_pos(t=0):\n",
    "    global vA, vB\n",
    "# position generation  \n",
    "    \"\"\"A generator yielding ball positions at time t.\"\"\"\n",
    "    x_A, y_A, vx_A, vy_A = x0_A, y0_A, vx0_A, vy0_A\n",
    "    x_B, y_B, vx_B, vy_B = x0_B, y0_B, vx0_B, vy0_B\n",
    "    xpos = [x_A, x_B]\n",
    "    vA = math.sqrt(vx_A * vx_A + vy_A * vy_A) \n",
    "    vB = math.sqrt(vx_B * vx_B + vy_B * vy_B)\n",
    "    ol = 0\n",
    "    while all(i <= extent for i in xpos):\n",
    "    # iterate while within bounds  \n",
    "        t += dt\n",
    "        x_A += vx_A * dt\n",
    "        y_A += vy_A * dt\n",
    "        x_B += vx_B * dt\n",
    "        y_B += vy_B * dt        \n",
    "        if (overlap(x_A,y_A,x_B,y_B,0.08,0.08) != -1) and (ol == 0) :\n",
    "             # if impact detected, solve for new vx values\n",
    "             ol = 1 # prevent repeated bounces\n",
    "             Y = [e * (vx_A - vx_B), m_A * vx_A + m_B * vx_B]\n",
    "             res = np.linalg.inv(A).dot(Y)  #solve simultaneous equations\n",
    "             vx_B, vx_A = res[0], res[1]    #new velocities\n",
    "             vA = math.sqrt(vx_A * vx_A + vy_A * vy_A) \n",
    "             vB = math.sqrt(vx_B * vx_B + vy_B * vy_B)\n",
    "        yield x_A, y_A, x_B, y_B"
   ]
  },
  {
   "cell_type": "markdown",
   "id": "YB9RXWFylkTl",
   "metadata": {
    "id": "YB9RXWFylkTl"
   },
   "source": [
    "In order to animate, we need to set up aspects of the figure and some initial parameters"
   ]
  },
  {
   "cell_type": "code",
   "execution_count": 10,
   "id": "3043d841",
   "metadata": {
    "executionInfo": {
     "elapsed": 15,
     "status": "ok",
     "timestamp": 1646662035597,
     "user": {
      "displayName": "James Threlfall",
      "photoUrl": "https://lh3.googleusercontent.com/a-/AOh14Gh5AMmwJn-QgnyAtyVfjDwEfQL-5FfwAhQ1uZjJ=s64",
      "userId": "12893452708265254015"
     },
     "user_tz": 0
    },
    "id": "3043d841"
   },
   "outputs": [],
   "source": [
    "def init():\n",
    "    \"\"\"Initialize the animation figure.\"\"\"\n",
    "    ax.set_xlim(-extent, extent)\n",
    "    ax.set_ylim(-extent, extent)\n",
    "    ax.set_xlabel('$x$ (m)')\n",
    "    ax.set_ylabel('$y$ (m)')\n",
    "    lineA.set_data([],[])\n",
    "    lineB.set_data([],[])\n",
    "    lineA.set_data(xdata_A, ydata_A)\n",
    "    lineB.set_data(xdata_B, ydata_B)\n",
    "    ballA.set_center((x0_A, y0_A))\n",
    "    ballB.set_center((x0_B, y0_B))\n",
    "    v1_text.set_text('initial')\n",
    "    v2_text.set_text('initial')\n",
    "    return lineA, ballA, lineB, ballB, v1_text, v2_text,"
   ]
  },
  {
   "cell_type": "markdown",
   "id": "4ECpb1hhlpdQ",
   "metadata": {
    "id": "4ECpb1hhlpdQ"
   },
   "source": [
    "The animation appends the position information (so that we can plot the trajectory of each ball), and also includes info on the total velocity of each ball to be printed as text on the figure in each frame."
   ]
  },
  {
   "cell_type": "code",
   "execution_count": 11,
   "id": "039f3628",
   "metadata": {
    "executionInfo": {
     "elapsed": 15,
     "status": "ok",
     "timestamp": 1646662035597,
     "user": {
      "displayName": "James Threlfall",
      "photoUrl": "https://lh3.googleusercontent.com/a-/AOh14Gh5AMmwJn-QgnyAtyVfjDwEfQL-5FfwAhQ1uZjJ=s64",
      "userId": "12893452708265254015"
     },
     "user_tz": 0
    },
    "id": "039f3628"
   },
   "outputs": [],
   "source": [
    "def animate(pos):\n",
    "    \"\"\"For each frame, advance the animation to the new position, pos.\"\"\"\n",
    "    x_A, y_A, x_B, y_B = pos\n",
    "    xdata_A.append(x_A)\n",
    "    ydata_A.append(y_A)\n",
    "    lineA.set_data(xdata_A, ydata_A)\n",
    "    xdata_B.append(x_B)\n",
    "    ydata_B.append(y_B)\n",
    "    lineB.set_data(xdata_B, ydata_B)\n",
    "    ballA.set_center((x_A, y_A))\n",
    "    ballB.set_center((x_B, y_B))\n",
    "    v1_text.set_text(f\"$v= {vA:.3f} m/s$\")\n",
    "    v2_text.set_text(f\"$v= {vB:.3f} m/s$\")\n",
    "    return lineA, ballA, lineB, ballB, v1_text, v2_text,"
   ]
  },
  {
   "cell_type": "markdown",
   "id": "ba5vq6_wl7jZ",
   "metadata": {
    "id": "ba5vq6_wl7jZ"
   },
   "source": [
    "We're nearly there! Lets set up a figure, fix the size (using the extent variable from earlier), and plot a dashed line where the LoC should be. \n",
    "\n",
    "Note that, this LoC is simply for context, and is approximate: the collision actually takes place when an overlap is detected in the code, and so there may be a small offset between the plotted LoC and the true LoC location."
   ]
  },
  {
   "cell_type": "code",
   "execution_count": 12,
   "id": "g3GTSFH2l9eT",
   "metadata": {
    "colab": {
     "base_uri": "https://localhost:8080/",
     "height": 111
    },
    "executionInfo": {
     "elapsed": 15,
     "status": "ok",
     "timestamp": 1646662035598,
     "user": {
      "displayName": "James Threlfall",
      "photoUrl": "https://lh3.googleusercontent.com/a-/AOh14Gh5AMmwJn-QgnyAtyVfjDwEfQL-5FfwAhQ1uZjJ=s64",
      "userId": "12893452708265254015"
     },
     "user_tz": 0
    },
    "id": "g3GTSFH2l9eT",
    "outputId": "e116686a-3343-402f-eba8-53439fe6f74d"
   },
   "outputs": [
    {
     "data": {
      "text/plain": [
       "<matplotlib.lines.Line2D at 0x104cb3eb0>"
      ]
     },
     "execution_count": 12,
     "metadata": {},
     "output_type": "execute_result"
    },
    {
     "data": {
      "image/png": "[encoded data removed]",
      "text/plain": [
       "<Figure size 432x432 with 1 Axes>"
      ]
     },
     "metadata": {
      "filenames": {
       "image/png": "/Users/jamesthrelfall/Programs/JTpython/Teaching_Examples/AbertayOfficial/MAT201_Python/_build/jupyter_execute/dynamics/MAT201D_2DSScols_24_1.png"
      },
      "needs_background": "light"
     },
     "output_type": "display_data"
    }
   ],
   "source": [
    "# Set up a new figure, with equal aspect ratio.\n",
    "fig, ax = plt.subplots()\n",
    "fig.set_size_inches(6, 6)\n",
    "ax.set_xlim(left=-extent, right=extent)\n",
    "ax.set_aspect('equal')\n",
    "ax.axhline(y=0, xmin=-extent, xmax=extent, c=\"black\", linewidth=1, linestyle=\"--\", zorder=0)"
   ]
  },
  {
   "cell_type": "markdown",
   "id": "L9h7SuLhl96u",
   "metadata": {
    "id": "L9h7SuLhl96u"
   },
   "source": [
    "We also need to set up plot objects, like lines representing the trajectories and the circles representing the current location of each ball."
   ]
  },
  {
   "cell_type": "code",
   "execution_count": 13,
   "id": "Fqi8U19ymCrY",
   "metadata": {
    "executionInfo": {
     "elapsed": 4,
     "status": "ok",
     "timestamp": 1646662035924,
     "user": {
      "displayName": "James Threlfall",
      "photoUrl": "https://lh3.googleusercontent.com/a-/AOh14Gh5AMmwJn-QgnyAtyVfjDwEfQL-5FfwAhQ1uZjJ=s64",
      "userId": "12893452708265254015"
     },
     "user_tz": 0
    },
    "id": "Fqi8U19ymCrY"
   },
   "outputs": [],
   "source": [
    "# These are the objects we need to keep track of.\n",
    "lineA, = ax.plot([], [], lw=2, linestyle='dotted', color='blue')\n",
    "lineB, = ax.plot([], [], lw=2, linestyle='dotted', color='red')\n",
    "ballA = plt.Circle((x0_A, y0_A), 0.08, color='blue')\n",
    "ballB = plt.Circle((x0_B, y0_B), 0.08, color='red')\n",
    "v1_text = ax.text(-0.9 * extent, -0.9 * extent, '', color='blue')\n",
    "v2_text = ax.text(0.5 * extent, 0.9 * extent, '', color='red')\n",
    "ax.add_patch(ballA)\n",
    "ax.add_patch(ballB)\n",
    "xdata_A, ydata_A = [], []\n",
    "xdata_B, ydata_B = [], []"
   ]
  },
  {
   "cell_type": "markdown",
   "id": "NuMdZZFXmEgV",
   "metadata": {
    "id": "NuMdZZFXmEgV"
   },
   "source": [
    "Final step is to create the animation. The length of the simulation in time is the interval, and will impact the length of time the animation will take to create."
   ]
  },
  {
   "cell_type": "code",
   "execution_count": 20,
   "id": "38e780c1",
   "metadata": {},
   "outputs": [
    {
     "name": "stdout",
     "output_type": "stream",
     "text": [
      "matplotlib: 3.7.1\n",
      "Defaulting to user installation because normal site-packages is not writeable\n",
      "Requirement already satisfied: matplotlib in /Users/jamesthrelfall/Library/Python/3.9/lib/python/site-packages (3.7.1)\n",
      "Requirement already satisfied: pillow>=6.2.0 in /Users/jamesthrelfall/Library/Python/3.9/lib/python/site-packages (from matplotlib) (9.5.0)\n",
      "Requirement already satisfied: numpy>=1.20 in /opt/local/Library/Frameworks/Python.framework/Versions/3.9/lib/python3.9/site-packages (from matplotlib) (1.21.4)\n",
      "Requirement already satisfied: fonttools>=4.22.0 in /Users/jamesthrelfall/Library/Python/3.9/lib/python/site-packages (from matplotlib) (4.39.4)\n",
      "Requirement already satisfied: kiwisolver>=1.0.1 in /opt/local/Library/Frameworks/Python.framework/Versions/3.9/lib/python3.9/site-packages (from matplotlib) (1.3.2)\n",
      "Requirement already satisfied: packaging>=20.0 in /opt/local/Library/Frameworks/Python.framework/Versions/3.9/lib/python3.9/site-packages (from matplotlib) (21.3)\n",
      "Requirement already satisfied: pyparsing>=2.3.1 in /opt/local/Library/Frameworks/Python.framework/Versions/3.9/lib/python3.9/site-packages (from matplotlib) (3.0.4)\n",
      "Requirement already satisfied: python-dateutil>=2.7 in /opt/local/Library/Frameworks/Python.framework/Versions/3.9/lib/python3.9/site-packages (from matplotlib) (2.8.2)\n",
      "Requirement already satisfied: cycler>=0.10 in /opt/local/Library/Frameworks/Python.framework/Versions/3.9/lib/python3.9/site-packages (from matplotlib) (0.11.0)\n",
      "Requirement already satisfied: contourpy>=1.0.1 in /Users/jamesthrelfall/Library/Python/3.9/lib/python/site-packages (from matplotlib) (1.0.7)\n",
      "Requirement already satisfied: importlib-resources>=3.2.0 in /Users/jamesthrelfall/Library/Python/3.9/lib/python/site-packages (from matplotlib) (5.12.0)\n",
      "Requirement already satisfied: zipp>=3.1.0 in /Users/jamesthrelfall/Library/Python/3.9/lib/python/site-packages (from importlib-resources>=3.2.0->matplotlib) (3.15.0)\n",
      "Requirement already satisfied: six>=1.5 in /opt/local/Library/Frameworks/Python.framework/Versions/3.9/lib/python3.9/site-packages (from python-dateutil>=2.7->matplotlib) (1.16.0)\n",
      "Defaulting to user installation because normal site-packages is not writeable\n",
      "Requirement already satisfied: Ipython in /Users/jamesthrelfall/Library/Python/3.9/lib/python/site-packages (8.13.2)\n",
      "Requirement already satisfied: stack-data in /Users/jamesthrelfall/Library/Python/3.9/lib/python/site-packages (from Ipython) (0.6.2)\n",
      "Requirement already satisfied: backcall in /opt/local/Library/Frameworks/Python.framework/Versions/3.9/lib/python3.9/site-packages (from Ipython) (0.2.0)\n",
      "Requirement already satisfied: matplotlib-inline in /opt/local/Library/Frameworks/Python.framework/Versions/3.9/lib/python3.9/site-packages (from Ipython) (0.1.3)\n",
      "Requirement already satisfied: pygments>=2.4.0 in /opt/local/Library/Frameworks/Python.framework/Versions/3.9/lib/python3.9/site-packages (from Ipython) (2.10.0)\n",
      "Requirement already satisfied: traitlets>=5 in /opt/local/Library/Frameworks/Python.framework/Versions/3.9/lib/python3.9/site-packages (from Ipython) (5.1.1)\n",
      "Requirement already satisfied: decorator in /opt/local/Library/Frameworks/Python.framework/Versions/3.9/lib/python3.9/site-packages (from Ipython) (5.1.0)\n",
      "Requirement already satisfied: pexpect>4.3 in /opt/local/Library/Frameworks/Python.framework/Versions/3.9/lib/python3.9/site-packages (from Ipython) (4.8.0)\n",
      "Requirement already satisfied: jedi>=0.16 in /opt/local/Library/Frameworks/Python.framework/Versions/3.9/lib/python3.9/site-packages (from Ipython) (0.18.0)\n",
      "Requirement already satisfied: appnope in /opt/local/Library/Frameworks/Python.framework/Versions/3.9/lib/python3.9/site-packages (from Ipython) (0.1.2)\n",
      "Requirement already satisfied: typing-extensions in /opt/local/Library/Frameworks/Python.framework/Versions/3.9/lib/python3.9/site-packages (from Ipython) (4.0.0)\n",
      "Requirement already satisfied: prompt-toolkit!=3.0.37,<3.1.0,>=3.0.30 in /Users/jamesthrelfall/Library/Python/3.9/lib/python/site-packages (from Ipython) (3.0.38)\n",
      "Requirement already satisfied: pickleshare in /opt/local/Library/Frameworks/Python.framework/Versions/3.9/lib/python3.9/site-packages (from Ipython) (0.7.5)\n",
      "Requirement already satisfied: parso<0.9.0,>=0.8.0 in /opt/local/Library/Frameworks/Python.framework/Versions/3.9/lib/python3.9/site-packages (from jedi>=0.16->Ipython) (0.8.2)\n",
      "Requirement already satisfied: wcwidth in /opt/local/Library/Frameworks/Python.framework/Versions/3.9/lib/python3.9/site-packages (from prompt-toolkit!=3.0.37,<3.1.0,>=3.0.30->Ipython) (0.2.5)\n",
      "Requirement already satisfied: pure-eval in /Users/jamesthrelfall/Library/Python/3.9/lib/python/site-packages (from stack-data->Ipython) (0.2.2)\n",
      "Requirement already satisfied: executing>=1.2.0 in /Users/jamesthrelfall/Library/Python/3.9/lib/python/site-packages (from stack-data->Ipython) (1.2.0)\n",
      "Requirement already satisfied: asttokens>=2.1.0 in /Users/jamesthrelfall/Library/Python/3.9/lib/python/site-packages (from stack-data->Ipython) (2.2.1)\n",
      "Requirement already satisfied: six in /opt/local/Library/Frameworks/Python.framework/Versions/3.9/lib/python3.9/site-packages (from asttokens>=2.1.0->stack-data->Ipython) (1.16.0)\n"
     ]
    }
   ],
   "source": [
    "\n",
    "\n"
   ]
  },
  {
   "cell_type": "code",
   "execution_count": 14,
   "id": "c4a79f64",
   "metadata": {
    "colab": {
     "base_uri": "https://localhost:8080/",
     "height": 453
    },
    "executionInfo": {
     "elapsed": 9934,
     "status": "ok",
     "timestamp": 1646662045855,
     "user": {
      "displayName": "James Threlfall",
      "photoUrl": "https://lh3.googleusercontent.com/a-/AOh14Gh5AMmwJn-QgnyAtyVfjDwEfQL-5FfwAhQ1uZjJ=s64",
      "userId": "12893452708265254015"
     },
     "user_tz": 0
    },
    "id": "c4a79f64",
    "outputId": "26bb19ec-7fed-47c5-af75-c50d9f362c68"
   },
   "outputs": [
    {
     "data": {
      "text/html": [
       "<video width=\"432\" height=\"432\" controls autoplay>\n",
       "  <source type=\"video/mp4\" src=\"data:video/mp4;base64,AAAAIGZ0eXBNNFYgAAACAE00ViBpc29taXNvMmF2YzEAAAAIZnJlZQAAMF5tZGF0AAACoQYF//+d\n",
       "3EXpvebZSLeWLNgg2SPu73gyNjQgLSBjb3JlIDE1NyAtIEguMjY0L01QRUctNCBBVkMgY29kZWMg\n",
       "LSBDb3B5bGVmdCAyMDAzLTIwMTggLSBodHRwOi8vd3d3LnZpZGVvbGFuLm9yZy94MjY0Lmh0bWwg\n",
       "LSBvcHRpb25zOiBjYWJhYz0xIHJlZj0zIGRlYmxvY2s9MTowOjAgYW5hbHlzZT0weDM6MHgxMTMg\n",
       "bWU9aGV4IHN1Ym1lPTcgcHN5PTEgcHN5X3JkPTEuMDA6MC4wMCBtaXhlZF9yZWY9MSBtZV9yYW5n\n",
       "ZT0xNiBjaHJvbWFfbWU9MSB0cmVsbGlzPTEgOHg4ZGN0PTEgY3FtPTAgZGVhZHpvbmU9MjEsMTEg\n",
       "ZmFzdF9wc2tpcD0xIGNocm9tYV9xcF9vZmZzZXQ9LTIgdGhyZWFkcz0xMiBsb29rYWhlYWRfdGhy\n",
       "ZWFkcz0yIHNsaWNlZF90aHJlYWRzPTAgbnI9MCBkZWNpbWF0ZT0xIGludGVybGFjZWQ9MCBibHVy\n",
       "YXlfY29tcGF0PTAgY29uc3RyYWluZWRfaW50cmE9MCBiZnJhbWVzPTMgYl9weXJhbWlkPTIgYl9h\n",
       "ZGFwdD0xIGJfYmlhcz0wIGRpcmVjdD0xIHdlaWdodGI9MSBvcGVuX2dvcD0wIHdlaWdodHA9MiBr\n",
       "ZXlpbnQ9MjUwIGtleWludF9taW49MjAgc2NlbmVjdXQ9NDAgaW50cmFfcmVmcmVzaD0wIHJjX2xv\n",
       "b2thaGVhZD00MCByYz1jcmYgbWJ0cmVlPTEgY3JmPTIzLjAgcWNvbXA9MC42MCBxcG1pbj0wIHFw\n",
       "bWF4PTY5IHFwc3RlcD00IGlwX3JhdGlvPTEuNDAgYXE9MToxLjAwAIAAAA1vZYiEADf//vbw/gU2\n",
       "O5jQlxHN6J0zH78VuLo0N73OAAADAAA33OZE/sqTBubAAALgAAnmmp9GCO2RYDc93/bEK6EYyaMU\n",
       "nu2ln3zt1ufuunWqk7g4qngNo2vOeHL0aXA+uneWVYUlvz9p1JAnGidh2adEzlNfdIMy2Qt3XD34\n",
       "yvgrPY65Txe/pu5i7X6Zt6rCfW58lf+mM7ab2z+hYN0Z1PQfTMZwUgEJRVXFmV4cSddtR/FCnNXx\n",
       "7A4yddC6DQWKeUZDCBxi/hxScfEyjgqjNG0B8J3vB1tU2iQELgRAqCYxF24BGQJCKI0nbwLzf6/O\n",
       "gxyWqRJxwtVMefK3aPm0oEvjPPzxW8b6PX1RHrtpN18t0Xt9jlj5tL33sydB0a4o6F2L1/9ViGPL\n",
       "2D3hRy7J6KkWS0Skv1ZE8ATcsar+1ddTmoiRWKKGrbHWGnq/ZMwu+DWqAVUAaaAWf8wgyhIHzdZx\n",
       "ARQKKgJB50QWoAnQ5A99Z+CZgqMzTtNp57kLaEvZc4ugB4YxMhm0UFfmTcgEua879EDiNDqWe7Dl\n",
       "a7E/eowlPPn9LUnTiZwSclNn57C9trDORff0RzjSSVSobd9sYQjy5AH6ANwHwJ3S9VJalYlXHczH\n",
       "nw/Sx4xHzOOh5+UaUExjZqu8mM5gMrh6mXzPrWFaDI55Sw3ww/m/nuKHAhIcDVFtdatBIHWZKr3o\n",
       "TF4+kxf+R+xkKz2f62Ind65zp/nHGK2W+AzvfQA+KJ09zg1abUHg+c7OWavByK7eXrIwmpCfMMNh\n",
       "YCPVUtFNVDIVjihbOdrDn0gOKc3tUJX9GHFZNNn/xsd1kPtEcB4yVFHyrKCx9MKjYIgA1lnEQ9zR\n",
       "S5/AoqWA0sjyteYCoPUeUxnULJhsGrH/7l4yV0de5J3QMjp3c4LUGypsaKptoEd7TB4IprStNKBI\n",
       "BOZwc4s0gONV/cnBAyR7AeuegVH3zOZaEKylNQu+33NXKhG2kJ5NiHU4Hhp4DBF20/u7xFgcVkgh\n",
       "UgVni+ftFlmgZXPXRNgcs8C/PeoJROuma3Anepq32AAPMLUBw8TMA0NQQ5PCn5SnCDXjqZn+jswe\n",
       "FLW447+n4zVx6utMcg3BgFTfN1DJowHiafdNtAU1Z7Ecr5xnJNkcSsC8Pmlioc7CdOWb+zIODCQR\n",
       "KCBDNozyT2vq2EZUlcqCWPHj7DGBsBnkChoop4yWv4ATQv0Ov5q2wfIeFmkE3L6wfC7B0A0W5eYy\n",
       "DoJdiid2eWQ9NB/1j3uFPW3+1kN+u3KWv83v/oCcR6XRP8ZzlzTzFw+N34ddg/WR2gfZjom8CvHb\n",
       "3Hl9tJ/AGGuqmp5PQ4NZ33k91lLt5vFz09LnKd7SDNmFIVob9TMp6lBkL571DwSTwUdy5dGRi280\n",
       "SMUecsiSWzjFO0GnpCYkGrIEuIj+/rETcZ3GiCr4aQi8PaJPox6DUh+FIwWhdRnFANPCtsPEpK6H\n",
       "pIWaOkRUc70eIbR5DE8rsMt64bgHyr3+/b5r092bSugHWLsnA4WHHN/tUbskfj+E23/fkJ0dX6ig\n",
       "s1SJb/il+4rsfly64SBiKpPpoG2UwdHwWCcP0oa7Uuxb/X8Q3qu1Dc9axuE281EvyfdRu4KZ1LJi\n",
       "lNVPBlwDQurCqSl/t365auL/vaQ0nITzGO9Lu+UJTUOwZkyD9Lt8Vpaf80nZQBKvqrJkyl+WmXLs\n",
       "aO/S7z7pXyuabeBzQ5Dgv0Zr9C1jNgTyXIjiXZ/vVikDaQfVKIkqzLffel0HyiVk9iCHHHVYPxVu\n",
       "nPaodJLGqh6IHLMor7Ua7EmvWJ2CLuQkIOgTIOxuq5emvhzOGN9inNxuxValrmqVkerejALwLJ7D\n",
       "fTASSbhHIQJyhRsliTV/G8qkVVnQJtdRgyYFu2EZqNJjeywKmWjCVkM00NnSvLc8zESEGfpZnVGJ\n",
       "3FU/nLmF4cYhfh2UfI6/yRBf0VF1Z0rCkprK+oF+8rlIcaNCUSnr9SrvG9H+CAkNc0DYLB4LOi3i\n",
       "0LvLTNpQeH32Hi5m8ljfp1BzpK6QZ7kIHPNshBinnjCsWa2UamA/r/DLA2MiFBqOycaD7YO+3SJl\n",
       "8WYVkcqOzMVv284z9zyatOg/VXFRWArK+u869aCVQL+RcxNe6sUYzuZOpFr+rpOe4sRMUQMaPeUo\n",
       "/qCixn+NX6pbtuJEtS3P5InOVYcGjr0XsR77ACf0P7pVB+LdOMH/+Uo1+Hv7krSBNQznYXN+PXkL\n",
       "ddjoR4+723tZu0Kb8TgbW5L4sIgDijIuLGGAxax4b7SMOfkMjD19Qqqxl3ZxI5MUje/trdTiDg7H\n",
       "64fu5C1MQd7I734RDXfaGsm5QeLxeyDmpl3idS/24oBwhmXl6xTgdAYgnicCvi1JAgJs3hXYyPv+\n",
       "Ib1Xa5UbbVtVpFChlvMxSBEti07BaSVilNMqrVIBSl/t366K4Pt4+cgFn8AJOlyMXIuN+wZkyYh+\n",
       "UyHJbTmP2ZHqDUVxOsUUgwo/gKKR2Tvf+JmCuPUkCJdBBHb+1GWgAH/VPPX7YB5yHnPJWPfhbYhF\n",
       "ZsdNfACfEYWT6Y00rLwc86pA5lECRdsEiblzNZqWf7ZTf/4wwqTbl/wg2E2a+XM/1qBP69NdpNUB\n",
       "Sl3LGFwar+KIqfuBgCUw/1SLEB3x4F/L9u5SvnTpepKisKGqZvoMgEo7kY7e7FoliYMYZqcEKKxP\n",
       "0a+JH/3YKrXG+y+NdA5Isvetj62r2iQWKgp8UwE3gwnZqk2bKtFNdniU2C/fdQ+to3nHN4bfGP83\n",
       "xM2AC2EQBwHd5eA08eZeatD6f3D+MvX5yjmsZRD8MQvVxjhAvWi4E17zy8RS5gglVNncKN8AvwRx\n",
       "gO76IKL92ADXmYpTF53sBHTwobuOpSENZSSzF8/zo8VI9qbTZOYwiOiSzopFj2qqBW86ohAqf7Gt\n",
       "6AMYzc9VgoliyUTHAMEelz19PiPvlUp7MhQ6AkhS7AcnDl1B34RAIHZBxgTDe3GbD99LtgJYw7C9\n",
       "IIDYzJJUdzfhY9UAPMpAYxHOPHqevNCoiel2aPgY8YRdaIiA+WuYfXfsvM0mlyf+VlEVYemaKNT9\n",
       "DXlQByo+MnGOa+n2RK1EA3sZH/RpXpqP2UnKTyx4onT4vj7hqqHOcXzgOiSrv6vyVboanbpGMkV3\n",
       "Ip+KPLAOlv1zNuQ5QoG7OsThNzftEQYlHjBnCzQl+zkDwNnhp/Bnzsx4HMNT3SyaM5zP+Sp2CVcu\n",
       "mGd//9XLQNyHhllVQ7+Ra5LdlbOEtVT+D0hPWYocYYvpm8aLoIBqiyWkJAyzRpQ6PzUaQ0bj+Bnp\n",
       "TaM+fX84Fen0ve5MnF7gVZtGvOpt2hz8UQoqiijYKMvVKeMbOjDVaFOXoJxgVXa+NSViCg1m3PoB\n",
       "LqEEi7ELoufBELRDv4DU7bzw/U2NIICpig16lPZuwctBFCkEXDdeJm3j6AyYQMiqWhM9vrNWWowi\n",
       "8WaFW9JbwxF73NaT/7v+bdFukBV1Nq9l2USZ9TVFL8C+oPVixSdXCXSTqu1Qc5P0fXN/+pnnZpQ9\n",
       "tJk11uXgLVx4xxoXDagfurzIbHARQngqLYOZqoEyo99A3z36mVcIfs5+iSW3nWriDKsaIZVrI2Lh\n",
       "rmM60RmBDp0hPv8WH7zkvxh76Zs3mHp+qI8gm2/nZSairzX1An0DNcqncTneaT2Q0xmqlhXG85OL\n",
       "9RvzzBsA1a8zwfMhlvmtApM5O3I2DGUOUKYdMkgKCP9pomTYL0VeflcFG2ufgWI31/WQNrEre4/R\n",
       "omguyeIu381uiYxMZBBY4Bu2giNvktO+PXMPbxnXOMTfJfK/C+K2R64b6KHJ0YoxNdVR1Pvc2e7q\n",
       "6rGD+0X5akmd2l6gJn6TvbPE4UCSC9l4FP/65DszloAVRKeazHj2VcfyAAADAAADADu6+KQ/7o4w\n",
       "DC/tT7wRp8uCIhrArEvxqeroT8g6BrU1buzm1q/vGiLk2W4Ch1k2jvojauzOdsPmSc98WyBl+0+M\n",
       "w/pRMntQP20Ub9gXGaxenaP2Kk/xf1Gvr51yIKlwKSRzLwE869U7DRyQ8Ke4Vqr/ODIVEhUorles\n",
       "6wvHL9H5N0uMdwZKAMAbuTwF/xdjbEhI5qZeCZCbGCt1y875Xi6GNUylB2yG+mQE8bDN/T5a2MAw\n",
       "fgCFgIgoUl7ILxyOUgq0tPEVQhptjilLlTwhyJfuRfSrb64YNtFNewz55CI0c0CrlFq62O5oT0im\n",
       "nMBls2eUD2HRD/47fMCvDYizGJ8tjonvtVtt8eFu3cKkqsjv28Yltr1JTIMy3tFplUlzr2I+YUnB\n",
       "kVxEO2ZkLrA3ROuxXFTeU4qOYJQyknrxF2bfsBT5V+6NuvrF6CYq9bzf1sDrmzAXYqpstROqZYm2\n",
       "dRtws67smY3+1T5EFLUcPSl9rX1dTdhQk6Z94yYerWLftyTMccGeXEnE00oe49jsi81WR0+0arjA\n",
       "ALDzSD8yGqp3dJLr7DTGphusheiL01Lx2azomth9U6H0V7svr9Bwm3KqZ2t6dleX671FcPTXd4I2\n",
       "Ou+oDfNrOO4kxnXW8krEA/5qhQ7ichwG09x093Dbc3hQD00OXjIArb8sYlrunM3Se7h9uvSarume\n",
       "4kpF2LKMbwAAAU9BmiFsQ3/+p4QABsfZT8FhmdRbxC/4lCD+09tqkSUYEAVv3mcnyuf3Ujmn/xfz\n",
       "a8fywy6wGlGFYO04mdywU2BL5wuqpVLsPhmwiQbZcP1a8MaAAK/mUKUwtY8whmvxSjw0lVfWeWnU\n",
       "KGWnO4npl9jnvBhE1kTirtczN7rKWMNbnvlR+Tf0yKE0DSihTdYVSi8s04M1xmh4bn1DykDobX7K\n",
       "vaqDwKT/1Ogduknl1kcljogBccbCJwvHYwd1379DxwAR9zjIzJSCAESr3GmbZjl3p79bBqG+k/Zm\n",
       "jRWCvn3DqLBzDUGdtiyik9ursnEBxH3Dt2NTX2HiqZ4k+VPdt8sgxcSC5IbnN5hU6hBnn39rXSoi\n",
       "ekf0gz593Q+Mg8DSHBwNbUL+rYBQfioVKvimc7QAFhnQRdd1tmGMV66F17/8af4NU3LWgAVhzo91\n",
       "QkgkYAAAANtBmkM8IZMphDf//qeEAAJ8Cguj/hO+RgCEoDOT4xej0pSRRkdolU1DyuDTPJc1Jh71\n",
       "SzcfHVF9d+Dvrf2JjOYIx98lXAZiZkqv0D5+vAL4KJAec6jew3MYQx09dPhTBXzxtLTP7KcQywyE\n",
       "KvXco+5ws0NJnVev3T9GxgCfs4nG0aKBc6BhAmtPalSklBQRdQfIItWJjx4XrdqJO1Hl5uuyC8Ry\n",
       "u0jaFbAQT19fEjN8Spg105G/VTCUk9AvY4m1cVWPAfHk6oquIAqN5jpDXx1gtP/wDHxNQfVkFVEA\n",
       "AABLAZ5iakK/AAH8AdjTfU9GQAqvqzkxnteVVuJ6Nh/Ad1J2L8yYUu+e/z3YRYHQA9ATeztwChj3\n",
       "jZNJ6dhOAXJcu1esi7HHgVVr0Ax4AAAAwkGaZEnhDyZTAhv//qeEAAE9wo7K8kAEQRlnJn/vPk62\n",
       "JSVWAFxWg7MQiXn9uKNddchcj7wdlD2fwXpvszgnnHJFKtTuFOGYDzIG0eRMmNIFq/cZTpe/3fWl\n",
       "gOtSw2nVlHL91+bZk9yoa5y3bkbVXK318wm6MAMgjE7wQ3NdTQ708nCqgvNUjr/gZdKWsXsV7gQ0\n",
       "YnUXhB8vuQl3m/GPWyx9k+vPtmMk7CY1ckfC7Hb+L0INKBk0VedDLGzfkkI+7IOBAAAAlUGahUnh\n",
       "DyZTAh3//qmWAAChPDij/+1c0q50ADRW7rRRWSL17V5LIry3WZ9lUd+hz+2UWvYW1vQbhFpHjXXn\n",
       "zHZaOx7+KG1CR8r4qTuR34peJ++I+/IFBSFUvlkiRYPmQqtj3d6w82bhziwoknyHmiDF/hMU5mFg\n",
       "KaNs34IEsXaOej7ZhV5fELXtX4570OKhdpKiU0tpAAAAw0Gap0nhDyZTBRE8N//+p4QAAUcFMEXa\n",
       "EZyfK6B6j6aiTBPXQbJk+EUfeUU2jri19E87/4vlHfo7M7DtXg9x4rqgX+ZPj13p+sNU1LB2N+ga\n",
       "SYHPHsuQqSO4bIY98vXTtFeQNrPfNRw/M8TJWPanX+m8ISWuoqlBepZOwMWpxCHWhLnqotnpje8V\n",
       "qI710KO0b6oseWvXGmtzl1GXM2Rv6ZU9tPb3kW009RKn/ZhJTXvrP32+fFNUOJvb/0npq0q5Spsz\n",
       "4QAAADsBnsZqQr8AAQYMhLPyDC0peeXAB3wdqnqZMI05Ckl38gcByuiufoDentPBUcgBAWvWouSk\n",
       "9zRaD1fDuwAAAKZBmslJ4Q8mUwU8N//+p4QAAUjmXY74pIRSD3cwDEMpvm6kAOQovfIyxBFJmwpX\n",
       "1vSUwhI1AUUFnHIw3E0EQ7UAb474gYj27+lTObvbalnh/9Y4upszkF3t5/USoYAhZ7s4JVz1GyeX\n",
       "0z1bl2Uw+AbNIBVkn/1hg8P52JPmMR2t19Rg5ROWy5ocq6kWbMjKS34HNBFwng9bkyrUiX/St+q4\n",
       "KU42gqygAAAARwGe6GpCvwABAlUa2VRneYDAB3jE9O5G1qzAitDubHkZVVY8AlXo3+R0JKxpYFV5\n",
       "Mgrx9qEdb9qB4cGoGfGqAoZUe5J6PHzAAAAAnEGa6knhDyZTAhv//qeEAACj3fk0thSuDGHqACbv\n",
       "9cvljYlULFI7A52+z/fEgL5pgxwaKWr7Wcpp+bvhgpNUOpKCZPeSlDKPkalr64fG3WbHIBYK6G8w\n",
       "hFzT8jNHp++qfWHxW/nvOvQ8IqudOCZembjnK7i74y6hc23b6RwQe1lk3EoSPEwWW01aU4x2fU3z\n",
       "glvMkV6T2FaVVEQVZQAAALJBmwxJ4Q8mUwURPDf//qeEAACo7++BoXwBuEIzlcWTXI3NVa3h6hpL\n",
       "utwycX4SEJqxAsX3fAmihsmd/7HlL+ZkmYDjzUrbI7w5nKgWlHOiWroMp6bi/u7/O/vf/n5Q6uQ1\n",
       "K0Yl/o0BDzrFpLSkWIgbP3x5N1Gc3o8Oj8Ipgb29kU/kqNw87yUKJtV8enaI5SH5Z63sHwxRo5En\n",
       "pCtkwv8v5RizzB/oR7dK6SYKhVvtBVlAAAAARwGfK2pCvwABAlUkxGLDAA7vsQATrIphD/T3B9z3\n",
       "lf2k3q4nPOLtqMqik3EaEuWKT5SptOEof8YZxPU4Nk20RX5GZdBQ2ONSAAAAjUGbLUnhDyZTAhv/\n",
       "/qeEAACoCDCGc/nXLy0VsnIODNlqAMKI/RBW3j23LKuftXnWDLeEjzjIpNR8YSsEmJIGozy6HWA8\n",
       "hdsnOgKQ/2nWuyW6Sl8CmkqQi7KBzVOXIkp7NnNP9VVpT+bQRoEU/mFR5MACI0IVOsqAknUA2Ujc\n",
       "Nvhm0Cam59Kaiy6uG4KsoQAAAIBBm05J4Q8mUwId//6plgAAVT4FCTN5gGDXT4wmtbE6Z6TSHlC9\n",
       "WQbnrJvuTCOlgAKk7cNsiNxXAnXkcvk2O52sXYe7e+ZScYQyGyef0muk+NNBpRPB+3cDuPPXQbOg\n",
       "rvfwfqwNXNpaYfdsm0OhUhmtzehpsNHVOdnrl3ppZdwKPwAAAJdBm29J4Q8mUwId//6plgAAUnf8\n",
       "IDj6wCg+vtbRT4ymnEXaYq0UXjVRYlyhgY0BgYsidDxx4AU/6ncF7IgXZ1xjz3ujq87h5RSDN2x7\n",
       "wJgxeI++qJj2zroELSltvkvYY1B8/MrNB1eMqa+5UJBrKE7L84xXDRpf3YRLRuVdw7kBbFxzJQ4n\n",
       "1/iwhpKnji7faPl4e1walJwRAAACykGbk0nhDyZTAh3//qmWAEh5X9bMFgjlQEFE9fc6aGgOe//4\n",
       "xN5zEuv4VrK34/jFRWzvK52eFN8/j9xNpsw01BFk0z8Rc4OR87nIhsn5a8LN/QT6tSjGj/RA/u2J\n",
       "DnZ6221XUNHzPekqyzISVjbwdLtcbw/nOg4kH/099v7/YXDDH9La7Pw9rGpe6/o3ZOboQnplKSba\n",
       "Y7Ba1AXzTlUwXQFtm1E9wI4OgBcRJUUMAmJt6ojan1teojqAMosSVglsGKpge4b7ZBqke+/tmRdr\n",
       "tUhkcjvpdUbA7khaIzpWRo1lEAWEsIPhJz5ReyESIqaO9FZ809K8yJgasOENnunTdflolzQP10TC\n",
       "YEkgXnActXk1wbyjCTRD1Bks0nGzPK8AeocXiu1cU7aNbEfn3AwR+Z8KtSyR79Szgh5l7vg8mMli\n",
       "lrjchefyAlVIeyBM22E9iL4CZ9D6K5NuChpCUb28C7En8P3r9+TwODD9szhbLdKUxq+pHo4y5CsP\n",
       "o9K2QmTQpsffMTDPM535C+f6jwjja8t9wOZ27DsUmBWvgz+j3CagbQCbUdrBlfG6QVth+2iAO06A\n",
       "BK5xUXJJvY229I9hmGpxJ7fzyYsAhW7VaT9YKzyaN23HPCL56kiLCbVV4z99ANYz7izD/yOp999N\n",
       "vs4Ml/jRJoaQUpQ2TqwP1whjbgcIH13OfrmQxk5Ko8jprb0+cbrpLEMA7HuvL5aKtOBe0tiLvw4D\n",
       "H8SuuSwNcer0QSjY8ZAntNbY8iamgkfF1ylJURa2j+W02jTiS+Ww1Da82muxodMHqK04K7voQ4q5\n",
       "aeAY+CqJVnqQhM5Vhy7xOK/etUz78HRnFnYQ/SbRskoSigyTzHE9j7/F43WQrRlLCNDFJwb5f78m\n",
       "yAb2E9Lb+6MeWLc76PR3MGxsOl9KJInN13JYMZQQgF/tZPl4yZqfIcPqZt9EhiAqtSazgAAAAIVB\n",
       "n7FFETwz/wA+JXtWjGrpvFmA/gonwB1uUGM1vYgcR0257X/DxfgZCrIPEE98Nzv9S7BRTodfrOHI\n",
       "pZvEbgNUc99+LxkTuEg1NCMdLeJkfK3RIiT0OCp8uqII4KZMP6JqZjEr7cBi0g3ebAkVpVWM7S6O\n",
       "iETOb/ZjvgRHJUvZJmXxTfuzAAAAZgGf0HRCvwAAhrokLk3WJ37GcklogAmdvXU5tp+StNqNBIKi\n",
       "3OP6UsTea7+l49TmK+GV4Xxxky8WBV4gO/9BakjdR1Q4c1i11y49YZWXKzNTxW03MUKpzHJyeuek\n",
       "UsEYc9By/x42YQAAAHwBn9JqQr8AdBklYgLdE4oWJM+XJXpc9TVK2qvnEAEQdshlGqwvG/x7UMRK\n",
       "0Lns4oSODPru4v//x1IZO0ceu9qPcqo5YV5pGZeD/eb2GT8dSojMDODD874ZlpO8QpivVufPzOVv\n",
       "t0HGkphoEpCLHbDHf6vD1j4OTVzBnDc+AAABMUGb1UmoQWiZTBTw7/6plgAAUnf8IDj6y9ufhAfP\n",
       "xjXQBJq/6tYNn8ZcE5ZC+N4dRqrxNtp0fidDSOCSd+u98Zf35KBSxI5RM/ezvx1B1j7QaX9x5IyI\n",
       "+qEFFxDIsWmpU4XPz7P/8eW3x8NGLC9DZnvdqOUJl1+8gs/3yMaE/NSo25W05SdZ1VuNFo4eAEhb\n",
       "zRWu198Pl1HWX980JWBbKqTgQpc8/NYBuNr+SnWSuNbxC60RCBplZzEvM0s/GvCtJLhSuxxH7B72\n",
       "3UgP7GPMSh7Rlvh4xPqDSsErHhmQcoDhxnVDxtyoUpeM4rxqnuYHn2ULb+7omkzXJ5WSm/lpmSu0\n",
       "73l1zR+kgaUef6pQnmSIjuEGO2HQtWnnXGU129fPQjm0mDvJs/SVYQLxDHcU0gJoAAAAVgGf9GpC\n",
       "vwAAhwZpjQlKMJJCAarK5sIAQnNZ6EGbCYID/Vuspm5XdS6WNbFeKj7SsfxwFqQrT44mL0AnZM1G\n",
       "7g9nV3sDLhq3xTU0uSu2gsIcmXAXPKvhAAABFkGb90nhClJlMFLDv/6plgAAUnf8IDiHiPn3ytFF\n",
       "hnhTpcLtLER2+vjtFklHU+e5326h2v6FLey56KeTCFkNr89Ju4H1342wEX6Ar+Ulh8aonHd0WPCb\n",
       "9kukbue1Uc9hvuCh1AfiZOr5ciSAl8ZAMkvT5km7dtdo9rFMxEFk6sG5NKmrTysBqFVX4hXEXHZy\n",
       "HF0WknOKdM/GRzJBKx3cJ6OmwN/80Ww7Qb9eQ7pGvZtwol1993X8GAeGH9h3FjhfD3PQ4r3cL+sJ\n",
       "VUBKhSLMDku6mW6GqyOVFY097P5z6ZvoCSlXe4fxLRZCe2E+mAOfhhZZsHB2R8xbZc06zt4QxwFe\n",
       "h0P7TBNeMKJC8UyLj7fpPEVTdJeAAAAAUQGeFmpCvwAARV9XQ7gmOYEZABDVSr13JvjBk9pVQjQa\n",
       "IR/1ZxBn+oF+dpsteYT90WmmA45SkAtBD78gsR325IT2I00G3V9QKghdDkMQ7FYS4wAAAKVBmhlJ\n",
       "4Q6JlMFEw7/+qZYAAFcCQcfuIkSSbPQOgkf1u+arCxPk7VvQbqHLPDdarjO4eSCYFyGfXbyC1OI7\n",
       "tpFY21p5nLOPD6hIs0KsUMEcHltptJTaJw/tXfN4/CLvFqMZIgDO3n3S8SwGxrd6kfGF8hVkd+eg\n",
       "5yRev/MYWBp0mH2ppnQi6Ux/GH8WkXHits3YnOOQVl6qd8+pAJ/qGL0jaKaVXBEAAABNAZ44akK/\n",
       "AACFKpJyMSGnhBlQAh5AyMQK/KuNlMXk0IWwzM4DaR/wE4JtQNiAwJXH22ib/4gfaiLKfNC24iLZ\n",
       "n/uC1T1ykoPYGb44zLgAAADUQZo7SeEPJlMFPDv//qmWAABZNA4YpugA49mrgPxseKMgX5NXHOop\n",
       "xgWmZ/1EjrmxTn4cbYUtmElWYsCsrqoWiNkLUOHlVktYqf6xoXWjldGQcRXi+oqwLjqwquulAWc8\n",
       "G0aquFqEzFtVmIc6rxbgJAV1RJJXa21EQD2XQl1Ehn+N/2oQAd/DkrXQurYLBAwurIWOQ6oPNmdU\n",
       "ZpxS3PeUF/zEv6o2XN8xZbso67AHTTcUFfK2fFctEPx93j9q5UQ4mDKqVmpDIUe0xjCAAu/DsAr/\n",
       "lasAAAA4AZ5aakK/AACO63LQR9DapJKAKh9OfQXh9bnu/4rzvPFGy62TC7ean/GTMt7IrBGkEOUX\n",
       "fGkVYOAAAADxQZpdSeEPJlMFPDv//qmWAABZWG+GcIkAH844y0vihbx8wed0TZv97UZ/gbDzIuYw\n",
       "HOhB5PRpeOPg0pInNLYGYBYckZYmmbu/IPT10sNRCrHk1TbrLZ8ZmrUTRt5MPj9iUEJXO9w0NVqY\n",
       "epV1sbbBV1tdD32ch0F8p39X1LWqWxpws16omyAAUxBQbFKVTjfr4qU/CzF4ITVeWVgnXNe8Usnr\n",
       "Exzq+jg9uoIRvibyavadLHIWn1sl6Nadjo65roIhprFdHL9kGmchBnWRCoQyuhq0EBaHR0r/5UJM\n",
       "VejwI4GC/MQ/e3VnWInbv/RJGFtz5wAAAEEBnnxqQr8AAI7nQjnvDpqyIAP2gAMegmBqBXc2CfkI\n",
       "ypbg47lxcxeubDbot0sjtzA/z0WUIdZPfkU9YWfn1DSLgQAAAMBBmn9J4Q8mUwU8O//+qZYAALKw\n",
       "3wxTdAVFo2vhAZQbI+oDDHC1BhC9qX/T8QChMTUEppLLypQmYHKlOI6EpGkhPUKt5iALlQPySL/+\n",
       "qIgGrDYwR62sTLLJdfjP3qxB0o6Mj8C4cog7MAOZYDXEnCTkG+hhYhFk7o5ZUNDGpVeeNtgY8PXU\n",
       "+184mEI1+Iu+zHPbCryJEY0lu8aymphJmxebpDuD3K+MMRyhmExapp3dUIzkbhprneKEyQn7/J7K\n",
       "jP8AAABLAZ6eakK/AAEd1+Su6iNd/lK/gBB9C8q0vlVhpuJfOh2XMr7fZvYho/hSED3w7dq1gsRa\n",
       "8ki0hbeX9rqEak42HNIqylSJAI8MYGPmAAAA40GagknhDyZTAh3//qmWAAFm7JKt/zkzsAlvWHbe\n",
       "dnRLeyZ/4CEeaTf/9r1AQQ+0yE6TKnNN7IJxrUjSW8q4x9x+XM4+Q9wJLMMu04BGrkJxO7T6u9Fl\n",
       "iNPGG0cPbizNfb88nrTdtGp2sxhsfxxHpKoDfmAO1WQ+oDQ55MAB9Av+y+9EZRrrPRoKWdovxIz2\n",
       "cDNksbezkNMNupBX3yBDedYJ5xwDxcXJ0RgRuKgZVyDnzv/ncOOHDxnJgb4lLY7m8X8BHBCsgMI2\n",
       "qELdwpk8bTmtmtod0LItPjOFrLviOr5FLUjBAAAAQEGeoEURPC//AADS+MUR8chGmxXM+wAgop8D\n",
       "sq02EigLTtlIlAZZznu2n9VNuGJEKbMQrms2dABSKhfh2N45SkgAAAA+AZ7BakK/AAEeCJeWHaFM\n",
       "OLACybAJzS+xOpGtQiP+xVn0rsU5s4O8YoqYGtxEo+rreRE4dQQWRgYCbFs8qLkAAACVQZrESahB\n",
       "aJlMFPD//qmWAAFk8tigoc/ndKgjHKt6QsrqQSQxgdTtNJIpnSvzttlc4wfITOR4tkutXKqZThRI\n",
       "HoKPShkpeEpMxmf/pztmtBUlrZyUlzrwOY8TLZNILPImaeWnwA0Q/VRFT380piW2wx437UwzbrDn\n",
       "bIOgNQte7ZOuwCs+nMDz9gfyZ9kWQuaV4QkgxoAAAAA/AZ7jakK/AAEmDBKClgGiJ4yV3YexywAG\n",
       "qmEpwhry7bfw2tFM30umaifZ8cJuCG8DLfX8XJtDXPScKx+0M6LbAAAAz0Ga50nhClJlMCH//qmW\n",
       "AAFvOqGBHz0gAxVHF1OGyHIf52bNDnJfiEBkQ+z42jdf+gNK4GcNdK13rAkUmqNvm/WlwsmTC33N\n",
       "rHUnTU5s5BvTIbX+iAAJOhBk4c+g2asEdyKyryB6BZqRQUI6px0qrd8+8CX2AinMlL4Ii0MIvgqp\n",
       "ORtms/xaqqb91JIbbfmQtbh3ezzFegELhdkPhUFOdIujwg1nLR8iQ+46mpODKvVKcmqfEJPRTSm0\n",
       "Y8q/LXJ2Z5xpT1spKXtpevWx8OKmgQAAAEhBnwVFNEwv/wABq7GqAHBy9QKUeg49VdeZF9C1OVPT\n",
       "ByNMemTr+MZUk2mQOdcpyKBDd6fxhhpiSVuOj3nU02ArYcCHcUJ8puEAAABGAZ8makK/AAJKbS9h\n",
       "b9gAnbuqnq8fLX9Ez0fqB31UDvkpt9/79NKohUiDuGlidIVA4pbHtXcZNnvZiqKo3JXEaq1wqd2L\n",
       "gQAAARJBmytJqEFomUwIf//+qZYAAW/ZzvPES30qgCIEqaOxI2nk0QRVcteuT51cS5dZ4g/98+Tf\n",
       "TVsegl6eIzEehwg0N03/fhtEGhmekpHN93+oo0s4ydlYC2E/b4BeNHlXcBUekp7P630vSUdo6jk0\n",
       "mMbC6xd89qIPc6l90UopgPB8ukltibCY0JwHJrbEPhTOayaxEdVhGi8keeMAbyVVayevEBtSbq0w\n",
       "s+2/jv/0jLSfnKDHZxW2MWl4cnZD+lXFf5Xq9tZj8iHcg0/B9xYp5IpDj9UOpodDgM4Goj/caW97\n",
       "3vLZa5nAk7TyWQyxp9Btu5dB3Ax8/8VLu84MLAltt7N7tmFOAv353LSyPhAYvVQrMukYAAAAe0Gf\n",
       "SUURLDP/AAJ9AaKoFkFVq3gApWN6QWvhEGo05BOTBq6vxsQzkNVlbgvNFcKMLKMQatiFdbmUDlG9\n",
       "X12n+SkzLAS9vOZ8Mbk3WkPs7jUk408pmQz0fcw5B7drbAjkaSL9UlQiLU6UWgmSocrJY693wKMf\n",
       "bkD2K9GJdwAAAGgBn2h0Qr8ABHfFFSlJD9mwAgGAP+4DJA5//1Es8YTHv7LwFb2EDmFE7C2VHNdt\n",
       "KKSagFOTpm5JlCAviG6zvx/3+0tl0I3Msusj5ET2GLdVZPTlHexcZ10mt21dW76MtYnssLa0XLK0\n",
       "TQAAAGABn2pqQr8ABJddKgt+qNKwSvAAEGieQDZqOpd86hCeMI4TwOsJSUoB3LS0CZwCWj1SKJWg\n",
       "80mSVPFsnKJ8PMv5VMR5hW9jooHyNJna1vDz2wuIswJYnBbPfrql1D5hzMAAAABaQZtvSahBbJlM\n",
       "CH///qmWAAFuUEIZkgCYfyuy230vQsZ2lzxrgF3JBWPVRQ1MekAjrXvwSG5etBB/yYWeuC5ubTPy\n",
       "s1z29AxTLyL/6JltpPmvkF9v55Krd72NAAAAG0GfjUUVLDP/AAJ9TUtOGiYdoiCTR5lZyViDgQAA\n",
       "ABQBn6x0Qr8ABJXQoJXT9Sx7onIZUQAAABABn65qQr8ABJdf3ZbjUEkZAAAAFkGbs0moQWyZTAh/\n",
       "//6plgAAAwAAeEAAAAAXQZ/RRRUsM/8AAn1NUibi83bplUVvw8IAAAAQAZ/wdEK/AASV0M2WpStL\n",
       "aQAAABABn/JqQr8ABJdf3ZbjUEkYAAAAFkGb90moQWyZTAh///6plgAAAwAAeEAAAAAXQZ4VRRUs\n",
       "M/8AAn1NUibi83bplUVvw8MAAAAQAZ40dEK/AASV0M2WpStLaAAAABABnjZqQr8ABJdf3ZbjUEkZ\n",
       "AAAAFkGaO0moQWyZTAh///6plgAAAwAAeEEAAAAXQZ5ZRRUsM/8AAn1NUibi83bplUVvw8IAAAAQ\n",
       "AZ54dEK/AASV0M2WpStLaQAAABABnnpqQr8ABJdf3ZbjUEkYAAAAFkGaf0moQWyZTAh///6plgAA\n",
       "AwAAeEEAAAAXQZ6dRRUsM/8AAn1NUibi83bplUVvw8MAAAAQAZ68dEK/AASV0M2WpStLaAAAABAB\n",
       "nr5qQr8ABJdf3ZbjUEkYAAAAFkGao0moQWyZTAh///6plgAAAwAAeEEAAAAXQZ7BRRUsM/8AAn1N\n",
       "Uibi83bplUVvw8IAAAAQAZ7gdEK/AASV0M2WpStLaQAAABABnuJqQr8ABJdf3ZbjUEkYAAAAFkGa\n",
       "50moQWyZTAh///6plgAAAwAAeEEAAAAXQZ8FRRUsM/8AAn1NUibi83bplUVvw8MAAAAQAZ8kdEK/\n",
       "AASV0M2WpStLaQAAABABnyZqQr8ABJdf3ZbjUEkZAAAAFkGbK0moQWyZTAh///6plgAAAwAAeEAA\n",
       "AAAXQZ9JRRUsM/8AAn1NUibi83bplUVvw8IAAAAQAZ9odEK/AASV0M2WpStLaQAAABABn2pqQr8A\n",
       "BJdf3ZbjUEkYAAAAFkGbb0moQWyZTAh///6plgAAAwAAeEAAAAAXQZ+NRRUsM/8AAn1NUibi83bp\n",
       "lUVvw8MAAAAQAZ+sdEK/AASV0M2WpStLaQAAABABn65qQr8ABJdf3ZbjUEkZAAAAFkGbs0moQWyZ\n",
       "TAh///6plgAAAwAAeEAAAAAXQZ/RRRUsM/8AAn1NUibi83bplUVvw8IAAAAQAZ/wdEK/AASV0M2W\n",
       "pStLaQAAABABn/JqQr8ABJdf3ZbjUEkYAAAAFkGb90moQWyZTAh3//6plgAAAwAAeEAAAAAXQZ4V\n",
       "RRUsM/8AAn1NUibi83bplUVvw8MAAAAQAZ40dEK/AASV0M2WpStLaAAAABABnjZqQr8ABJdf3Zbj\n",
       "UEkZAAAAFkGaO0moQWyZTAh3//6plgAAAwAAeEEAAAAXQZ5ZRRUsM/8AAn1NUibi83bplUVvw8IA\n",
       "AAAQAZ54dEK/AASV0M2WpStLaQAAABABnnpqQr8ABJdf3ZbjUEkYAAAAFkGaf0moQWyZTAhv//6n\n",
       "hAAAAwAA7oEAAAAXQZ6dRRUsM/8AAn1NUibi83bplUVvw8MAAAAQAZ68dEK/AASV0M2WpStLaAAA\n",
       "ABABnr5qQr8ABJdf3ZbjUEkYAAAAFUGao0moQWyZTAhX//44QAAAAwAOOQAAABdBnsFFFSwz/wAC\n",
       "fU1SJuLzdumVRW/DwgAAABABnuB0Qr8ABJXQzZalK0tpAAAAEAGe4mpCvwAEl1/dluNQSRgAAAey\n",
       "bW9vdgAAAGxtdmhkAAAAAAAAAAAAAAAAAAAD6AAAE4gAAQAAAQAAAAAAAAAAAAAAAAEAAAAAAAAA\n",
       "AAAAAAAAAAABAAAAAAAAAAAAAAAAAABAAAAAAAAAAAAAAAAAAAAAAAAAAAAAAAAAAAAAAAAAAgAA\n",
       "Btx0cmFrAAAAXHRraGQAAAADAAAAAAAAAAAAAAABAAAAAAAAE4gAAAAAAAAAAAAAAAAAAAAAAAEA\n",
       "AAAAAAAAAAAAAAAAAAABAAAAAAAAAAAAAAAAAABAAAAAAbAAAAGwAAAAAAAkZWR0cwAAABxlbHN0\n",
       "AAAAAAAAAAEAABOIAAAEAAABAAAAAAZUbWRpYQAAACBtZGhkAAAAAAAAAAAAAAAAAAAoAAAAyABV\n",
       "xAAAAAAALWhkbHIAAAAAAAAAAHZpZGUAAAAAAAAAAAAAAABWaWRlb0hhbmRsZXIAAAAF/21pbmYA\n",
       "AAAUdm1oZAAAAAEAAAAAAAAAAAAAACRkaW5mAAAAHGRyZWYAAAAAAAAAAQAAAAx1cmwgAAAAAQAA\n",
       "Bb9zdGJsAAAAt3N0c2QAAAAAAAAAAQAAAKdhdmMxAAAAAAAAAAEAAAAAAAAAAAAAAAAAAAAAAbAB\n",
       "sABIAAAASAAAAAAAAAABAAAAAAAAAAAAAAAAAAAAAAAAAAAAAAAAAAAAAAAAAAAAGP//AAAANWF2\n",
       "Y0MBZAAV/+EAGGdkABWs2UGw3oQAAAMABAAAAwCgPFi2WAEABmjr48siwP34+AAAAAAcdXVpZGto\n",
       "QPJfJE/FujmlG88DI/MAAAAAAAAAGHN0dHMAAAAAAAAAAQAAAGQAAAIAAAAAFHN0c3MAAAAAAAAA\n",
       "AQAAAAEAAAMAY3R0cwAAAAAAAABeAAAAAgAABAAAAAABAAAGAAAAAAEAAAIAAAAAAgAABAAAAAAB\n",
       "AAAGAAAAAAEAAAIAAAAAAQAABgAAAAABAAACAAAAAAEAAAQAAAAAAQAABgAAAAABAAACAAAAAAMA\n",
       "AAQAAAAAAQAACgAAAAABAAAEAAAAAAEAAAAAAAAAAQAAAgAAAAABAAAGAAAAAAEAAAIAAAAAAQAA\n",
       "BgAAAAABAAACAAAAAAEAAAYAAAAAAQAAAgAAAAABAAAGAAAAAAEAAAIAAAAAAQAABgAAAAABAAAC\n",
       "AAAAAAEAAAYAAAAAAQAAAgAAAAABAAAIAAAAAAIAAAIAAAAAAQAABgAAAAABAAACAAAAAAEAAAgA\n",
       "AAAAAgAAAgAAAAABAAAKAAAAAAEAAAQAAAAAAQAAAAAAAAABAAACAAAAAAEAAAoAAAAAAQAABAAA\n",
       "AAABAAAAAAAAAAEAAAIAAAAAAQAACgAAAAABAAAEAAAAAAEAAAAAAAAAAQAAAgAAAAABAAAKAAAA\n",
       "AAEAAAQAAAAAAQAAAAAAAAABAAACAAAAAAEAAAoAAAAAAQAABAAAAAABAAAAAAAAAAEAAAIAAAAA\n",
       "AQAACgAAAAABAAAEAAAAAAEAAAAAAAAAAQAAAgAAAAABAAAKAAAAAAEAAAQAAAAAAQAAAAAAAAAB\n",
       "AAACAAAAAAEAAAoAAAAAAQAABAAAAAABAAAAAAAAAAEAAAIAAAAAAQAACgAAAAABAAAEAAAAAAEA\n",
       "AAAAAAAAAQAAAgAAAAABAAAKAAAAAAEAAAQAAAAAAQAAAAAAAAABAAACAAAAAAEAAAoAAAAAAQAA\n",
       "BAAAAAABAAAAAAAAAAEAAAIAAAAAAQAACgAAAAABAAAEAAAAAAEAAAAAAAAAAQAAAgAAAAABAAAK\n",
       "AAAAAAEAAAQAAAAAAQAAAAAAAAABAAACAAAAAAEAAAoAAAAAAQAABAAAAAABAAAAAAAAAAEAAAIA\n",
       "AAAAAQAACgAAAAABAAAEAAAAAAEAAAAAAAAAAQAAAgAAAAAcc3RzYwAAAAAAAAABAAAAAQAAAGQA\n",
       "AAABAAABpHN0c3oAAAAAAAAAAAAAAGQAABAYAAABUwAAAN8AAABPAAAAxgAAAJkAAADHAAAAPwAA\n",
       "AKoAAABLAAAAoAAAALYAAABLAAAAkQAAAIQAAACbAAACzgAAAIkAAABqAAAAgAAAATUAAABaAAAB\n",
       "GgAAAFUAAACpAAAAUQAAANgAAAA8AAAA9QAAAEUAAADEAAAATwAAAOcAAABEAAAAQgAAAJkAAABD\n",
       "AAAA0wAAAEwAAABKAAABFgAAAH8AAABsAAAAZAAAAF4AAAAfAAAAGAAAABQAAAAaAAAAGwAAABQA\n",
       "AAAUAAAAGgAAABsAAAAUAAAAFAAAABoAAAAbAAAAFAAAABQAAAAaAAAAGwAAABQAAAAUAAAAGgAA\n",
       "ABsAAAAUAAAAFAAAABoAAAAbAAAAFAAAABQAAAAaAAAAGwAAABQAAAAUAAAAGgAAABsAAAAUAAAA\n",
       "FAAAABoAAAAbAAAAFAAAABQAAAAaAAAAGwAAABQAAAAUAAAAGgAAABsAAAAUAAAAFAAAABoAAAAb\n",
       "AAAAFAAAABQAAAAZAAAAGwAAABQAAAAUAAAAFHN0Y28AAAAAAAAAAQAAADAAAABidWR0YQAAAFpt\n",
       "ZXRhAAAAAAAAACFoZGxyAAAAAAAAAABtZGlyYXBwbAAAAAAAAAAAAAAAAC1pbHN0AAAAJal0b28A\n",
       "AAAdZGF0YQAAAAEAAAAATGF2ZjU4Ljc2LjEwMA==\n",
       "\">\n",
       "  Your browser does not support the video tag.\n",
       "</video>"
      ],
      "text/plain": [
       "<IPython.core.display.HTML object>"
      ]
     },
     "execution_count": 14,
     "metadata": {},
     "output_type": "execute_result"
    }
   ],
   "source": [
    "interval = 1000*dt\n",
    "ani = animation.FuncAnimation(fig, animate, get_pos, blit=True,\n",
    "                      interval=interval, repeat=False, save_count=100)\n",
    "from IPython.display import HTML\n",
    "HTML(ani.to_html5_video())"
   ]
  },
  {
   "cell_type": "markdown",
   "id": "G8lpeAD2p9S_",
   "metadata": {
    "id": "G8lpeAD2p9S_"
   },
   "source": [
    "Hopefully you will see a blue ball impacting a red ball close to the origin, no matter what initial velocity or angle is imparted to either sphere.\n",
    "\n",
    "---\n",
    "\n"
   ]
  },
  {
   "cell_type": "markdown",
   "id": "d3b5364e",
   "metadata": {},
   "source": [
    "## Over To You\n",
    "\n",
    "This worksheet illustrates how to use symbolic Python can solve a set of simultaneous equations for us: those equations happen to be conservation of linear momentum and Newton's Law of Restitution, and are applied to spheres which collide in 2D.\n",
    "\n",
    "\n",
    "Try this for yourself: \n",
    "\n",
    "\n",
    "1. Change some of the constants in the problem: what happens when velocities or angles change?\n",
    "2. Examine other lecture examples using this code:\n",
    "    \n",
    "One of the examples in the lecture had the following configuration:\n",
    "\n",
    "*   Sphere A: mass $2$kg, speed $8\\rm{ms}^{-1}$, angle of incidence $45^o$.\n",
    "*   Sphere B: mass $2$kg, speed $0\\rm{ms}^{-1}$ (angle of incidence irrelevant).\n",
    "*  Coefficient of restitution $e=0.5$.\n",
    "\n",
    "Rerun the simulation to confirm our post-collision findings in the lecture: \n",
    "\n",
    "$v_A=5.831\\rm{ms}^{-1}$ at angle of $75.96^{o}$, $v_B=4.243\\rm{ms}^{-1}$ at angle of $0^{o}$ (i.e. along the LoC).\n",
    "\n",
    "\n",
    "\n",
    "\n",
    "---\n",
    "\n",
    "\n",
    "The second example from the lectures stated\n",
    "\n",
    "*   Sphere A: mass $8$kg, speed $4\\rm{ms}^{-1}$, angle of incidence $30^o$.\n",
    "*   Sphere B: mass $4$kg, speed $2\\rm{ms}^{-1}$, angle of incidence $60^o$.\n",
    "*  Coefficient of restitution $e=1/2$.\n",
    "\n",
    "Rerun the simulation to confirm our post-collision findings in the lecture: \n",
    "\n",
    "$v_A=2.997\\rm{ms}^{-1}$ at angle of $41.86^{o}$, $v_B=3.873\\rm{ms}^{-1}$ at angle of $26.57^{o}$.\n",
    "    \n",
    "3. Attempt a few of the related tutorial questions, and see if you can confirm your worked solutions using the approaches demonstrated in this notebook. For example, you could confirm some of"
   ]
  },
  {
   "cell_type": "code",
   "execution_count": null,
   "id": "N4vRQobws-Zw",
   "metadata": {
    "executionInfo": {
     "elapsed": 8,
     "status": "ok",
     "timestamp": 1646662045855,
     "user": {
      "displayName": "James Threlfall",
      "photoUrl": "https://lh3.googleusercontent.com/a-/AOh14Gh5AMmwJn-QgnyAtyVfjDwEfQL-5FfwAhQ1uZjJ=s64",
      "userId": "12893452708265254015"
     },
     "user_tz": 0
    },
    "id": "N4vRQobws-Zw"
   },
   "outputs": [],
   "source": []
  }
 ],
 "metadata": {
  "colab": {
   "collapsed_sections": [],
   "name": "06_JT_2D_SphereSphere_Collisions.ipynb",
   "provenance": []
  },
  "kernelspec": {
   "display_name": "Python 3 (ipykernel)",
   "language": "python",
   "name": "python3"
  },
  "language_info": {
   "codemirror_mode": {
    "name": "ipython",
    "version": 3
   },
   "file_extension": ".py",
   "mimetype": "text/x-python",
   "name": "python",
   "nbconvert_exporter": "python",
   "pygments_lexer": "ipython3",
   "version": "3.9.16"
  }
 },
 "nbformat": 4,
 "nbformat_minor": 5
}