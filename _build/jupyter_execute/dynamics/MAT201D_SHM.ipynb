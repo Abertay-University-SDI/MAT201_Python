{
 "cells": [
  {
   "cell_type": "markdown",
   "metadata": {
    "id": "IOfm85afhbI6"
   },
   "source": [
    "# Harmonic Motion of A Spring\n",
    "\n",
    "NB: The Simple Harmonic Motion lectures of MAT201 have been removed from the syllabus, from 2024-25 onwards. As such, this notebook is just for interest, and contains **no examinable content**. However, the animation object at the end is too cool to ignore(!).\n",
    "\n",
    "In this notebook, we demonstrate how to solve Newton's Second Law for a force which induces Simple Harmonic Motion. We also create an animated object which behaves according to those laws. While the object is moving, notebook also draws accompanying distance, velocity and acceleration graphs.. \n",
    "\n",
    "*Plotting inspiration from http://firsttimeprogrammer.blogspot.com/2014/12/basic-physics-and-python-simple.html*"
   ]
  },
  {
   "cell_type": "code",
   "execution_count": 1,
   "metadata": {
    "id": "TKo_hFTgbOY6"
   },
   "outputs": [],
   "source": [
    "%matplotlib inline\n",
    "import matplotlib.pyplot as plt\n",
    "import numpy as np\n",
    "import matplotlib.animation as animation\n",
    "import matplotlib.patches as patches\n",
    "import sympy as sym\n",
    "import math"
   ]
  },
  {
   "cell_type": "markdown",
   "metadata": {
    "id": "wIxW180Zv3ce"
   },
   "source": [
    "## Simple Harmonic Motion: Solving Newton's Second Law\n",
    "\n",
    "We'll start by repeating the steps we saw by hand in the lecture to derive expressions for the displacement, velocity and acceleration of an object subject to simple Harmonic Motion.\n",
    "\n",
    "NB you may be required to perform these steps mathematically by hand **for the exam**; the symbolic computation approach here is just to verify our solutions and demonstrate the resulting behaviour of the object, governed by the mathematics seen in lectures."
   ]
  },
  {
   "cell_type": "markdown",
   "metadata": {
    "id": "l9OyVkqE090s"
   },
   "source": [
    "We saw that an object subject to a force of the form $F=-kx$ (for some constant $k$) causes that object to accelerate towards its equilibrium position, but due to its momentum, overshoots and repeatedly oscillates about this position.\n",
    "\n",
    "Newton's Second Law states:\n",
    "\n",
    "$$\n",
    "\\frac{{\\rm{d}}^2x(t)}{{\\rm{d}}t^2} = a(t) = \\frac{F(t)}{m} = -\\frac{k}{m}x(t),\n",
    "$$\n",
    "\n",
    "In the lectures, we saw that we could re-write the acceleration term $a$ as \n",
    "\n",
    "$$\n",
    "a=\\frac{{\\rm d}v}{{\\rm{d}}t}=\\frac{{\\rm d}v}{{\\rm{d}}x}\\frac{{\\rm d}x}{{\\rm{d}}t}=v\\frac{{\\rm d}v}{{\\rm{d}}x}.\n",
    "$$\n",
    "\n"
   ]
  },
  {
   "cell_type": "markdown",
   "metadata": {
    "id": "qT-hZFe7x23A"
   },
   "source": [
    "Therefore we can state our equation as a separable first order differential equation:\n",
    "\n",
    "$$\n",
    "v\\frac{{\\rm d}v}{{\\rm{d}}x}=-\\frac{k}{m}x=-\\omega^2x,\n",
    "$$\n",
    "\n",
    "(where we have replaced some of the constants with a frequency $\\omega$).\n",
    "\n",
    "Python is great at solving differential equations. First we'll set up the variables in the problem. The differential equation solver needs to know some of the properties of the symbols it will be working with in order to do its job more effectively.\n"
   ]
  },
  {
   "cell_type": "code",
   "execution_count": 2,
   "metadata": {
    "id": "8HuhgX7wjspS"
   },
   "outputs": [],
   "source": [
    "x = sym.symbols('x', real = True)\n",
    "w = sym.symbols('ω', real = True, positive = True, nonzero = True)\n",
    "A = sym.symbols('A', real = True, positive = True, nonzero = True)\n",
    "phi = sym.symbols('phi' , real = True)\n",
    "v = sym.Function('v')"
   ]
  },
  {
   "cell_type": "markdown",
   "metadata": {
    "id": "aBepRVI5yyB2"
   },
   "source": [
    "Now we'll create a differential equation and ask Python to solve it. We know from the lectures that we need to use some initial conditions to evaluate some of the constants of integration. In this case, we know that when the object is displaced by the amplitude of oscillation, $A$, then the velocity must be zero. \n",
    "\n",
    "Python can solve differential equations if all the terms are on one side of the equation and this equals zero. Shifting $-\\omega^2x$ over to the LHS means that we can use *dsolve* (with the initial condition described above):"
   ]
  },
  {
   "cell_type": "code",
   "execution_count": 3,
   "metadata": {
    "colab": {
     "base_uri": "https://localhost:8080/",
     "height": 41
    },
    "executionInfo": {
     "elapsed": 2430,
     "status": "ok",
     "timestamp": 1647621200471,
     "user": {
      "displayName": "James Threlfall",
      "photoUrl": "https://lh3.googleusercontent.com/a-/AOh14Gh5AMmwJn-QgnyAtyVfjDwEfQL-5FfwAhQ1uZjJ=s64",
      "userId": "12893452708265254015"
     },
     "user_tz": 0
    },
    "id": "lFYe7mhZyxQM",
    "outputId": "7ddce02f-06c6-4c47-cb87-ce0d4ce75871"
   },
   "outputs": [
    {
     "data": {
      "text/latex": [
       "$\\displaystyle v{\\left(x \\right)} = - \\sqrt{A^{2} ω^{2} - x^{2} ω^{2}}$"
      ],
      "text/plain": [
       "Eq(v(x), -sqrt(A**2*ω**2 - x**2*ω**2))"
      ]
     },
     "execution_count": 3,
     "metadata": {},
     "output_type": "execute_result"
    }
   ],
   "source": [
    "eq1 = v(x)*v(x).diff(x) + w**2*x\n",
    "vofx=sym.dsolve(eq1,v(x), ics={v(A): 0})\n",
    "vofx[0]"
   ]
  },
  {
   "cell_type": "markdown",
   "metadata": {
    "id": "v-wluglVzNgr"
   },
   "source": [
    "The first solution is displayed up above, and is the negative solution. This is one of two solutions that Python has found, with the other being:"
   ]
  },
  {
   "cell_type": "code",
   "execution_count": 4,
   "metadata": {
    "colab": {
     "base_uri": "https://localhost:8080/",
     "height": 41
    },
    "executionInfo": {
     "elapsed": 236,
     "status": "ok",
     "timestamp": 1647621203552,
     "user": {
      "displayName": "James Threlfall",
      "photoUrl": "https://lh3.googleusercontent.com/a-/AOh14Gh5AMmwJn-QgnyAtyVfjDwEfQL-5FfwAhQ1uZjJ=s64",
      "userId": "12893452708265254015"
     },
     "user_tz": 0
    },
    "id": "R0adgBStoWqM",
    "outputId": "35bcff3e-bd8f-495f-e1a6-63374b47f5e8"
   },
   "outputs": [
    {
     "data": {
      "text/latex": [
       "$\\displaystyle v{\\left(x \\right)} = \\sqrt{A^{2} ω^{2} - x^{2} ω^{2}}$"
      ],
      "text/plain": [
       "Eq(v(x), sqrt(A**2*ω**2 - x**2*ω**2))"
      ]
     },
     "execution_count": 4,
     "metadata": {},
     "output_type": "execute_result"
    }
   ],
   "source": [
    "vofx[1]"
   ]
  },
  {
   "cell_type": "markdown",
   "metadata": {
    "id": "PdhOmhrLzWhA"
   },
   "source": [
    "Both solutions are identical to those found in the lectures.\n",
    "\n",
    "Now lets work in time, and use the same tricks to calculate the displacement as a function of time. The differential equation solver in Python isn't set up to know that our previous independent variable $x$ is now our *dependent* variable, $x(t)$. We have to make Python forget the earlier solution, and input it by hand, but we can solve it in the same way as before (while also stating the initial condition that at $t=0$, the displacement will be determined by $A\\sin{\\left(\\phi\\right)}$, where $\\phi$ is our phase shift):"
   ]
  },
  {
   "cell_type": "code",
   "execution_count": 5,
   "metadata": {
    "colab": {
     "base_uri": "https://localhost:8080/"
    },
    "executionInfo": {
     "elapsed": 5773,
     "status": "ok",
     "timestamp": 1647621212130,
     "user": {
      "displayName": "James Threlfall",
      "photoUrl": "https://lh3.googleusercontent.com/a-/AOh14Gh5AMmwJn-QgnyAtyVfjDwEfQL-5FfwAhQ1uZjJ=s64",
      "userId": "12893452708265254015"
     },
     "user_tz": 0
    },
    "id": "eB8N-YWNovN6",
    "outputId": "55d5089d-073f-4788-dabb-62743e0d255a"
   },
   "outputs": [
    {
     "name": "stdout",
     "output_type": "stream",
     "text": [
      "x(t)= A*sin(phi + t*ω)\n",
      "v(t)= A*ω*cos(phi + t*ω)\n",
      "a(t)= -A*ω**2*sin(phi + t*ω)\n"
     ]
    }
   ],
   "source": [
    "t = sym.symbols('t', real = True)\n",
    "x = sym.Function('x')\n",
    "eq2 = x(t).diff(t)-sym.sqrt(A*A*w*w-x(t)*x(t)*w*w)\n",
    "xoft=sym.dsolve(eq2,x(t), ics={x(0):A*sym.sin(phi)})\n",
    "print(\"x(t)=\", xoft.rhs)\n",
    "print(\"v(t)=\", sym.diff(xoft.rhs,t))\n",
    "print(\"a(t)=\", sym.diff(xoft.rhs,t,2))"
   ]
  },
  {
   "cell_type": "markdown",
   "metadata": {
    "id": "fsgoRWXJ0LNw"
   },
   "source": [
    "We've taken advantage of the fact that Python can also handle differentiation too: we've taken the solution of the differential equation that Python has found and differentiated until we have the expressions we expected to find for displacment, velocity and acceleration."
   ]
  },
  {
   "cell_type": "markdown",
   "metadata": {
    "id": "M3oiPvVk0qwK"
   },
   "source": [
    "## Animating Simple Harmonic Motion\n",
    "\n",
    "Now that we have verified our solutions to Newton's Second Law for the force $F=-kx$, now its time to see what this looks like in action.\n",
    "\n",
    "We'll choose some initial values for the constants of motion. Feel free to change these and re-run the animation to see what difference this makes to the observed behaviour:"
   ]
  },
  {
   "cell_type": "code",
   "execution_count": 6,
   "metadata": {
    "id": "IEyzWjCV_kkn"
   },
   "outputs": [],
   "source": [
    "k = 50            #spring constant\n",
    "m = 20            #mass (kg)\n",
    "w = np.sqrt(k / m)#angular frequency omega\n",
    "phi = 0           #phase shift\n",
    "A = 3             #amplitude (m)\n",
    "dt = 0.05         #time step for the animation (s)"
   ]
  },
  {
   "cell_type": "markdown",
   "metadata": {
    "id": "c9xXB1gU1SVg"
   },
   "source": [
    "We'll set up Python functions which at a given time will return the displacement, velocity and acceleration. Note that the returned functions exactly match those solved for earlier in the notebook:"
   ]
  },
  {
   "cell_type": "code",
   "execution_count": 7,
   "metadata": {
    "id": "-uzbouLT0-1h"
   },
   "outputs": [],
   "source": [
    "def disp(t):\n",
    "    global w, phi, A\n",
    "    return A * np.sin(w * t + phi)\n",
    "def vel(t):\n",
    "    global w, phi, A\n",
    "    return A * w * np.cos(w * t + phi)\n",
    "def accel(t):\n",
    "    global w, phi, A\n",
    "    return -A * w ** 2 * np.sin(w * t + phi)"
   ]
  },
  {
   "cell_type": "markdown",
   "metadata": {
    "id": "UvcaPcps4lwj"
   },
   "source": [
    "Things are going to get complicated now! \n",
    "First we'll set up a figure containing 4 subplots so that we can plot lots of animated graphs:"
   ]
  },
  {
   "cell_type": "code",
   "execution_count": 8,
   "metadata": {
    "colab": {
     "base_uri": "https://localhost:8080/",
     "height": 880
    },
    "executionInfo": {
     "elapsed": 2174,
     "status": "ok",
     "timestamp": 1647620619472,
     "user": {
      "displayName": "James Threlfall",
      "photoUrl": "https://lh3.googleusercontent.com/a-/AOh14Gh5AMmwJn-QgnyAtyVfjDwEfQL-5FfwAhQ1uZjJ=s64",
      "userId": "12893452708265254015"
     },
     "user_tz": 0
    },
    "id": "KBisgrYF5WaG",
    "outputId": "1e07a039-24fe-425d-b8d5-cccf689bd801"
   },
   "outputs": [
    {
     "data": {
      "text/plain": [
       "(-5.0, 5.0)"
      ]
     },
     "execution_count": 8,
     "metadata": {},
     "output_type": "execute_result"
    },
    {
     "data": {
      "image/png": "[encoded data removed]",
      "text/plain": [
       "<Figure size 720x1080 with 4 Axes>"
      ]
     },
     "metadata": {
      "filenames": {
       "image/png": "/Users/jamesthrelfall/Programs/JTpython/Teaching_Examples/2024/MAT201_Python/_build/jupyter_execute/dynamics/MAT201D_SHM_18_1.png"
      },
      "needs_background": "light"
     },
     "output_type": "display_data"
    }
   ],
   "source": [
    "fig, (ax1, ax2, ax3, ax4) = plt.subplots(4,1)\n",
    "fig.set_size_inches(10, 15)\n",
    "ax1.set_xlim(-10,10)\n",
    "ax1.set_ylim(-5,5)"
   ]
  },
  {
   "cell_type": "markdown",
   "metadata": {
    "id": "C9rXBcJS5bXL"
   },
   "source": [
    "In the top figure, we'll draw an object oscillating with SHM. For argument's sake, we'll make it a box. \n",
    "The first time we draw it, we'll place the centre of the box at the position (i.e. displacement) at $t=0$. Quite often, this is at $x=0$, but also depends on the phase shift $\\phi$. Once we've drawn everything, try changing the phase and seeing where the box is initially drawn.\n",
    "\n"
   ]
  },
  {
   "cell_type": "code",
   "execution_count": 9,
   "metadata": {
    "id": "P29mlbaO6bSp"
   },
   "outputs": [],
   "source": [
    "box= np.array([\n",
    "    [-1.0 + disp(0.0), -1.0],  \n",
    "    [-1.0 + disp(0.0), 1.0],  \n",
    "    [1.0 + disp(0.0), 1.0],\n",
    "    [1.0 + disp(0.0), -1.0]\n",
    "    ])\n",
    "patch = patches.Polygon(box, closed=True, fc='black', ec='black')"
   ]
  },
  {
   "cell_type": "markdown",
   "metadata": {
    "id": "YLpv9QJU6jO-"
   },
   "source": [
    "Now, because we're excellent at programming(!), I think it would help to see the size and direction of the velocity and acceleration vectors associated with the box.\n",
    "To do this, I'm going to make some arrows, centred on the middle of the box, and with sizes determined by $a(t)$ and $v(t)$."
   ]
  },
  {
   "cell_type": "code",
   "execution_count": 10,
   "metadata": {
    "colab": {
     "base_uri": "https://localhost:8080/"
    },
    "executionInfo": {
     "elapsed": 211,
     "status": "ok",
     "timestamp": 1647620622384,
     "user": {
      "displayName": "James Threlfall",
      "photoUrl": "https://lh3.googleusercontent.com/a-/AOh14Gh5AMmwJn-QgnyAtyVfjDwEfQL-5FfwAhQ1uZjJ=s64",
      "userId": "12893452708265254015"
     },
     "user_tz": 0
    },
    "id": "OMrFl8Jy7KW7",
    "outputId": "94fb58b8-d73e-4ca1-e50a-0e88087ad273"
   },
   "outputs": [
    {
     "data": {
      "text/plain": [
       "<matplotlib.patches.Arrow at 0x12208dbe0>"
      ]
     },
     "execution_count": 10,
     "metadata": {},
     "output_type": "execute_result"
    }
   ],
   "source": [
    "patch2 = patches.Arrow(disp(0.0), 0.0, accel(0.0), 0.0, color='blue')\n",
    "patch3 = patches.Arrow(disp(0.0), 0.0, vel(0.0), 0.0, color='green')\n",
    "ax1.add_patch(patch)\n",
    "ax1.add_patch(patch2)\n",
    "ax1.add_patch(patch3)"
   ]
  },
  {
   "cell_type": "markdown",
   "metadata": {
    "id": "rwcm3TxW7UWf"
   },
   "source": [
    "Now we'll set up remaining things to do with the plots, things like labelling each axis. Plot 2 will be the displacement as a function of time, Plot 3 will be the velocity and Plot 4 will be the acceleration. Each of the plots will have to have different a y-axis, so we'll loop round each plot to set the scales correctly."
   ]
  },
  {
   "cell_type": "code",
   "execution_count": 11,
   "metadata": {
    "id": "GZo62RwAxWqN"
   },
   "outputs": [],
   "source": [
    "ax1.set_xlabel(\"$x [m]$\")\n",
    "time_template = 'time = %.1fs'\n",
    "time_text = ax1.text(-7.5, 4, '', transform=ax1.transAxes)\n",
    "#set up other subplots\n",
    "line1, = ax2.plot([], [], lw=2, color='r')\n",
    "line2, = ax3.plot([], [], lw=2, color='g')\n",
    "line3, = ax4.plot([], [], lw=2, color='b')\n",
    "iy = 0\n",
    "ax2.set_ylabel(\"$x [m]$\")\n",
    "ax2.text(4,1.1 * A,'$x_{max}=A$', color='black')\n",
    "ax3.set_ylabel(\"$v [ms^{-1}]$\")\n",
    "ax3.text(4,1.1 * A * w,'$v_{max}=A\\omega$', color='black')\n",
    "ax4.set_ylabel(\"$a [ms^{-2}]$\")\n",
    "ax4.text(4,1.1 * A * w * w,'$a_{max}=A\\omega^2$', color='black')\n",
    "#loop round plots and set various ranges and labels\n",
    "for ax in [ax2, ax3, ax4]:\n",
    "    ax.set_ylim(-1.25 * A * w ** iy, 1.25 * A * w ** iy)\n",
    "    upperbound = A * w ** iy\n",
    "    lowerbound = -A * w ** iy\n",
    "    ax.axhline(y=upperbound, xmin=0, xmax=5, c=\"black\", linewidth=2, linestyle=\"--\", zorder=0)\n",
    "    ax.axhline(y=lowerbound, xmin=0, xmax=5, c=\"black\", linewidth=2, linestyle=\"--\", zorder=0)\n",
    "    iy+=1\n",
    "    ax.set_xlim(0, 5)\n",
    "    ax.set_xlabel(\"$t [s]$\")\n",
    "    ax.axhline(y=0, xmin=0, xmax=5, c=\"black\", linewidth=2, zorder=0)    \n",
    "    ax.grid()"
   ]
  },
  {
   "cell_type": "markdown",
   "metadata": {
    "id": "gYw_3OgG8xwj"
   },
   "source": [
    "Finally, we'll create some arrays to store the time values (lets call that \"xdata\"), and the displacement, velocity and acceleration (which will be displayed on the y-axis of each plot)"
   ]
  },
  {
   "cell_type": "code",
   "execution_count": 12,
   "metadata": {
    "id": "hgNJai9B8np6"
   },
   "outputs": [],
   "source": [
    "xdata, y1data, y2data, y3data = [], [], [], []"
   ]
  },
  {
   "cell_type": "markdown",
   "metadata": {
    "id": "4EUXEvm3-kWm"
   },
   "source": [
    "For the animation to work, we need to set up a couple of functions, the first will initialise some of the variables."
   ]
  },
  {
   "cell_type": "code",
   "execution_count": 13,
   "metadata": {
    "id": "3iSwP7s6GxGK"
   },
   "outputs": [],
   "source": [
    "def init():\n",
    "    #required for animation\n",
    "    global time_text\n",
    "    line1.set_data([], [])\n",
    "    line2.set_data([], [])\n",
    "    line3.set_data([], [])\n",
    "    time_text.set_text('') \n",
    "    return patch, time_text, line1, line2, line3, patch2, patch3,"
   ]
  },
  {
   "cell_type": "markdown",
   "metadata": {
    "id": "N8f2fn2h_Nz2"
   },
   "source": [
    "Next comes the animation: essentially the code will count up in time, recalculate (and append) $t, x, v, a$ and then redraw both the object and arrows, and the graphs."
   ]
  },
  {
   "cell_type": "code",
   "execution_count": 14,
   "metadata": {
    "id": "O_Lg9rpLGzNC"
   },
   "outputs": [],
   "source": [
    "def animate(i):\n",
    "    global patch2, patch3\n",
    "    #thing to be animated\n",
    "    y1 = disp(dt * i)\n",
    "    xdata.append(dt * i)\n",
    "    y1data.append(disp(dt * i))\n",
    "    y2data.append(vel(dt * i))\n",
    "    y3data.append(accel(dt * i))\n",
    "    box= np.array([\n",
    "    [-1.0 + disp(dt * i), -1.0],  \n",
    "    [-1.0 + disp(dt * i), 1.0],  \n",
    "    [1.0 + disp(dt * i), 1.0],\n",
    "    [1.0 + disp(dt * i),-1.0]\n",
    "    ])\n",
    "    patch.set_xy(box)\n",
    "    #ax1.patches.remove(patch2)\n",
    "    #ax1.patches.remove(patch3)\n",
    "    #ax1.patches.pop()\n",
    "    patch2.remove()\n",
    "    patch3.remove()\n",
    "    patch2 = patches.Arrow(disp(dt*i), 0.0, accel(dt * i), 0.0, color='blue')\n",
    "    patch3 = patches.Arrow(disp(dt*i), 0.0, vel(dt * i), 0.0, color='green')\n",
    "    ax1.add_patch(patch2)\n",
    "    ax1.add_patch(patch3)\n",
    "    time_text.set_text(time_template%(i*dt))\n",
    "    line1.set_data(xdata, y1data)\n",
    "    line2.set_data(xdata, y2data)\n",
    "    line3.set_data(xdata, y3data)\n",
    "    return patch, time_text, line1, line2, line3, patch2, patch3,"
   ]
  },
  {
   "cell_type": "markdown",
   "metadata": {
    "id": "GtUrOK3S_s5r"
   },
   "source": [
    "Final stage is to choose how many timesteps to loop over and feed all the functions into the animation. We'll also display it as html5 video for ease. Warning: the higher the number of frames, the longer the animation will take to generate."
   ]
  },
  {
   "cell_type": "code",
   "execution_count": 15,
   "metadata": {
    "colab": {
     "base_uri": "https://localhost:8080/",
     "height": 1000
    },
    "executionInfo": {
     "elapsed": 63276,
     "status": "ok",
     "timestamp": 1647620695388,
     "user": {
      "displayName": "James Threlfall",
      "photoUrl": "https://lh3.googleusercontent.com/a-/AOh14Gh5AMmwJn-QgnyAtyVfjDwEfQL-5FfwAhQ1uZjJ=s64",
      "userId": "12893452708265254015"
     },
     "user_tz": 0
    },
    "id": "yRPMmWyA8yE6",
    "outputId": "7d13789a-12e5-4834-f1dc-5e86e48ac0cf"
   },
   "outputs": [],
   "source": [
    "interval = 1000*dt\n",
    "anim = animation.FuncAnimation(fig, animate, interval=interval, init_func=init,\n",
    "                               blit=True, repeat=False, save_count=100)\n",
    "from IPython.display import HTML\n",
    "HTML(anim.to_html5_video())"
   ]
  },
  {
   "cell_type": "markdown",
   "metadata": {
    "id": "v3bIC-4q__qh"
   },
   "source": [
    "And there you have it. Note where each graph peaks relative to the others. \n",
    "For example, you have seen from our mathematics lectures that the velocity is at its maximum value as it passes the location of zero displacement.\n",
    "You will also note that the acceleration reaches a maximum (or minimum) when the displacement is also at maximum and when the velocity is zero.\n",
    "\n",
    "Try changing some of the parameters in the initial setup and re-running the code. What effect does the amplitude have? How do the graphs compare for the same parameters but with different phase-shift values..?"
   ]
  },
  {
   "cell_type": "markdown",
   "metadata": {
    "id": "9P0YBeR62CW-"
   },
   "source": [
    "## Summary\n",
    "\n",
    "In the first part of this notebook, we used Python to verify our mathematical solutions seen in the lectures. Remember that for MAT201, I expect you to be able to perform all the integration and differentiation steps yourself by hand in order to determine expressions for $x(t), v(t), v(x)$ and $a(t)$.\n",
    "\n",
    "In the second part, we saw what these functions mean practically using an animation. Each of the graphs of displacement, velocity and acceleration are sinusoidal, and repeat over time, no matter the values of parameters chosen."
   ]
  },
  {
   "cell_type": "code",
   "execution_count": null,
   "metadata": {
    "id": "kokHM3u425TO"
   },
   "outputs": [],
   "source": []
  }
 ],
 "metadata": {
  "colab": {
   "collapsed_sections": [],
   "name": "04_JT_SHM.ipynb",
   "provenance": []
  },
  "kernelspec": {
   "display_name": "Python 3 (ipykernel)",
   "language": "python",
   "name": "python3"
  },
  "language_info": {
   "codemirror_mode": {
    "name": "ipython",
    "version": 3
   },
   "file_extension": ".py",
   "mimetype": "text/x-python",
   "name": "python",
   "nbconvert_exporter": "python",
   "pygments_lexer": "ipython3",
   "version": "3.9.19"
  }
 },
 "nbformat": 4,
 "nbformat_minor": 1
}