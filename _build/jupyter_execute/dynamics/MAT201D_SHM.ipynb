{
 "cells": [
  {
   "cell_type": "markdown",
   "metadata": {
    "id": "IOfm85afhbI6"
   },
   "source": [
    "# Harmonic Motion of A Spring\n",
    "Interactive code to illustrate concepts from MAT201 at Abertay University (JT 2022).\n",
    "\n",
    "Notebook illustrates how to solve Newton's Second Law for a force which induces Simple Harmonic Motion.We also create an animated object which behaves according to those laws. While the object is moving, notebook also draws accompanying distance, velocity and acceleration graphs.. \n",
    "\n",
    "*Plotting inspiration from http://firsttimeprogrammer.blogspot.com/2014/12/basic-physics-and-python-simple.html*"
   ]
  },
  {
   "cell_type": "code",
   "execution_count": 1,
   "metadata": {
    "id": "TKo_hFTgbOY6"
   },
   "outputs": [
    {
     "name": "stdout",
     "output_type": "stream",
     "text": [
      "\u001b[33mDEPRECATION: Configuring installation scheme with distutils config files is deprecated and will no longer work in the near future. If you are using a Homebrew or Linuxbrew Python, please see discussion at https://github.com/Homebrew/homebrew-core/issues/76621\u001b[0m\u001b[33m\r\n",
      "\u001b[0m"
     ]
    },
    {
     "name": "stdout",
     "output_type": "stream",
     "text": [
      "\u001b[33mWARNING: Ignoring invalid distribution -lotly (/usr/local/lib/python3.9/site-packages)\u001b[0m\u001b[33m\r\n",
      "\u001b[0m"
     ]
    },
    {
     "name": "stdout",
     "output_type": "stream",
     "text": [
      "Requirement already satisfied: Ipython in /usr/local/lib/python3.9/site-packages (7.30.0)\r\n"
     ]
    },
    {
     "name": "stdout",
     "output_type": "stream",
     "text": [
      "Collecting Ipython\r\n",
      "  Using cached ipython-8.18.1-py3-none-any.whl.metadata (6.0 kB)\r\n"
     ]
    },
    {
     "name": "stdout",
     "output_type": "stream",
     "text": [
      "Requirement already satisfied: decorator in /usr/local/lib/python3.9/site-packages (from Ipython) (5.1.0)\r\n",
      "Requirement already satisfied: jedi>=0.16 in /usr/local/lib/python3.9/site-packages (from Ipython) (0.18.0)\r\n",
      "Requirement already satisfied: matplotlib-inline in /usr/local/lib/python3.9/site-packages (from Ipython) (0.1.3)\r\n"
     ]
    },
    {
     "name": "stdout",
     "output_type": "stream",
     "text": [
      "Collecting prompt-toolkit<3.1.0,>=3.0.41 (from Ipython)\r\n",
      "  Using cached prompt_toolkit-3.0.43-py3-none-any.whl.metadata (6.5 kB)\r\n",
      "Requirement already satisfied: pygments>=2.4.0 in /usr/local/lib/python3.9/site-packages (from Ipython) (2.10.0)\r\n",
      "Requirement already satisfied: stack-data in /Users/jamesthrelfall/Library/Python/3.9/lib/python/site-packages (from Ipython) (0.6.2)\r\n",
      "Requirement already satisfied: traitlets>=5 in /usr/local/lib/python3.9/site-packages (from Ipython) (5.1.1)\r\n",
      "Requirement already satisfied: typing-extensions in /Users/jamesthrelfall/Library/Python/3.9/lib/python/site-packages (from Ipython) (3.10.0.0)\r\n",
      "Requirement already satisfied: exceptiongroup in /usr/local/lib/python3.9/site-packages (from Ipython) (1.2.1)\r\n",
      "Requirement already satisfied: pexpect>4.3 in /usr/local/lib/python3.9/site-packages (from Ipython) (4.8.0)\r\n",
      "Requirement already satisfied: parso<0.9.0,>=0.8.0 in /usr/local/lib/python3.9/site-packages (from jedi>=0.16->Ipython) (0.8.2)\r\n",
      "Requirement already satisfied: ptyprocess>=0.5 in /usr/local/lib/python3.9/site-packages (from pexpect>4.3->Ipython) (0.7.0)\r\n",
      "Requirement already satisfied: wcwidth in /usr/local/lib/python3.9/site-packages (from prompt-toolkit<3.1.0,>=3.0.41->Ipython) (0.2.5)\r\n",
      "Requirement already satisfied: executing>=1.2.0 in /Users/jamesthrelfall/Library/Python/3.9/lib/python/site-packages (from stack-data->Ipython) (1.2.0)\r\n",
      "Requirement already satisfied: asttokens>=2.1.0 in /Users/jamesthrelfall/Library/Python/3.9/lib/python/site-packages (from stack-data->Ipython) (2.2.1)\r\n",
      "Requirement already satisfied: pure-eval in /Users/jamesthrelfall/Library/Python/3.9/lib/python/site-packages (from stack-data->Ipython) (0.2.2)\r\n",
      "Requirement already satisfied: six in /usr/local/lib/python3.9/site-packages (from asttokens>=2.1.0->stack-data->Ipython) (1.16.0)\r\n"
     ]
    },
    {
     "name": "stdout",
     "output_type": "stream",
     "text": [
      "Using cached ipython-8.18.1-py3-none-any.whl (808 kB)\r\n",
      "Using cached prompt_toolkit-3.0.43-py3-none-any.whl (386 kB)\r\n"
     ]
    },
    {
     "name": "stdout",
     "output_type": "stream",
     "text": [
      "\u001b[33mWARNING: Ignoring invalid distribution -lotly (/usr/local/lib/python3.9/site-packages)\u001b[0m\u001b[33m\r\n",
      "\u001b[0m"
     ]
    },
    {
     "name": "stdout",
     "output_type": "stream",
     "text": [
      "Installing collected packages: prompt-toolkit, Ipython\r\n",
      "  Attempting uninstall: prompt-toolkit\r\n",
      "    Found existing installation: prompt-toolkit 3.0.22\r\n",
      "    Uninstalling prompt-toolkit-3.0.22:\r\n"
     ]
    },
    {
     "name": "stdout",
     "output_type": "stream",
     "text": [
      "      Successfully uninstalled prompt-toolkit-3.0.22\r\n",
      "\u001b[33m  DEPRECATION: Configuring installation scheme with distutils config files is deprecated and will no longer work in the near future. If you are using a Homebrew or Linuxbrew Python, please see discussion at https://github.com/Homebrew/homebrew-core/issues/76621\u001b[0m\u001b[33m\r\n",
      "\u001b[0m"
     ]
    },
    {
     "name": "stdout",
     "output_type": "stream",
     "text": [
      "  Attempting uninstall: Ipython\r\n",
      "    Found existing installation: ipython 7.30.0\r\n"
     ]
    },
    {
     "name": "stdout",
     "output_type": "stream",
     "text": [
      "    Uninstalling ipython-7.30.0:\r\n"
     ]
    },
    {
     "name": "stdout",
     "output_type": "stream",
     "text": [
      "      Successfully uninstalled ipython-7.30.0\r\n",
      "\u001b[33m  DEPRECATION: Configuring installation scheme with distutils config files is deprecated and will no longer work in the near future. If you are using a Homebrew or Linuxbrew Python, please see discussion at https://github.com/Homebrew/homebrew-core/issues/76621\u001b[0m\u001b[33m\r\n",
      "\u001b[0m"
     ]
    },
    {
     "name": "stdout",
     "output_type": "stream",
     "text": [
      "\u001b[33mDEPRECATION: Configuring installation scheme with distutils config files is deprecated and will no longer work in the near future. If you are using a Homebrew or Linuxbrew Python, please see discussion at https://github.com/Homebrew/homebrew-core/issues/76621\u001b[0m\u001b[33m\r\n",
      "\u001b[0m\u001b[31mERROR: pip's dependency resolver does not currently take into account all the packages that are installed. This behaviour is the source of the following dependency conflicts.\r\n",
      "ipykernel 6.5.0 requires ipython<8.0,>=7.23.1, but you have ipython 8.18.1 which is incompatible.\u001b[0m\u001b[31m\r\n",
      "\u001b[0m"
     ]
    },
    {
     "name": "stdout",
     "output_type": "stream",
     "text": [
      "Successfully installed Ipython-8.18.1 prompt-toolkit-3.0.43\r\n"
     ]
    }
   ],
   "source": [
    "%matplotlib inline\n",
    "import matplotlib.pyplot as plt\n",
    "import numpy as np\n",
    "import matplotlib.animation as animation\n",
    "import matplotlib.patches as patches\n",
    "import sympy as sym\n",
    "import math\n",
    "import sys\n",
    "!{sys.executable} -m pip install --upgrade Ipython"
   ]
  },
  {
   "cell_type": "markdown",
   "metadata": {
    "id": "wIxW180Zv3ce"
   },
   "source": [
    "## Simple Harmonic Motion: Solving Newton's Second Law\n",
    "\n",
    "We'll start by repeating the steps we saw by hand in the lecture to derive expressions for the displacement, velocity and acceleration of an object subject to simple Harmonic Motion.\n",
    "\n",
    "NB you may be required to perform these steps mathematically by hand **for the exam**; the symbolic computation approach here is just to verify our solutions and demonstrate the resulting behaviour of the object, governed by the mathematics seen in lectures."
   ]
  },
  {
   "cell_type": "markdown",
   "metadata": {
    "id": "l9OyVkqE090s"
   },
   "source": [
    "We saw that an object subject to a force of the form $F=-kx$ (for some constant $k$) causes that object to accelerate towards its equilibrium position, but due to its momentum, overshoots and repeatedly oscillates about this position.\n",
    "\n",
    "Newton's Second Law states:\n",
    "\n",
    "$$\n",
    "\\frac{{\\rm{d}}^2x(t)}{{\\rm{d}}t^2} = a(t) = \\frac{F(t)}{m} = -\\frac{k}{m}x(t),\n",
    "$$\n",
    "\n",
    "In the lectures, we saw that we could re-write the acceleration term $a$ as \n",
    "\n",
    "$$\n",
    "a=\\frac{{\\rm d}v}{{\\rm{d}}t}=\\frac{{\\rm d}v}{{\\rm{d}}x}\\frac{{\\rm d}x}{{\\rm{d}}t}=v\\frac{{\\rm d}v}{{\\rm{d}}x}.\n",
    "$$\n",
    "\n"
   ]
  },
  {
   "cell_type": "markdown",
   "metadata": {
    "id": "qT-hZFe7x23A"
   },
   "source": [
    "Therefore we can state our equation as a separable first order differential equation:\n",
    "\n",
    "$$\n",
    "v\\frac{{\\rm d}v}{{\\rm{d}}x}=-\\frac{k}{m}x=-\\omega^2x,\n",
    "$$\n",
    "\n",
    "(where we have replaced some of the constants with a frequency $\\omega$).\n",
    "\n",
    "Python is great at solving differential equations. First we'll set up the variables in the problem. The differential equation solver needs to know some of the properties of the symbols it will be working with in order to do its job more effectively.\n"
   ]
  },
  {
   "cell_type": "code",
   "execution_count": 2,
   "metadata": {
    "id": "8HuhgX7wjspS"
   },
   "outputs": [],
   "source": [
    "x = sym.symbols('x', real = True)\n",
    "w = sym.symbols('ω', real = True, positive = True, nonzero = True)\n",
    "A = sym.symbols('A', real = True, positive = True, nonzero = True)\n",
    "phi = sym.symbols('phi' , real = True)\n",
    "v = sym.Function('v')"
   ]
  },
  {
   "cell_type": "markdown",
   "metadata": {
    "id": "aBepRVI5yyB2"
   },
   "source": [
    "Now we'll create a differential equation and ask Python to solve it. We know from the lectures that we need to use some initial conditions to evaluate some of the constants of integration. In this case, we know that when the object is displaced by the amplitude of oscillation, $A$, then the velocity must be zero. \n",
    "\n",
    "Python can solve differential equations if all the terms are on one side of the equation and this equals zero. Shifting $-\\omega^2x$ over to the LHS means that we can use *dsolve* (with the initial condition described above):"
   ]
  },
  {
   "cell_type": "code",
   "execution_count": 3,
   "metadata": {
    "colab": {
     "base_uri": "https://localhost:8080/",
     "height": 41
    },
    "executionInfo": {
     "elapsed": 2430,
     "status": "ok",
     "timestamp": 1647621200471,
     "user": {
      "displayName": "James Threlfall",
      "photoUrl": "https://lh3.googleusercontent.com/a-/AOh14Gh5AMmwJn-QgnyAtyVfjDwEfQL-5FfwAhQ1uZjJ=s64",
      "userId": "12893452708265254015"
     },
     "user_tz": 0
    },
    "id": "lFYe7mhZyxQM",
    "outputId": "7ddce02f-06c6-4c47-cb87-ce0d4ce75871"
   },
   "outputs": [
    {
     "data": {
      "text/latex": [
       "$\\displaystyle v{\\left(x \\right)} = - \\sqrt{A^{2} ω^{2} - x^{2} ω^{2}}$"
      ],
      "text/plain": [
       "Eq(v(x), -sqrt(A**2*ω**2 - x**2*ω**2))"
      ]
     },
     "execution_count": 3,
     "metadata": {},
     "output_type": "execute_result"
    }
   ],
   "source": [
    "eq1 = v(x)*v(x).diff(x) + w**2*x\n",
    "vofx=sym.dsolve(eq1,v(x), ics={v(A): 0})\n",
    "vofx[0]"
   ]
  },
  {
   "cell_type": "markdown",
   "metadata": {
    "id": "v-wluglVzNgr"
   },
   "source": [
    "The first solution is displayed up above, and is the negative solution. This is one of two solutions that Python has found, with the other being:"
   ]
  },
  {
   "cell_type": "code",
   "execution_count": 4,
   "metadata": {
    "colab": {
     "base_uri": "https://localhost:8080/",
     "height": 41
    },
    "executionInfo": {
     "elapsed": 236,
     "status": "ok",
     "timestamp": 1647621203552,
     "user": {
      "displayName": "James Threlfall",
      "photoUrl": "https://lh3.googleusercontent.com/a-/AOh14Gh5AMmwJn-QgnyAtyVfjDwEfQL-5FfwAhQ1uZjJ=s64",
      "userId": "12893452708265254015"
     },
     "user_tz": 0
    },
    "id": "R0adgBStoWqM",
    "outputId": "35bcff3e-bd8f-495f-e1a6-63374b47f5e8"
   },
   "outputs": [
    {
     "data": {
      "text/latex": [
       "$\\displaystyle v{\\left(x \\right)} = \\sqrt{A^{2} ω^{2} - x^{2} ω^{2}}$"
      ],
      "text/plain": [
       "Eq(v(x), sqrt(A**2*ω**2 - x**2*ω**2))"
      ]
     },
     "execution_count": 4,
     "metadata": {},
     "output_type": "execute_result"
    }
   ],
   "source": [
    "vofx[1]"
   ]
  },
  {
   "cell_type": "markdown",
   "metadata": {
    "id": "PdhOmhrLzWhA"
   },
   "source": [
    "Both solutions are identical to those found in the lectures.\n",
    "\n",
    "Now lets work in time, and use the same tricks to calculate the displacement as a function of time. The differential equation solver in Python isn't set up to know that our previous independent variable $x$ is now our *dependent* variable, $x(t)$. We have to make Python forget the earlier solution, and input it by hand, but we can solve it in the same way as before (while also stating the initial condition that at $t=0$, the displacement will be determined by $A\\sin{\\left(\\phi\\right)}$, where $\\phi$ is our phase shift):"
   ]
  },
  {
   "cell_type": "code",
   "execution_count": 5,
   "metadata": {
    "colab": {
     "base_uri": "https://localhost:8080/"
    },
    "executionInfo": {
     "elapsed": 5773,
     "status": "ok",
     "timestamp": 1647621212130,
     "user": {
      "displayName": "James Threlfall",
      "photoUrl": "https://lh3.googleusercontent.com/a-/AOh14Gh5AMmwJn-QgnyAtyVfjDwEfQL-5FfwAhQ1uZjJ=s64",
      "userId": "12893452708265254015"
     },
     "user_tz": 0
    },
    "id": "eB8N-YWNovN6",
    "outputId": "55d5089d-073f-4788-dabb-62743e0d255a"
   },
   "outputs": [
    {
     "name": "stdout",
     "output_type": "stream",
     "text": [
      "x(t)= A*sin(phi + t*ω)\n",
      "v(t)= A*ω*cos(phi + t*ω)\n",
      "a(t)= -A*ω**2*sin(phi + t*ω)\n"
     ]
    }
   ],
   "source": [
    "t = sym.symbols('t', real = True)\n",
    "x = sym.Function('x')\n",
    "eq2 = x(t).diff(t)-sym.sqrt(A*A*w*w-x(t)*x(t)*w*w)\n",
    "xoft=sym.dsolve(eq2,x(t), ics={x(0):A*sym.sin(phi)})\n",
    "print(\"x(t)=\", xoft.rhs)\n",
    "print(\"v(t)=\", sym.diff(xoft.rhs,t))\n",
    "print(\"a(t)=\", sym.diff(xoft.rhs,t,2))"
   ]
  },
  {
   "cell_type": "markdown",
   "metadata": {
    "id": "fsgoRWXJ0LNw"
   },
   "source": [
    "We've taken advantage of the fact that Python can also handle differentiation too: we've taken the solution of the differential equation that Python has found and differentiated until we have the expressions we expected to find for displacment, velocity and acceleration."
   ]
  },
  {
   "cell_type": "markdown",
   "metadata": {
    "id": "M3oiPvVk0qwK"
   },
   "source": [
    "## Animating Simple Harmonic Motion\n",
    "\n",
    "Now that we have verified our solutions to Newton's Second Law for the force $F=-kx$, now its time to see what this looks like in action.\n",
    "\n",
    "We'll choose some initial values for the constants of motion. Feel free to change these and re-run the animation to see what difference this makes to the observed behaviour:"
   ]
  },
  {
   "cell_type": "code",
   "execution_count": 6,
   "metadata": {
    "id": "IEyzWjCV_kkn"
   },
   "outputs": [],
   "source": [
    "k = 50            #spring constant\n",
    "m = 20            #mass (kg)\n",
    "w = np.sqrt(k / m)#angular frequency omega\n",
    "phi = 0           #phase shift\n",
    "A = 3             #amplitude (m)\n",
    "dt = 0.05         #time step for the animation (s)"
   ]
  },
  {
   "cell_type": "markdown",
   "metadata": {
    "id": "c9xXB1gU1SVg"
   },
   "source": [
    "We'll set up Python functions which at a given time will return the displacement, velocity and acceleration. Note that the returned functions exactly match those solved for earlier in the notebook:"
   ]
  },
  {
   "cell_type": "code",
   "execution_count": 7,
   "metadata": {
    "id": "-uzbouLT0-1h"
   },
   "outputs": [],
   "source": [
    "def disp(t):\n",
    "    global w, phi, A\n",
    "    return A * np.sin(w * t + phi)\n",
    "def vel(t):\n",
    "    global w, phi, A\n",
    "    return A * w * np.cos(w * t + phi)\n",
    "def accel(t):\n",
    "    global w, phi, A\n",
    "    return -A * w ** 2 * np.sin(w * t + phi)"
   ]
  },
  {
   "cell_type": "markdown",
   "metadata": {
    "id": "UvcaPcps4lwj"
   },
   "source": [
    "Things are going to get complicated now! \n",
    "First we'll set up a figure containing 4 subplots so that we can plot lots of animated graphs:"
   ]
  },
  {
   "cell_type": "code",
   "execution_count": 8,
   "metadata": {
    "colab": {
     "base_uri": "https://localhost:8080/",
     "height": 880
    },
    "executionInfo": {
     "elapsed": 2174,
     "status": "ok",
     "timestamp": 1647620619472,
     "user": {
      "displayName": "James Threlfall",
      "photoUrl": "https://lh3.googleusercontent.com/a-/AOh14Gh5AMmwJn-QgnyAtyVfjDwEfQL-5FfwAhQ1uZjJ=s64",
      "userId": "12893452708265254015"
     },
     "user_tz": 0
    },
    "id": "KBisgrYF5WaG",
    "outputId": "1e07a039-24fe-425d-b8d5-cccf689bd801"
   },
   "outputs": [
    {
     "data": {
      "text/plain": [
       "(-5.0, 5.0)"
      ]
     },
     "execution_count": 8,
     "metadata": {},
     "output_type": "execute_result"
    },
    {
     "data": {
      "image/png": "[encoded data removed]",
      "text/plain": [
       "<Figure size 720x1080 with 4 Axes>"
      ]
     },
     "metadata": {
      "filenames": {
       "image/png": "/Users/jamesthrelfall/Programs/JTpython/Teaching_Examples/2024/MAT201_Python/_build/jupyter_execute/dynamics/MAT201D_SHM_18_1.png"
      },
      "needs_background": "light"
     },
     "output_type": "display_data"
    }
   ],
   "source": [
    "fig, (ax1, ax2, ax3, ax4) = plt.subplots(4,1)\n",
    "fig.set_size_inches(10, 15)\n",
    "ax1.set_xlim(-10,10)\n",
    "ax1.set_ylim(-5,5)"
   ]
  },
  {
   "cell_type": "markdown",
   "metadata": {
    "id": "C9rXBcJS5bXL"
   },
   "source": [
    "In the top figure, we'll draw an object oscillating with SHM. For argument's sake, we'll make it a box. \n",
    "The first time we draw it, we'll place the centre of the box at the position (i.e. displacement) at $t=0$. Quite often, this is at $x=0$, but also depends on the phase shift $\\phi$. Once we've drawn everything, try changing the phase and seeing where the box is initially drawn.\n",
    "\n"
   ]
  },
  {
   "cell_type": "code",
   "execution_count": 9,
   "metadata": {
    "id": "P29mlbaO6bSp"
   },
   "outputs": [],
   "source": [
    "box= np.array([\n",
    "    [-1.0 + disp(0.0), -1.0],  \n",
    "    [-1.0 + disp(0.0), 1.0],  \n",
    "    [1.0 + disp(0.0), 1.0],\n",
    "    [1.0 + disp(0.0), -1.0]\n",
    "    ])\n",
    "patch = patches.Polygon(box, closed=True, fc='black', ec='black')"
   ]
  },
  {
   "cell_type": "markdown",
   "metadata": {
    "id": "YLpv9QJU6jO-"
   },
   "source": [
    "Now, because we're excellent at programming(!), I think it would help to see the size and direction of the velocity and acceleration vectors associated with the box.\n",
    "To do this, I'm going to make some arrows, centred on the middle of the box, and with sizes determined by $a(t)$ and $v(t)$."
   ]
  },
  {
   "cell_type": "code",
   "execution_count": 10,
   "metadata": {
    "colab": {
     "base_uri": "https://localhost:8080/"
    },
    "executionInfo": {
     "elapsed": 211,
     "status": "ok",
     "timestamp": 1647620622384,
     "user": {
      "displayName": "James Threlfall",
      "photoUrl": "https://lh3.googleusercontent.com/a-/AOh14Gh5AMmwJn-QgnyAtyVfjDwEfQL-5FfwAhQ1uZjJ=s64",
      "userId": "12893452708265254015"
     },
     "user_tz": 0
    },
    "id": "OMrFl8Jy7KW7",
    "outputId": "94fb58b8-d73e-4ca1-e50a-0e88087ad273"
   },
   "outputs": [
    {
     "data": {
      "text/plain": [
       "<matplotlib.patches.Arrow at 0x11d409af0>"
      ]
     },
     "execution_count": 10,
     "metadata": {},
     "output_type": "execute_result"
    }
   ],
   "source": [
    "patch2 = patches.Arrow(disp(0.0), 0.0, accel(0.0), 0.0, color='blue')\n",
    "patch3 = patches.Arrow(disp(0.0), 0.0, vel(0.0), 0.0, color='green')\n",
    "ax1.add_patch(patch)\n",
    "ax1.add_patch(patch2)\n",
    "ax1.add_patch(patch3)"
   ]
  },
  {
   "cell_type": "markdown",
   "metadata": {
    "id": "rwcm3TxW7UWf"
   },
   "source": [
    "Now we'll set up remaining things to do with the plots, things like labelling each axis. Plot 2 will be the displacement as a function of time, Plot 3 will be the velocity and Plot 4 will be the acceleration. Each of the plots will have to have different a y-axis, so we'll loop round each plot to set the scales correctly."
   ]
  },
  {
   "cell_type": "code",
   "execution_count": 11,
   "metadata": {
    "id": "GZo62RwAxWqN"
   },
   "outputs": [],
   "source": [
    "ax1.set_xlabel(\"$x [m]$\")\n",
    "time_template = 'time = %.1fs'\n",
    "time_text = ax1.text(-7.5, 4, '', transform=ax1.transAxes)\n",
    "#set up other subplots\n",
    "line1, = ax2.plot([], [], lw=2, color='r')\n",
    "line2, = ax3.plot([], [], lw=2, color='g')\n",
    "line3, = ax4.plot([], [], lw=2, color='b')\n",
    "iy = 0\n",
    "ax2.set_ylabel(\"$x [m]$\")\n",
    "ax2.text(4,1.1 * A,'$x_{max}=A$', color='black')\n",
    "ax3.set_ylabel(\"$v [ms^{-1}]$\")\n",
    "ax3.text(4,1.1 * A * w,'$v_{max}=A\\omega$', color='black')\n",
    "ax4.set_ylabel(\"$a [ms^{-2}]$\")\n",
    "ax4.text(4,1.1 * A * w * w,'$a_{max}=A\\omega^2$', color='black')\n",
    "#loop round plots and set various ranges and labels\n",
    "for ax in [ax2, ax3, ax4]:\n",
    "    ax.set_ylim(-1.25 * A * w ** iy, 1.25 * A * w ** iy)\n",
    "    upperbound = A * w ** iy\n",
    "    lowerbound = -A * w ** iy\n",
    "    ax.axhline(y=upperbound, xmin=0, xmax=5, c=\"black\", linewidth=2, linestyle=\"--\", zorder=0)\n",
    "    ax.axhline(y=lowerbound, xmin=0, xmax=5, c=\"black\", linewidth=2, linestyle=\"--\", zorder=0)\n",
    "    iy+=1\n",
    "    ax.set_xlim(0, 5)\n",
    "    ax.set_xlabel(\"$t [s]$\")\n",
    "    ax.axhline(y=0, xmin=0, xmax=5, c=\"black\", linewidth=2, zorder=0)    \n",
    "    ax.grid()"
   ]
  },
  {
   "cell_type": "markdown",
   "metadata": {
    "id": "gYw_3OgG8xwj"
   },
   "source": [
    "Finally, we'll create some arrays to store the time values (lets call that \"xdata\"), and the displacement, velocity and acceleration (which will be displayed on the y-axis of each plot)"
   ]
  },
  {
   "cell_type": "code",
   "execution_count": 12,
   "metadata": {
    "id": "hgNJai9B8np6"
   },
   "outputs": [],
   "source": [
    "xdata, y1data, y2data, y3data = [], [], [], []"
   ]
  },
  {
   "cell_type": "markdown",
   "metadata": {
    "id": "4EUXEvm3-kWm"
   },
   "source": [
    "For the animation to work, we need to set up a couple of functions, the first will initialise some of the variables."
   ]
  },
  {
   "cell_type": "code",
   "execution_count": 13,
   "metadata": {
    "id": "3iSwP7s6GxGK"
   },
   "outputs": [],
   "source": [
    "def init():\n",
    "    #required for animation\n",
    "    global time_text\n",
    "    line1.set_data([], [])\n",
    "    line2.set_data([], [])\n",
    "    line3.set_data([], [])\n",
    "    time_text.set_text('') \n",
    "    return patch, time_text, line1, line2, line3, patch2, patch3,"
   ]
  },
  {
   "cell_type": "markdown",
   "metadata": {
    "id": "N8f2fn2h_Nz2"
   },
   "source": [
    "Next comes the animation: essentially the code will count up in time, recalculate (and append) $t, x, v, a$ and then redraw both the object and arrows, and the graphs."
   ]
  },
  {
   "cell_type": "code",
   "execution_count": 14,
   "metadata": {
    "id": "O_Lg9rpLGzNC"
   },
   "outputs": [],
   "source": [
    "def animate(i):\n",
    "    global patch2, patch3\n",
    "    #thing to be animated\n",
    "    y1 = disp(dt * i)\n",
    "    xdata.append(dt * i)\n",
    "    y1data.append(disp(dt * i))\n",
    "    y2data.append(vel(dt * i))\n",
    "    y3data.append(accel(dt * i))\n",
    "    box= np.array([\n",
    "    [-1.0 + disp(dt * i), -1.0],  \n",
    "    [-1.0 + disp(dt * i), 1.0],  \n",
    "    [1.0 + disp(dt * i), 1.0],\n",
    "    [1.0 + disp(dt * i),-1.0]\n",
    "    ])\n",
    "    patch.set_xy(box)\n",
    "    #ax1.patches.remove(patch2)\n",
    "    #ax1.patches.remove(patch3)\n",
    "    #ax1.patches.pop()\n",
    "    patch2.remove()\n",
    "    patch3.remove()\n",
    "    patch2 = patches.Arrow(disp(dt*i), 0.0, accel(dt * i), 0.0, color='blue')\n",
    "    patch3 = patches.Arrow(disp(dt*i), 0.0, vel(dt * i), 0.0, color='green')\n",
    "    ax1.add_patch(patch2)\n",
    "    ax1.add_patch(patch3)\n",
    "    time_text.set_text(time_template%(i*dt))\n",
    "    line1.set_data(xdata, y1data)\n",
    "    line2.set_data(xdata, y2data)\n",
    "    line3.set_data(xdata, y3data)\n",
    "    return patch, time_text, line1, line2, line3, patch2, patch3,"
   ]
  },
  {
   "cell_type": "markdown",
   "metadata": {
    "id": "GtUrOK3S_s5r"
   },
   "source": [
    "Final stage is to choose how many timesteps to loop over and feed all the functions into the animation. We'll also display it as html5 video for ease. Warning: the higher the number of frames, the longer the animation will take to generate."
   ]
  },
  {
   "cell_type": "code",
   "execution_count": 15,
   "metadata": {
    "colab": {
     "base_uri": "https://localhost:8080/",
     "height": 1000
    },
    "executionInfo": {
     "elapsed": 63276,
     "status": "ok",
     "timestamp": 1647620695388,
     "user": {
      "displayName": "James Threlfall",
      "photoUrl": "https://lh3.googleusercontent.com/a-/AOh14Gh5AMmwJn-QgnyAtyVfjDwEfQL-5FfwAhQ1uZjJ=s64",
      "userId": "12893452708265254015"
     },
     "user_tz": 0
    },
    "id": "yRPMmWyA8yE6",
    "outputId": "7d13789a-12e5-4834-f1dc-5e86e48ac0cf"
   },
   "outputs": [
    {
     "data": {
      "text/html": [
       "<video width=\"720\" height=\"1080\" controls autoplay>\n",
       "  <source type=\"video/mp4\" src=\"data:video/mp4;base64,AAAAIGZ0eXBNNFYgAAACAE00ViBpc29taXNvMmF2YzEAAAAIZnJlZQAAz9dtZGF0AAACoQYF//+d\n",
       "3EXpvebZSLeWLNgg2SPu73gyNjQgLSBjb3JlIDE1NyAtIEguMjY0L01QRUctNCBBVkMgY29kZWMg\n",
       "LSBDb3B5bGVmdCAyMDAzLTIwMTggLSBodHRwOi8vd3d3LnZpZGVvbGFuLm9yZy94MjY0Lmh0bWwg\n",
       "LSBvcHRpb25zOiBjYWJhYz0xIHJlZj0zIGRlYmxvY2s9MTowOjAgYW5hbHlzZT0weDM6MHgxMTMg\n",
       "bWU9aGV4IHN1Ym1lPTcgcHN5PTEgcHN5X3JkPTEuMDA6MC4wMCBtaXhlZF9yZWY9MSBtZV9yYW5n\n",
       "ZT0xNiBjaHJvbWFfbWU9MSB0cmVsbGlzPTEgOHg4ZGN0PTEgY3FtPTAgZGVhZHpvbmU9MjEsMTEg\n",
       "ZmFzdF9wc2tpcD0xIGNocm9tYV9xcF9vZmZzZXQ9LTIgdGhyZWFkcz0xMiBsb29rYWhlYWRfdGhy\n",
       "ZWFkcz0yIHNsaWNlZF90aHJlYWRzPTAgbnI9MCBkZWNpbWF0ZT0xIGludGVybGFjZWQ9MCBibHVy\n",
       "YXlfY29tcGF0PTAgY29uc3RyYWluZWRfaW50cmE9MCBiZnJhbWVzPTMgYl9weXJhbWlkPTIgYl9h\n",
       "ZGFwdD0xIGJfYmlhcz0wIGRpcmVjdD0xIHdlaWdodGI9MSBvcGVuX2dvcD0wIHdlaWdodHA9MiBr\n",
       "ZXlpbnQ9MjUwIGtleWludF9taW49MjAgc2NlbmVjdXQ9NDAgaW50cmFfcmVmcmVzaD0wIHJjX2xv\n",
       "b2thaGVhZD00MCByYz1jcmYgbWJ0cmVlPTEgY3JmPTIzLjAgcWNvbXA9MC42MCBxcG1pbj0wIHFw\n",
       "bWF4PTY5IHFwc3RlcD00IGlwX3JhdGlvPTEuNDAgYXE9MToxLjAwAIAAAEQlZYiEADv//vdOvwKb\n",
       "RZdqA5JXCvbKpCZZuVJrAfKmAAADAAADAAADAAUM2VvwXJmJ2wAAAwAAIaAGtBHQSEFYCOhCLjGc\n",
       "vhn+ABeEvCJWkG26ONogL54GrBLQucSUj4tTlbagDNjPwXhZAFV/Urvv5zx803XW0dBqQd0z6vC8\n",
       "3fZaXB8P8oGeg+uzdSaFlt8WD8tOcVnBUoAKYBtcvaIsUESOxM3LpTxSHmNGzpvc013YbgVAK32v\n",
       "MLJshIcQin31JUiAVvlwChAHX2mPzfeWAAATwLkEVkRJp8iMgdlnLVICsmpm0LgrYwNv/G5uQByE\n",
       "2wSgpgqYx/DeBVwp8WMpHoo5ILdhSvrgRqZVszBJEweJXyKlh2qf/L1wnEhkxEMcPIbc8W6NkJxQ\n",
       "m92k77y5Z+5y4s2K/bowYc5DTjd6sRvd1/qw+7OgyFWMAUUl7YoawhREt1ZQ0sQqYMH/2q1T+M4N\n",
       "MwCTi1Q07PbDx6v347BVeKbbK6EC3ctq+oYvyZMMUbPFQAISy2af00z+KM5/RM3yBRzjqpLdksPf\n",
       "lj5GyI3CiGRd1TopgBEt9pZ4Km05FqDcTK6eZGQTaajWMNESNxMnnoXIPXnztxKO4b1xykIq6Z/o\n",
       "RhJzdgYro43r+9JLJ/8Q0ZrmMYD3iZxzvN/YdgSCcVawCbpLvT3/qIH+XROw8eizhpDFZ8NZKOvz\n",
       "DYOf7M8vYur8R+IqQycMmoTZfqesxR3HM1fP1e1yI/D2f7qY9J6EMApvnJK5zc++AchVzDZXrdyY\n",
       "0rdMHvResZegP4uOIpb+KoaplpjJtrP2QesHO+d7f2UQ1e3OzG1atOCCQXEt0/SK60TcbKkeylPm\n",
       "K8BPGidCerZXwQrNJsxehQrEhchWoIVfYGAjGFaT3o7w5AGt75tKl0MtiiXUnYFAssnVD2Os6Ql1\n",
       "7iHWSkb57mv84BTu4+E5AicxEoyuSdRdDmPFlkj34oUkDXvE6vrMu+yQ5cf2iunEBvuAvBr5BkXF\n",
       "56JdqqBm+GSURSv8HJQipZ5Uh/3cZA/WAHgA2oqqPwhI2tppYk2rZIO34ykiE5G+NFG6orCD4abX\n",
       "/f18LiddpWdWvSfzlHdiMmX8pwThnlFpcsKsmJ8foT7tT/h3aubfak+aXT172rnJFp6KW3Gy/w+1\n",
       "shEUpB13MguwlOIEtoY6UTXMD972k7bj1Empo2YbBCrDojVd5HSoTKCWpN+cCxpmgsd67bsNirYB\n",
       "uA96hBhyKRA7P9+e9hIRthWO3Dk4GJ/iyMN57F3MII9C6XXvK8XRKc5MdKZ0bqrpj/F2yjOqK4OG\n",
       "/maF0dB11Sh5H5gXa439a69j1RFJ1F+M8HWI8yrMcbdARv8LryQoPfgSatEBVuwaxay0lAVJbjMz\n",
       "nqf2sqdyR4XYJOy8JCQjvxcAcQWIzPomRNjQI8z3I5M2Cw2QY3XZuowXJoR+zQaUeCQ59gxUHSbv\n",
       "4nJvpOtjjtF8wNP3DS2b5keCHGbMbcFAL2R/1cL1yvR/Qb5PQBaoYDNFoCgmX0Dm3CcZ0E4hZN/R\n",
       "+SFDHqHO/xF+Cg9/td9nOkigudTsm14gnJKg69Q715m8B2SJLMK7wlTmrOzltxaDryALLz6gy0Fs\n",
       "QcwCCI7NJTxGZz4+RM4QEQJyUY8gfY2UJCeS37l0dQsXRwkbm3P841AXicHudaBv4jz5gzE/PcGE\n",
       "US+A1lFqaVVBz8GpOMo+9lSwQ+UV+1a/6KJwUdxhCq1w2NNSFIRlqpXzbZ0HFP7RuqLo959s8Mt6\n",
       "TVjNfpyR65k04I1yClVYdZbGGolFEjOvexvdEQrskfVcCYgcDeD7rDWXe9aMO2o3ciao2LOEnVvR\n",
       "1ZKoIjT2zDcxDgThXwijxuKq0GCpsYpFVy1fAiF4dYyJpsr8wJnja02O1oY5ukAkR+738FGlrgB5\n",
       "CNYMoGpA8wkb5XlQTqxI2jky/Y/WqF34J1ndSnmO90WdJRI1cOnDWrL4+/MDsRHk7kZ/gnyR9Pra\n",
       "Vi1WihC83a8Tp3AnTUuSIoOpSxQFn8HksMDdLMX1X8A/Ex2eYLxkz2YYydX1UUWr3KQtn2QAFvMl\n",
       "HKjvTYuLvH5eww4J9zFrIcDco1Do3Bghj4OuIv8+kAzxekM4M8LS/6YI4C13dmIxTlsEM2pY7zty\n",
       "BPGEqchXl48S+Dp/1IOK/EF905hA8msNkosrbBpG8JI4kqezS/24dGfgussr+0c/mkEHIuNosASw\n",
       "gk1EYqTte7Jc/qzw3SDWDf0wlDlLpwhwjK38UXruhrbYsWy0ELZDO5UWesHmFiwN0xNrxdGE5vVM\n",
       "DMGLp1rVf8T4CzY2bdpas3yXGpAUBht83GgcZDF55T0mFtFKRRpp2/7MWyC6HoqxLZo6UFF6Rsbk\n",
       "zvROhU5CQTHwnn2PbcH9vbcCJA0vSZGie7B0MEEa4feiR1yjyR+Lgv+wAkmzrj/uYob3biJVhwET\n",
       "RER4PvoPT0iBeA0JkYR5cjQZJm5q581q6xZtDm4sCXdS75R3y9SC4I6DXxb2S2yAbCeuHji3PMmr\n",
       "mPAr0gZZBvUpa4gAnibWDEMJrjjkP7bAboItUsMSw4ocrm0SXlHJ3GYeYDJkhSSHm5ZwJpHW68SG\n",
       "yiZMJWawajs++3LKa+w+CCidnzRAHNq03Dx2pEspdcaI5ZLVb31X+6W3/rZTKgpB5Xxgtc4AKlPB\n",
       "+NWh+mzHS07c8yfnujI7hWDiPS9JT+mwTSIiKU+dDNP6ieG5E5ruAK8T5egCh4qAJSKrZwurevCD\n",
       "cWkgbwm44DLwjR6kMUtJAkMET0D9QbPSm1svd0QXmdUjRIbf/1SEn96BSnM9QyFAPcHtizb26/fN\n",
       "PJQz84Ozz3VgEFzhY4XJw2IAROa8XmENGSDI4hRgXfsXt2s66pFpHEH4x1++893HhGEKTWe0ZcE6\n",
       "sQv7xo523ilC64QyC860RQx3b/j9aSXdvUR71GjCcKvMtlfGXVbk471JqL/eDnLKl1jW0wdWFNJF\n",
       "X/uKo1OCEqAL7eKmwdmf0F+ylH2+mTB7TNAQ5YRzrDMt8WnZjw4he4vJ69Y7CFUvvijAem5Wf4l4\n",
       "MnBJKDCOWrU9WUDcDcbc1Vfr9haVkSfNVGCmcj/O5NQsN+PcB5HLb2/vj60PGEANIVEa7Wgpcf49\n",
       "ttg7fySvw7YxFWHzBhqB/+lWLVqVoE25ZYPhSC1Q38T36a9S35aoSr5XRb2IpK3gi+2zsOIvQWWd\n",
       "CD3i7pX0vbsRlmXti5B7nOROt6z3CrChbB4hd7BOKXdTcVdt63km90vTgQM2Cb+s2HIn/fACZmQz\n",
       "mz4n/u8hKtvja1wkS+NEdad2ZirPd2HOz0JPCebvt1uSBCJmekLuZLZtuETTlVPeD3lBvFiMVzoT\n",
       "/nfZX5XMFN9PTn/gmv9i91YY1H9lSmPPadWPA/xyu5M23HfTxXMbW6WZLIayjERq14PRvKG8547Y\n",
       "l0ZGc1dwyF1cWPZPlDpGjhLQde8BO4rwHEPFHEbAcvqg4/QYcI3vAYRlqKlNBWVdbmx33hEahy8U\n",
       "wc5cn83LfgD/6T6HJ3GyRkbiLEPHCi0zEA2jlYfoqOyF11+8vg2SLpcnIWG+evX+p3QSC6b0lz48\n",
       "6SNnPGKLSHW8Td5rX0IsGV3WOZSZGYYG1HEL5KMjWQexuc6SCQeQUlHYn/J0LvnqASWDMpMfBqaY\n",
       "pWY33uyI1Zth22WXX9QJuOR1bymKDrZPFhF4RrkqWQIZgzFnkNWnNwcYQSc0JKIM6P9FgagMP2CB\n",
       "sLr136D9eyWfD43yVRjV/igLVThOblitpm0+WLtpv5wTZQfZFVHi/4Ve/dpJeKQeADzJqtao2wg2\n",
       "YcRe/heoNKg1gGtIDmxPz6JuNE+lEvxbEhzOWQWoheu+WD0q+bBL+VWfIxU4NsKfOVm/ngy/PILa\n",
       "187fzuOKNxPwWz6x3FbrbbZnqG34lSkcItTgESsPIZ2Zn2od7S+awduGgLdtjMqKhij8WNUz2bcK\n",
       "+44RNImPVxgTyHNzi//xed1dCXwbs88FdYEE/dCtrNf4FyIOEWi2OKnr8kpy/y1vtz0cs5XV9eOZ\n",
       "N1uYcCNJUvYXhEMFdd3polt6lwYPqwt/f4kvQEI7AX66eeCsbUY76CA/DMCLbBDNDlXPT2QWoL6u\n",
       "jnI4HPWTzhu65RKKdv/+fkF/C0T+cIBDff+GTWve1vl9fg4i2P/0uyXBkFpc1TnW2a/xeobItsCE\n",
       "ffRNfgI4/HkkxcCo2TYjBZn59t/Ly0HkAsBYR/CpSgDSOypG3tXjxD10WQ/GxI9STnBjwPhQjz5I\n",
       "XP1ssvWCN9gG3MU3qzJ5Rs8lUyrGDXh1hCjhP+ZuCTRUnCF1h1V17VFJsNwWRxw3bXGvk1m2paJm\n",
       "XPkABs6c98d2E05hyWvwvGPmToFuPgAjHtUBEyWh0d/32gqK89gPdnzyhlv6KoCXo/86Yja0WzaJ\n",
       "mR3mgHF9siZUQwZw9gPLxUGsGHZKEc9FnIpYxrG+QWlnbPtjdfwSRWwn+ZVCU1L23Vpr/UUC9SK7\n",
       "H8JngMFLMOcTJms1zoL0LXj0eYRxbzxSF17CLE1R/ghPSZPDvCBDVdypovaCZ/RSmx/EyL8tHcoS\n",
       "iTr+AdTS53qQK88f2igdvzdNPGQY7C8CA4Cr9ejDyoNJx/g5jWDbf6tGcOfuXFlZZgVvdbvgi5Vn\n",
       "0ZH6VQtEyVzgZkvhv8Q9w6H3Grd25tn4O83EcD5gWoRDlYhPA2elA6r30EsjYpWe4nOAkvgFnfxp\n",
       "R7cVagr5dlXWyTl9aVp/6Gx6OXZXHzxC8qW8CUvcG8mLFeV6z9NA4/NRu5MdatEQwkHOm9GtaD3g\n",
       "zGtPglAMDYJ9rAGuXRIua6y3Jw8lT9kRhFZQXN8dyQcL+kPJ9E8Uy2TYDbcafzUw1eDHc5K6L//2\n",
       "2dNvbO9OgAENX420+SsuxtpiPJBTWqVkQWNYWbeJ/8pj53Tt/TJ3jtMAxKfnrMB27b0/QvSdAJZ7\n",
       "bsG+voY8MPXUM8iH2G/YE0nOahn2cDdHKKJUJ92yHdwj+8JKW7qlbppfmiJhgAee+JWZeW+HMcNl\n",
       "5PJmNNWgR40GAjP6NE/uaAw91X5FhSJbqZuN+VJaueDuP097IF1suTLLkG4MpzmjI8fLaUSdhveI\n",
       "S0xUEll3dca0CmSws99AMgk5Cm8HdgWgCTb9/9KstITj2ytBRpsq2YD976tQxsLkKUCwsUXwO+tH\n",
       "UggeHei0Ph3t6RUgHycInlWymQSBE3ErvOpzc34/l/isPx1xGKVTMJiUt209G23XEMLv+taoMq/f\n",
       "/dYGNVVqMYKnY/zLwlsjtr5IZN/FadAdxpEIDqiJSPs1RufRmEyaxIDpUzDCYNbJyDFivng04Pav\n",
       "OQTTYucowrRrUc/4lA8zFsbQAuEcniRNtK8oZfloZ9Yw/bkY/M/fNAkAD+v18g1mwHIl7TBdne+G\n",
       "+82m0WhXeZfKGo0Awb3sg1eeP7RNclQe02w7nt9IB83u16dj4WhtWdwi+UFy4c4M+wJPx2f18WrQ\n",
       "0qX8FrorX/oFDblCWvLVFO7f4Q80q/pN60b2Dzv1UKxmeR5eIByZdJWq5S5KXyznkivVxurwJWN6\n",
       "bAYTm2IePRBN+nitb9lx2Q1Eo0W6OuZclkuOu5j9+Kqb3KRqF+GyrMCEhlg2V8kV+BAqbDQYHH3Q\n",
       "T+UwVdzFsVauDo9/4rHUQFmXKPbEs7ZpIqiNjhX+ASUeU3FrBZ6LrC0NNHQbU/vO54AlDXQ9vSQa\n",
       "6t/rP0bbWDOtaZT4YAAlUzp+/CAs7BeSR+TgRmDiRBEudk6Aidj+fX9nPkMLrDO8WQO9yhbR/+ci\n",
       "pYnEqunr8A11KuUl41HDQbOldkk/LS2RyoIXE3HMkr1zjj72jV5fFz/isOP7btqWO1uEEj1bFBb6\n",
       "EpGiRARCiYGF2K2iuZHLhqS8XtPP+a3F5shCMHjICJq7+VzvOBapbS66tueOhtzOApbg8uwDUa3Z\n",
       "gEo09bI5NZ5yClJGmaHXfQ/QAcyjqtSNZ63uoCj6ZnMt4mfI6mtRzUdbsNKEYKoZ2OJXDiTokSht\n",
       "QLXBSM7mph5eGAOaRLLnOoiF35ZFRI578PtscsKtBlI4Woe3JdfVKtap7VwCEEx8AMqEPW0SlR7J\n",
       "N8YgVw6NZwINN36+Vp+dkcVNGSxGzthrsBROOvVUcWTltBEtzpE2H7jSCFj77Jq6mlsvNTFy+UbU\n",
       "2EOprpw0o/4YdisCCRfi2sCfnQWrmfd2+Ad2P5YoR/1dFamniQj/WdZc/Pcc+FMo/9tf8r47nDMD\n",
       "qP+7K5QcfPkmq3R/RssDtszSqydpMqePq95haHcqbzqPLv4pqtcnWxHeD2s6/0cBXPfMAMdxBKeX\n",
       "0SrzYqte74220v4JNAEBvwAm0wd9qihtAEKiTPRJ6HjQtmUMf+3B1XYOGXCmxmishk2s/K2NIXMH\n",
       "F+rD59hTOB7G82N0X+EYJyas56NiEJmf7WPZVpVSqsty/Fu2icnDZRecab37uun06blv/RYHYs2X\n",
       "6Mf2lmlL9H14a1P1vsk60OiRj3OBTPrCNKAjrvJ7A6kurdTLBpKAT5j0UgXrDLZBylb86fQy2B0R\n",
       "MaAjTo7R4ulgNXP0wngTP3VPo7LCVDxloslboM6KRPxxNr0Tw7HgbcRcquRswzo4xGo/31OpnFuD\n",
       "rn7Q8BzHjFSILUA0M4Kz1r0RTjdKJLg3ogpbFdD8MBiCHoHcWuSZsbV9asM9vP+zbwFJnOjBe9t0\n",
       "TiG3oLQRnYXppMwf6FjjcEexPJ5GuO+OslTC6uyZRe6uMsyGUcgGg82e6PVVM/sy///t95HjECZ/\n",
       "3W/TjnhuyhB8CroFfbZfC0Vl/2HgMyWr6wAe2tqMMJsshVyD/bXikI1OOAeprR8YX+0aMqdTz3qG\n",
       "c5+t3/u9ZAJNRDjcew0rQCZ68bpSqM/IcA3gX4pGuVV52bZ1PRMOooGjGegDPMtzRqkGfIE4Ofo+\n",
       "wvRfvNU1gM7Bh2wGs05g4X+sP/8FkdxWikiZayKkG14LzE3G5YYLN8k4cawUOPuFpk/MqQ7LwyGN\n",
       "uEbTRcMkic6zOLwcMtVQyAUK1QuPBA0ZlRwmBQrMKe+A/lbSz8T5SCPidMXJ6hA66POwYG0EHjv4\n",
       "9T4nKPAJrG0Na9CsBwucePWlbiQsqbXTeQG7YqwKMw8QtWr9vUYK8KGw2hQdjZbncgcFwtoDhwPC\n",
       "5x68CAMIKqI0qBQPbYwBkMU0ZpFJOZX+KtWHJkIOQ7Wq3pBmQ6/j/MmFpAJSI76uRFrxUsHpE9M0\n",
       "L9gi83CRTinFMWjf9kYncYuycW7wnJ+8Yk2KR1cG1BuONdC5MbnophOrwrApi85J3PcVFtH46im5\n",
       "khu6P+H88YCF3TFM8Sa8uFDI/K6GfGN37DhYyNLKBf0Fye9deMFskpdXavIFFPy5bMsdEL6Iee16\n",
       "iFUHgxnhquslqpJPRHKcayPnD4DRqGH7ziT9IkuBKdNpRWq/sLPjfqxBx3a6zbeAiD7g9Gr2jN5E\n",
       "v61z5T2U6UoSymMxvx366bdCL6a6X2YHV3FdY/ylEZXCBvzH7jvjPiQTLvxV/a75fOiW4YeZL/6G\n",
       "+siyHu4AJ9HFBS5+S7UGmWc/Jk9O6MnJ8YERk77tn5ob5YFS1VoV570zrlNx2QJ1xyfGuvl29/8G\n",
       "NYWLc893TtRGYjndXbm/9nLS5g6ajuI1lZ/2u0n4tDfpeI0zOcr7YjEbDmSnEEOnH09nVFM+duJD\n",
       "1CYn4NHdyWmaieZ9g6rbKeBKwKizDWe9b1dkTXkyo6sZHpcgX/mRIKHt+5uAUdZbjf4nZiDyJesG\n",
       "7NMlxemZLTMAC8Vf2JyDpVrnVGmjEvNvRaWCR6ZRya699IYNoUus7wiOs33dO7Q8SbGCK0LrYy/n\n",
       "LDv/////2m2Fdsl/8jkFz0zQ7/Nd3H5qYY+7Y7j0HtVEDR7c+zEmXGdz3LYBvJDzRmvd2Eo7wlId\n",
       "6etbvJH/lwOXy74RKZfmG3pMp+tN9Pmh6DnQf8LBKwXhqlHBJ39UpddX+9lkLTz+ON8C5YSntBl0\n",
       "dWf7WQcnd05grSg4r3OQ3eN+bmUykTDibOLKu8kFy0cb6Fb9pkn3zhguQo6F/e2uuvbVr0wYWwFH\n",
       "5JmthD7bDGMFTDZGlauZiT6nnwjQvaEb08nk2yz6da8wD/Cs0/eWH9GkXRJSHrr6xelHSkiUv49u\n",
       "7UFvxTAz5//8rFlihl+qdfvzPEU2tszG8NpTSmgcf+Yf8p2I1LsNWyzh9oYZ3fXovjYgDMc2SDvX\n",
       "9o1QmSAPI9jSskj4urMoe2RCRi33ugiF2A25E8pvMxfYn8sUn3CoH/nsxTaQqKTUbjfmBCtCFhN8\n",
       "+WESCFNFL0EOaTgGfCBfk4oG5W/806jw5ME3uUDrJ/SDRcpDOmx8Bhc01WlisZZzLcupdu1CDsmj\n",
       "VKlOwXyh6pc1xYR2mhpKnQEUOMUl//UA8D037hF8DyYwqu659WO4/hGhumr7NZedRMVi3x/Ch2O7\n",
       "LKQJcgf8nOQ7d7/RNR1DE+2xyGd54CIPT0qCHW6KuD2Zha8c/7xFjfhcpchHdxco4DoIOms+sDvI\n",
       "NEj8BabHRcefjDdkdtmRvfUSbRMMXUWk+Siv+7VuBPLelDG84PLLzmp3SsTs5ALf9F8hB05Yf3gr\n",
       "qIjdOPIU99ZMJfn2AXciMw8CTLfX1u7P/AGPMv6uNBwRclc6wNTpWeC8jIRhcy9qqgIL/I7p9yo9\n",
       "W0yxi/qUsJknwRjXNzSVfbSy7n0C/BdF9bHZU4mif80hLilnJgY+PnUSfQTmZB6PtBOjNdibY2OW\n",
       "yH/seqMhVofqNS6TuXvTL/bhCL0p7ZEZg7SJtrvhmghPkff+lzbYUxOqBi7h6Kch6xSDLWdRDwo+\n",
       "Ci0ra5pd2R2hE2kv4pfd6v4gOADWutAgpBSKpMy6jSD7vsg05CMqX3JHVejiSevto4en/V+syFlu\n",
       "tCPygEoTfPlhEghTGQszSORYfD4uCYy0DtTf+adRyX9srPsjYyMYHWT+kGl2f/sbNQVcLmsVjLOZ\n",
       "blq5maxqTwMqvAyhFz1DP9GQd1u4sRDSbXOp0D+MJVyJaXwWApSL7PzEWd/OwZWtgVL4hbkg1Ttr\n",
       "GPEXWMlNEkQEQ7VI5KN8SNacp8sC04KJR5RIMeKYIZLZgYM+rnf/ynJgQlBTv66c5hrxvSZ9kPbG\n",
       "YGmSefSQ//wH6VNYXsfLWCAfUSbRMMXZcvsVqv+7VuBPLei8tvM/ncjbi2ru1OP2/+Jy2cr6j67A\n",
       "rqlUBFUXyaW2lhEQ466Q5QBdyIzDwSHiEGNBjyx+rjQcEXLPBJPJSvbPbjf85oOVOuwznjLnK1O7\n",
       "WKWy6/ttcxbQvbLxumkq+2ll3dGyFvYw/xWLuxz2VfRAkO5NNWBj4+dRJ7tqbiE/sAOwxKFAn7Kj\n",
       "XIAWWCEqQQkrU42OLj27tI4adUzrCq+EJYM2Wc7HV7pz0nevKfVJVFdaanwabUD2QTe/suUDjp/U\n",
       "pOgzeJvkQOH76v9BH0S9lPmU9WVo1HrN1pK229mph2Xv2yISNxgYpJiy/IRlS+5I6rMPTBvv8oX7\n",
       "G536f9X/3xvRJIsaPAcUGb95zjmBDmk4fD4uCjo2dAbaB2pv/NOpAyOg9erT+SSQg0rsP+vRAnyi\n",
       "ufpSK3Ce5ADaixNNbtRUWUWVpL0kgq8ozrdxYiGk2udUL3+YFNXDkP4gukJFJ1aN2GzEH38AS6hb\n",
       "kg1TtrGO5UnjM6ykYSjZY5U6BF9iKZ/UVFOD3F+ZbtwICMCjxd3SG0Y6KY9Q20fyYSAmdBK57njj\n",
       "virZc8yl14OjPz2iZD2x4qHAPgbpYPbb121Rkyfeiagvh+mYsJayHGXhKez0rUZNEzaEv+yMCcNc\n",
       "LDcjEu///uC9VuJm4XslpB3m0U9DsGRwUbE3RnI5fxX5qD4FUdya0I4Ao6tZHLvox3jB29gj+xio\n",
       "5WXhmSyYhgB1grkn5UjNlkVvaki0zRw+ChUy4CIwfEv2sOYGe11ZgyExQURkEK5fDMf3macAEILH\n",
       "d44eJ+oB3UZhR8UUD1mfh+867ifLP4tvQFK/HpLnYH/ia0T8wHkJD1Smlo3LXuR6iV0iMsl3Soon\n",
       "D8LhLNiE9++oJNNQBpU2XZCE3Q1VaGjc6QpglK9PHVzpHs7XT+uXxndtn4sW/FK9zNQwO2Uc8/a8\n",
       "BFd0SmfTHrU9DErMAQ9e4Prnb5YiDMbrrj+kolCYyuMUfqkRDQTivyI+q64xwp+hwbVW/P0mnz7M\n",
       "fupt3eIbIs/1nKCXq1WZBuar7dfDRnlhS6ySIT19dJjMD5HMVLyWhRWthnRWEGHX9G7vjwZsCuYN\n",
       "9cfu9vA6XE3VDhkZN4Qp9oztsxqSIKwfHBNX1vmY5u0yi6y0z78Ef+j8mQVyLAOfdr06fZu95nYC\n",
       "cJSXqkeDJUptrW9g9GdWtXVaAhygERhQlZALqJwt/WizU/K1a8heZQblrXATaAKZ9bAtnTGwB1fm\n",
       "ZC7/x+//4oUxr/+dTKg8M98TmobawfDC3eO2A65UnY2hl37f0VNHm5kYQl8JOY9CIlZuyp2JXIZN\n",
       "O1Gbhv/GG/clO0co4xtwGjU5BlaXxEvCQ02gMJq/O39PqhR9qxRaN7XbY1z15Z3ci2eqIqPdpJG7\n",
       "bAbF+/LtG+d5qedt3tnJrZ5/8RJk1OqVvO4yNvyo/8mJps0H2f+m5hDePcyEp/Z9jw+9taJ4t/2B\n",
       "vChkT9u1sSCrFRYCeT9bjlipzYuzUKhjyqgRDmaATd4ZjSVMBOu4nADU/OGctvZv1gFmC5P0iNS2\n",
       "C4QcKxY7pJUbcXeVzZNNWUcOchZaUNTWl8BvFgcNLv5dkK/KDfSV2IWEWHWH7etylMCIxqTEJfAP\n",
       "Zcxmq60uwWG//+/RC1DXTdRsuittxm6NGCkU5gg/oH5Jkge998o8kOrk3kbsIGuvNN7K8hRpoO61\n",
       "GoDVYpexAh/L7BZhWvVadMRqcHlQ/Bf8jZ/3CKik3SLtsXpQlEbkaJASINn2stuCTr/CmAjnfa80\n",
       "8232i0rq3x57A3qcIG2ZWxQ/ue7+Fu4Hj9dGTMFIDLSf7tyC2Vk4S/nPcNbmX9wfUbVrTcVQ3/2+\n",
       "dFoMWnh//0AAPYhQj0CfNZ8qrOybJMLFOcYZMcxN8xbM3wf2l0HQ06AjEbKmpopiLzY5NiJK3nZY\n",
       "2+81AYtu5T7fUDyudSWQdKCXYqa0R9uRAsbBqK6EmvOe51NFLN7QEUvh1aj/W8LqqjWpTK+XPf0h\n",
       "PTgCgwvxAviEow8FYcXt2w9Z/04LkGY9MLXZRMTcNMu4Ur5wxZgEaTn0u3IKJT4KOCqh+lqVjr+j\n",
       "yfNkwhV8bBcO9FeZfl+n9ti5W4FIRNqAEbjILP2KZE8tLbuPCSmKDTBRGju4OJlXQ1u1AxkOY7pS\n",
       "jxxdJP+s8Wri4kIvuG8+Vn/Q+xfFMrxuTRUq2HJu4u+GJUUV3ZbpOi7id1RgPZuWEOipkA+h/zpq\n",
       "kYMPm1ypKPsVYjzQcd+0f5NfHDLLyRvm5wHaJydYZ5PZbNmTi/gpmEyOvUihmUWgY7EIbyWbyD1V\n",
       "0PqIGGfM0d0bVhBtjk9EMrYO0lRHrN1EX93A8j2WeYCmbww3ILZWTgpwfvqSYf9wfUZ7IWSk/VLY\n",
       "uii2Ysor9PABlgSJsBX7b3QetEaacyv0B5OP8Y9guZfH5D+ZR0HcjT47xkYHxAF5hYBgBKEmGg3i\n",
       "EYo/krZB4MqvqI+/MRuDh8aJQ4q7hla7QaI20458IgCS1iM0OLtAcN/dh8OrUf63rMP3qGMr9T0E\n",
       "lIK/Ab6M+Nh8225m8bi4vbtvFU0vJnB5RdtFNDE1KJezx/1H2OP6paPvYTktl4RatVUi878IfCYW\n",
       "JSXCZNBf+EC4d6K7AvZj9PXNrRWLpJevaKHvF+sv7XAgJeeqqcQV9RyFRmG9HSre+zPiMzGgoX5A\n",
       "s3/NQ0RK2LAtdH11u21HOvsevErdaPNzdiI7tWPrG/ZIhLx/z3asTA/s3LFZb/3nU/zKekS0PJwu\n",
       "QqWpAlOKEabXt27Sx+s46kBUSqur4gIKhw+AUAJ/U+BPGf5Kvzsipll+Wgsb1rTwjoP1KPTnA5UE\n",
       "B+nySqc3LWLW8wfkhCKFigMdtCP3gTGv5Lcz8rI7+YQ1293UW8u+ZvQlx92C53h+n+LEdc3yUmV9\n",
       "3nwtpLvrxolDABifU7XhwVIcj216Nrzycqd4kFDLgxxVTXZU9o2K5oPgNXbe8JxbDbjkEJGTn2Ob\n",
       "DNWl7Mki53OvXdi8S7EPQS5m0dfA0CylWf7AV92zhbjC1OL4hDAkepUn1mbtsyNiyQFYzjqSeauo\n",
       "yUMMGb1Sq4XPpzks/mdDeHJzCrrzNW1RpQnGhoWu1qSy0L5uhuXlXqXhIxPYbf2sQU4Zo4B59xmT\n",
       "4TNHr6WOqP3vMLbhEOOomi2kDJcP6gLZoTQE9moNrWR1dxM2blZXtJ7gslOuJEgi4hlqaOeKRWBT\n",
       "pQY/BIu/1AgAKqLrTtLw8Sc0BKTDoLsOWaS5kH8KWK9SypRWAAbuqysrR2j9+fQTuL2ma1K0p/vK\n",
       "cWZ40ilzsLXher7B+dbmSq2KIdr4Tt60aEmr+TwtLdQdxi7c1B8SRKxr5M9VS9w23U+uSBxzWg8k\n",
       "bEy7ElwmCwJn/nzhD6MzZ9HxLaG8qQ0ErMQ8uRVAkyQOz+Ufzm//z2pIh2JXUZijf85Lq9xVJIme\n",
       "9yUkww+hXfIj8zOfeVNlW3t1dbeHBgZLXNvUGIK0BkWQfz/GHZ2e5Q3ewhGkCnxRpjH4e8ijQDiT\n",
       "751KN1a+bl7Riaq4dfv2Wv8Oq1842AUkBlRFR9IV/ZmIif/Kq1i5PmV3VhRW4Ma27RiAnM4C7T9f\n",
       "ooxdeKBeQwIyhliHFyA5DwKwsKSgOqpCMbzjflth+fHvEuta2g1jfpVZci4QL04kpbiyKr7waUnU\n",
       "0Wa7L7KBfZ/RPMRAMHEM3CdYfWusuH4jJEGyP9TFtYXfcSszGPCLZApas6IHCM9mTD71auf5bp2Z\n",
       "nVzzt6SjZpJIRyX9ihoAQb6LIcBMDOg0Zz3fni1o/w4Mse2O6teOe1XZumLsl/5s96jaIEy7LOVo\n",
       "1khPA2yaXaoD67WD0OwJku+PaUihuPUQLqm09KxR9/XnWDhsIT8wC8ealmHjCZDCcelJ0umOOaIG\n",
       "+RxMfCnK1QRiM90Sa58F/n/o2XiJ1qKgzOoIJgH2nVdOznYQuycsvpTInS9Qdr7UHkItsVq0lEu4\n",
       "s/Tsb8ZH7hG4U3yqoIl14yarV7ERL2L1XXkeMGhGIvVvU320cUUbaUTCmK0IaWcZEldHjnCSm0lC\n",
       "0oiD4ZHa2nIN/2vsUtYx/7tjFTB9X4+Pzj5rsqQ4oSVK0Hrd/XhEbrh3jHClhGZ6Ue0P/an0w/bB\n",
       "lCtXcxJCQHMplDl8/+aWEzRrbMsQS+C31qcp+AeM2gDr5qA+1dxdsgGqup9kYW/3orCeqAJUZyDV\n",
       "M8/Gz5l2FXJPMAu7B7oEsu8/zIoKBf5cr9SiyEvRzsXitl0AvKbfeKuMEAQNeeHCALpzZD5aSZAk\n",
       "tnNxeTtsX0FN5oNYn6808Fbxq3uT8OEE16+bKQk7khdMvHAYB1KDq1StVStd/o+a5LET0x3bTxSH\n",
       "p1rE3AoYPVNHgXn/iznr7vm42oAum/eSYvzHgHu4rerutSXPtonE7xOt2uaGx8xV9wQQXZh3O1kn\n",
       "8ljcX6anrTmWBdzBP5VTu+TZbLeNQWf4XI7FgLUqGabFoF2SDFi/cvCXhJ2YF6MEOD/q6wLSsfRO\n",
       "2RB4SQm11thHKifXOH9+g3u/sZFcs++z3yPMpDs+KReaV3kXZRl8HIgMvN/zRQlHceX7zPqqVEtS\n",
       "OAqIjbJ/rf//8CSxq27K1DBfn8jpgRxxkjXqcpKw2aEj+JdwOMlulv0VNAAGr+TZ5Y2P3N4+AXgE\n",
       "8f5xc40sRzMoUizUp8YFEyrUid/lcf7yWHJ9TdvgtZFbiGRwl/qBWC/S10kW16R4zTViQlDIRnp/\n",
       "ZOrVERH/fMf/Jiccl6lqK80gRjdAmMnpcTviB51tiDz+HaeL24kpc8RYBC98QubbLItib8YDQVRK\n",
       "psHJaJs09DG1Q0d2MD1yERyWhC/d1v+buF3K7muafA6Vf4pfbuP0v4KwFogO+DspOy8DdJNgE/if\n",
       "KaJjwgOMrDYePeYBumLo5O9HTcSeQukwEarIm4jmw78vgAowhJugJjLV1v9TXXv//xx5u+31cRbb\n",
       "3qNZZgXGGvaY+A4XBUNdlALXs20sX0h3khk1r2NcYEPaCq8inxhj93W/bF36uthB8vFyUQcGj1+s\n",
       "ozocOPILb7j6temDGFayu4qIksWB+tLJNHd4X/9BkXZgeWbbKL4SRsIgXE0eUneUm3PGy7gWU5RX\n",
       "pBfh1Qt704EcE5tWpPEH/jKwzEbAEUGGKaIEEhXwpTQkUKfbWU1gQG862x5zI7GApf/4HjO8kr4v\n",
       "595PNr7BIm6m8v6GWKUmPsIpOIVRQ3vnS12bi9yUD015ALKx0OCsW9mhMSfNVmignt4dIxXADgSu\n",
       "h8jPhy2EuWZ8xF684Ub6aTYenoN1TvOYWC36lcZPXI9sKlt5txpVxtEjFz2pZxhK0/7hwmxuWm7O\n",
       "EpMugA73OvTbcgeYguu55VbfMMLRmG1L3gKUf0UizM7oUf9t0MuIIjZMyQcQTEy5d9Q48jkmdC22\n",
       "KVUq4jL68r+3fXRzGJFuQ+iZScIN0FKfuAFyhiphNKT+lWr73nPNvx8YxzTZSqSEqcxaxoYHq43U\n",
       "tKqGYS/6wxF5fyCWZVqjJaf9qAWZ5w39ccsU9fJgMmSntGQQxpBgfTaeCtQABjRWw6JkAZJ+nRoq\n",
       "3GyS1WP0YAtDTjdG6vzhAqPNehPoE1m5EBW5k+EZv9fXCALY5Cx29L90GEauliwP1pYZCeUAYiDJ\n",
       "X37PLNtlFtk7yQRcTR5Sd2JNCkhMgLFePMcgYF+7skAO81+LWLyiGS7/xlYZiH+xyPMGiBBIV7jO\n",
       "junFzf5NuaYsZ9UZ36VCEROOb4RPw4w8fbBYp6az3lCZNZYI073RX0VJDt4HnxX37pMHbruP01bW\n",
       "2HPeL/nAngz0iR+kRWc91YLl23N2/dUH4unv33bSRwop0s91+6mJtLbWLnkM6lJT0lFgy9n/1KCu\n",
       "KW5agljkx5JVymrwt5prcmuLSSnHNStdu5HJrXsGuD1WZogC5GOPwTDg+Z7f+IxOw7ftX7uQmoA6\n",
       "xKQ81JW9BYV6Dpfe42nHwpdYfZhLVaW5hui4KFjYHukXHppI+3LjcvlEyk4KSB4Twk8EZnXLOblI\n",
       "EDcMkNZLEAqkhKicaTccTJ0mw5ATi3e4E7Ny0fvnVB0Ef5mHagGPh+thounbJUfGx0N5R8KfELVk\n",
       "uOa384937v62FCbFueNM2ghymJZaUUL6YmLUMsyag49ikMSfF2PyjMlP5+Bt377GkDW5OclS5SRO\n",
       "lht/KBPPnIWO3pfvF7nASuCVX3xE1JcM896rqhAYKpTf27M0tjukh7OWrP2raRvW9J1ttBvUKESc\n",
       "RgjLs/5hhD61f+IP/GVhmIfITzcgUGGKaIEEhXxNTCf5NuaYsZ9ZMX7i5bksKCdLXmBcZUKwu6wV\n",
       "/9+fVB0ydEsdcjmd+P5kU4z0PihmCfBxFpOjWUbWM/VBU2NN7c5O+AuZ3tT1p0SLxUB7mwWoa1Fs\n",
       "sULvSPMcXxZec7wERMC6Mh0sZo3ly+G0W7EXgAJbgtPuhfx+D6+xPF8Not2IvAA/EBwaMChmGWm3\n",
       "Qu8enwsW7Uv6PrbGDGco7/+qvoV4Kf/L0byiCLXpr0BbU3mBgawBtRIZOpfNC+s2wY3a3wznHH9y\n",
       "T44DreqB3XWhbZ1FX57h3C92B/4mtEjYLeP8YmPumoz31Fb4IAAC11lhCHvzeTbYi3ktrpYWorX1\n",
       "tiH718EtIsaBCZcbCH48QqzkWHF7A2xJH3/vhH0II9u5/S7IF7t/sOWTfwXWSFcAzf3I4XhvPIZT\n",
       "24ds43VD9UvmZ/+j+nvEq33hKaa2kH4SRNTBOSaftcnlXSKyISyACRcKRoen7jmRlmI+KqfiAapa\n",
       "P/DVjF1MVDvuTXXP0HNM7DV8BJecWC9Pwmv7OdMKOf2AlPNprdZoiUdykkR8p//iKpFsyPDBVeaR\n",
       "YsbeYM6HcH1ZAngtWm9Q3lHKzDcFIn6nOl78VSuOG9UL4TvrgorhmRzR2NE6GkfHDQNPfSc3LYtc\n",
       "WhoZPQCeo1ZcoT9hg8/xmbxumHo+hhkhxIfAOzvDBMZ9RT+ZOQk8VmJaZj957MIliXx7KS4SA9gL\n",
       "zOPMAaky2P1gwBrfXc4RXglYAU/hMvWQJ/s9CKX6lXXAG3nbhp4WjdI7VgNcJOZZTT/a2Hl5TY0D\n",
       "XFI+vsXq0L2aidMGofyPF5wzT+L9fg+ie79FVkeVeo2gWx3BmcY1jC+nApheNH+aF53f9EfuVBRc\n",
       "PV2ZIPvJ1eqeUd0CCAL12IXCXArjxXfPN/lgNkwlFztQ6fvNIMD6PVJCQYzOsmAzkS51ZZzxRI7z\n",
       "8ic2JueAzC4T6k1RwAABVFHj6sqgftjqrDJmNWTbj1dlGk67C45v5VjN+oY7l04XAJBo+zbF1cdc\n",
       "e1JvuIw821vQYFts9/sw4+W2oySWJEzk1TVonafinNjAMzhO/a2R4khAdg0bgI/aVSFLmqc3Jec0\n",
       "bDmNSF1Kw/mo/qXI11RnfogrMhW7tOiptuCKfHtutCLenYTtIiEMybPyDGiTdPlYriJ5TnrxmOqo\n",
       "0f/JIMvguRaRShRryAd62qk2oNbEbLg0eXncetkSEIGLG9SmyqDGN+gw3njRS2D7DXqyBouAJFV/\n",
       "SQ8UUbHZ9IMER0qEykfXZPgSYEIVYYclrDqw5uQl4s/UWds03j0YFN3V9IPtAfeuerBUB3jnOAcM\n",
       "A+tD0yiftzZS1fzwuEaZ7F2o6MtfeqaY6+ER0JEftRsNwcUrh1Q2Z2NoON/2xtHlfx9vbVqgWxu2\n",
       "BV71+N3pCUdpkTx86AggK9MFGsHt2Dokdbg/kxF7lQ/XsHEk3Klu+bo3bSI1+Q+uWrtE3KVXTm96\n",
       "kbxmwltnx8+IZbhOOCifBHjhrCOv2xuZFt2B4gLS3AHydAbGuHrkSX1n8MClf4evjL5mU/VTM713\n",
       "CgQxLfG4Nxfz907RpLL4fffMBvEQen4BBbADbmgQwjUVl9Ej6aFBJ/g0xBvFvPmIoKSzq+/KrGtm\n",
       "SM64iABLxP9bRoDL71Fn7pTrzIUQ51WTQkrygSpbYgA4xkCA8zX0QjntuRC6ZySR+Mjz08dwWzCJ\n",
       "b/9CMZ4pmY8haDM66vSeSeVd/4AVtExGtvUqu8zh3HADguPKXwQz+Y+Cg3AtzsL/BOOQIsB7QQIC\n",
       "GH//J9CaS8bJuw0apzzpav2Qzz9INLUz7hg9U8lpsxDu6Kn9WEm5gPd4uPyTsgaQtRQvLfR1zQDP\n",
       "ytxJqAtdzkqDnMLMWEusds9D7MMnAwHaQhskCvixuE1YTdP0qnraNG3bw3ArjcH3e5uzJIRPJEEF\n",
       "spmwaFz0nFnYaXbgEprZc3uF8v0tC2j2eJXOM/Skgak+n27UwjT0eg/zEW56DliHidicqOH/5wwH\n",
       "EohxykSI7pLs1mw53j1P12J19mJjQWCkG2Zl1+4RTchte/DgEAPrFU1Ng57vDaBh+xvRHLiOtRBG\n",
       "JWV/+r+gpmcDM66NAUQboZx8O4FUknTWOcMrnaqZRiU6AgwzDLtBZTbKA97MqiwLfHo5IS9y9SEs\n",
       "+VJSyiuL4Iz65/w+HHHpf+H0i231b7jiS8sqisaBPHIJ9I3Gp7N8MqiooEngTAlxz8LyuZq/FRS1\n",
       "zOvHMNkAAgKIWF1SzrVGnqaU/4oruJNosmGtTgka39+nsS9hEe82cpbFxiJ+EQ5mdlyst6UI0yM4\n",
       "b3VJ8KnNykTbEfXcV4yhPiU+18kxl10OXe/f8iqrM8NPHYNjq+jndqfSXI/J4M1yWEVko6bwZpHz\n",
       "w2NXq0fJl+YpxEf/czbsUnImgFmY57gfQXSLYYha66Zl+lc0xzvghhEp3KZtox1JDXWYcQETiBL5\n",
       "RIZUidOLDse8t5w05LZ/Yg4Knt3cpkWliwaacXhHU35bBahaKiEVXf4HMs2mceUb823cjTY6oYKT\n",
       "rg7kKtieeJbGM2b0l+9lGVf/9pvKGv4KPAsCwKRnUaPBFmfYxVQ7JfO6rWcEHne17PgGi1kO/AsV\n",
       "q4J3EQ45jGfi1FObPd4un0aYO7OheJgP/L/gdB2+SbiQxIo6L6JstUkfzH5o9vYzprQadplsdpgn\n",
       "i2oCyhwAB+OX+egm2QcVoImph1gq0AuXf5fBGc1f+yw449MAJCvm4p2+44kvLblB0AYs+gTxyCfS\n",
       "NxySLsCUXAmBLjn4x6vRTiolF30jha46Hw41zesLqlnWqNPUs1/miu4lRoZYa1OCRrf4B+VpsoO/\n",
       "sIj3mzlLYykTIHzToiL5Pv7M0ChUwuGJIuPZKp4SVYVlCYWVEhDsOtDuU0AUdbdQx22p7C2GpwZZ\n",
       "0l5xzBwWzjl/PXhpgLAEMeWHqnfrtFUjknjLtRYzabGrjgCS5vGryY8Q+8xbOsDK525kAyV5GbLA\n",
       "9m/E/6/UTKdyQ73lLPH1dgdsgjw24fag/esQEk3PPjIysoa9O5bHNCCUrNXBGQbnJr9UXymO6sKo\n",
       "4hRJ3iXEo9niVz7tZQE0wPbjB0+3amEjr10yZIeJ2JypF/+3JChr98DQRYewSvKRnUaO4aCsGsCV\n",
       "2TY5kcW9nZ1KJ9HmfOCIAINyzwvsn3e9M4vt4H7j/OsOh5OJmHcd3cBoQEZbBEJfbqgaqi1jGwrz\n",
       "nSVBCd2r2Z4ggDBVk0G0kk9T6LN7TJMjKPouM9EfLpizOHPUdPO7Q8S5T9u4pYNIfvA8gHSS27kp\n",
       "9sFtKxzOq121g+5MD8yZGjLq0LIYB6aXpzzoOCJWxveqVE3wWOcCNIMTFpDDEGLcawjzyP4p9Zzo\n",
       "yWZIpN8MtR1ySrJd++Jv92kcU+6VEmvPG0fVzL7c6vbkGDgeRepzlX0XhKz////15d7k3zKwemcb\n",
       "+Ji/q4wUiO6Dn5IWGPU4LZNG+l4/r9m/erQAMRs33+o3Tpuwn24aW4SGqZOfRscOULCYUwdDNDKZ\n",
       "ohzR1V4hsba9Nfc+fvjn6BVcpOXeA/AB/1NRD+pSFySsc5wBBuIeeqYMhbXyUA9zh8Uzury6m9zM\n",
       "NJXvfC/vSM+9z3PQv6tjPd4Dy6Qii5c47G1II2sG5P1aR2sK9kXkY2YXsdWaor1xLMce+Lzjs+1d\n",
       "1OU8+EWEUsob/2zcE/6wtvPoTprvO4p5LIrNwAS4iywBwAGf0k9e3khyoQJmeOzMHCdx8spFs13h\n",
       "OK5FN8I0wwnpW/2f+I6RAYougsBk2Ehlv8MlutoiUvgYl+UwD1X6fiwo/rP93fZkBIcSbCR0PUJX\n",
       "tRWzwWFI9bg0MiSoPul6Y4tp2W+TYLVOKMFmeb0cRvEwcS+HpLTuh2VHioiFEkNyvQqZTPQQPpDH\n",
       "ZmCjiF7/1NCcuQHwHQwzZ8SGrzVrHzYgfkYvwpnUM5JOWyhIuVmepGBOnlmG59+/zPb/dA99yxqU\n",
       "6WYhuSfZ8Edc3EcSfAi+64WzIfG30QOyeIv93uBRoBnlzSUPSCSGVmeT+/wDgyi2h8T5D9J/mLgu\n",
       "j9WxcFbhlJvloBI2uSLXQMLyq5aJ2ULTp437L7vVQtDy7Vbg3tTPfaTFfp0+ChSxb3LqQvmZTI7Y\n",
       "usjJuq67Wjtn5NSolmcntgi8cQBbV3JMQglDqjNIqb679Ugo3jfOqADfLTYSjKzG3V7idlBr0+3N\n",
       "1kCZRvawWJKrD1aHaS1ICEdgL9dQYUtH0heXnL///nfu5Z/+qCJGPF1qF2X0FQtJCP4EpEmKdOyt\n",
       "Gympue0XkVuBkCimK5IxcLfD6zbw9cF6gjiKpwWVujhEpEp+ckYQ+wrjEYbd6cFVfXktru2l4cnY\n",
       "hYb+QS7lPqWuD0fgDCfh+ssP6UBMa+fiHEgOkEh96473ytjyLi+KyMKpTy7km+SHIR9OiTw/Y7UT\n",
       "w6adTM9Tyw9WwJ822orlqVwPZU+zM0waezBNfyHYGdBMFtf1Be5MAH6SQQ4pZC4BVtzMVrXE4f+V\n",
       "WI9Fxlk3rb+LcF7MZ77Xp8zZ5QX5Zn+gyWRad0OPuZK8uhcAdHkojwTSLenP2SX1tx3oJ9T6+gJk\n",
       "OCow9vgNPCI5UFkzNJK224+dA2fLSWSPe9QzqnQk4p166Dy3sJ51CzKf/yG70vGEN/psQEU+VjxS\n",
       "w2mujrpB51nZaMGlT+6GdQc6EKXtGjbOgfiTyd9kb83wJh0odnSeRZ58K21bmOKg4c/YBWd01FMu\n",
       "9o5eikYL0Dj9iUs13enqHJeuyF4KWj9MFJZ9XuCwsQ3jLIhYpC3yjQtP/0i3aOvazZLeb++3r0vA\n",
       "pKA2748i8l8oyagxDXH14QOOIFu9Ek9+pr6ISDCCHFSAJoVg8iNJYTQK0Lo47abue7I/+xspaOH/\n",
       "Y9s+QOJQyoW4VGGoE1HKIIFVSfuUPEHi+KDxFAdMnBQbLqMRDUE5XeqzD4PizZbFRwe8vxA8ffZ8\n",
       "hsAmnR94mOFfY6crNpyYNMz+fUfO1+wY6bacWFA23vBEWc/gUNer9Fur4sSjNDOfzt6qZ9fH6Ac8\n",
       "BxB66CyLnS73/xXfWry/fX+n9xmOqfuIE+QBOmSFB0S7FZMjRgUxHMda6DMRMLgzQYgM7bYcnjN7\n",
       "icW+sNmMEES6zlPpCfSQsAutWuyFAvBiru0zlZzTyIVTTvLGNrK4xsfORSEc6IoKkIxN0mIHgvLW\n",
       "jCg3GzmH4m3MR4pes1oA2rCldkaVOy2X/P30YaleBjRIbXMZun9dAB+3kqurv7ME7JWQDcFaZY7d\n",
       "MkYEuRg+353KaSH3k2PubXKMCp8CSLPmxn0tLyi6auXmZUFkJWfwNBnGr//2S9TKpOetQ5StGpHt\n",
       "1v+wO3BZGN7gLFl8P5pAocZA4R+S5PudZv0toq+8R3uAR0YKTXADn0Hds2otiqLlb3jNKAKmIln3\n",
       "nbUUxTf1udq61ruU+GdQPvQEAGwYZXcHn7NsNYlwKbWRx/La3o+vtGqOf8g46reVurexvVpbUQtc\n",
       "6YiVUCTx+eMBzEdo9sRe1iSZsue8fiEgkRIwDPx95R47RhCW/4Vx2HGT6xVtmzWBYmCOMnPoOt7S\n",
       "B17iwIF3caZxbdM145CDOA2/ltj84dgth+hRiHFCUu8m+nj1X4wuIq5rHEodJfPTGv/4hk2Igj/9\n",
       "h80sKSK+xIiNrkPhgfde89lvSeik62fzM1E9BHrLTNFsfS26VwnSorE7FBu+jnq8j4V3OG0oV8rz\n",
       "P0F/x0dswyCN80+/bzNpKubPo/4WzzMxxeMIkCmuRVlvSTX4okaaRpR8wWf8gylQdksovxUvSKl+\n",
       "izwvOKW2KLOWpt8gp/os5GU3Mm9UsHKmYcG71mYHyVooG5iCJbRunkPm7nTBwkKiCYs+KGPnOmr5\n",
       "swd+DV1PRGouh8C+wlQAdocJM4HoWKBP8V1jywM1tfNldK7lR3FnZd8mtfQUSTSTvOMDKP/vx10+\n",
       "lln2BFf75sS4ACOwdtjdB6yhek8bwXYg8XdAcMK1WI4oETAHV3DUQ/Ec2WbcsZyLbAkQNn8e2oBJ\n",
       "qzEj4k8XLHoM2hqup+osbj198d96WxftpEntl8GpoOE7+dfpgRVPpe7YT8BQ3ltF0T8yEUWdRUOB\n",
       "nfFtBUjkzkShTjvbiMW4yYi8ypszH+PudIfSjPBSL6tzRE2seeD6kvavMhyCNwH8hhHLstn16Nt6\n",
       "HNSApwOl9lRYEOQU3ssce1+AnV2NRYKrDtq/+sau0q8qZAVSeTskNFVX/WdJC1tnoiPaLI3ex5qb\n",
       "vgf+Bw8LemqyL1w+zA9ZV7V5Wk2oz4/OvqcMzvUOHhI8YRwZ0X3LYyIcR4VxzdwK/TI4GAf7Aixa\n",
       "dndkZNlG+zkosgQ+FS3IAtrCHSnfh7BRSqiWqFrsqKTiueo2mKqgCKXsTXDGK9QCMSZ0Ic8uV17D\n",
       "xqyGtHuH/lVjNF1WrlSwcqZhwbvWTH6/1mHdFaKBuYgiW0bqNpzKCv+NnBkoY+xzoS6YsWFIUzkQ\n",
       "G2HXaWx1qjKtEUzCMyxN/TyCx4ecyuwApGHZLhL5g6QYVDH5Zla3C5yAzlG2PFGQsepJrTPlovof\n",
       "T+pJyNOHOIK+6HCXZ5+AM5CjDwvqm51g3V2UwYBv7yEJzAHV2+LvI9zYXEMghEbeYnsLnFPulk0W\n",
       "HlZM1ZiT0WRv/fZttYAhYyXJwKc0tihEalWde6DDsVydJEVsCdhwuQ3XRQKG8touiWpjvDnxlU4G\n",
       "d8Wz/OgwcqRDIWqSBa5YQRwIM/gUW4dHz3/6Cc0MO8GtHqF9/N++/KwjHWRTnYk5NxMOyp83IQ0B\n",
       "2jvDJQ/y6FqEnUGeLji3A0mAqp4/ZRcro87BGGt9hhQbZwSAzwrDgCqyezYFSGsQ0WdKhnBCYRrr\n",
       "qy8wc2iduwYDgVCEqhOVjI0iBsUAhBSOHk/pkA4IsK24kg19mjlhnRTRXvT7yuLucytRCfF+0by6\n",
       "yHC5jrG4qkWwfN2mXowhMYWOSgFaSzQ61C9vfYFUInTGbEi8IvKgt5Lg4I8idAJGD3+FK4SAMmxm\n",
       "dnqdu5oJBgkBKq45Fvjhe+7etGJsXXoT83tXRFiLAcjzrD3hAFNAPtcbYXoyZHrwwxdWbYIPBvOw\n",
       "b2c/qx4OTEz3G5SQiEwMVJIB8zlg9uCI983Xc418OrxLfznfx3NshTW9X8VENBfeE2azsyrH/dIb\n",
       "Mw5sPDMeQ72me8WSAj4gX/jsAzbiPO/UT3faOpm6vShcU89K81lqu87a8DECBi11vEl/+mmk/5my\n",
       "LvF8qjkO1wXgdMFEGuXSLmMc4Pqk2Izl1oY6T7qflTI3uyAsac9zJSQ2aERBCnZ5x4oJS1e3z/FJ\n",
       "WiUKKne6qJE45GCLv1HRDfWoioYHwZXnOTNJ5oBdO6SbS0lNcH9EXPzb7/y2fN4tyUFkbYiunY5P\n",
       "kh4wYDSPwPqPbmOQwCBzkoGnz0C8LT34QrY0XiDoNNtwyfpPXgCrPcQmMst+7M6NVlD34gM7c9UE\n",
       "agRMmKbV2ouFbDSx2tEfN6G0fAWOH2we6giUAwH07uvFgXYQbTwElTafAnwtZy/47NIMsbioWeW/\n",
       "hqDCrYW99h4I1XQ3G0qwyMU0LVH42BSUowE+NagE3o0WnWgKmlRbxZUNpvqtTgfpKoM9g0dhFYH5\n",
       "n33iaNm5l9Q8hOam+uqTU1kXH8C/JXiMtIxMubZnxt/mmAAbGdUzQphEa0c5mQRYXEtizWiHr+Ni\n",
       "NM8Q/eFh4ERnH9n2qZvPg+u97PW+Z0Nb3K8Co8AAAAMAAAMAAAMAAAMAAAMAAAhpAAAF1kGaJGxD\n",
       "v/6plgAAQH5HWgsd0KNeYZ/k4YfOIgAAAwAAAwACDsNrUqgSmVSDIBlQAtKVFaJ7eTRiGJyrlZI9\n",
       "4dPZV6C2zHkVFsvY1G74sZq6LyTQfve0tOCPZjgsYftxrCDaH6W9QfGV5QFjMshbiZj24/rClRoG\n",
       "/4MfytPzZ2RGI/RqHbRyzyYvvEd0fGndL5du0F7Gwa6bger9IMeD5bAkjbnbrFVi4B3imLKX/sPh\n",
       "16kDGBnXd7AiKyCjlDc/Iww+XPPqUhKpXNiZL6rXO/y2VdxinlOkUBMXIM3++DEF3SJLHqomThdJ\n",
       "PcND4pW9C2U5tiUO1ytFhuSIEzd0IXXPfaWFud7716r0kQAa/XDoGhv1v/D1FzLRtDqQqRptiCeJ\n",
       "hS/7gDrXrFj4oYHoAgGFLzQC51SLUUivnKRzRiQscS9Gbm2KZd28/Lu+hSdYrvjga3gMva95nFch\n",
       "EkEuMrWoRQUBzkhErDf+Bxxtb9bo3PeKmDbeWDk9UtSW/MtkRQIf/IbLUaRO6eDTQLvhT8/vi3xg\n",
       "67/Tth9JFfTAVfkhN7DUAYKkVfQyCRW5MbM4hluUotzUB266HnpBblA0E/VBqYpAChHrmEGKQKn2\n",
       "QBf4MU5GKP6n8xj6rSqgU7HnGx5ZsaLI6qww6yZkCsa1g8Cb9hubw80HAHDcRPqs4OwWnhdeIc/G\n",
       "nq62PBx70LatlosW0CgaP2JW/73qAIfi/aRwfihOWc0QFAD8bg793EqoeUwr3IUWF7Pu1GGqSH6R\n",
       "ibiXILh2j1+EoaGUEH1Xhm9hWMxcfDkM00Ec60IQfOJLo8j+j4wkF7Ti6kGrVvJ1XXyaJoQ7uSvh\n",
       "T+OKXQ7inJQ8FSN6Yv3gp5YPQQviYJk1+nlOUDEdcbybeEWAAVqFGw4owwQMM9FsDg4iH9yPPtKz\n",
       "mKvL2e3WV0wLzvLbhZgzg24k4eMJgVOQ7n+u7/ZwiWKLLM0zxsw62WvNdrYxFoOC3yjG+gx1MqG7\n",
       "P8h9CQ+eK99rePRR9AdT7eibxMxBJtT1/fwgHzV4Vt7JDrxfm7HpYd4zwA+o/OqvLiKJwAOVwxAw\n",
       "VBVSlyqzAznTxSv03HKdxe5Z78CCAA5LH5K2JoP+Ei/d3xbyD+3ROJvhhBTLzAafHAzM6WuCf2+B\n",
       "ftrfBSb1ptWjKz8KG80nsSRNuMfx5b1Iarp2YEgURNXG//26ZaKWITWlhofydQzLneBwE4i0gZl1\n",
       "8Xir3ZV3ecECF2M7Hk5EjF/mwJa0epBcDNxYzumdDpXRTqZ58kHWz0K2Fvh3b2Q+4HvVgy2OAEvj\n",
       "7TTKidPHf+ahom04gePDrMUQqD9Yo5lNuM55TmOw6chESdMU8DYAFYONK80suAnKPBXLmTxlHXEM\n",
       "xV51eZtUDUd2RLAv2ZOYkJFatPSmCe1O5sEfQYnXkMbqUKRvpsA8jZdfLMWxLAxUzEGU5gDhl6rM\n",
       "Zo+OQamlrpNj+yRP8L6XORtaukv3EUckOUI8w+HfZ0x0FhNNYdGah/tk6elclKbyZwqPY3vg/x1P\n",
       "+5jxIc5oTnK+i953VZsadFEB0ZrtaGJTUL8J2JsQNyi+EokXyrfkHt+zBqB7PqTAdPH6YrmeuejW\n",
       "qsFjHqEWqJYUdKpZsvU9Zhy5GCvSEiRVX+22YHWn0qqYI+/3II/+XAgeJQC9yOXAv5tl8LzByE70\n",
       "jRk+rq1IWHT/r/csxi8xUOHypBjMO5JctUUSe+ilPpzMmZz0sQRThB08bZSDvKc0Qe64xH4fX1Y7\n",
       "m+PZoyFESw0Bztln2HaHNg8uzjdwgXK7JA8R1/BoM8/fXoUoHCaIMfNELVxDn0/+6Sw01hGkhMg4\n",
       "xyYAn690LqvzIp3/dF06e1WFMueR+vTQyJdKBuqAMbpffj5KciQ3tPk4zjEh0D1jc4lGJ5/KzmPy\n",
       "OvN/9UAYolp6MFLh2Qit7FNSa4OpWbG+hED96hg0cfoS3OVlIs8Wj0OgdcXk4jzDrn0IB8KxUgk0\n",
       "kzt9zUAFBAAAAWdBnkJ4hn8AADicavc3+dBVWjoAAAMAAD7wtqVQHlO+4DxWxipdQWog7/a310QA\n",
       "CdvXCyl2tmi+K0qKqOdInC9Q5noCUPZYO7zDTF3y3i3cyVQo2w5KK+Ee5Tm7gekegUztIPNOoJ5w\n",
       "sUPQfOfo156S/TmLFq7gtQZmHDKx93YlESoaYe10a/6RhY+YbNq1nHMyDcYEEWMfxYv5CpNI9CjM\n",
       "LOINgAAHGPqZoomBjijg/edZ90pRi4Gh0XJkhUbZCKr0fdhIw99Ed44h84d3s3RehVzxfBicnct4\n",
       "MNijarBKAA9QKs9w2nhpmNU1pP7xAiPRhpjMoZ/VxCBgndsotWX3Mds3Tw7B7VW2Mo+GEP5byvdw\n",
       "W/qElyTktKGrMLZdMZB4VbE3I0v3dT7Xa7BQkFjRwnTNQM7xYUgYed5gV1ZHjowJEUepzAVEpp6E\n",
       "/umrzuDP9cLZAxSTWaKgmcP5NwCm8pZtX1QCgwAAAQUBnmF0Qr8AAGl/daCpPWcrGUAAAAMAAAMB\n",
       "I8LalUB5TvuD1+3vJGmaLWR6gi3i6AEXsK77Iireh+9O6LdUwKHoxlI/9CaQMd3G9DUya0y+E2Om\n",
       "p4gYOSVhcfzTN/tPCfaOT9q8S5VAMjfmFfMrlPw+2EY4N4Bl//z7YNTINTlSNMaOMhljRbVtQvOU\n",
       "qA0fgFdBI1lbQ7ybm9t6w8n7eDulk6b3Siq9wIlEx6aTqu9qBZOWLGL2DUAO6REELCfECEl5FOhV\n",
       "oyoENdeKQ8kfyF5AmOx8uS++A8b2FiIJ5vhL8mYgHI8piL62gllONvFPdncFMqTngTtdgQ+WI573\n",
       "u6QkMl8AakAAAAEEAZ5jakK/AAADADdAbhL4Pj8WylHaNPh7OUGABtBU9sGBozsyfP72J4hH0hQm\n",
       "qv5oMjbjJRWKZ9Uik9CTyni7GL6DwxWJv1HG/LXL92IC4n30wkN8L+RRTnmn4TlaZPGEuaYw9hOW\n",
       "Sp5wpYtGLZnzROjU+1uWhgsq3a+QDs8sI/H9eoBrEbJaAAAIpXbNeztr7ecpN7X9gkyutE1a8K5M\n",
       "C6imPYMwB45ABuEyxXpjAgdmFNKjuIWL+rvXjlsl0zLM+FQFVhi0RCXwNgzdligU/jHwrjTkDP21\n",
       "ON6YQZ4gmOyUvZns15gAO6V69s0zFHKINuoeOu2VoxkBtw/Dcg+oGJUQBvUAAALIQZpmSahBaJlM\n",
       "FPDv/qmWAAADACI/I0Wf2DR6KOS4CercDPscAR8hULO34mCqs2VrDNDWSco2YL8w22LhFN/Qw+gH\n",
       "Yariztv9nWTBmCEtt7ftx1vQzGWgV3zkUX7VpL/FlxsKC//zta35SxUWUOuPckCQCFlQ0RHfjsWq\n",
       "v8cMZ7jUCES9DRi/q6/rrdCNZR0/mT0S5eD17h1xcrZIE4v2l4soJ4cxDXfnOak0UGKre9vMWaO+\n",
       "c3TTBt7iX67c2o9mffPHs4Z7hduJ2x07JgfsyFoWrL9IkrrjxTFSjwurPGkBliyvj2043rVETq3x\n",
       "W9Tq3rsIIDE5TRhXLql+sZordh9lgAAABQGUWtkCQgOFFcO+534MtAzoBe6o7kJQLRx+HVuJiFVr\n",
       "o6G6PdZab44v7w+fDo5EsEcqhOTBJNL1yYBOTAhWckpnNXxqbDHhxLhRT8+9sutG20ZPkOUIfhlC\n",
       "/A33v0f5ycWsS2T9aN1Qr6gnPjFPLePL2g5T+fb8U88iM4Zrcsr0CBFTvqiGcBuhgi0c3yjXdX37\n",
       "jky3OE3VpVmUbrTKjpO6Y0zsbVrjHYOKInVlSVZ0nDns+8QjioFrhs0KEb242ThdKqu4dO5EJNHs\n",
       "MiAACVQgpknEenSBitBkZuCDQ5TWn6nLuSfDbIglFmEOtNNm1A7VHwBputAfGaSGE7S797tCCs5b\n",
       "5KlYyW8RFxI2SCWMuXOy9GDehgowHUAr4lJCEApXqS7jx8/kYtU9ATBSml2BAEWfyclLIGddidma\n",
       "UD6T9+ccLYvI2FqsliovZoOAAD+m6xq6i6GUmhl/RDeBKqhm/S6R8Uq8XpTepNGWDK7Qw65xZas7\n",
       "0eZvV/f3Deo6uXWiyViS4ZtLQ7Y7fsqvVaryHzBTtNYK2msY/n0ZM8Kyx511vn0xsgLwi7OdnbY4\n",
       "Hori5UGwOq/6H31qCo4x0AAHjQAAAMwBnoVqQr8AAAMAN0P5T8W5PtTIS3jlxiktXsKmDspdgkoo\n",
       "C8RsKpw9bl32FgSgfq0/BeDZSMxoZAAAAwDj9/3KoLeWVZISKC9jgALi/O3lAHYkpB6329duWOgA\n",
       "V0D+PVwPWy6j+djL9zVgecUeLEsr0K3lPdNmQX6S2ykP+uqdjUxDt3oaQJ68CtHkaxJcAgAjuJOV\n",
       "2d2LQ395tOUGPBMlcwxDzzNpf/DDG1/fVX3dVSPAARVCZKax33HjjL36hNV80XBcWRNcugAAPSEA\n",
       "AAPbQZqKSeEKUmUwId/+qZYAAAMAIT8jph77VW4XvXyiLu+FZrDhHaUsAI27Ds5V6P7KePgxU4vc\n",
       "oAOjvjVEtjclWhV1gaUra/S+WZsUNyPPnBwOH5mhoZitsnrwfqOvrmuLiaTdzqcqdjesAfFBlzkU\n",
       "1N5BH8UnD8wnrwNZuf1Ma1i4ammXBXHFvLKdfWmCwKZXabCkyB7IG0Pz8av96w2FpTKbZ7fKmcf6\n",
       "yx3pmNzyNTlzteOU0z6hcy4JmkqhlWYvflmHRJWPQZ4kD3QapWUXLjEnOBLR6jhcnmU9XxqjkZsk\n",
       "htDVbAsyuohRPhY0gQ5hXj5fdd6l0jsbGF2OIcCwtqkOuqN1kXXWhXfwr0z2gEv4umZ/7t9Gqbzh\n",
       "mDi/vvNJsszKttFUs2Bj4thlYdX3/FX/6RqzfuCmGmJZO9DJr60HmbCiZHzdIrQINp3eIJJIeV2V\n",
       "24De5LSYjR6Ul2arcwB3X6hJrHN1aH2rjZMrPza3/yOjJ1/0aCZzj4UXag6dlJFCEZKR4HZpwiIb\n",
       "BrnIcXp+XMuXtubyhRsHTklsqDV3J8V32aNaMcVslZ96UkMCDNXRsZW9tzlL0e8dCr9mq8KjtiBf\n",
       "SDYjQZHOEtpG4YdKS03RcJ1HQJXStAwuRQ0/RC7MTBn9oTEuB9hZEWvubEz0l5JoFluUEmq9JH20\n",
       "sdwK2EP5iwB9fx6UtcbHwnR0jDh9swrAPBHysvzQAlyRkwTS2JsDv1RpHGQLXwym84BS88icNDUF\n",
       "LxDdZDDcidfMYVvukVr/hRucoKUwuNEcloT4c7JuwHc0e/YjVIXN7xqIdo6De486hCjyzQ21cYIa\n",
       "azjsrWpwZNpKojxeV17QidLkeJmKRSuDBMKnTPCE+MF/kIeHDZFCQ7DLQEBpcbkKhvkGBhtaqOUY\n",
       "LlmEYI91C/xbqwFbSfQk8LDZHXOQl8hBgH9gBmEee1XixjYbet7P6IHya+JmXEwU76nAK17/A/Uz\n",
       "Cvc/SkAqBoUJ2pmoBE6bGnUVhiMj+SFVGgIkFvlYEBpwa6ZuAAXXsfFjNoNn/1ylv8eRYmKjRK6M\n",
       "ncLIGl6fH0GNY+vANMlSah3kmP5/ZWPYBfw+TlSaXCphuUOyGRdTBl+F0HTr5JXFzY5c2m9KAD0t\n",
       "0SWXswqYpynC+GuLeMPXaPU/IZjE3Ny30Cm7qYxK9KmXC0/i8vzLfcuw2ImQ5Wmc5QIRupuEaNih\n",
       "tKR70/BxpPFWNQHFN2ASeRS5CIdRWfBwP8c2J6JZI7lMyAOsecgYcPYj7Iw+4IPCFFaR5J9CGL3B\n",
       "plQe77qkJWqOG8PiXKzbxw2gAAb1AAAAyUGeqEU0TDP/AAADABz+NJxmejjYvZCLj1Tke5YTv5Kd\n",
       "VOE2Z2OPLi7EX6Q/fgBJLmZ1CA/ZRk9uUeS/IDI3edoniiZMulyIxyUTzN96Q9uQ1xmfSRwWgzgf\n",
       "au9nb94tkAAJVg5ee+KxJ4CWc52MedGkSSZybT0GLnKoZlLvtGL4J/VCU+Wbo8x/0Qw7ev/xciAD\n",
       "0LgEMLUuqpZf2F/abZ6/64AG1ctT9IIYJb4c2V+Jq5Q469gB3EG1otxs6OFCCp64DdLRsAApIAAA\n",
       "ALUBnsd0Qr8AAAMANf/Db2gipyz9DUO/CDdROzcNjJl9JipwAyuHXf+R8Hrxc27FU6LafqCUAbgs\n",
       "BUM9RgCHYDYg/ZDLglXNj1haAAAKJY/NFXnSgZzgXboD908R6t7/+1GpAWp82qlT1e08mmsKtB4O\n",
       "fAOlKyjqjZJABxAgLpE7mKPXgl07Vick0+AQO9xfA6mSxcMzFh1Smu4UGAvuH7ug9cMjGB6mUv2c\n",
       "OazOKioeesEcAB0wAAAAvwGeyWpCvwAAAwA0wF3NRWDbdULz4nLCJbWmC9gG4oDZHeDSzG4TvJBe\n",
       "uB+/Oi/UFDaO+QJX3fVS/dMDToBj1nalL6gFi1rFzJHtyedXyqMJSpkck1wAAqo3VUB3H/lW8V+0\n",
       "Qd0t8awTDVLXgRH8SOunnqf69CdgjHH1N0uNZLhNdLVBZHJiv1GBBUGTqVvNELl7p9IB1CMJociW\n",
       "X8+L5JzTuFlRuObM0ZwAITbJqe0DkPxAgpX9YIr/4b/wABDxAAABkEGay0moQWiZTAh3//6plgAA\n",
       "AwAfMbmBnIGcQogw9wCzADTypLsOUfT4yxtFI+WK2+I9bjJF4PBaiavAD9+h7utyI7S6W3R93+R1\n",
       "HQAQ4gzdHgPiu9JPPEQWwJSUTuv+Ib+eFR6HMNtzmXw9bPKo/xkjzvIEAzHpSfFNBUNSSJxrwsu5\n",
       "tHXhYFlBq+9ERBqrA1S9tWknBE15YzkSRSqpJalOSd38F10Jb23XGmeI2ZzwixDvIxLWmxiIHl7e\n",
       "cOIasP84Ho3S2Ay5UpwAAAMBUF7eba+C9PcuWJKXlyTGstF1hQ2+EzRT0XwUS0zK3XwFZS4KVZyn\n",
       "+nVhSzFbr8miLMGcSBU/zXIg5pmYZCSw+X1Ab14rafOAYjWUj0OHuMvQDh3oumqVrSOOg3F2g8dQ\n",
       "Y7BT0M0gEmxqmJvtd4uiiBPDU8ADcmHH7y+5Y+xDjhGliaOe5GK5S4rBcB0N/8hQiDLzL+kR5L/H\n",
       "GdbP0tBBcLZkMgXpuC86+ICrHuw5o62J0JHvZpDGdt0UQs34WiUABWwAAALRQZruSeEKUmUwId/+\n",
       "qZYAAAMAH14v0eMZQUJ+iFZEaWTeMBADU386OqSyNXlCpHh7V4awhzXiobg8BkFVmVR0O/dFLXbb\n",
       "vKnXkK758eyudmzOBdO3zjI92LAab3luhNtHOHh0S3XNA179492YsW82FR0HiKVHKayAsfyDseBJ\n",
       "K/OL+M902L8yF17UFFs+/W7RtwMRgAZFwQ6D/zS8N8cF1OrQNMW/9fPwfGb62tzlLU0JLPz01jUd\n",
       "b2Fiwst/EP5vneiDXkcTQhgc5N8sbazcpc5+dg27I5bppgiBL4DYMOj0GoTIkaS+6dEqLuH4CLiJ\n",
       "Xs5jAgrJzPXZw5gZAIzXY3ETW4wmLqrMnKqfCPEEhhkJVYbvhb8zw7m7RumYFNJWAg+tG6Y0o3rY\n",
       "WQ+jHuifH7Cix54yeQGOUEIFha+hXQ5cBfN6j3mcXBSFyQ2Pr02gzcanEhAAKN8aKaR+fXHA2LXf\n",
       "SiltMz6Jnd54F7AHtki+qZIQ20PgM/JRtIAqmjgLsg1luIK55UzfmLlA9ASPqqUAteRatG1viQQx\n",
       "72fNI9xD2fvPgmm1dxozgRIvTxPLf4quoM1s9QnkF6zlAHk4H0NaDDRb8XHKy2nLdXoQ0rX/MgdG\n",
       "TE4/xGksRg8/1HeKgTqvuK/dPhKuHUBmckCLw/5NcVSoo1X0+ZGbDoIomjiMU3BAV66BFz5ADk8R\n",
       "UYOk7flMfjO3bRdYaAvl+Z/LJNwAA+s0WmYxkQbZ0HPWdwwZ47Sxs6p8fAdJJwDHC8OHQy3OAmm7\n",
       "yZnwtqvvDJVQuMu7inU/SV2iiQjqZGbAIb0aIOl30n6Ub6EjlDJxpwvHrhKhIAouLfYyCyfKMgj4\n",
       "tcItygK2+xyWU9N5CZQftE1W9pMHALTFenAsoOYNlH9LfOvvkgkSDOlhE5PEuSfpc7SggVqJiOt7\n",
       "Ptt8i3ssAY45UZZQ3H5EAookrFLgkAAF3AAAAMlBnwxFNEwv/wAAAwAluNdK5TpjteuVFUsmpWOv\n",
       "DzDJ/P/glBgsHEBl6mmEobKIke9UkAwrYufzZN/hjc4z5wCWhkLfU/wANjCs6mcLa/EUjxxmmWj7\n",
       "pZfHMlHGAAAfxnoFccWVwc1ERKW8s4otlKDXrI6LKwj3hrzVuEYwBQesMS4vZEwZKZX3dADXw31e\n",
       "ToDCgM76oThtgDruQoY5ggPw3Mv/AfIIWI8goAAkzxI7SYp/JGtR5hjyWS4b5JUCWESbsgKRYBQA\n",
       "DFkAAADEAZ8takK/AAADADOAAYdPXPtRoIP7srFFl5WrBNCz3zIU93mJHyZ8U6SWUCgaDUEcGAHu\n",
       "JRLyNhraupfiE/msALBILvNM+xCnkm4NDc7JzC+lZ8ua+AAAGi5/RYk9sLG1STSA7k4onorPPFyC\n",
       "96XNwSyrp+MhlACJetyDOwpuV2oW7GBAB8DxuvgYPfiYfTa4yG3CZySbiOermtQu/c/ns32grU5Q\n",
       "AjqZPOb1F+y6ItCoZjElJtdcqAf9eKDscQduAABywQAAAZFBmy9JqEFomUwIf//+qZYAAAMAHoJE\n",
       "ClyZtP+9pnaALsfy1HyzT+q41gS0jMgJGPp1hfNHVt2dbgEq3jU0CLnv/g65ocQQyeH/feJw5rV9\n",
       "70z8FfShXXbFoygHOIQ0kLLgz4otaT7WNwEuWoiNbeVotToUrVkdfs+CfpmD7/+C18df7Uz8eYdl\n",
       "X5zL+Lrcz9eQiqw/WMQ/DdYZNyikoWShMfJtinZv7lsA20dtF0K2ar/eyI5Qozrr4QTnFQ8Eb12+\n",
       "sN2Wt84ui6gAAAMAwpzJTMV6lVL9L2CE5u+vjgIv3WJgY4wU1lL8BSRgWK6xKNDD24wHQkwUnjXo\n",
       "0cFcNqgNbsGZOmq0+1ZfJj4h1o9eStdd+sfbTuyv+/crrlKITVOzUTV7v5Q5X8iPfknBKPWyXHYE\n",
       "VwOiiSzgG6SyIR8yjcS476C3QXKwtmx2qwuthwk0zSXAAByd02fLFjevoI/MOr4TFT7bzciWT353\n",
       "WW4Hu0095RbX3bDv0RVUL9sSxegGzbTuHz6h8WtqkEQauoAKSQAAAsBBm1NJ4QpSZTAh3/6plgAA\n",
       "AwAegcMgaPtQumITCSCrdrSERT9Odvt8E+pd+EOderPsyK5fvWLXQDnyTD8L+iTWhGajyG3XpolE\n",
       "Kh410wkklY22FvTPiZEn6qYR3trlD1n1ki1eKRCvjJY9L54klijZo4h6/LbceIVoSMVFWt/L9F8Z\n",
       "5EO1PO8YWpO5bA1FxSoPX8tXQIjY/pjfiqV85CPU6HWz0xFEoZfQwEWqU7zyItsZqufmBFZKs5dK\n",
       "1y4JCVVm+8J8Zq/Bnto4ZLdk0muEBMxEJQYv1BuoVLxz1dDgPfEU65XXmUibzMyy/ZqxeKAZiquq\n",
       "v5ch5mFRC3WD3utK+wy/N+VxamCwfdwF7Hb8+sS154KAAANf8J4mCDUIam+oup8jDQja6uMe5gvr\n",
       "duq6CilTMn7q2Bd3BxktaRr9SBclUrbXFfhugKR9R6SWdf+biV6E56COrPFO5DVH++31FDWPk3pO\n",
       "jPiKmlMRzJ90ekasU9QY15R1wn3cEB6KgmCwvvs9R5E1idE/uiWS+HQ23mPG9oThjqNx3XF4F7LE\n",
       "R1QRPmlFSWBKA8NvkXIu7xroMtQ7XbxcX02A1es6ITkB6L3BKq19eJbl7kE/U3+6KOHAIaoyXkl9\n",
       "wTfrolUnrRm0bgjfuCyJEK16WtZIeMyieMO07J/hTR/4LGUMLCu6mnFlg9UsaHqW2HEd5QkWwiP/\n",
       "9ZGAD1XE3gtGhioNfawtH4W91IXs9AzZVhDjuqiLwAACs+8KS1jioh16QqX+GW270qpEi46Pq5GX\n",
       "yW/9nQRNdb0VXI1pkpREUVhaH/nbPO5fYbHeeUKItz2tckdIhSav4GSdbSEV92h9nDHGKxa6iu+p\n",
       "2RVC521K/d/8Nt5sx3rB1UeVg/2IE9X9N3YiVYnZQxviWx5xu9toqYIrUQ8i8sAG3MNTUMjJcvy8\n",
       "kgAMCAAAANpBn3FFNEwz/wAAAwAa/mCo4Q69y4h7hvJqPCjFuz2JXNt6tkRQAXy/fr2auOZeJcqc\n",
       "cmn4jwf0duaAnb7yXutBN2Ak+obopfbEBEcX7+uPMejNJXRH9bOIJOi8V2n1MTD1hMy5yLN52Btz\n",
       "gHNEU6ysgAAEhXRxzzwnIy382+pcjgah1NEqy4xKHCNlOUCLfLmqkS0HpHsFtnCjU91Z0/DQwCsZ\n",
       "1ICEJSNGFVhNIJ+UvQphGLC/8t3UnY9E9wBuuGOZeHtx28Sd1oY5mPdz8psb4GvAvThjBIAMqAAA\n",
       "AL8Bn5B0Qr8AAAMAMk9MKfgf8GMImZrmjxVOuaIZlo8nlRoqAwAJ0BWO0Zpmc4/bCnCwwZYZivsK\n",
       "ANOZo7KK0adto36indoDzSHALQ5+7yNoy5IxgvyeDStKq8EhygAAHkhuyHam2zoIttbqIsTIDXgN\n",
       "dyI/rhD8zumuFGR64l2YCFHrU7eU1B6BpcwD711dARvhRnHO/eKgPBUlpg36YM54wzpN0ABfMhV1\n",
       "msOL+5g9v6PSLT3YQ65MMg6kTgACTwAAAIIBn5JqQr8AAAMAMkGBD4S0ysBl2IRVLlurSTUbgAC1\n",
       "2AQq7WXcgvt0K5Mwxx+lXa117grNCXDQB9cuwLwAAAkg448AM/HQBU+978JZRJZC90wxBXYOfvtB\n",
       "fDDdH0S1WB3AVoFi5sVKDGNVc/j6KwJoYu5IMwLy2R2bMABuZRzkACkgAAAC0kGbl0moQWiZTAh3\n",
       "//6plgAAAwAehZUila7VOjuQ1fAdkjqdksYyBxcTvAAH6//VmjZq+FZbXZNHRPYKgxqbMotMXZ77\n",
       "cjQSuTs3aNvT61N0EDCCggBpHgG/0gmnJW8ryXXLrH5gxd9h9RExYMFjJ3cimx2Mu7nF9/b6OlU9\n",
       "ELQ8Shz3VEtV7qFF88iZ6374dePby0kyO+jNg0VrhW/cPHnsnP7YRmEil9w7V85Rpj+04XYCd5gd\n",
       "Yno9VyJp8XYxxrgH8ffLIogOwziEK4ZzaglaovguwND5bjiOo8OD/O5E980pjErj0b7v9wqSkDwf\n",
       "Gt9A68cR+IJtO9ipDR4Lx60QIzxNkP3Csv9CyUX2aLwc62Tl7K2dGeYLv1mVQ4Hnok4GGarhTG4a\n",
       "CFlWGJfv8JMzJ4ffEF0GpY2CFve9OMrzcmLslZRq7EGiCGGOIO85hC9T9Od+/39PEzQVlAAAvMRZ\n",
       "HOB4NoNdWMsph+tvG3zLDNK1i5DWXOJbAoqxGcxFQIqPbCnP1pvHNYmcma75xPHT5WKbZWuRAHqb\n",
       "JUARM50Ac9lWvBVA7y4/mpytu5niqT5mS+veTIaLkLP3IhjHM9RXTxqD+npjNFkxFImn/Sp0h0DN\n",
       "tADdLZLaUfWtIkovV0D0SR1vw0oi/1gjXMlNthTkqdNsN3dDEG8LFfTcP2uB7jnvsi1KHTf69CN8\n",
       "fuoGhQhYMzZtCST8IlA831ACnaUW2SWIinz/JBwGhFeboxH4TyWOdaea5Q9O1wF+z+8hyZygGMhA\n",
       "AADJOtn7qNMeKZ2jfduVCdPdUurMFMxNLnxLSUupcSqt6zjwZPXTEVvql4OmE4bpHhIAW98X4VEA\n",
       "TvZOdNShPZn8E+OnDNekQsLvcgvnzc7MRsej2Kpk9JLt7oNMNi4Z00FCM8/pMKIukqw4VWYx0cYu\n",
       "n8XSIUeWTrypHES78vfuhQ6Fs95lLQcAAKCAAAAAjEGftUURLDP/AAADABr0CahEhgL3/ooRuraI\n",
       "mFKuJUJWABOsjraDyeB8qhRqefrYd8osT0mYrZtegcTDAQ7UBXYzQAAAPWhNu8nylBsZvdH9tkR5\n",
       "5ae8GfWo1t0j3BE8bXsxADea5Wl9EWgUmWaI2/PeF3z6Q80g4bIIw6R4W0sjriQDjBD9gJVIAJeB\n",
       "AAAAsAGf1HRCvwAAAwAyUgOoxpsD3Fw34qQb+AiAIgRdGx3sC6wpPsbNtdLZj/237OK6KcrEzHsY\n",
       "sc+uTDIiJXiGy3FP+0vlLR4HTfj9+RP2GI7/7awAAAMAAmZcDm6uBil3lBRPnILs7MYm9gL+blzz\n",
       "3F3hRLM1ECUolFo/Zcd9sO6f0K7utPqlhhvEFZipGkQYQnhcQ8otPwATIaX8NfCJY7wtRwOlR3Cv\n",
       "sfAV3JPmgAEvAAAAqgGf1mpCvwAAAwAyTqu00d88VikM5fwuOPzoALUIK6PqwZAfdzoAIKSRHrYk\n",
       "VfUUvxpCSdPK9+Vc9O71tASvMRxYsVZXq79OpGtsK+RvlN+ntAAAAwACVA32CxwYHhZtCKHt5bgp\n",
       "d5V4mW/wbXeNrgEdGKfv5Egb1haoWNEO3OL0ONc8EDoa0Hhg2oZ2i/8HoYo6AAMG3FN0MXpwrDxU\n",
       "+2wRSxUetYfgABMxAAACzkGb2kmoQWyZTAhv//6nhAAAAwA+AM+8flCqeElobD1gJiMitsUALGOQ\n",
       "exYV2Z9LGtXjE83L+BhJzEscM78u7ymwPtwCJlXrn3d9YzxrisMe9dPfZofXhlVXqyi3qUYmTxON\n",
       "s5sx68JT24Dvd097P5WYv7B0XNkT5ij6dhd5VyX5Padcw0vuw58rEQ6JmNeMtDmzgvop/BE86aqY\n",
       "RjmIpjEH/rDPWHKhk0birLhu72/6cj3DcSpOrrAdt0QVhzqwa9ppH8ULmcJXfN9Ev9J1Me73lsTr\n",
       "4e5wzXjYUu4iYCaq8jPoOsm8KUqhvsLoGa+f4aLyPvMK/NN5idt3CyPCp4J8Eev3pTE61QBGBfSn\n",
       "/9ZR26SCCzb+6yqTPBE8FlHvbTDJrI0WXNhG4eEHDV4v6kXThZ2Xzy1YXhbIKcZrqfTmPBCzJ3/G\n",
       "++oMKuctpHN9gP547mzLy4g9pQAgUxEJ/Mj/pZYLq8z45AAAAwKG2G58cqKmzL93FBJE/dBatSsc\n",
       "9tArfCIMbRXVj8Hc9lOJLNsWehz1TfG2nUZoU0kHIJMrzh/L+Xeuarz0Tzecs9ok8FFcgJNAHm0q\n",
       "8Hgu5ITxRr4YindvBUbVX5MEhFJfz2LwfDUr3yBAx6fLPjIJD4WcHAVwZtBt3pEq59Eg8QwmZRJk\n",
       "muXbJZoyN6N/XLXWA9bt79xFavnq3Y1r6dGMOHXuiYkW2KbxPHtyu4Xt7lcrNGWvXqyd7FrYxzqX\n",
       "YlHvzIADxeJ+am2OIsCPLk45EL6P3q5rS0H7w+7g1VaCj0MjUTW3QvXnsmYgfOHIeqD5uIRnXyib\n",
       "JOf4JGKaPTqRHc3O9SB6vOG+dXIVjTXHEtV+wXIpnYdW721UiALRZnCusEqy9ARvz1X84tj2DCht\n",
       "NlYcSaUxSqpijxBIMou0qSOeWLCHyrUfff95d15Li3CCmoiFr9jUUTlMkIBc4rgAC4kAAADWQZ/4\n",
       "RRUsL/8AAAMAJbnG5mfbIk67+dqrd6HoLU2l9CTbTaDhISegAOyIL4xJUAs+El42UiVDRKSPptEf\n",
       "3NpYrvkXoiSqr2MGfmsLTmrVVMPm2IBTZbTkhFdPa7TU01TF6JSnf2zI3y34VpXAAAGDET3cIkMp\n",
       "bLtvQhVfkTUAC34l+P76vN4Mq3lK9Qf5fORc4QqjKF2118iGdn30kVV2ac31CqPE5YCmcobM5Vos\n",
       "rENyE8henEfuOeqkqAE2U9YvcOqQdkj4Sv8mGnTRTvlRFnbagAB7QAAAAKIBnhlqQr8AAAMAPiyS\n",
       "uX2GhsaOg3oyuQ9TJ4DN5KEQWu/PSdABp23sFSd7gNI2yWmLF/5KWMkp+dAdBX01T2V7IMX5r+A5\n",
       "yLYBSYAAAK8i4czrhi/Dw9Fa/RdsVAEqnAxWT4f3ycy0aEW9Mlb3FsuoA/z0Xs0aMPxPscAyPB2y\n",
       "om4AwWD3HDpfDjsngADGbPUK5PZHd7un2UwJb2AWvvAAPGEAAAJhQZocSahBbJlMFEw3//6nhAAA\n",
       "AwBNvkbPIs+/w/QNFaPwV1z224QAs5QftlrxpdMNUfYBsodxgrlg5CdLzURgXNvoDZ7AqBv0KGDi\n",
       "2auUdjzILjUWE3O97CoEPpk9wGlk0PtmN937rZ2GIiLVSsS4nZXSUIpyKLJRsLQIKGNPw8O+TBzL\n",
       "TfqavXMEngwFHcfudgnCxENmdC5n61agocmj0n6Tm1xOe9Ws6SbASYV3MBUY0w/6FM5A0/g0ZKvS\n",
       "Eyx1R8f0WlzBOHuDN9BsjLPRkffIX08TYy5WCAKcM2q19+22bZmnTIoEmvdQNkPECA/HYPjk0s7g\n",
       "7gD5ZPig5Y0bvqaR+wd2QEUPCIdgFHXOl051nE2kHVm1Lc1pZ4F/8jEvcOASCOKn0TM9rm04lf6y\n",
       "WIknhFlancj7Oi/Ws6fwEw9wO0/vooM6dna97VLbvn8S3jXbIJ/7veYOUkYAbrGpwAAAEubDqXOT\n",
       "7F682I6ZMP0HwR6tkppKMAKjU0cwMNgh6lhIidNttn9uocV6c7mZHKQ5KH4JJuA9ITtuSKuT4d70\n",
       "xlPwN/zEha534cHzRwmbdzR0ICMIThu0fHOid6c6vD3Ggq7jFnWBHtO42JZrnjwxDUPQ+o6roh1+\n",
       "zhc1qZmgr9gzO7eKvOYai/qKBKbcAADh0880bzYI3C8A/QwyuSsuiqXVj2mnvoYbWsckxf7fHSG6\n",
       "h91DHjzftt9Pix7wOFeU+2zRtETqh8Air2iCvUru/bTNjgZW+jf5DQcyOIotyxgE3QpaqMheRvxA\n",
       "az08Efga2X3nFLyqRn5NSXhVAAGBAAAAuAGeO2pCvwAAAwA+IE9o+VsE63CkJxx8T35US/JZuTfA\n",
       "/iMtoAQpR9GBDXg8A7jETboV3EwkkD8mwDSwyGsDrFCkzt7vji7Nqxk5M+oJLqRrTYRD/vpDLU+A\n",
       "AABclUnMewraV39kyTw1ntFOwP2fGl0o8oGOCVaxcRf5/R2C44sZCTklDiE/QTDVf3RmIAVdzikq\n",
       "QQHiQQ9N3IPfoAAuphT8yRtttw+X4h1cuHz8moLILqjsnjYAAm8AAAHJQZo9SeEKUmUwIb/+p4QA\n",
       "AAMAS75G0IqXiWEf/k6Z0Gln6RHTGWgBHoQ7dM6vmMPzcxLJmX1fTq87Yi8Mm6zrdm+hcorkxJ1A\n",
       "fw2eVZM4vgkkvvCLBBOEQl7KX0BgUzFgHamezyKDGz+CP8f8Dlm3aT7jMkSzT3+JmdCJPDdEueJ8\n",
       "N6gQVJ6kfwP9+p8HX6PUA3QpHA2DGNtaO7eZFr2nmUwF4bDrl9D/A4xhCl5LfMtWO2Nsx23aa17L\n",
       "q5sIrV8KSJSvEuIMcuk3TKHwLzfu2lfzlB6Igi0nX1t8uQzXX2F3M/hLSC5tTBykRlgAAAQ6WKuE\n",
       "UxAGu0rW6WzJjyM1mrdfgeDGIQTpLNX7wDiD4vChZIfdSiGV3biEGDQvy2j/dhw5tRLJTXjCpFgi\n",
       "nKWUsUCvPcAjKTyvWLpBgGZSWpiH9Jk2iFW+Xbeem0aMOKEyDoGvqQPZx0LB2eWGogmm0xm1v2V/\n",
       "2UsP5mAU5GcAAQ178b2A9XcTTBSv2JQIEkxL+xCUL8kdOLfk4dsoPBdMcgWFg2St3Wtzn8A/LVM+\n",
       "YFMRELd8elmhph79Vuo0sSx3SU/zxPYXCtPs4M+YPX1b5BUc4RDeAAAGzQAAAeFBml5J4Q6JlMCG\n",
       "//6nhAAAAwA/YLr5MWm3Ot2THDtlqeAISnZiKKeofNUlgXIvGWPDE/nk7lSBQ/LWF0KfmFFngnBE\n",
       "yNciyAbOhFfQETpDJdSKIMr8vNFHGJP7VAvHlVDKj/p3boR+E1VUaClQwlFA5cHpOeMZypredUgs\n",
       "+qY4nf35vZnZA6w3OJ0jffk8BE3bWv+v9L/E5Mg2Q+HiaBtL+G5UTSgjJZRCo7tya+5tu0itRbu6\n",
       "YWgwHKBi5tYC36vCCUg35QbThjw00U+TGuFl5K49I9wa4nT8zifeuLOujP0CyaftwSr3owNStGr+\n",
       "relnR+qJ/uuU9lg++k/WsAAA7X9NJGs7PQcW8FEXBXe9L3JxxNO/6M+qq/T1e22WcgP5vdZ6n7bH\n",
       "euL+tY84wXf61bPNEkmAtjJcUV7MtKSuMe0Eh16J/sx2tJDAEglSFqroey9GXbja5gsVfTDdvumK\n",
       "GTdIaAZmofiHrIAAT+LO36HptE4W3QVrIQ1LrbIMHXZathVaMJXi/D3QgyACJiUrvGHTPbA3QyGT\n",
       "cNj3e1Szw+hOsQjgbjuFwj5Npq9hCzQO5rri4+S15/m51d5MUASVJBTfnXLf6M41nEMNiQe7hm0A\n",
       "5ivliVlh6gwblHiAAAUkAAABbkGaf0nhDyZTAh3//qmWAAADACAE/Kpb3Fewp6t6J3kbjP6AEkXJ\n",
       "gM6pFqmgd1gQ68rh+kDwch78M5xRD+tmUh32o9M8D7IWGTmq/tmN1xKS116xB1+6roq2h9GbJ7yE\n",
       "OcHQtBuD9vZB/2X4S7ahYn0qGA4UEyO80uYQ2JzVZdaqw+tRlq2vRDK/5gXDAjBfh7Wp1LCGSbqT\n",
       "jqT88gah+J87tGfXqYSLsr9gVYFw0c+CJCrBptHzW8mrjyjpfhkTTXq9qWTejkAAAAMAB/c18wLy\n",
       "ToEsHFdC/X1XlPDbOB5NXwA3jpdfombarv3YP2RkP2hnZLjiJtsGGUgrZZjUYIa5ZOGtDXfH3ilO\n",
       "DPimDmfq/v9S8uKCMjatyh/b5IfSbvY7WBQZwVncAALHwtTyzwElCU0UpBIsrNCUu9BzvppJl/pw\n",
       "JdhgjT4yk2Se+/Y1BKqObboZ4Tnbo+1Xk1Cw/ZlQtWJkZcnvLoOcwABQQAAAAzhBmoJJ4Q8mUwIb\n",
       "//6nhAAAAwBBR8x4lhSGyIxjjOTA6nWQLuFgB7l1HALI7gAiSMWSK0dI3KLdg7kUL1flFjzyAOrw\n",
       "heLTOmC2MIHmO9HVFfKwXu56fnCM6lFwxV0TPdogXkhW9745N4rgBB2nuTyJxaJ2Yah9M5VdNE3t\n",
       "vsbrawWbXOurwHz7STjJn8Pnmll+6YgpQMXCaKgck/WnDMHyHU1nTjaOfMp2OUhSMwKmv7KoTHQt\n",
       "yzYaG34lvKmkUZDUYZN+FJRckQ7Yi/nMLVEfL2EP7eR9NFmeYq7h0iaB3nT9q6h/R/WYxtfYZ6gf\n",
       "LM7JkLfzpn0VI0oqtEhLHZrCvgezCrpEwhtWcbJdDQML8ImpQ1jisoBlQTfKaceNm4PWLMdVf+0K\n",
       "w3wwolAwyfZgQ89NCTfwZgsRS0mgdpVHgIp52wV6NOMRCBHcs4oDDe3iZG/euF+jW9GL7hxgntVJ\n",
       "tm4ltLKk3KdYP3bIjDi4CzPsAxgIQmfMWjbRT6mO73NGXE/a4GJ87HGgTpRntaYFnAppjNlOoflg\n",
       "/iZcuVixblDVm3jUcKj1Ksp/NXPL2m3mCxlTWtspHE9TwUvOVybg912uzVv6jqKUzlBoKeQAAalW\n",
       "tlkAAvFmGETAukRbo8sfhIsGMJ+SrCovm9F9i6ou0MT1rGFqoEDtwEobhrSaZ0l1BvZwft5J8fUb\n",
       "4YcJNemg4r889VL0Efoeh9D115cVDAnC6JGmMneXCX1XQqPe/11xQuDzP61FDrHAc2SVtWUDDNkD\n",
       "VA22yzRBezv3p3Xae1v0H3nwSzNpjMkMhZ4hk/DiAOFd209lAdhUpp35egrbXAdI43b9RS49h5GE\n",
       "6M5wyE6AC5qDaqXmA7w4iqpyOIBG7My5M12sfxafHLxJxSjHh6Bczq3x1I6boe+ey2C5CebsxGHy\n",
       "p5kYP7A7sko/7EB+FcsQ3ez/jveVqFyt35BChEAApgcDcWhkgPjEpfEfyrdxA4X7m/amxL29tCZv\n",
       "6BI0fR70awly5nvEQSn1Giq3aZ2/A3ZNWkQWNCeQd41g9zJdLzT1u2FuRn7uxEpXzm3m7RpFNwMS\n",
       "7lQ0rZy6nfq2xs22AABZQQAAANBBnqBFETwv/wAAAwAn07/SJxtdXlQkqiMLXUAHbUcOE8dINBGj\n",
       "kPtaNuOnSVyyAkrxs3zZhmJmXn9qM8UvskfEp51zywwpDb7Ff9ClKZh3nHBlCkYg2v/IRWMwDwsC\n",
       "Sp8gFYgn949FsiT1wlRjrmwycVH+gR4ZlDLN7xxB0Hht2TibUbfRcTwAAAMDbkn16ir8AALSXEFq\n",
       "xE0ilGqghTBbsrvtshdSw+lqvUi9pnBgfGsrOf14JkgAw2T3bjikoAD05FqS4MGiEhjcTKNgAFtA\n",
       "AAAAtwGewWpCvwAAAwA2DoFuWOi5Tqj3/S9HD+ueCxHOoAG0FwJk13y7HiQaFX/TUHs4q+DMmPgc\n",
       "urHhQh3+bxS1tCm4BKXgzJWJfovkRuYrC3vGaM8M9N/IT6eNve0uXgAA1rT2COBkUQsnqY0tf+5x\n",
       "upUIiVnARp0HxJIGDre0EQ9s8XHfHuS4Su26eD4AYN+Zht7+gAD4J0RQ+bd5p5DpuNukRfJhbTYH\n",
       "W+RGjTjTggTlZeqx0ABBwQAAAWJBmsNJqEFomUwId//+qZYAAAMAJD8lGh3tdpT5Cm1HKEjKBVKD\n",
       "eV5iiqDNjwaN5GQrM/HhVowvj3kc8uAIL6Nu8GjRZ7mCO7GUZVaGRjAwikbhzEhYVSngjz9e4io9\n",
       "2tbZT3pctlid/elD2jF+/oP+lsRsB8AjpwX53K3lA5KM/d1EUxqUvF6ItKir1WvqVyIF2ti7hKzM\n",
       "rErv+c4cXe7WJ/uV/GM89qX4FmcZLpMCes9bLFdwhN7AAAHyTNi0FYAfmzqHvUD01NOTvqM/TPTE\n",
       "WBTGmcbkzt7akowFqz1MGITNDZ4NDvmDKJFwqVRhZaOhcPPnCSSO0Jm/ZF/fYTYZggCsSoTkG38Z\n",
       "ABFKYKU5dKyCaq/YLje+YW3ChXF1uvRavPh+V1pnPMm8rw8ZZLk13XxnZPfXp++DkAOZc6+pk2yh\n",
       "P04gcCr1dgYoQ1HlwWuvENMJThWnQ/Smr2KaVIAAi4AAAAJUQZrlSeEKUmUwURLDv/6plgAAAwAl\n",
       "PVvI+FaGqarN0xgAespw2xCf6vvXbMoz/qaLFiXfh9zYNEfPgTbL1JtsH+VmAUEMKtOC/mzb+6OS\n",
       "f4Gk1RWB/dZ+gj5oq9x7KmdknUEcB0ZXgsaAg+9Fl0+J4M9poDLuUX1qBwMQKDmNFm71+N1ioaXB\n",
       "dNaiWnwwxvhmhUCi4Ka0KpU7o2n0u25p8huRAsR1a9bcV8C16tHtko5KSPesknbBG+8STWOxDxXf\n",
       "anvDYVNkqgVSmhYzyAU1L3VUxUk28+4L5Mc7hGu2nHr1dM/c2bt8bUNYKcblIQUWvLnlk5W1geTb\n",
       "FCxiz0aSsfOZWMaT0QjF0ZcKymnaYH/ggNrmImgvLVw9AUcHPRXiu74JLdrsBzvPYtkX+fgoM9fF\n",
       "4litozFmlLIFLnuLU7kg6JrXjb5IzrtSTWk/IS9sNQATf0zQEy3W8AAvN0WE/AgEhzFCifSxLoIA\n",
       "dcwe0iz1WROtdMlRCc+oAaW4V1L5PehZB+qC5WMhLRQK7fWgi9oMqDMeau5Dc7oPaDvSDQ68MxPp\n",
       "06ukuGfHc6P92LFJXeZlFU+8Uy2iV1yYTYxbwW/l3fGF2XVG6Vxs9or6PSpENYAAdHrFEESotEqF\n",
       "nuOjb8NYmxJYpD9+wv4GSQxtZvp8BxL/HouzuAvf53FC9aQv/fLuS1VjxrZQc115D/xxQbEATNXc\n",
       "cdtyRj35kY/PJEYPAkCpdOgS0vgIMLP44n/4M0KPYGYKyCBaUos1FaALaTmeOq/Gv8KJlQOFzgAO\n",
       "HgAAwIEAAACfAZ8EakK/AAADADiskauPQuKkiFH9clL5ck7eJWuxNnOKj8ILnzU5yyndKqjtnq3G\n",
       "cS0JQuAAHv88+6zADbuu5Sqpub0Pm/+s0x6koDq5Zke1+XaNwwAAfGgm3IzWKv8CmAtwui96cfnF\n",
       "Vt8O67KL1ng8c7WMd97hu1qg86dNQO8jv6egPbnnawAA6UUQMIv4F1T0jo3pgX9PVmuAADZhAAAC\n",
       "oEGbCEnhDomUwId//qmWAAADACMFHr+xpQ3ANmmoejmt+TByIAZot4rJxok7+VNPr9825hzkoHuX\n",
       "2qrvAfMIeMW4OvzMMye7mY+9U9E3sLCB0bVENnn3j/0Z9HeikDB2rPbcell4+o+1rpkZEjp97nJ3\n",
       "yL1vlDI9nxF8Sv9K88KJk/IrTzHOILqgJhA1gWd6gfO3FdTgJ7TaGBjfk3ADORqr5O6JWahiRTyF\n",
       "62dMPoXlFPHjDp2A43e198FcWNmLKKZCSOHvpAoC8q1lvy151ILBNmUVgi3pGfauNc7E68pIq+ra\n",
       "bgSsvzp7EwcivGXOcQtsE/fJs7URPLbxduATH8uFToj/CL5KBDfV7noydPcuSMG7Kf3pWF349As5\n",
       "GGpDjEWUD0Tri+yq9P2eiq4fyLqJv4xtRPytOK66DEhyKYACMlj4RTO/ANMG/+rw9EwinYVw54fS\n",
       "HkWpNLtXW2gHQaistLsLwmNsPnhFum7J8tWw4MyfZt9nv4hgbeA4396WoRM3dE3TVEWpPLAmkvFB\n",
       "itjzr/Jbunb/tdfDL8OjfHodWQEqs4PQ1EsDDFm/y6QADm5gR8PbBMF9GUcyc2VqpgqG5sul3Knz\n",
       "LK97vihKO/shmWVRKb5ab4ibdLAfrrqtG0BamR8MX3rdbFehD1c4j+F05qvI7bW82Yqd8Fuwe754\n",
       "UcLOg5ku3zRYlrD8lXrzsr3voKsaRl+z9j9ObLCQL+P3wAMcThLxk8tXGr90uR4i9ozizXpsGJCQ\n",
       "4AJGpctP4ykSVEGlKQyuQ0/dJQzTTIHLgmWACPhE64PsbYCP4TFifkuMFIf/xHlsz4Cnj0uCSWWk\n",
       "KgQYHOFD41lufezgCQWsaaPuNLXEsMoWVT6AhGsK+m78IzCwgY7Acy5vUAABlQAAAKNBnyZFFTwv\n",
       "/wAAAwArNqv6iKKY7AKvFygxQ1zqhMElnlr+HUz0gA0hBmjCmQ4WJKROmEEYvMK8LFFFz68QjWvL\n",
       "Nt3XwTa4oAZzmVgIuznGsg65dOwonoZKghoAAHgOrzFvl0JgR/Kf3V5dxTaGgO257dOEWHjV+iO9\n",
       "rLKD5e+vsIiY73YAa069qgZ9nWAA6EKQVSjiSNLz7XkVJeagPqNAAAZVAAAAsAGfR2pCvwAAAwA6\n",
       "DIrIIljcOUMnMiIzzuhnCOfeAf6UCAGkiQrThBAWHgTiwPJt2kX5Cw0IpTs8bJT07ezDXijhynu3\n",
       "OyEAqlVdjAtOja3ZW1gszn7gyw0i9gdvMISFBBy4AC0/LvwjmgAEZ5tC5duO3Iw/n5cRF4U3ajWD\n",
       "5Z+ExiuG38LWkPsxt7dh2bgGHx1gAOeMxLDPHwCKqEYl1HDhDXqRCMvKmbKhwk4wAAmYAAADP0Gb\n",
       "S0moQWiZTAhv//6nhAAAAwBHR9Ac0pXW6FCTI9mtrXrbGQCViEJogJjaWwcvWX/2o8VHUVCC/Dv2\n",
       "XuPXagbbm6LJQeKVxIMqEf2MGKL5tDbxtSBk+uTe4VqQNlan47jlHUY4EgdMC8SKFt4Xedm3dyPU\n",
       "JXe3UUgq3BgNXLMhh9uKLxTELznsXRWozQ0NWBfJjrlHBEiomMcPbsLfBjcFQFsrSnJW2V4Mt4S+\n",
       "BtK2uZ5XCYXWMJxHRz0mDOHeuDOS6+kYR0hJBONzB4mfg5kqmzJ2yQv2yKSWQzX8G4lSRv1+BYIY\n",
       "sZzuBiA0L8cYXkExRGTzlnK1lE5nSXYD0ZCukrWaahAVpiwnGwRg3MF/0Cg+cCmJjea1pa3eDAFC\n",
       "uXSyS9PiWHFW1ANNBt/5PJFuSi977jdV6hJe/AkEMTmb4imiNNgco4CTK9aC3MJpkNkWvqEWjGpJ\n",
       "FHwEDyPDR/hiwYLBjSdEEV4dQBir4S9lj/2Y6VZXDvgCpybMWGPJJBcuO6Uqmr9fTbI8wvZ7OWwV\n",
       "Bs35okWPkIo0vKVwa6ebayW3GACQwaW/sB7tuavofuSmUdslvXJ/fxx9UA9+bo6x/kgjdRq5b+MD\n",
       "Q1PBnQsACkF3A0gLDIiYxwpkXpdFJSUWULX753S1TTnXGm4f6pWJBRkaqnZZGMl97P7mwa+djjOF\n",
       "ecR2kke72evVP9sJIG0YHNHdSIq/RgrWuzwpOyy8TaYb3Ve00n/r133DsBNNGF3ks7wGjyjGMJTv\n",
       "FOjyduoPBvEPptn1A3nycsaSN8FfCMD2BjgDwWn2pf8wZ00QSmRABRv42v4gn9wPAZjtyfHihgWf\n",
       "OpKYcIk7By+qMvveKKHYT2j8hToJ1Y7mLShpZH9ksBCx93RQrrxpapg92Yf0qr5itRmQlZSCQ3qQ\n",
       "4ouCUbeTr5045YL4oJikffMjfsds0APlMI3wAKs+53tcc8t6Bowryg+ZUqO/i/imx1baM9RbayA6\n",
       "4BkfdWu8MblLmNwijxJrMMk9xhQ4aMKxrNd1f/YlN8X/slzeg26bLkoMPmFbtW8qeMHzGTICQnih\n",
       "scG26AzaQSqe/iwCXzDWq+nv2kWjoizQVkjHwVgBoQAAAJ5Bn2lFESwv/wAAAwArKaqnm7KVLw2Y\n",
       "leXi90Q+EhNSkzA4SiERz+40NtLpYixYxLgDJgNHrJHQQBLmbpUUbfgvjceI4MWMFwQk58NlX/n8\n",
       "mXl/lAFdgYsI+XXF/Pq/91i2jAcADM5dVx1MHhgMFv+UJ4d5qF1nzxFxWGX7nTz9zHa6LQxLl47q\n",
       "ABxYjvj+Bocm4GBMEsLC/eDmWAAS8QAAAL8Bn4pqQr8AAAMAOfygGPCZFFJS9MgUqWGZRpBwFvF+\n",
       "hfkSoV2mATZCeyoDSShgbhC9ArGznCbp+xV4xjOyzj4fgMDJJAdSiYCURgw0/AtYaysho1Cafz7B\n",
       "VsDNonC9bQ792jkAqmEn9ghXaoCrBx3YKbhFDXz9jUZfZrKs0jJAAH48l2SXBhKVBEQ6rMaVBo04\n",
       "iadohIjAyI1Kwjkd0mfyXN50NmcMvEgZYkYAJKXzI3eV+/ELr+QGoqHqAAAasAAAAY5Bm4xJqEFs\n",
       "mUwIb//+p4QAAAMASUeaWHU6BuH5eux6D9LXjzfo8Uw0XVfbBrMjSfG5vXdg/Vq/bUYQCMdgJBgq\n",
       "NC9aEsiFHsMymRCauLgf1vtj/Ozw0R/1BC0bLq5eBvNyXcqLBLMxMobqjwH3UWAg0j3Xkv7+P2Vn\n",
       "WVNTBPSd99b+fhYcUEZvgouq1saOjfGuOwAR+rzIR9LqyhFuBy/g2xB6bTfUtm2uBIagwsQ3MYH6\n",
       "Q4PVM7D/z3y3qn+zaGrIGFruCQOSAl65vYloNDNKO6/gaQZNIwN5fLMWIAxM03Ao6wZlQVlBk9Zw\n",
       "UTSCmpYIdQbEsOe4EKHqNhZCs0e07L7UH4Y3c5LnLQm3YJs4QRzRTK3N/n676hiYJLYKpyEhY4/P\n",
       "H2mgFWbu9g9cMA9tBYAOp8O3DuSaUoXuaUD84d/IJJ8DBaeZEJtKkBfsqescy+JwG+6Ow1eCOUi0\n",
       "D0QuGxv/9ZWDHtJdRgUIAWO3/+p4NI7tTNFjXatrpzSiuni8rJ8DPQDGGrsAAAMCPgAAAZpBm61J\n",
       "4QpSZTAhv/6nhAAAAwBNum9rFSimt1zYFZDGFX6fP1hAAFtCFHPE1VCywfcjQQiRdNeahZ/l0FOU\n",
       "bllGUgTFvkPLPX4h86uTSx6UZl5R9U8VElbuHf5hRYxTuCtC6EiBUN66U3pQEXWRk2FDzWcNM1V9\n",
       "R7xTKImSU7zSW+PNCIcmcMxF+V6+ko7Pe8tlI/PxW7+FohcPLlobt+S2ATtqv6YmP8EdFumzN5CS\n",
       "N0wo1i9TKzRv2JqidRKEAA0QmEg8G+IvDpGH86X1fCJjf0qZt2fBm1JaR4tYR9SwPM0FhVRQama+\n",
       "AclsK2ZjJzp3+zsQzmh1/PLRa+jL3UAD4/s7c0FyJEp3aw1tVc9zElCQw2B6l1x4xgy+bK4KHKpF\n",
       "p62Ebl853BK0FoVM1+JebRnkOEV+PyfTvsMAb9U8XU+n/ykcT+yfuv7w4Am3rlc6qIQZgQAxzovX\n",
       "qAS5c+oUCypzOLNsy/Y3IbKfdfi01U0oiRCQhNeG7LBMvOYaVIGhe5q5/f0JT4Rr1I7ubjIUGvkj\n",
       "Gb4QAABQQQAAAmhBm89J4Q6JlMFNEw3//qeEAAADAEtHuLNKVyNTyF5N8PJYfqNNXj3YtBFEuYA9\n",
       "IvS0Lgt1FzYDFlUC+lHKCbudWkJZkfZ7b5Y206xbxc+hCJmWmC1QHEsId2oV3e7SpzbTfCMoLDQ6\n",
       "j/6of2l5mINbQoTTN//xpZu4MDPw5NwycViU1ZtNs0g+P3Eg1q3j6vjxY7J7jOfqshfvur6/YjPE\n",
       "fLbCPhptn0Znp5KpxXOs1ncgNPAl9hnyeADVooP7NSAdJieZA8AuBBeUAdPetciScFsYcMwxuIGA\n",
       "TBgsmqakARINwD8YLSI697Pe20AgL9YEzFliWXd8i+ATmWF2ZdV+twWugiTTMc0cR2Jf8qeLN24m\n",
       "zqstdm+ifZ3BCQ2cTamchzZ2aZDb2nnWkfewpWEZVPOLjrFLTv8XgTTpElA++CnijmQ52sC4MF9j\n",
       "+w2xXgmaZRWfWbvJludO38xaF/yb/zG17q6xNfis4d50le5w6a9axXLf6nRSAAAxEsqWEMeziIaI\n",
       "BjOvg4+UwRa40Lzz3YCyabEWvo/KXHiw3DTit8/RzV//2EmLgh0xs9j9ftML5GR7PrYOP/kky2oc\n",
       "h3ceEBWJ9KZ0t9A5p+G1W/Q0Ieeeg54jB4+DgKGOft1srMfjo4uhqjSF6fH9WBXKjOr6l2nCu5OL\n",
       "YqAtg9GVdHiMzeJYPbhwDmafgDN68hEVKJv5fkIS5/OOn9WG3p7fKiUeOatDIdPXtSI0qUj8RfPo\n",
       "WVK2NKY50uV7z5tjU8KILydvjB6CVgEL0hf9QDJoIsTRXAr7N9ZyaMlvU1VwV14pgQNsQAAAAwMD\n",
       "AAAAmgGf7mpCvwAAAwA8vI/RBa4xyGres4mvNs8bsNl431KWRXpWR0bh8itA6KQleM3Us/JT+tU0\n",
       "AL4qjLXb/iCcgOSUwSN8ux3kj8AQugFJGX40hLWwWLmwh+YUOrwUGgAdgxcUAmdesI++8FrZYMVT\n",
       "tperdsliBaRRPWNHVkIRHVDtkYRpcVXhkCNwcED9o4Ali43s+JSgAAADAXcAAAFjQZvwSeEPJlMC\n",
       "G//+p4QAAAMAS0eKiJMO82PaW3rBnwtNm5gdkoGWehp8EUp8JYVPLFtsyNtHukPMonCE82eCZ4Le\n",
       "0qeP0hyyjCHq8/HLt5qQnkitBKHEQWSmvMxXg5ppSR45TFCAIgT9K0cEduUNgNQfEQEP+YZtj0vk\n",
       "2UHYnlOW30DI0AE2LbSqP9smenETT50FbpYfh07jubkpmF1OE8Z3nXRZB9axlPt5YagY7psLqbSN\n",
       "EktK7mBI73R30qT2AE2rejYdO++Hm0MhaZUNQiTC2fVFBINKxA1opFmYtaqzDWMTSiLBaSC9d0e7\n",
       "kLhTzGKFIVD6bUC4O1e5GQZ93+wJl+whYPW/cSjhBCHAOv8A5AYub0iGQB12fCbgqEXCfdDiF8RV\n",
       "L60xTi8Tkkaa3a3r1uPWS/F9GzfR/peHcDth7SO+tM2/WlZvFExfZVFuvnO+mIUYiAnHGFycwXEK\n",
       "AABbQAAAAbRBmhFJ4Q8mUwId//6plgAAAwAnBPynEPAKOyw3bsfNCAUAG0JQWfs+g6FjxDfGl2u9\n",
       "KherSq+0Y0mYqAigyY//xz749tLJHEjLm+Q/JPkbA9jUZmPf/ITskBJoDHwXmKEKHjPt8/9nRNE7\n",
       "djVp43/posaaKABAhiljrrEMtVFhKxA49a9nHsG/Grhr931/gn1jYDSVhs3BWeLhX85ZOw2hbPpG\n",
       "o/uqPE6UmfHwNz3cVQXM8hp9PIXrWb8SpLgFXTipHcd4glLEtJY732eONyR7t5KrD2F5VrlM3pFp\n",
       "LoY4Ud+cWKpDiKX5kYFi+6wacNencBbzAAUymyIwdpCPyK4OzqTz0KLsRi+bF85/dnf9f4PR/9IE\n",
       "kfE96T9j1WxDmMnd7rWaIPjGEW/R0DhXXZxMH/XM5nGnqNjxwiTyp77iQjryTjErdGGVdo7lNseV\n",
       "Xz0Hfpjk4WdWDRoroaRijv7roCKZI+oXF7hzSRVlyYh62eAfdl5YIoaMiP9d7glSwNZ/KCYzv513\n",
       "CvLzYAgol2umkByim482shz/SxO1uNGLzUac0iYRGi7IfjuCPkbsXrgAABswAAABkkGaMknhDyZT\n",
       "Ah3//qmWAAADACcE/Kpb3FewMjPe6AD4DvXMGTjog0mpW0ujODCKyi4gZypFcjxFl/QesfAdZPRx\n",
       "pyagwK5IB8PFYOveMXn4nlXyQFuryoo08iGTXNlAXzd/v5oiKcqEth2bdUSlZkylwWpuRA803PlC\n",
       "QDumgX9y1GlqIovQoXocDeMVaZsKK7hJDFsxJfftbG0SGPH2exs+ygFLVoniKAzsMabxIKsFn872\n",
       "sbiVLi2NUnityaJ0cTM7t9vcA+mvjsBn1F6sT6UwJzHwC1qg0v1IVYe/zD5uu7SSBJsnn+9NqR7w\n",
       "WtSmotRd01nDDZVce6xNPL7+stNYAStGpllaufhi4dlozYsEv6WOrg9HnyATDx4DRz1UyCRij9xk\n",
       "n1uYCsl7f1UaXJh2Vh8CSKEw6YKRKWgDyhMjD5UgIPCtlnNFWraBwyu/rAP0niHW2SUvg+Y0TsOB\n",
       "J1Jgoo/kT6MJClDA1EdNiw5v1yBrfYSXGhGczpbz+64l99okEhHN3BIYV/qpXQKAAABgQQAAAVFB\n",
       "mlNJ4Q8mUwIf//6plgAAAwAnBhrqHIlW7rT+nVTmh4YnA7L0hRyBMouSCdm3cjKPTJuO9k0cDgkd\n",
       "sXo87LcCeKmIejcqUxC90PtxwV4dJAcSWaw3qSoW5bHa60d4if5YnWc5w2vBHy5f14BSJuwjZD7G\n",
       "fGxsV5Ojgjl6ejTofxWhtWsJD9Hef1d4rEwVfh7rzybCHe3vQBSPCfRV0xMmHAcveUa7/L1okNHT\n",
       "SeCD0zclNeWRklaD0WRK+IiNu2RVvx35FbFis8nPxW7g07qRJfNI1umjPQdZ9N5AdkPIXAOpnFnS\n",
       "a1Y/8BNPpWJ+6SnS43rocFlB2RFTEO7wYrU9AnjvxrxmWutl+ugIdb+fv67VLIJue+86+YsF0SyZ\n",
       "v1PpDlcM654KXxZkyWd13qqqOpGYk1V8X93t/vPDNPurtmD2k+XTLQikvmyh/+QAAEPAAAADUUGa\n",
       "d0nhDyZTAh///qmWAAADACgbmD1epHu8nwKaJg/m8ObvnWCblt+v6PVNer92siewR7YVkmqDHwuM\n",
       "1qYmRlIHEjdS/WraHDgAmYeUknPi0/utCSn+D+F1B4Yb6Pp5gnHSpIp7uIWVFUeHuHLGGLytm9dD\n",
       "dX55vQ/CSaAZpUuclzo9xUIlhBs0Wc7Ud9Cd17C7BFsqrs125F38/bp/tMee/iGKycDP2HHZdJ4S\n",
       "QWTAAAARX/niJ3xqA+DNArjScPajpeXvD6ECdFjbAuEODXjqcK2co7JhwT3/ogu9uw6gmKtBFiDl\n",
       "lYQbdJgFkRH8MhK5lzsuKJf5wQ9S0fUtGhiQlAuDaVsn6d/EKeFNBGPKhzvXOD2wbXitpXMZ6bL0\n",
       "wAoSrMDDTG91Kp1gdIQtkZpoq3j0vcCAktZtgVTdSAkVKqn+w9AxYmuPirnPBQXcJhdx34tTCRzN\n",
       "tcL8Uv9u8mBDBER8nMIg3VstmNV9DzN+1ZdUD5ID9Ym3QrQtdHQmiIBiSbHDMY4Lu6keToyBY/5U\n",
       "DnC87ab3z0HzODR7TSwO/n8UERHnQF8CPdrD6FowJ9Ln4kjwJdN2YBFxr6eUavQNZ/JxVL6vON4b\n",
       "vBMABPnvygan25n6W03SBM/0ukwm530pX5FCQ1XW3P5lcdu0pM3jX4tO5iuTc6AInBEVRsdzjtGs\n",
       "/20WsxlecbRNsvh0ajIthYyoF60Vcxm7fhnv4RGgBWEqzib22UbGlLkhoxYPkJM6M5kqLZOCObPF\n",
       "Ew6iyOUYfsCHMil+LIwydOB8r5ahMSbkU3Ads+2aJwAREUxLsAO+sELGDWioFAvnCTvgImhKpVK2\n",
       "ZAzJ4bL/25hKP4ahLfEl6dhsYupTO/fqK/85BdX1GqnKAEkP5NNN8n/cR9OpnM31Ys640JKB8Zd7\n",
       "4G02eq80QLEc4aF2/59cK4BxoSv21fdF/mBj7DaozMRD4qUmaAy3EJnTunV3kNJkxppKxPSI3AqS\n",
       "0iD9PYCyBVygJOZhc1p5ZrfvdMPxEYOYguwGIwIMeUZYx3G1wfIDmfdEZXp1AvZ195d8TCUPADlJ\n",
       "qpXqT/1NUIGQtMLB+a0wKpADhBz2UMMJ7GsLYYpZqI+tUustcBiaSaTw83+wAAAHzAAAAMRBnpVF\n",
       "ETwz/wAAAwAir5TnA+GkMILldqM3E+Jl9gycs7PP8QEBeZRaqRzCU6+XgHsizoh/RCiX+2wCJ1Df\n",
       "qxNp4+jB4eaElkK68+EAAWh7wfKuGY7hPCdi6ZH76NnyD78KwOUV5aP7uCiF3wCoAv1wDdUImV66\n",
       "wF7MLEgZ3Fc/3Xu64oEEyCqFo9xR6urFWDUV065KHRo/IyoK9ucnZti3cMcZUeVAWIk/RqxbxCC4\n",
       "wsH8at550rHNkgOyEmjIU4NAAAEXAAAAogGetHRCvwAAAwA/kMgsCUaj5HRDaShcSUiAcKqjTzqD\n",
       "sou37pMl6iXxGMsWg/vArpOAAAEk9qExABM6/jEYVuA802mCGNQEghlqWSAFDzcmYtQWlyb5WNVx\n",
       "mS/TrekgjO//e3xha5WPFLQojuCKsVlODOWwa//d4A3hpQL6sAKT6saYpTTZdCmrN3um4H2842z3\n",
       "BMv5qdCqJ1DT/TRoAAAfMAAAAIIBnrZqQr8AAAMAP30U8g0VBb4cYjXUH/9NgAiCFF1JhSZVFbeb\n",
       "/cme1E5u+o+hCspdNJD+FZp6XanuE6jWFMR+/01ZvxOX3hCcYAAAKxf3KAFvkcEKCWMIla5l8f9d\n",
       "vtkJBgyN43QrwZyxfhL2ZAqOPcLGzYqHRBoNVvSiAAADAASdAAACw0Gau0moQWiZTAh3//6plgAA\n",
       "AwAoGjijjkGlev2zyT67/ocztZUpu9gATt6dtq6lSbwMLouKp5IU8hKqbOfxw0JHh8CqfgjCbx3W\n",
       "J8VRAF1f6Vw1uIRcOxMtnvpRUeeAM8C/BrLmWcuElUwISZJWEDOYS2w+uKz3P/q1SgsHGQILS1PV\n",
       "QesUC8iH+QpOgDM9kCbJDIdOP/uaRiBghktkFf3nCqGFeXJpwmrh8CLDcj1CA6qQc/hKsHjdj0/H\n",
       "rFvXHfc+IldjojOHJze9ZaX0pSb7depfb94LCK35cDXJASsUG0Oo+RrQe1DRM9z0hUMTBP0Kl9L2\n",
       "2CNf6KS1M1QFgYOJCFsqMvXXVf/Qp3KVJc4M1v/SVIad6EqqDefQXUgXeAYTxnEHo9UUAoxY+2jJ\n",
       "XTtbGLgHGnQIASxFdqqgITgs6YBQqPB+2pwFmaYxIhjG/lYOH6UZ6lFfST0k43aig00bvQR8HBKT\n",
       "ZmU2Y4Mfcy3fDSA7K3g+eAB6y3bLofIgm33g8675v3JRvCV+atQgExXxAk4Nm51NySsPb2Muq/eW\n",
       "Aup51AHx3fiXEcxpJEA6blMXtQcEhZUfpDjLUiAcERsXzE6i2XBt7w2+ZlidFC2fECE+iRCzWL2z\n",
       "uSaOVhBaGxzVsTxLwWWE5v9Mo2PogmyoLAwyJf+0mUigErHkjOntriecyDdg6IUf9DJGI0hJlMQV\n",
       "B9GWFI6CcHVcVAO4JLBUWTY/6u1QAvC1/j5a0rOwhxXWVsZ2lXOPI3quwJ5oj3GwDqk/AABws/Z2\n",
       "qSUGebZX33V/dKFlJZCCXdObEiA+/0Qt/ALvdyTwrXYk6Yv54E+uftWZgrfzTanrTLwq41Kod4/V\n",
       "5UMpRqnVLqMoWd6lihR0TfmANLftn0Nwf4DxRPDG4lyzAW2wGnj1r479bN/+BqEhaaf7UoAhAxIV\n",
       "6egAABdxAAAAwEGe2UURLDP/AAADACKvzT0rRZaW9TDfAAKk8oEypz3LlVqyw5SSewkyAMeLyNey\n",
       "pjaVqbWIW5u9SP7J6cCapiq4d1ZtBtLQR2PuvTNb6b/InJpApGq3iOtxZUAAsyaaCY0lxJkzrYqn\n",
       "95hhHFkHbYUtoAkab4ccXRnOTKC2agmik8Ojo3T/5tN+oyrrOO3Mfm6/rhZGrfeu9k3MJKJh9erU\n",
       "hFVbdrQhonGFlCb36JhJpQJWKXoQ2eGCTgAAAwAtIAAAALIBnvh0Qr8AAAMAP42k/FVbdA0P3ru4\n",
       "AJIYn/9zSzw+KlAFwWOY+rBLzt3Oic2/De3UCV2H94u1GIpVyj9pypJWV1SKI70kC/p+GLpx6g2U\n",
       "fkKxJK94AAC3rorodHnve7KbUw1lUxSoCrM/0Ae5vxtjcqjDVSOE+xJyrxIkFn3thjMlVVGGb3Zs\n",
       "vhMt6keP4UX5dpJLK7aoXern+iRdGcggnADraVrMcwlATv2HAAADAAQdAAAAlwGe+mpCvwAAAwA/\n",
       "fdGPLPi1q+MQitYAEQd1zIrV0XIug6RfWbqZSCFRsC4GEXjVBT4X0eN7HJBF3cE/MMrcb/eSjfww\n",
       "n4ADqqJRIXtEpd3vLehwwdAEh3Rc2EiA2ATcjkgTrsDtSAelC401TZCU791CnLwj0O00tXObEEWv\n",
       "GwnyjCwpMpxkU0o/ADt1OxIeJJDigAAAGVAAAAKKQZr/SahBbJlMCHf//qmWAAADACgaCBo7DUbP\n",
       "SMTPfAzszcnBJkES60dg8hKdPyJEbXGTfLus5DjBiYWOo7m3ld8j6q2spldHsX/SzFIbhnYfDcfL\n",
       "TekrfxPAn1ZXkFDl7rFM5neSUw6cVmPevNCZYL9Tar31ZOvB2UUx71B6tvXGfWJGU70IkgZgLAYA\n",
       "Bpyojb0KljMA3JX/z4Iw9UHwS7WEto7+bM2O4Thsoscbj8NI8CjX5wy7vj8Ppqx66c5uqss5sxHn\n",
       "1Wqj+IB3TrlLVhrLmKrfat5wUmYJQ4/hdXYy5B36TQ5kds8F4gPGyhK41S3K1q4TxxqIF1tQOJMj\n",
       "mDp3uA4Oveo3jXlYaj4bBZn1aRYulio3W4VKYlsVo+z03aCwjWq60PY49za9CnKZMfqdXU3/GwRN\n",
       "DOGlEQwDSid0IcHm84wQSKEVxP3W9FcgIt3faamjw0jsqGEKIw2oteBIhgPBWyv+yQhVINDAYHy4\n",
       "daYjoUu0JxICu1vevuJFRcMalT2ltEoWTaJU843e2/K1aJ9ehVRSOYV/owXl76nV6Pzozs8tUDYM\n",
       "ctPW2EJziuBpubK5SKAVI2rpLYb+/MVQjQ+/tLvvSBoXATvS/iTQOlONppWx0Hv7F4xdO0SnUzvJ\n",
       "+rcsrt7UTEInQLIsKqzPx2rsvtroTwzfE+nJGOaXvcv0emme8QKoqnwIZhxkYNF26+jnNkMfW7Eu\n",
       "EaiNfd1Zy3MMc1WZ0vM37znNoEinhftH723xwnV891u9PHJJnYBPUdOE8KarPEQbjsw12JB9aGSw\n",
       "jvaTF0FY/taBAuAJNKw4JsQlDR0TrqgzL6NBtZcyFLPdYfaSCn9eYJlEi/OqvmONgAAADukAAACd\n",
       "QZ8dRRUsM/8AAAMAIq/FPSsPe29GjkwKjzwAJYsU6o9EG9HPnDQfoom2P9PuZwiRsLEjS6NCK5sB\n",
       "gjZu5hMHWGJ6oj02sMAAr8Rz72DQjVLIAer9kHcemwQEQdLntaUyzzlR9lCUuoFbVkEFzMeiAdkA\n",
       "HVW7zT4/WF9pJWGDvfPCOPLebeCZqlcXTPfnlHfwaT7rsyJutAAAAwDjgQAAAIQBnzx0Qr8AAAMA\n",
       "P5Emwg49/MT8YLHQAa3T/G71aFczCTa1c7KekesX1Dn0fjHWLxShiKoAANSMqYXN+Xi3x8ovvQD0\n",
       "IB6607Dnsl8Oq8QmCjJsZGFrg0dQTWxf9sSQ1QlxLYIfJlDLNoe8m3c2GbZSBMswJExRYM9CyOJG\n",
       "ATgAAAMAWkAAAAC1AZ8+akK/AAADAD99sQ8mW3jLMdo5UZShACAQA7F7LGMAxqLTbM5BfnxJYeDg\n",
       "64AX4Fdh6KDiJ/6Ir9XZTFsT6Z0GYAAEhbn1lk9WcbZj8duCE2gyq3iSCvU5O8saHe++86Ac8NAS\n",
       "smEuXNDFOJn1uAQ4hh5wvBo3JCZDqA2dxfu48P74isFnNj8pIoQcAWwj5LLHNrMO6EAVi+v7tRbF\n",
       "sEzoGgFAUqBE36YX8MAYEmAAAAMB0wAAA1JBmyNJqEFsmUwIb//+p4QAAAMAT3FFFUP4Bb743G7S\n",
       "UuNQWH9GAhIM73QBho8vZzHbLCSNGq5uF8dH/kQ6AJ/O18/f7CrkpohFAYLGAZGKyCNCSpFVGuUU\n",
       "dm2JkWp3qvij2xa72nDPDR8/gb11ZW5n+YAVRXx/Iy2pbZJJ3+TRlPEEQLgwaOZ/v+K0K2OHx6SM\n",
       "lhLkLPZwVaewH9KmZta78/AS6fpGUTsqJhO156gtpH2gGACZBgbzBAbAwkAhCFUAAZJxGOVsPjLt\n",
       "E/ACObcLsdZxRzBm6w5y8d8se1h18HE8wWSZM2nNOisPQ975rkwr+Q4EXXhvpJSuIFBbkZmComB5\n",
       "RgT9lRmYR31Gmm4SFC9yzHt4kEzQ2TWnSAaNmFDwN55kxCRS1LHStjeAni8nXpg7b6cppfBO/Kz5\n",
       "gMRidkAnwDcGI9poZRLlPRfteUiGYkjlU8fKe7CrUC3PKv9l9hSD1re9BeGEv441mAp+efuNinyW\n",
       "fQXXCjDkIgMQ2n+QDzBw6RAf9mGJUNmqzKacAKmIN7nG2H4ama8zk6OsWZ+JZSTZaJbOH6N5XZtw\n",
       "zWYrw0oy2Ih+YU+TyX3KrJaNRsRBIQpP3ixhLYrCS7f96XFoK1Qrivw1qp24ivkoiAvSllou2P6z\n",
       "MPRkt52enr9cT/gEPzcnHcr7KG8O/ZEqeppmdBwj2kP9XojTmL/fnpYr8yIaKVuvb5EDY516psqT\n",
       "nuNXPHvZhLI3bDMwDwlmsxpRbhaVBW90AC/VJjLeoXUIsEWKuoVGuBqcG+V760q1R/ggzOe23skg\n",
       "RVRUxor7ySAn9boQgnDWt1iw4X9eJfFB/cPRDCHCKGzPwj1ag5OAR2VzTW/0CfHEueQrjOOUrqIp\n",
       "0DtNxIjrdUbmecFiYg4ZZa0E3lMxqIOgyDoOGOf6AkynTsoBUY5A4onPICD2FLjBtI+MBL/72jia\n",
       "njNOWNToMQiO9BC8VZAB3JIcf0w3+dKVvGxbpJb1YoApbT8dGMFIfVPmEyoEmRqSGHkF8/VDqSAi\n",
       "+m742c58LLXTuxVS892Nf4mi7Go6RLCBLW7CV1Y+ILr7MLC2C0WOLvat0/zICXU8ADZjey1D+U3h\n",
       "xzuK0403vbkcdVj0/FbCqAAAAwF3AAAA00GfQUUVLDP/AAADACKvk/ZmrIVuXrniWVASe+B7qsUV\n",
       "u21jPmrwdDI7ot4kLnOMzDw5emZJIIBSgq4kThfDP7/70mNn9sDPqesJI3U14Gs8NGRPWG2d464q\n",
       "JFmBxpNgpemh1Z+ABqpndQfEcICDlukfT0brZbGUJEJb8RXNDhQdY3aJd9nGQT+1Ix0r4ROP7VC+\n",
       "N7KycOEf0OZDkNt/EMMyIouW47k6LhepBqVucxJBK+Kmz0VWTBAFPgwksAwOhu4iLTFzkVIGa5CZ\n",
       "/r0IAAADATcAAACcAZ9gdEK/AAADAD+NtPxWfb8p5sF/fZJKsC81CoiwAIg85imB2avwGMw1un2L\n",
       "Z31bDQawLs+iPSfGYD9FnaNAgUR/gvZaYdZZZ20rghTy/JWGHU0H2BhsAszGyx9KbjwUHTVwtfgA\n",
       "AEpfihADHmP/GN0Lwre2r03gTjHPYUVpoeiyYkcIzAwLEIBOP9ybUIZdp3JAd/7WAAADAC7hAAAA\n",
       "nQGfYmpCvwAAAwA/fDGHAad7LHfELbfZb5zZXGEevBpse7ABa9Eb8DLQ93CPSSbsRdKVLZYMGur2\n",
       "DvIN3K28AALhnA62zskdZZ7Ha3HUa26ngATnzC1F22WASVntVOa28v3a7TcWqH8v9QcCMZABjGZt\n",
       "VeDDgMGL20Lj0KUq0wjhu7XNaAUNoAZjcgXGX4J2t2yufML7x5VAAAADA64AAAERQZtkSahBbJlM\n",
       "CG///qeEAAADAE/5l1+meY2Z0hJzletjhfuiJiACWMBpEEaHo3sAnRxHk7H4VJk9c2v/iDbRDkcM\n",
       "WJ5zW/kVDeHMzT1KXvanunHS84e5SgAo2p17U2KPXWHL2WbStZAj4dCDnbBONvw34vl93Mvr1obT\n",
       "ah8M6uk9sq3GXDHLvA9NXhudweACavOmNc3vBZ/LhI1JIQq38TrpdxEssuZoqALXLv/s86oC3qYe\n",
       "A89eNnyqNE7sFVkbw43tnez1GgFs6JGpcXLnmcVz7GWWReJBWWC+gJoSLZgMBjBdy0OCTtAzwnx2\n",
       "AI3P0QzOZeWIC8Ylhx/Vc9buX2aImUZJSamUW/qmugAAAwFlAAABG0GbhUnhClJlMCHf/qmWAAAD\n",
       "ACcE9TeO1SDvSOOA0L6vyIPgc6H0JOiNLxlm64/g82o2LS7HaS0asvsyyqygKyoBeGVEGrwxs8C6\n",
       "J1bt3q3stbuGHgQyRtWF6TYFHerwSXq0SEnL3VU7bGZsOng2dlguWUOu5K6KSl9HqmwAE1nBJnkg\n",
       "NUTShX4+lcUPJi8R/CzT+/nMVgQskXXeY3LYMQm7NJG/COKfDD815/Dk3/MAfIfJsi4sB2GeievJ\n",
       "9xNbShqfweNie+CGH6LYCTeopdyeARYZXuRMLmujnfKDggAk82j4NvYv5YHIVg+aQCrv8qIQd5RK\n",
       "sewpKM8xiNPUGmPR+vV89WSpBnRA2hoKsH40Y7NssAoAAAMAYEEAAAMEQZuoSeEOiZTAh3/+qZYA\n",
       "AAMAJz8lQlVelo29cIhu7BNs/i7dGm9tn/xROcUF3T8bps008Q5KjbRADK/EZq++2e+MPLbhYVOT\n",
       "j8gr/Hf0tKcXFS25mYs77wKzP1P/kh6dFSv0Ciuow27A2kE6eADy/7Jg/gegAM6WHVTbi8967qm4\n",
       "9PyQqtJFHejB9fhbR7aP3vLDQ+G2/i3oNmDNK/8lhOwnquEc6sBcqIWAkyWHYXW/TtGNciqq/l5A\n",
       "Y0Ehkqnq1rOtORY/E1P9ACmf0Q3k5jP/W+S0IQ3WA5wvfiHF2HC/gWyqKMdUPii7bylxY2YGJ8zb\n",
       "UOo1cX52gwrVE7IeS0DBstJwjLuI7I4Ae062opq3Z4/yB8ZiASJJiuSgvt2gGfKgbnRA8ycXLF0r\n",
       "tZOw3pU2VEqUulxIsd0X6jJO9tbxAZgEvWzib08+kSTtzEsRQEq98aU9nMXOCa8eNmZS4q11vrCa\n",
       "8vW6xqFEObzhKBjyB72L4QBW077exWMsot6VYFdJ7RLFs+yMWtCJjGH8hoGo2/8C3lZlN4rTzKaA\n",
       "UV/bMq09S6n3o3vncAE92l0ynQOg9MwbpmBf0Tz9Cb+hUwMSIYqnAo7V25/kHbn63XYCRoXBP49K\n",
       "O4BOYLGzRKz8EWbuCVn9xMB8t30hThnIITDVoQ+lCvKJERXTkVBgVbmLIZ09/hEyH/Nwf2VE+irh\n",
       "HDv76D7xWTtD7QS7M4o0OuKLIx/ZR6ibgLMOdC1mYy+C2nu1Cz6kQpgA84VD7qoSQ6KCXelZfi+8\n",
       "EQDyfcWBlsmdL0Ddc/oOTet/Vvjayua834vdelICzxeOFZDPTNc3OgmQwFIK3hSuIt5S5jA1wZI7\n",
       "zqqbs3lRFl6V++b79JAyy/nFsaiHKcJP4+nuQaQ56VIz1Id2AtOdGhzBIV7FGoV1XeUfjl8LYI0v\n",
       "xdZQXD8vMFxu6aX96bmUU7WDr9RcRH/fd2780Ey4asCVeQS5pN7VfL/cxbhD1i5kWTKtuXjZQchx\n",
       "oS3QO2NqJX2tw7BMAAAP8QAAAKBBn8ZFETwv/wAAAwAukphsbJrrp1qNnYZhpUoasAbxkD9J82oH\n",
       "KOAJhfVDNHIxPQK0zP8CShEhVm6jvzN82bnSVEQkv/f4AD9nbN5F1EzjxrPdKWzqJfLFoa4UsEaH\n",
       "sFoSB0a/KOGSc24z0nyx3huXTAAQw1CB4aGruyCgSVYvALNragDZPvwASjyk+pw+ZMIbL7MbafAp\n",
       "gIK7N+gAAFbBAAAAjgGf52pCvwAAAwA+IDY8Jbj/SOBXgOTHKNjlfM5jkiFspWS7AAXKBt0fvl45\n",
       "Sq7a/5KnivkzNm3TpgvGI4GbqStF8ABVHeGcoR88h3xaqCJ8qWSAO0l2fW2wcbcwzMdUAm3mAwir\n",
       "gK1tnReWriOR8NwYZlRfluUkMA6vQXkSgpKtkOIrrkq/u9WsoAAAFbAAAAJGQZvqSahBaJlMFPDf\n",
       "/qeEAAADAEu6b1+r0hmvfAmRRkUbLS9O2cHQRwj7V2Cg6LxSBFnwifB/rQeCIZ8u1WRUrYSaYLDT\n",
       "r5kBgucECW5qZBTL6kkpkYn1sJMZybFyDrjZXnDVrR1M1v2QJ6zV3YdNY8QyprZ+1uBuLo6QqvO0\n",
       "3vgmcw0v8uSkg6GW4X/2E0GCktmZZL63KA/eWhToK9nXYo3Pu/2QkrHF9m+b5K/55/NHfcQbJM6U\n",
       "LdDuF1ZCh6PWclPZqhIhYNZx7MPFRFvbWJ6OW0y57AHvJl0ZifTDqSGHPrxQCycdnF8/k1F/ABm2\n",
       "Le3bL8HzYvHCMDbzuN8uBfIWvGxU8J0BWqLZt4baGZS+GVkGvFCB/2pGvvKvNHH+E4kQZRLaazL+\n",
       "VzYylD0uuiRlfktqldOzg/9Nw4KldwUvSwtaVREpGdo0z5CTQwbfDDXLLVChtrkwVhMpzcpQNqpd\n",
       "qeMHh2oVkfWRpNtSmLjWIkrrq1nkxroSIMV1RFwFrTutk3kkZUNEkwoHbuTI4Mti/8++IS+2FA6W\n",
       "vBsuvns3hLtdvHMfWOdjv6zXlPMPDTzg58AQAXDZH6tqPNGKkk7psSR39DoaBgac6wO6hoHARKWK\n",
       "sN3H9YNOwW61HQAA/trf0xnqGqtyzsHiSZl98LAAG7LZ9sPu7qK8aWX1YSJ21uoX0bfvK/+BsDdd\n",
       "iWInQsmgNMzKuROAILUge0/VmdymZgVmJa9v5BphMXVQRC8I+ir9195/3ZSJ+mPpsvAkGHAAABNw\n",
       "AAAAsQGeCWpCvwAAAwA8vJ39Ozep1JyfSyv10YgC/XAMll1JBIwAg5XyxsDX55Fa4e82sYHPVFkm\n",
       "zv/tVWMLEe38AQp94dhC7jq1vRWln2Z6kqOW32bhWzD5xyYwQABbw73dmndph/KogdN0eUkylFae\n",
       "GGYGZzAHZFbRc/ArrwTM/IQtS/iYiaQeINSqzAbFCYSw6aRmgAG2rP3DCu2Te53RYt/iRGIdQqm1\n",
       "vDWbx2gAAAMBQQAAAVFBmgtJ4QpSZTAh3/6plgAAAwAlBQOt47eeYGkfvuzpfzU0YDpzgi7JY9G4\n",
       "CjEzcZhILgZolGAAOf3m19qOqQ2QqPDnlQRywa070Sh17QaRH+lCAF1tcvqpa/G8x/gsMp2VJuq+\n",
       "H33Wvig+Af8pnzD+zA2hvIsgXEw2pRv5tTMAwrCpv4EngAF0oxj83b+6S6AJasLwa59qxZXLzcD5\n",
       "UreRZ9m3b82XqnxKf7U5ci5wM6bpvKHNCrTiuXdCxluFFeygHYANf38B+rL5Rju4D8+NJYI7H8S+\n",
       "2hirvSMVvLbhF6v9VjylGxVSkiZ8jIIoBfVmygsD4SyM04KtqKj3olxAAA0tPlITdTWkra953WZY\n",
       "IICbag06mgoups0avAUgoMZRyv1kdKiEzEsRsqG2X4JOKwlKeOuD1ONZ4jW1ANMGfLov0A+pQBFp\n",
       "iIkpHNgAABNwAAACjUGaLknhDomUwIb//qeEAAADAEm+RZ2gelPXq+BTgz/R642x1Vl3vsOABW7/\n",
       "GOI4R5mxq9aW+T7FeW+dbVL4BdJYaV2KFQYMLZMEIn6OqE32QZ4j6WGM3C5rLbjyzns2tEPfITbw\n",
       "fP1cUQrgIsy2viCZluSHvNhUTOmbk0VN0Z23l2UstVpk038era8t6xUgghe0eKyyKe7Gutb43Khe\n",
       "srl132ASc+9s5KAAQyob2lEB6D32uC5QE54hnXEb38teVplC8Ml0ZspIy8lYaPnMz9GmJ2oVZfwP\n",
       "+6u9wqL2QMLHsC5mO18EJEaXBhlYksuAYBCVxUKx7mYQbzIC3ImrALUnlavQ8VUIjz70xnI8xBal\n",
       "aJSrKdUm+TQj2e/fayxY6fH1+qLzFsCJopMmwouDYHenDepTlA4XnAZMkQdpT+hHYa8+A0+Xo9SR\n",
       "2Igcq9rsxNN09rdRdYqxAZDS2hT5kakAaVd+bEledBCTYygNuJ2OO/qDSa5ZKEoipGXNR37uk9TX\n",
       "AXuRx0I64Ufefd0S6hgfvMkApoyuDZu14C/M7mQ+e3WnDR7+J81tR8+IfChxLMuGIsOpIAM4kML4\n",
       "Gt/aWIZ5WA7vdax6gDnWtrPgX00KVHLUNNJkTnLMlNBuQt0YK2+wRnPkwAAATnSJCJzmoYnjyluZ\n",
       "aQWROTLyXXujfV8vmLFByeKipkGav6WLUkTbB2Q2Cvw9hFDN+jILhHuQxW1TH/1XKqzj2HoDmrto\n",
       "n7Gg78zKhBsWGmyAAI8y1L0EKMfXNqX8OWli7avc+FjTSdgVxNX3CpyaHsKZ3Fw47Gs1oPGS/KSX\n",
       "LMlPN9bj9R0LTA0kTA57Gr5QOPJiaesIbBWW0KTNHRh0z2wAABBwAAAApkGeTEURPC//AAADACxS\n",
       "nWysbFhXKYWMy6pOImQzwVCPO562nIwFTCV4j2aD9jwpQvvTdZfQf5dqzegw8dSpbvBu0Fowyt8a\n",
       "CVUnei8CjRy2tCmpABDYuuX77wxBJHLYtRt59xQLUZYkxebMn0NbWQI2YQ8aj1ZfuASvmUQ8qUeO\n",
       "hOAAAOyRbwB9tQrFL8e23uiJFeT4H1BwrW7xbI2FvQfLdIAAB/kAAAB7AZ5takK/AAADADtgNk/F\n",
       "uT7UvlbrLfwlWg4eJjQgxZPYAQ/NWvqRnKitK+ssC4v3SbJ2CGg6Av5hK9QT+7b/uFSQhOF4msPY\n",
       "7CuAzZQOAbaZBLtHJgYtU2hqCegTRKsVl4iJu1W3PjO50AAFyrciTm/p6pL8xrQAADqhAAACDEGa\n",
       "cEmoQWiZTBTw3/6nhAAAAwBHum9frFCZHpVEHF9eafAKsDLBgAuq0MAFP9R5RE29eD3Yy69YPrfY\n",
       "2DiUAsAAzbSzY0wUGuwltEQKtAPJy6huDNGxwDt1/m17N4KKyHv26wv7guKkcQFMWN/JBVME8ePF\n",
       "S7QXH/q4YCdrQclp13yky7w5ZjL038BuTPOWhm0anJEiePU8bFdBWr092mFfC4oJhZKjXE0hHsXq\n",
       "JQ5fdph6Qbjtd6pQEhOSdLxKhDI6jvRPh+YmTTtvw7Arrxbxgy4QpRTIniyWPM1OSyRCbk6eBfTS\n",
       "xi0juHIJNDcYLyvXjYJe399+8owoh4hwwpdSFLOt/WmeZ4pztXD0tWhZH8BtGSPxNixBUVTliEkD\n",
       "OupPlrWDiuNsG/gfUk4pUme3uxEDbrFdmmke77CxKKsMfUa7otkXD1ESASnV/M1G4YAMNQUNBd2m\n",
       "V4dmKvfvm83GnO4aJ6f7r9qVE56kG8bIMO1bP1Y9LenS8mdtEO+VjAdhH+jtf6cAAAMAxH/Vh+4b\n",
       "LK5XcR2olCXsafdeWlcXtx38+z6/qrmrBcDjJr175XJ/vAJY1zKnEJRRX0Gk8qfIKnnLt1X2iy88\n",
       "OWAwDqwouhKitanc5Z7gQdv98lylsJ/bqmPUwrLOWTDsDz5bRqEZpx3MEksh932wsq5JZwRuWT4A\n",
       "eNfBTgAAAwFTAAAAjAGej2pCvwAAAwA6ADZjZbk+1L5W62F9oQmVrADjerGGHY2LJihYnXoxhOJm\n",
       "0vw4SiRqcscDg0ORV3dPDdVeY/3FC5abzYAAJqM2WrpR0IBQUNHFT+W1hrf9ZVBwxDZgBPL2W3jI\n",
       "oLmUafdR63LDIEMwAAAQwsZJcQ1Z9TFY5VvXf2x2TAOqxogAAIuAAAABYUGakUnhClJlMCG//qeE\n",
       "AAADAEVHjIJ1OkbcTJ4Xu0AWLgBCnBbSxpDAYjdSCacoaNyF1dDzOoG82RyjN2mIr6MUGy0J7THj\n",
       "FH3i7KLpK7mNtV+lgPUEG+XCEdla4lTqEpZOMiQh9+50JG9MCBWSMVI5f0w5R7v8EBatPDh1glQR\n",
       "xDTNW+l0SXG5sgXCZ9snv0O19njiwsq2mtYMBSRpxsVLZ3woQE5CtbgRm6Ps2WopYzryezGKf7cn\n",
       "4X1Il8TtIMUvhuXqBrGMTjNzSnvQ8MrAvnMkcxUvpBQuiL53qPvaebrNq5SIwKqBuFZF9k9LIvDa\n",
       "ofADgAp9n4iavmncJtS2EnQliuONEI1t3qGm7pJERWGUNeAAAAcMmLNLc8etkCaPVFEX0QMZv59Q\n",
       "jn7bA5WzdDSZSdFakjMkMnTyH/yPf9BDpQGcCQfO4zzrRJSu51VL8pAlevvlfzqM7cTwAAP8AAAB\n",
       "mEGasknhDomUwIb//qeEAAADAEW6b1+pw2NnCSZQjBFfV3AAAfwfM5PlXk5qeJqDGsDUy1/l4rEX\n",
       "zgogqLUTneV+8ocoXPAQ+CKmwzdsgkXPlye1NO8AgJnMCQlg6cPLR6DD+9oux+lMqJzliiAxNmv+\n",
       "CJkaB6iF50rAj0zaQPCtAHXTKX2ZlkmXXEptUX64gmFo9G1Rp71m1DKiJyLspyg60rGxGymaqWpg\n",
       "O2zvdNrUJMPyXBSBNt4WNDAud1cwdwcsLsAE1p6m95pXJ0+9lbiV/0gI+x8pVRv3smTTKYK+FiVm\n",
       "ofs94obWxgzQYDKaGS3fK8327OOw2naMgAMSU1oF0gfd+263m/7epEJLn98LFKalRq7dlHyr0Pkh\n",
       "Nte3B2ysGfEZw3wIlYtd1BTvWEEz1emYpNsyYnAAFwP3+uPTCuYPGS+mGf5gRywrgn6985YWzDtX\n",
       "tNnbDC7kkcVtEV48QAAAAwOy52dfGbsOak/B4JDOwDcM8HDcuw+xmvv1aE5TZ5u1ULdhgF0+pGqo\n",
       "50D1NdcQAABUwQAAATBBmtNJ4Q8mUwId//6plgAAAwAiBQOt5jlEut0Rs2m4AbGWqWDXSlzW0h/r\n",
       "BWo6+Rszd6EvF+v/KqRl1s/4DuTDV6JpbwiITkb421OXsTvVA6cpgRiLYD7asaUUgR9fe8vmCzWX\n",
       "0qqIq1qSU5uxgq+ATa3QAkJb+tbEfHq5ShpbORVpxQG3VM6JRimHTGlNPeH89hpuArI+iBmsxc8v\n",
       "r6IWF85YVUjiPaeX5Qz0F1xzTu0hpQJ4hk5SIOX8/JnsSKAd0YTy95bqPbdJG96GxJiYdNtkf14P\n",
       "G2o913iBoJCXI3xQBq15uMkRDckvIxnPrnE8EYYrMnHNVA+vp1kTVEp/Y0lWXwqJaIXw/opLY2NK\n",
       "8xFoUAaVfolyuM1l3oAAAA6YE4z6LPa09uwpCYoAACTgAAACpkGa9knhDyZTAhv//qeEAAADAEO+\n",
       "RZ2egFPXq+A7c24BOZAe9XDVO7ggBbB25mckoJUeQEByJUkWH/yeu8Cb3V/na9+nuYdbjHJ/Kmhy\n",
       "Y+lMYZx6iNE7qufAYlUsjACiBe7n9D3MUqxnx7DyMznnQ1PcobavxyEJuJ+ShDZnyFbcyu96/+Zu\n",
       "gHdagrn0Qosmo56E/wPXf1bTUPHw6SRPHkaUIcPSy+ISrGyFnmSLrC+0a2O44punb2W/pKk2xoJw\n",
       "mAwtA4g+URJwD22FGyTF4mz8EfEduKRewO+XG2dreZtgQ4KAjR7fFZZQ3ksLP6mO0QGmYifAA6hx\n",
       "Wr713I2bYoifh1WdOVM3EEY4HruvlzqYZ5CWSyK5gYAJCse4BUsPY7jtBz1N4GgnJZfrqeo4Ybwc\n",
       "BqmeNozBMTUrvCBtNS9oq+l6/QoCJKb7Jp6daTs+zKoTypefVNzcU6283VZg/NoK+7RtXBVF6JBe\n",
       "G2tV14C7GuBkH5Ips0krmjtfyafiQArntDj/mfdR4I0SzDyeNJOh51XlhGbjs4AiwWqGcpUKzS6L\n",
       "z+h5i9JZgv+L5Yg1L8uThv8ZEbJnAAYJx7nbjxVsBznxI2K34XtZVv4rZgTE+YsbWuVa8JMgrB3s\n",
       "roHrkmDAfwQM67yQ3x6iTiWp3rtm1lB3ZcRPgMP6Xyr19vmcGSdTUW5KEP/xvp2/mt5vkeNY/Hdi\n",
       "V1rcvvDTarw5Xs5efUZLHBw8dwIPXE0AAAMAAAMCyNz39CzOyLhBpDfERtU9eaaBG29qd6MAwKL1\n",
       "9DVdpLsEwn29fwZNxraCQ5/S4tvYs1Y9gNCmbBflGQQ6q4I5Bj3WGvdEbu9uUnPFL61gdQ43L7qd\n",
       "d9KQy6h5Nyr95lWpCj4ecQwHd0Z/05bOIHLnAABQQAAAAHRBnxRFETwv/wAAAwAo7CBa9rcLVMj6\n",
       "VBCbd6jzioC4YLSl8mfzsR2zaNYBFeUcvTIsVkV5WjcL1obWJdn4lXlmx6AAOYHWbSWiaw3LYN87\n",
       "JAABPkj2xQn1ELtDV2D+C9VcAAAiaSWF5cCuBYpXyL4v4AAFbQAAAHkBnzVqQr8AAAMANWUOTVfv\n",
       "zY+/8/Do8wKRFix9v/NDT2sMdYZbzuWa11H1zu+o9dtUOBohMtB+MAEREO+40IAJTDJ5laRcAAXU\n",
       "e4jqtIRxTyPckhgYZ/EhzTj0rkkbPg70AAA9BIgrTLAkEGRJ5KejI6MTVNqQAA6YAAABV0GbN0mo\n",
       "QWiZTAh3//6plgAAAwAhPVvF4c1yCNHT+nL0//8AKjT3QHRzvrd7sXc89YxXD+aDXAm5rR8hi9/x\n",
       "csOvMLHiAO+6beSuWWxrAA75exNIf9RiZcnbdAEyo0A7AkJLNR+QLMndXGAZwH0fP6WK0iFJ7F4A\n",
       "l/yTT9EQduna32J6X+GxkqCblqtxmsbbcJ/zdvJ4MyYAw9BheDMWS/vsOHoOchdRHO7h4blxkki/\n",
       "dc4YYx2wDnzDzjprB7f/WSyAAjlhqivNjc0+ogi/Yc0uhXMSpZfW9UqNBZqXhtH1tShSUemSp/rE\n",
       "4QTsV8lKC917Ib4KkmlM4z6yBz84PZdLAAADAAC1MTSl8SjHvOJe6mL93j2f7oz2W960feCqMADm\n",
       "QsF0QGndgVyQR3I+OIHegGIGJnZpFFEgQVrYVj5hF3vOmNKB4FXgx6LvEbyx3F3MXmAADpkAAAG1\n",
       "QZtZSeEKUmUwURLDv/6plgAAAwAgBRPDeY5RLuehJg+GEegCJQvl1Ux/gvPab121qlOGrlBz3dOH\n",
       "vS3OSDF0WlWfPFIQFrJ1Qyd1rlbJ+pds0SwEK2yfKDoU7K518yZZIlJ46PgiOd7fA1imf4P3Am2I\n",
       "ApaWaRSkWVNaDNy3VCMEVoS2F59R0WiyUkcqBSun8YjC/pOQFXryum6/4QWtt3JPA/mrLTdsAXD/\n",
       "rXfT9Zq6T8aRcNaB1BNTAE1InN8kd+n2SmFqp5ZD3vDipZGz3kRDDwx5ZF6xhXK2CG/8J6d7phcd\n",
       "royoag0EDYYtEIRFD/mFOQcRvusI+KW1PKcYSusiuYfv0P0E8+OAehOoam9vVnlYCFCQAAu+OkEq\n",
       "ELPvdwv0mstzU+YNjiQd9l10J0RltwspnRw9wRtX5I/KhwQv4vlgBPB2RLfIaA0Nia+bpqRsdHRf\n",
       "AQPTE/do23cFzaDXcAAAAwH21HhtB+lvjJMHWUEol0hZ4WSAnfbRjZsJb6ddy+2gu7f3HyOem+YA\n",
       "YLnjBZHI3P5DbnAFJT6t8Rpr7SnUn8ZyyOIuqCiPMdLxKlAACkkAAACAAZ94akK/AAADADTAXeL4\n",
       "Pf9YzLt5osPso1CbPLq4qVX8f8QR14Ot/TyRhpzHwKj52YK4p+aamUBEtbik80QAtcAEn0u8Su/X\n",
       "+oEMpsKU8HVaAAfnBSJ4D5puBZEyt913iqzZ06MeQAAB7eiuW9lHP0iuz2uVvL4cC74CziQAAccA\n",
       "AAIbQZt8SeEOiZTAhv/+p4QAAAMAP7wnkp5qansAN+8lLAM0YWqADanVnBdawqj7+6lOONRBloMJ\n",
       "22FabrDMitFELD6jUqy70hmAaCl3Uu3A+0y0r4I8Pcg2wB1zy7kyBAQBNzp5BGfyqHOuGFGtY1OV\n",
       "5KqaseccYLjvS7WIhe5KP2/xo5NZRHilmC/5nep8qBRz1F1bV3ZiUIzaTXpjWG/hIcY7hQsAoTt6\n",
       "GQMnKP1/Lxva+xWIPg45QFIp6qft6Up7rQwhtLNI/d5OY2erJishUHEwUp2uz7gYrAo7AgrIU55n\n",
       "GqnMu8WqVUvlXrcGBReX0yrBgvuYe5xUxbcaCTCg1d9VyzC5kpZYqiCdnjFojg61+dpfFFSRtec+\n",
       "zpOvlTSWzIuK16a4BIn5IAABZ9Qod4Jh+v0t1J1iLEN+oFY501aIY8Q2POI6TQHpW9cAF4RQ/WgH\n",
       "+Fu9LMZ0XBl04W6TLJDdQf+1gRIfNRdcOnHzDCD7laybO+3vTT+RZC5xK/yqwl9626GBIxoSsgAA\n",
       "AwBkVOan8STFBqOP+3s9P5j9BABxBwu5ZSkzAFBfNagvyxdYSufNyz803yFvqaqFrxZATXssM70H\n",
       "jxMChnMASHLK3JtBCJhsJAkZMocAKoBxaWL3hKuHoVbPOiHykMMch+tGPj8j/hQX1T8IUvhh6MY6\n",
       "1/HGdqaxzC+WOxtTicTfE8Wdzz3oDrxzbWQAAU0AAACRQZ+aRRU8L/8AAAMAJrOX7XRmc+mF6aNM\n",
       "8xLxO+Z1HBGMD3p3SxwGufkxu1ngRO437X8kvzFrWv315GOGKyA/5p0I2cpsI7t0AUiiNKeUoaAc\n",
       "j2G0PSUg+kAAAPrPEnC4HR4AjZdR/RjS6nD5kfp0nIZnbgAAEjhjGXe1RWCw84O+KRbTYBOIAWNH\n",
       "3PORuwAK2AAAAGwBn7tqQr8AAAMAM4BCTB/x+onv+cd742OaHmOwZ8b28ckCCABtq/gA8HUup0+/\n",
       "2wbx4nbSKxDaPnviAC6jiHHigxde7iXyCmuAABfmct/tR5gfG5iy6BYiuOAAAZg50BnMhnm9gSMI\n",
       "Za3ABRUAAAElQZu9SahBaJlMCHf//qmWAAADAB8xqOGE8sVXvZiBQhQAfgaCOkzabh4xNvtldeqa\n",
       "X7H1tagqNB+k4N2ok144JToUQQCCt9wwfnBiDADx3sjh7iCJOl+zv1d2zTwOgXoUy4ELVeGDolA1\n",
       "aLXpICQSAokVcpe55tgisDPuY4jXUugx88f+jR/8mKCh9KfVBCl4pDkuvc/Y8cdjUzuD6UZT6jbN\n",
       "hMSdLwAAAwN1k/flUw3bJzlHcMJyP2xhQ0ppAARZ6tiH4tnaPCaXYd0O1NjShOt5SUxoksVng5Ju\n",
       "jOycmU1IeZFSMBilerfvi5K+ePSgAAAEJ7x5HcUtaxLVpsOijR58TsfMIvNJ/O+b/jbQRNhIYxB/\n",
       "S2rkgTAq7LSIM1CfaQAAxYEAAAHeQZvBSeEKUmUwIZ/+nhAAAAMBLvixMG80c0ox43R4A48tRrc+\n",
       "LyeONRuns+sZ9RgBO25TPf4+OKlDFHb/Fe0qWuf6wt/UP3ua+Gk4N6ERDQbo9p5Tvkut0lqW5VlE\n",
       "5hb4FK/OGLi8aXmEM1pZixe55qIsPn/Cn38hTy2WMEioi3OOXLxYFzV3FzxKWllT61BVE3vQjygj\n",
       "/6YTWA/eGcrtzR0zp71yUVfbcUK6AeNhTAFCVa/X+6ELqLVDNfI0BHSfGc+DsxdadiITpHdkssLB\n",
       "Pg5X2ZhUquUy7SXR2afbcyHA1320MnnfNFyx7RU9zOoJXmjdiHUdYc2zyfJKav3XAAAYJrGfDz1q\n",
       "FFnALlXxbU9g0q990ijco7lWc9VVejsaNMH+JzH9AKoIL7RUu4sZnx8WcvUAaUAkEB37XvAwfWYL\n",
       "X1enxufkdgzybj3oCgew6T0b2K8Wv6giX1M1EaBw2wGKZ/uycnRDtuLVFIT5yBXK/gAAAwADap8N\n",
       "NeGtPNxrzG3KT8e+uIYrte1PjRjI1+EnaF0A20Ffp9UVYNL5GG3wEzqNcBD4QLB8zPIPambEPoI3\n",
       "GlRktZ7Mp/RHyG35XGIRWlcU2MthzRFcPHe/hijdKl6wP07sqkIyAABFwAAAAKBBn/9FNEwz/wAA\n",
       "AwAbn4ActTsEQsmZSc68rSpPTIFZX6ygdT89spEGXCZcWBiN0TKAB2biczAYjtlgX6bC4PSJ9g4f\n",
       "y9GIQwxZPdS3SOIjJsv7onURw5rIxUbow3Bpg2750bZE9Yk6whc8kAAAwuhAVctAERRp9qVaFzNX\n",
       "cl4mtAAACVQh5uAe38WPRRg/6twQHyFKYK4qHkD2H19gAJOAAAAAZwGeHnRCvwAAAwAzf8NFsMXe\n",
       "nx7zMFktivo39ABuiWqYINVw7jcABEGCm2Dml1uvBG/BcXeUb2tyUOGJ46QZsDb5gKAAAf7pyW55\n",
       "GwPaBOIzw+hcS6tAAAAeIB72gfIh5w6sJTAAR8EAAACjAZ4AakK/AAADADJBgQ8mYnuIL8vb4b5d\n",
       "dDmQZ0DckAF1HcZsBnJ1EDA9dzxSKTi855e21A9qnt8D5bLA1fzVLoDc3kQR9zEDX2UMLkGoL+XQ\n",
       "yWUCvt2Nbz1Aqy0RNtXneLCKSBaZfX0AAAMCrIHQ1hQVvd9nKeVMi3YXbIsGAbRGUgLqgAAbbQ7/\n",
       "vzlxBN/EgZq5n3pVbXB4rXxwQqEGAAAaEAAAAPFBmgNJqEFomUwU8K/+OEAAAAMDnZYHyLRrRNQh\n",
       "dHvb8r4ALbnIJk5ORkx2V0JVvxQrXjS1qLlnOa6zQiHue4NQQsYfGE32hv8bbW1igSF13klqslYd\n",
       "sewHibIX9CcvkliYOuzqR+R/reYCJylG9HZA+UGaqwq+ihTLXr/ckSS1do1bqm6s86YsobieeapO\n",
       "F98AAAMA86/ChiQVdNaGCtZC23NcEKTc/6/dD8gHemnWflrbezsHbw+hgIbhVUAAAAMD656Uig51\n",
       "QoFzfJzgbwQwWwGQVrz6KhrlYvybxp95tiCXktRrtcV6B+JaEFYgAMCBAAAAhgGeImpCvwAAAwAy\n",
       "QYD8K5JtJ+PyV43umIWuDQgButoT2PRp2ao288E/NcDz9Ic7n3I5cVrefXa7o6qFcfQQopSQQez5\n",
       "eek0x2/x2b2Gbhy/CAZt9zW4p9AAABQcZ+sBh/7shrCgbxSPhCedUgAAB6ApY+QdFxTFJUUmsLlA\n",
       "dCpIWYbAAAsoAAAHVG1vb3YAAABsbXZoZAAAAAAAAAAAAAAAAAAAA+gAABOIAAEAAAEAAAAAAAAA\n",
       "AAAAAAABAAAAAAAAAAAAAAAAAAAAAQAAAAAAAAAAAAAAAAAAQAAAAAAAAAAAAAAAAAAAAAAAAAAA\n",
       "AAAAAAAAAAAAAAIAAAZ+dHJhawAAAFx0a2hkAAAAAwAAAAAAAAAAAAAAAQAAAAAAABOIAAAAAAAA\n",
       "AAAAAAAAAAAAAAABAAAAAAAAAAAAAAAAAAAAAQAAAAAAAAAAAAAAAAAAQAAAAALQAAAEOAAAAAAA\n",
       "JGVkdHMAAAAcZWxzdAAAAAAAAAABAAATiAAABAAAAQAAAAAF9m1kaWEAAAAgbWRoZAAAAAAAAAAA\n",
       "AAAAAAAAKAAAAMgAVcQAAAAAAC1oZGxyAAAAAAAAAAB2aWRlAAAAAAAAAAAAAAAAVmlkZW9IYW5k\n",
       "bGVyAAAABaFtaW5mAAAAFHZtaGQAAAABAAAAAAAAAAAAAAAkZGluZgAAABxkcmVmAAAAAAAAAAEA\n",
       "AAAMdXJsIAAAAAEAAAVhc3RibAAAALlzdHNkAAAAAAAAAAEAAACpYXZjMQAAAAAAAAABAAAAAAAA\n",
       "AAAAAAAAAAAAAALQBDgASAAAAEgAAAAAAAAAAQAAAAAAAAAAAAAAAAAAAAAAAAAAAAAAAAAAAAAA\n",
       "AAAAABj//wAAADdhdmNDAWQAH//hABpnZAAfrNlAtAiflhAAAAMAEAAAAwKA8YMZYAEABmjr48si\n",
       "wP34+AAAAAAcdXVpZGtoQPJfJE/FujmlG88DI/MAAAAAAAAAGHN0dHMAAAAAAAAAAQAAAGQAAAIA\n",
       "AAAAFHN0c3MAAAAAAAAAAQAAAAEAAAKgY3R0cwAAAAAAAABSAAAAAQAABAAAAAABAAAKAAAAAAEA\n",
       "AAQAAAAAAQAAAAAAAAABAAACAAAAAAEAAAYAAAAAAQAAAgAAAAABAAAKAAAAAAEAAAQAAAAAAQAA\n",
       "AAAAAAABAAACAAAAAAEAAAQAAAAAAQAACAAAAAACAAACAAAAAAEAAAQAAAAAAQAACgAAAAABAAAE\n",
       "AAAAAAEAAAAAAAAAAQAAAgAAAAABAAAKAAAAAAEAAAQAAAAAAQAAAAAAAAABAAACAAAAAAEAAAgA\n",
       "AAAAAgAAAgAAAAABAAAGAAAAAAEAAAIAAAAAAwAABAAAAAABAAAIAAAAAAIAAAIAAAAAAQAABAAA\n",
       "AAABAAAGAAAAAAEAAAIAAAAAAQAACAAAAAACAAACAAAAAAEAAAgAAAAAAgAAAgAAAAACAAAEAAAA\n",
       "AAEAAAYAAAAAAQAAAgAAAAAEAAAEAAAAAAEAAAoAAAAAAQAABAAAAAABAAAAAAAAAAEAAAIAAAAA\n",
       "AQAACgAAAAABAAAEAAAAAAEAAAAAAAAAAQAAAgAAAAABAAAKAAAAAAEAAAQAAAAAAQAAAAAAAAAB\n",
       "AAACAAAAAAEAAAoAAAAAAQAABAAAAAABAAAAAAAAAAEAAAIAAAAAAgAABAAAAAABAAAIAAAAAAIA\n",
       "AAIAAAAAAQAABgAAAAABAAACAAAAAAEAAAQAAAAAAQAACAAAAAACAAACAAAAAAEAAAYAAAAAAQAA\n",
       "AgAAAAADAAAEAAAAAAEAAAgAAAAAAgAAAgAAAAABAAAEAAAAAAEAAAYAAAAAAQAAAgAAAAABAAAI\n",
       "AAAAAAIAAAIAAAAAAQAABAAAAAABAAAKAAAAAAEAAAQAAAAAAQAAAAAAAAABAAACAAAAAAEAAAYA\n",
       "AAAAAQAAAgAAAAAcc3RzYwAAAAAAAAABAAAAAQAAAGQAAAABAAABpHN0c3oAAAAAAAAAAAAAAGQA\n",
       "AEbOAAAF2gAAAWsAAAEJAAABCAAAAswAAADQAAAD3wAAAM0AAAC5AAAAwwAAAZQAAALVAAAAzQAA\n",
       "AMgAAAGVAAACxAAAAN4AAADDAAAAhgAAAtYAAACQAAAAtAAAAK4AAALSAAAA2gAAAKYAAAJlAAAA\n",
       "vAAAAc0AAAHlAAABcgAAAzwAAADUAAAAuwAAAWYAAAJYAAAAowAAAqQAAACnAAAAtAAAA0MAAACi\n",
       "AAAAwwAAAZIAAAGeAAACbAAAAJ4AAAFnAAABuAAAAZYAAAFVAAADVQAAAMgAAACmAAAAhgAAAscA\n",
       "AADEAAAAtgAAAJsAAAKOAAAAoQAAAIgAAAC5AAADVgAAANcAAACgAAAAoQAAARUAAAEfAAADCAAA\n",
       "AKQAAACSAAACSgAAALUAAAFVAAACkQAAAKoAAAB/AAACEAAAAJAAAAFlAAABnAAAATQAAAKqAAAA\n",
       "eAAAAH0AAAFbAAABuQAAAIQAAAIfAAAAlQAAAHAAAAEpAAAB4gAAAKQAAABrAAAApwAAAPUAAACK\n",
       "AAAAFHN0Y28AAAAAAAAAAQAAADAAAABidWR0YQAAAFptZXRhAAAAAAAAACFoZGxyAAAAAAAAAABt\n",
       "ZGlyYXBwbAAAAAAAAAAAAAAAAC1pbHN0AAAAJal0b28AAAAdZGF0YQAAAAEAAAAATGF2ZjU4Ljc2\n",
       "LjEwMA==\n",
       "\">\n",
       "  Your browser does not support the video tag.\n",
       "</video>"
      ],
      "text/plain": [
       "<IPython.core.display.HTML object>"
      ]
     },
     "execution_count": 15,
     "metadata": {},
     "output_type": "execute_result"
    }
   ],
   "source": [
    "interval = 1000*dt\n",
    "anim = animation.FuncAnimation(fig, animate, interval=interval, init_func=init,\n",
    "                               blit=True, repeat=False, save_count=100)\n",
    "from IPython.display import HTML\n",
    "HTML(anim.to_html5_video())"
   ]
  },
  {
   "cell_type": "markdown",
   "metadata": {
    "id": "v3bIC-4q__qh"
   },
   "source": [
    "And there you have it. Note where each graph peaks relative to the others. \n",
    "For example, you have seen from our mathematics lectures that the velocity is at its maximum value as it passes the location of zero displacement.\n",
    "You will also note that the acceleration reaches a maximum (or minimum) when the displacement is also at maximum and when the velocity is zero.\n",
    "\n",
    "Try changing some of the parameters in the initial setup and re-running the code. What effect does the amplitude have? How do the graphs compare for the same parameters but with different phase-shift values..?"
   ]
  },
  {
   "cell_type": "markdown",
   "metadata": {
    "id": "9P0YBeR62CW-"
   },
   "source": [
    "## Summary\n",
    "\n",
    "In the first part of this notebook, we used Python to verify our mathematical solutions seen in the lectures. Remember that for MAT201, I expect you to be able to perform all the integration and differentiation steps yourself by hand in order to determine expressions for $x(t), v(t), v(x)$ and $a(t)$.\n",
    "\n",
    "In the second part, we saw what these functions mean practically using an animation. Each of the graphs of displacement, velocity and acceleration are sinusoidal, and repeat over time, no matter the values of parameters chosen."
   ]
  },
  {
   "cell_type": "code",
   "execution_count": null,
   "metadata": {
    "id": "kokHM3u425TO"
   },
   "outputs": [],
   "source": []
  }
 ],
 "metadata": {
  "colab": {
   "collapsed_sections": [],
   "name": "04_JT_SHM.ipynb",
   "provenance": []
  },
  "kernelspec": {
   "display_name": "Python 3 (ipykernel)",
   "language": "python",
   "name": "python3"
  },
  "language_info": {
   "codemirror_mode": {
    "name": "ipython",
    "version": 3
   },
   "file_extension": ".py",
   "mimetype": "text/x-python",
   "name": "python",
   "nbconvert_exporter": "python",
   "pygments_lexer": "ipython3",
   "version": "3.9.19"
  }
 },
 "nbformat": 4,
 "nbformat_minor": 1
}