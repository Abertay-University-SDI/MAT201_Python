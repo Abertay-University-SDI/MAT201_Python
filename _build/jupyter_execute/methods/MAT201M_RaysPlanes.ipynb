{
 "cells": [
  {
   "cell_type": "markdown",
   "metadata": {
    "id": "ZSph5-5oh0fq"
   },
   "source": [
    "# Rays Intersecting Planes\n",
    "JT 2023: Following the notebooks introducing rays, and intersections with 2D boxes, can we illsutrate the mathematics in action when a ray intersects a parallelogram plane segment and a triangular plane segment?"
   ]
  },
  {
   "cell_type": "code",
   "execution_count": 1,
   "metadata": {
    "id": "BYfRggrdhRRm"
   },
   "outputs": [],
   "source": [
    "## Libraries\n",
    "%matplotlib inline\n",
    "import numpy as np\n",
    "import matplotlib.pyplot as plt\n",
    "import sympy as sym\n",
    "from matplotlib.patches import FancyArrowPatch\n",
    "from mpl_toolkits.mplot3d import Axes3D, proj3d\n",
    "from mpl_toolkits.mplot3d.art3d import Poly3DCollection"
   ]
  },
  {
   "cell_type": "markdown",
   "metadata": {
    "id": "dtc56oJoiZQs"
   },
   "source": [
    "We'll define and use some 3D arrows to illustrate ray behaviour:"
   ]
  },
  {
   "cell_type": "code",
   "execution_count": 2,
   "metadata": {
    "id": "Ux3Ny4KbQcW2"
   },
   "outputs": [],
   "source": [
    "class Arrow3D(FancyArrowPatch):\n",
    "    def __init__(self, xs, ys, zs, *args, **kwargs):\n",
    "        super().__init__((0,0), (0,0), *args, **kwargs)\n",
    "        self._verts3d = xs, ys, zs\n",
    "\n",
    "    def do_3d_projection(self, renderer=None):\n",
    "        xs3d, ys3d, zs3d = self._verts3d\n",
    "        xs, ys, zs = proj3d.proj_transform(xs3d, ys3d, zs3d, self.axes.M)\n",
    "        self.set_positions((xs[0],ys[0]),(xs[1],ys[1]))\n",
    "\n",
    "        return np.min(zs)"
   ]
  },
  {
   "cell_type": "markdown",
   "metadata": {
    "id": "9CzvrU3OP3Iu"
   },
   "source": [
    "## Parallelogram plane segments\n",
    "\n",
    "Our exploration of this topic begins with a parallelogram plane segment, formed between four coordinates. While not particularly commonly used, these are useful to illustrate the principles of how we can parameterise a surface, in order that every location on the plane can be identified quickly and easily.\n",
    "\n",
    "To start this journey, let's repeat the example from the lectures to see how Python handles this type of problem:\n",
    "\n",
    "### Example 1: Can we construct a parallelogram plane segment?\n",
    "**Determine the equation of the parallelogram plane segment with vertices at $A(0,0,0)$, $B(3,4,-2)$, $C(2,3,1)$ and $D(-1,-1,3)$.**\n",
    "\n",
    "Let's begin by setting up some parameters to work with, and storing the coordinates in matrices. We could use arrays in principle, but we'll need to solve sets of simultaneous equations using sympy, and from experience the matrix datatype serves our purpose well here:\n",
    "\n"
   ]
  },
  {
   "cell_type": "code",
   "execution_count": 3,
   "metadata": {
    "colab": {
     "base_uri": "https://localhost:8080/",
     "height": 240
    },
    "executionInfo": {
     "elapsed": 11,
     "status": "error",
     "timestamp": 1683647924068,
     "user": {
      "displayName": "James Threlfall",
      "userId": "12893452708265254015"
     },
     "user_tz": -60
    },
    "id": "X9Qo3HPVVjlk",
    "outputId": "04e096de-afcb-4929-a70b-1c8811afdd96"
   },
   "outputs": [],
   "source": [
    "u , v = sym.Symbol('u', positive=True), sym.Symbol('v', positive=True)\n",
    "A = sym.Matrix([[0, 0, 0]])\n",
    "B = sym.Matrix([[3, 4, -2]])\n",
    "C = sym.Matrix([[2, 3, 1]])\n",
    "D = sym.Matrix([[-1, -1, 3]])"
   ]
  },
  {
   "cell_type": "markdown",
   "metadata": {
    "id": "5VDLYjJ9WEsT"
   },
   "source": [
    "First we need to identify two parallel sides, so that we can construct our paralellogram plane equation from two non-parallel edges. There are several ways to do this:\n",
    "\n",
    "Lets check what all the vectors linking A with the other points look like (remembering that two of these will be edge vectors, with the other vector not at the edge but instead bisecting the plane):"
   ]
  },
  {
   "cell_type": "code",
   "execution_count": 4,
   "metadata": {
    "colab": {
     "base_uri": "https://localhost:8080/"
    },
    "executionInfo": {
     "elapsed": 7,
     "status": "ok",
     "timestamp": 1683301655689,
     "user": {
      "displayName": "James Threlfall",
      "userId": "12893452708265254015"
     },
     "user_tz": -60
    },
    "id": "cgGDxJqQV1bh",
    "outputId": "52063f6d-8a1c-4fde-d390-2e0051f46db1"
   },
   "outputs": [
    {
     "name": "stdout",
     "output_type": "stream",
     "text": [
      "A-B: Matrix([[-3, -4, 2]])\n",
      "A-C: Matrix([[-2, -3, -1]])\n",
      "A-D: Matrix([[1, 1, -3]])\n"
     ]
    }
   ],
   "source": [
    "print(\"A-B:\", A-B)\n",
    "print(\"A-C:\", A-C)\n",
    "print(\"A-D:\", A-D)"
   ]
  },
  {
   "cell_type": "markdown",
   "metadata": {
    "id": "EacmhMe5XA3a"
   },
   "source": [
    "Let's also print the other vectors we could use: "
   ]
  },
  {
   "cell_type": "code",
   "execution_count": 5,
   "metadata": {
    "colab": {
     "base_uri": "https://localhost:8080/"
    },
    "executionInfo": {
     "elapsed": 1270,
     "status": "ok",
     "timestamp": 1683301656954,
     "user": {
      "displayName": "James Threlfall",
      "userId": "12893452708265254015"
     },
     "user_tz": -60
    },
    "id": "OpR09k8WWVLE",
    "outputId": "5aeb88f6-5eec-4b45-b237-1f5849073a70"
   },
   "outputs": [
    {
     "name": "stdout",
     "output_type": "stream",
     "text": [
      "B-C: Matrix([[1, 1, -3]])\n",
      "B-D: Matrix([[4, 5, -5]])\n",
      "C-D: Matrix([[3, 4, -2]])\n"
     ]
    }
   ],
   "source": [
    "print(\"B-C:\", B-C)\n",
    "print(\"B-D:\", B-D)\n",
    "print(\"C-D:\", C-D)"
   ]
  },
  {
   "cell_type": "markdown",
   "metadata": {
    "id": "iE49qL_JXhwn"
   },
   "source": [
    "Just by subtracting the points, we can see that AD = BC: this means these vectors are parallel. Using the same method we can see that CD is parallel to AB (the sign change between AB and CD arises from where we have started and ended the vector, and doesn't affect whether they are parallel).\n",
    "\n",
    "If we want to create our parallelogram using point A as our initial reference point, our findings mean that the two edges we need are AB and AD - these are non-parallel edges, but have a twin parallel edge somewhere else. The vectors which pass through the plane are *not* parallel with any other vector (they are unique).\n",
    "\n",
    "Lets double check that the vectors AB and AD are not parallel:"
   ]
  },
  {
   "cell_type": "code",
   "execution_count": 6,
   "metadata": {
    "colab": {
     "base_uri": "https://localhost:8080/"
    },
    "executionInfo": {
     "elapsed": 15,
     "status": "ok",
     "timestamp": 1683301656954,
     "user": {
      "displayName": "James Threlfall",
      "userId": "12893452708265254015"
     },
     "user_tz": -60
    },
    "id": "GNLbkw-vaYP5",
    "outputId": "115e321a-bfe8-4d44-9b4d-436d8f602f3e"
   },
   "outputs": [
    {
     "name": "stdout",
     "output_type": "stream",
     "text": [
      "AB x AD: Matrix([[10, -7, 1]])\n"
     ]
    }
   ],
   "source": [
    "print(\"AB x AD:\",A-B.cross(A-D))"
   ]
  },
  {
   "cell_type": "markdown",
   "metadata": {
    "id": "tkzuPL34bH_O"
   },
   "source": [
    "The fact that the cross product is non-zero is enough evidence that these vectors are not parallel. (To illustrate what happens when we take the cross product of two parallel vectors, lets use ones we identified earlier, AD and BC:"
   ]
  },
  {
   "cell_type": "code",
   "execution_count": 7,
   "metadata": {
    "colab": {
     "base_uri": "https://localhost:8080/"
    },
    "executionInfo": {
     "elapsed": 13,
     "status": "ok",
     "timestamp": 1683301656955,
     "user": {
      "displayName": "James Threlfall",
      "userId": "12893452708265254015"
     },
     "user_tz": -60
    },
    "id": "eTENMBD0bHJc",
    "outputId": "c74e5e40-cba9-419f-be63-99c803b46136"
   },
   "outputs": [
    {
     "name": "stdout",
     "output_type": "stream",
     "text": [
      "AD x BC: Matrix([[0, 0, 0]])\n"
     ]
    }
   ],
   "source": [
    "print(\"AD x BC:\",(A-D).cross(B-C))"
   ]
  },
  {
   "cell_type": "markdown",
   "metadata": {
    "id": "iF8HcHQ8bkmW"
   },
   "source": [
    "The cross product of AD with BC is zero: they are parallel vectors.\n",
    "\n",
    "We can therefore use our non-parallel vectors (neither of which bisects the parallelogram) to construct the equation of a parallelogram plane segment. In the lectures this looked like:\n",
    "\n",
    "$$\n",
    "\\vec{r}=\\vec{p}+u\\vec{a}+v\\vec{b},~~~0\\le u,v\\le 1.\n",
    "$$"
   ]
  },
  {
   "cell_type": "code",
   "execution_count": 8,
   "metadata": {
    "colab": {
     "base_uri": "https://localhost:8080/"
    },
    "executionInfo": {
     "elapsed": 12,
     "status": "ok",
     "timestamp": 1683301656955,
     "user": {
      "displayName": "James Threlfall",
      "userId": "12893452708265254015"
     },
     "user_tz": -60
    },
    "id": "7faxXkcKV0vN",
    "outputId": "227b7754-4411-48c5-c291-0ecfc5d24bc4"
   },
   "outputs": [
    {
     "name": "stdout",
     "output_type": "stream",
     "text": [
      "Matrix([[3*u - v, 4*u - v, -2*u + 3*v]])\n"
     ]
    }
   ],
   "source": [
    "rp = A + u * (B-A) + v * (D-A)\n",
    "print(rp)"
   ]
  },
  {
   "cell_type": "markdown",
   "metadata": {
    "id": "LlXEhDW1cgZz"
   },
   "source": [
    "This expression matches the solution we determined in class. Can we see what this looks like?"
   ]
  },
  {
   "cell_type": "code",
   "execution_count": 9,
   "metadata": {
    "colab": {
     "base_uri": "https://localhost:8080/"
    },
    "executionInfo": {
     "elapsed": 10,
     "status": "ok",
     "timestamp": 1683301656955,
     "user": {
      "displayName": "James Threlfall",
      "userId": "12893452708265254015"
     },
     "user_tz": -60
    },
    "id": "8Fx84uxBeEbU",
    "outputId": "d2b9b7a3-bbd3-4a95-c89d-803dc0376c85"
   },
   "outputs": [
    {
     "name": "stdout",
     "output_type": "stream",
     "text": [
      "0\n"
     ]
    }
   ],
   "source": [
    "print((A.tolist()[0])[0])"
   ]
  },
  {
   "cell_type": "code",
   "execution_count": 10,
   "metadata": {
    "colab": {
     "base_uri": "https://localhost:8080/",
     "height": 406
    },
    "executionInfo": {
     "elapsed": 1302,
     "status": "ok",
     "timestamp": 1683302008505,
     "user": {
      "displayName": "James Threlfall",
      "userId": "12893452708265254015"
     },
     "user_tz": -60
    },
    "id": "wbRk7pAjcm0L",
    "outputId": "60ea3d15-b806-43d9-d5da-25271045009c"
   },
   "outputs": [
    {
     "data": {
      "image/png": "[encoded data removed]",
      "text/plain": [
       "<Figure size 432x288 with 1 Axes>"
      ]
     },
     "metadata": {
      "filenames": {
       "image/png": "/Users/jamesthrelfall/Programs/JTpython/Teaching_Examples/AbertayOfficial/MAT201_Python/_build/jupyter_execute/methods/MAT201M_RaysPlanes_18_0.png"
      },
      "needs_background": "light"
     },
     "output_type": "display_data"
    }
   ],
   "source": [
    "Aa = np.array(A.tolist()[0],dtype='float64')\n",
    "Ba = np.array(B.tolist()[0],dtype='float64')\n",
    "Ca = np.array(C.tolist()[0],dtype='float64')\n",
    "Da = np.array(D.tolist()[0],dtype='float64')\n",
    "verts = [list(zip([Aa[0],Ba[0],Ca[0],Da[0]],[Aa[1],Ba[1],Ca[1],Da[1]],[Aa[2],Ba[2],Ca[2],Da[2]]))]\n",
    "ax = plt.figure().add_subplot(projection='3d')\n",
    "ax.view_init(elev=20, azim=210, roll=0)\n",
    "ax.axes.set_xlim3d(left=-1, right=3) \n",
    "ax.axes.set_ylim3d(bottom=-1, top=3) \n",
    "ax.axes.set_zlim3d(bottom=-1, top=3)\n",
    "ax.set_xlabel('x')\n",
    "ax.set_ylabel('y')\n",
    "ax.set_zlabel('z')\n",
    "ax.add_collection3d(Poly3DCollection(verts))\n",
    "ax.scatter(Aa[0],Aa[1],Aa[2], c='r', marker='o', s=20)\n",
    "ax.text(Aa[0], Aa[1]-0.25, Aa[2]+0.25, \"A\", c='r') \n",
    "ax.scatter(Ba[0],Ba[1],Ba[2], c='r', marker='o', s=20)\n",
    "ax.text(Ba[0], Ba[1]+0.25, Ba[2]+0.25, \"B\", c='r')\n",
    "ax.scatter(Ca[0],Ca[1],Ca[2], c='r', marker='o', s=20)\n",
    "ax.text(Ca[0], Ca[1], Ca[2]+0.25, \"C\", c='r') \n",
    "ax.scatter(Da[0],Da[1],Da[2], c='r', marker='o', s=20)\n",
    "ax.text(Da[0], Da[1], Da[2]+0.25, \"D\", c='r')\n",
    "plt.show()"
   ]
  },
  {
   "cell_type": "markdown",
   "metadata": {
    "id": "fzSq730WNjqK"
   },
   "source": [
    "This allows us to visualise the parallelogram (blue) and its component vertices (red)."
   ]
  },
  {
   "cell_type": "markdown",
   "metadata": {
    "id": "36_o9dvINr3u"
   },
   "source": [
    "### Example 2: Ray and parallelogram intersection?\n",
    "**Determine whether the ray from $(5,2,1)$ to**\n",
    "\n",
    "\n",
    "1.   **$(0,-3,4)$**\n",
    "2.   **$(-2,2,1)$**\n",
    "\n",
    "**intersects the plane segment in Example 1.**\n",
    "\n",
    "\n",
    "---\n",
    "\n",
    "We can hopefully reuse the structures we already created, and simply create two rays using the technique we already encountered:\n"
   ]
  },
  {
   "cell_type": "code",
   "execution_count": 11,
   "metadata": {
    "id": "W6e_VGzIjIIU"
   },
   "outputs": [],
   "source": [
    "t = sym.Symbol('t', positive=True)\n",
    "r_o = sym.Matrix([[5, 2, -1]])\n",
    "r1_e = sym.Matrix([[0, -3, 4]])\n",
    "r2_e = sym.Matrix([[-2, 2, 1]])\n",
    "r1 = r_o + t * (r1_e-r_o)\n",
    "r2 = r_o + t * (r2_e-r_o)"
   ]
  },
  {
   "cell_type": "markdown",
   "metadata": {
    "id": "lwh4I-gJOfKU"
   },
   "source": [
    "For part 1, we need to solve the system of equations created by equating the ray and plane. Python can't solve equations like \"ray = plane\", unless we arrange the equations to read \"ray - plane = 0\". We then insert the LHS into the solver:"
   ]
  },
  {
   "cell_type": "code",
   "execution_count": 12,
   "metadata": {
    "colab": {
     "base_uri": "https://localhost:8080/"
    },
    "executionInfo": {
     "elapsed": 9,
     "status": "ok",
     "timestamp": 1683301656957,
     "user": {
      "displayName": "James Threlfall",
      "userId": "12893452708265254015"
     },
     "user_tz": -60
    },
    "id": "pYBzqO9zOhrA",
    "outputId": "f6546b6b-00bd-4ce6-b739-c93af8b548e0"
   },
   "outputs": [
    {
     "name": "stdout",
     "output_type": "stream",
     "text": [
      "[]\n"
     ]
    }
   ],
   "source": [
    "sols1 = sym.solve(r1-rp,(u,v,t))\n",
    "print(sols1)"
   ]
  },
  {
   "cell_type": "markdown",
   "metadata": {
    "id": "Z3XG70YAPWEx"
   },
   "source": [
    "This very quickly establishes that, due to the constraints we placed on $u,v,t$ (namely that they be real and positive), the solver returns no solutions.\n",
    "\n",
    "For the ray in Part 2, we can repeat this process:"
   ]
  },
  {
   "cell_type": "code",
   "execution_count": 13,
   "metadata": {
    "colab": {
     "base_uri": "https://localhost:8080/"
    },
    "executionInfo": {
     "elapsed": 20,
     "status": "ok",
     "timestamp": 1683301657959,
     "user": {
      "displayName": "James Threlfall",
      "userId": "12893452708265254015"
     },
     "user_tz": -60
    },
    "id": "dD_lm8tkOz2l",
    "outputId": "bb638613-e028-446c-d77b-7326765ba7ec"
   },
   "outputs": [
    {
     "name": "stdout",
     "output_type": "stream",
     "text": [
      "{u: 41/68, v: 7/17, t: 35/68}\n"
     ]
    }
   ],
   "source": [
    "sols2 = sym.solve(r2-rp,(u,v,t))\n",
    "print(sols2)"
   ]
  },
  {
   "cell_type": "markdown",
   "metadata": {
    "id": "n5OHnPSmPq_0"
   },
   "source": [
    "These values exactly match those we calculated in class, and lie within the appropriate ranges to make this a true intersection point."
   ]
  },
  {
   "cell_type": "code",
   "execution_count": 14,
   "metadata": {
    "colab": {
     "base_uri": "https://localhost:8080/"
    },
    "executionInfo": {
     "elapsed": 17,
     "status": "ok",
     "timestamp": 1683301657959,
     "user": {
      "displayName": "James Threlfall",
      "userId": "12893452708265254015"
     },
     "user_tz": -60
    },
    "id": "6d0wbN6UP4bA",
    "outputId": "34f07bc7-2572-48fd-a712-5389e71e9cf0"
   },
   "outputs": [
    {
     "name": "stdout",
     "output_type": "stream",
     "text": [
      "intersection in lectures found at (1.39706, 2.00000, 0.02941)"
     ]
    },
    {
     "name": "stdout",
     "output_type": "stream",
     "text": [
      "\n",
      "Python finds: Matrix([[1.39705882352941, 2, 0.0294117647058822]])\n"
     ]
    }
   ],
   "source": [
    "r2t = list(sols2.values())[2].evalf()\n",
    "rpi = r2.subs(t,r2t)\n",
    "lv=[95./68., 2., 1./34.]\n",
    "print(\"intersection in lectures found at ({:0.5f}, {:0.5f}, {:0.5f})\".format(lv[0],lv[1],lv[2]))\n",
    "print(\"Python finds:\",rpi)"
   ]
  },
  {
   "cell_type": "markdown",
   "metadata": {
    "id": "ntvG9E1zToWs"
   },
   "source": [
    "So we find that (when we evaluate the fractions given in lectures!) that the answer given by Python is correct.\n",
    "\n",
    "A final sanity check is to visually show the two rays and intersection location overlaid with the parallelogram plane segment:"
   ]
  },
  {
   "cell_type": "code",
   "execution_count": 15,
   "metadata": {
    "colab": {
     "base_uri": "https://localhost:8080/",
     "height": 406
    },
    "executionInfo": {
     "elapsed": 14,
     "status": "ok",
     "timestamp": 1683301657960,
     "user": {
      "displayName": "James Threlfall",
      "userId": "12893452708265254015"
     },
     "user_tz": -60
    },
    "id": "YY_AE1YRRhCi",
    "outputId": "77e1746f-71e4-43cc-b76e-24fe2a2a6a79"
   },
   "outputs": [
    {
     "data": {
      "image/png": "[encoded data removed]",
      "text/plain": [
       "<Figure size 432x288 with 1 Axes>"
      ]
     },
     "metadata": {
      "filenames": {
       "image/png": "/Users/jamesthrelfall/Programs/JTpython/Teaching_Examples/AbertayOfficial/MAT201_Python/_build/jupyter_execute/methods/MAT201M_RaysPlanes_29_0.png"
      },
      "needs_background": "light"
     },
     "output_type": "display_data"
    }
   ],
   "source": [
    "rpia = np.array(rpi.tolist()[0],dtype='float64')\n",
    "ax = plt.figure().add_subplot(projection='3d')\n",
    "ax.view_init(elev=20, azim=215, roll=0)\n",
    "ax.axes.set_xlim3d(left=-2, right=4) \n",
    "ax.axes.set_ylim3d(bottom=-2, top=4) \n",
    "ax.axes.set_zlim3d(bottom=-2, top=4)\n",
    "ax.set_xlabel('x')\n",
    "ax.set_ylabel('y')\n",
    "ax.set_zlabel('z')\n",
    "ax.add_collection3d(Poly3DCollection(verts, alpha=0.2))\n",
    "ax.scatter(Aa[0],Aa[1],Aa[2], c='r', marker='o', s=20)\n",
    "ax.text(Aa[0], Aa[1], Aa[2]+0.25, \"A\", c='r') \n",
    "ax.scatter(Ba[0],Ba[1],Ba[2], c='r', marker='o', s=20)\n",
    "ax.text(Ba[0], Ba[1], Ba[2]+0.25, \"B\", c='r')\n",
    "ax.scatter(Ca[0],Ca[1],Ca[2], c='r', marker='o', s=20)\n",
    "ax.text(Ca[0], Ca[1], Ca[2]+0.25, \"C\", c='r') \n",
    "ax.scatter(Da[0],Da[1],Da[2], c='r', marker='o', s=20)\n",
    "ax.text(Da[0], Da[1], Da[2]+0.25, \"D\", c='r')\n",
    "ax.scatter(rpia[0],rpia[1],rpia[2], c='m', marker='x', s=50)\n",
    "ro  = np.array(r_o.tolist()[0],dtype='float64')\n",
    "r1e  = np.array(r1_e.tolist()[0],dtype='float64')\n",
    "r2e  = np.array(r2_e.tolist()[0],dtype='float64') \n",
    "arrow_prop_dict = dict(mutation_scale=20, arrowstyle='-|>', color='g', shrinkA=0, shrinkB=0, linewidth=1, linestyle=\":\")\n",
    "a = Arrow3D([ro[0], r1e[0]], [ro[1], r1e[1]], [ro[2], r1e[2]], **arrow_prop_dict)\n",
    "ax.add_artist(a)\n",
    "ax.text(r1e[0], r1e[1], r1e[2], \"Ray 1\", c='g')\n",
    "arrow_prop_dict = dict(mutation_scale=20, arrowstyle='-|>', color='m', shrinkA=0, shrinkB=0, linewidth=1, linestyle=':')\n",
    "b = Arrow3D([ro[0], r2e[0]], [ro[1], r2e[1]], [ro[2], r2e[2]], **arrow_prop_dict)\n",
    "ax.add_artist(b)\n",
    "ax.text(r2e[0], r2e[1], r2e[2]+0.5, \"Ray 2\", c='m')\n",
    "plt.show()"
   ]
  },
  {
   "cell_type": "markdown",
   "metadata": {
    "id": "tbsFXzTCSyVc"
   },
   "source": [
    "(noting that in this case the axis are no longer presented in Cartesian coordinates)."
   ]
  },
  {
   "cell_type": "markdown",
   "metadata": {
    "id": "tgW0pHCnUU9u"
   },
   "source": [
    "## Triangular Plane Segments\n",
    "Finally, we will explore how this process changes if we need to work with triangular plane segments. Triangular plane segments are more commonly used in graphics applications (with only three points in space required to map out a 3D surface, many triangular plane segments are often combined to create large, complex 3D objects). Let's again see how Python handles these types of structures:\n",
    "\n",
    "### Lecture Example:\n",
    "**Determine if the ray from $(2,1,2)$ to $(-1,-1,0)$ cuts the triangular plane segment vertices at $A(5,0,0)$, $B(0,3,0)$, and $C(0,0,4)$.**\n",
    "\n",
    "\n",
    "---\n",
    "\n",
    "In order to construct a parametric equation describing every point on the surface, we need to pick two sides of the triangle to act as vectors. However, unlike the parallelogram plane, we have to pick the second vector which begins when the first vector begins.\n"
   ]
  },
  {
   "cell_type": "code",
   "execution_count": 16,
   "metadata": {
    "colab": {
     "base_uri": "https://localhost:8080/",
     "height": 240
    },
    "executionInfo": {
     "elapsed": 478,
     "status": "error",
     "timestamp": 1683647952309,
     "user": {
      "displayName": "James Threlfall",
      "userId": "12893452708265254015"
     },
     "user_tz": -60
    },
    "id": "gRxNXxondwKo",
    "outputId": "561ae6e5-6446-4542-d875-42cdef5cc99f"
   },
   "outputs": [
    {
     "name": "stdout",
     "output_type": "stream",
     "text": [
      "Matrix([[5 - 5*u, 3*u - 3*v, 4*v]])\n"
     ]
    }
   ],
   "source": [
    "A3 = sym.Matrix([[5, 0, 0]])\n",
    "B3 = sym.Matrix([[0, 3, 0]])\n",
    "C3 = sym.Matrix([[0, 0, 4]])\n",
    "rpt = A3 + u * (B3-A3) + v * (C3-B3)\n",
    "print(rpt)"
   ]
  },
  {
   "cell_type": "code",
   "execution_count": 17,
   "metadata": {
    "colab": {
     "base_uri": "https://localhost:8080/"
    },
    "executionInfo": {
     "elapsed": 10,
     "status": "ok",
     "timestamp": 1683301657960,
     "user": {
      "displayName": "James Threlfall",
      "userId": "12893452708265254015"
     },
     "user_tz": -60
    },
    "id": "IwpjexT7eJsh",
    "outputId": "69c202d6-92a2-47d5-f37e-f93cacc91e21"
   },
   "outputs": [
    {
     "name": "stdout",
     "output_type": "stream",
     "text": [
      "{u: 36/53, v: 23/53, t: 7/53}\n",
      "u>v, hence valid intersection at:\n",
      "Matrix([[85/53, 39/53, 92/53]])\n"
     ]
    }
   ],
   "source": [
    "r3_o = sym.Matrix([[2, 1, 2]])\n",
    "r3_e = sym.Matrix([[-1, -1, 0]])\n",
    "r3 = r3_o + t * (r3_e-r3_o)\n",
    "sols3 = sym.solve(r3-rpt,(u,v,t))\n",
    "print(sols3)\n",
    "r3uvt = list(sols3.values())\n",
    "if r3uvt[0] > r3uvt[1] :\n",
    "  print(\"u>v, hence valid intersection at:\")\n",
    "  rpi3 = r3.subs(t,r3uvt[2])\n",
    "  print(rpi3)\n",
    "  rpia3 = np.array(rpi3.tolist()[0],dtype='float64')\n"
   ]
  },
  {
   "cell_type": "markdown",
   "metadata": {
    "id": "51RVgoEIh1eN"
   },
   "source": [
    "Let's check what this physically looks like:"
   ]
  },
  {
   "cell_type": "code",
   "execution_count": 18,
   "metadata": {
    "colab": {
     "base_uri": "https://localhost:8080/",
     "height": 406
    },
    "executionInfo": {
     "elapsed": 9,
     "status": "ok",
     "timestamp": 1683301657961,
     "user": {
      "displayName": "James Threlfall",
      "userId": "12893452708265254015"
     },
     "user_tz": -60
    },
    "id": "CI0v_sUHf-l-",
    "outputId": "c1d96d7a-7880-44cf-da3f-ee3e8264a933"
   },
   "outputs": [
    {
     "data": {
      "image/png": "[encoded data removed]",
      "text/plain": [
       "<Figure size 432x288 with 1 Axes>"
      ]
     },
     "metadata": {
      "filenames": {
       "image/png": "/Users/jamesthrelfall/Programs/JTpython/Teaching_Examples/AbertayOfficial/MAT201_Python/_build/jupyter_execute/methods/MAT201M_RaysPlanes_35_0.png"
      },
      "needs_background": "light"
     },
     "output_type": "display_data"
    }
   ],
   "source": [
    "Aa3 = np.array(A3.tolist()[0],dtype='float64')\n",
    "Ba3 = np.array(B3.tolist()[0],dtype='float64')\n",
    "Ca3 = np.array(C3.tolist()[0],dtype='float64')\n",
    "verts3 = [list(zip([Aa3[0],Ba3[0],Ca3[0]],[Aa3[1],Ba3[1],Ca3[1]],[Aa3[2],Ba3[2],Ca3[2]]))]\n",
    "ax3 = plt.figure().add_subplot(projection='3d')\n",
    "ax3.view_init(elev=10, azim=-25, roll=0)\n",
    "ax3.axes.set_xlim3d(left=-2, right=4) \n",
    "ax3.axes.set_ylim3d(bottom=-2, top=4) \n",
    "ax3.axes.set_zlim3d(bottom=-2, top=4)\n",
    "ax3.set_xlabel('x')\n",
    "ax3.set_ylabel('y')\n",
    "ax3.set_zlabel('z')\n",
    "ax3.add_collection3d(Poly3DCollection(verts3, alpha=0.2))\n",
    "ax3.scatter(Aa3[0],Aa3[1],Aa3[2], c='r', marker='o', s=20)\n",
    "ax3.text(Aa3[0], Aa3[1], Aa3[2]+0.25, \"A\", c='m') \n",
    "ax3.scatter(Ba3[0],Ba3[1],Ba3[2], c='r', marker='o', s=20)\n",
    "ax3.text(Ba3[0], Ba3[1], Ba3[2]+0.25, \"B\", c='m')\n",
    "ax3.scatter(Ca3[0],Ca3[1],Ca3[2], c='r', marker='o', s=20) \n",
    "ax3.text(Ca3[0], Ca3[1], Ca3[2]+0.25, \"C\", c='m')\n",
    "ax3.scatter(rpia3[0],rpia3[1],rpia3[2], c='m', marker='x', s=50)\n",
    "ro3  = np.array(r3_o.tolist()[0],dtype='float64')\n",
    "re3  = np.array(r3_e.tolist()[0],dtype='float64')\n",
    "arrow_prop_dict = dict(mutation_scale=20, arrowstyle='-|>', color='g', shrinkA=0, shrinkB=0, linewidth=1, linestyle=\":\")\n",
    "a = Arrow3D([ro3[0], re3[0]], [ro3[1], re3[1]], [ro3[2], re3[2]], **arrow_prop_dict)\n",
    "ax3.add_artist(a)\n",
    "ax3.text(re3[0], re3[1], re3[2]+0.75, \"Ray 1\", c='g')\n",
    "plt.show()"
   ]
  },
  {
   "cell_type": "markdown",
   "metadata": {
    "id": "u2T-LGiRh6oN"
   },
   "source": [
    "As we can see from the image, we successfully formed a triangular plane segment between the three vertices, and indeed (as seen in the lectures) the chosen ray intersects the triangular plane segment at the location we have found."
   ]
  },
  {
   "cell_type": "markdown",
   "metadata": {
    "id": "gIN3FKqxMxH8"
   },
   "source": [
    "## Over to you\n",
    "Try some more examples from the lectures or the tutorial questions once you are satisfied with the mathematics"
   ]
  },
  {
   "cell_type": "code",
   "execution_count": null,
   "metadata": {
    "id": "D5TJOWnTff2R"
   },
   "outputs": [],
   "source": []
  }
 ],
 "metadata": {
  "colab": {
   "authorship_tag": "ABX9TyO7Y1pNmdwSjH/OPf7WavND",
   "provenance": [
    {
     "file_id": "1SyTG2aflEYYHz_27l0zl7816AkxafL2k",
     "timestamp": 1683280250684
    }
   ]
  },
  "kernelspec": {
   "display_name": "Python 3 (ipykernel)",
   "language": "python",
   "name": "python3"
  },
  "language_info": {
   "codemirror_mode": {
    "name": "ipython",
    "version": 3
   },
   "file_extension": ".py",
   "mimetype": "text/x-python",
   "name": "python",
   "nbconvert_exporter": "python",
   "pygments_lexer": "ipython3",
   "version": "3.9.16"
  }
 },
 "nbformat": 4,
 "nbformat_minor": 1
}