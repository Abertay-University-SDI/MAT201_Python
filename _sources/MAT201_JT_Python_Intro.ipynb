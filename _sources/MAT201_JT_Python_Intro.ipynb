{
 "cells": [
  {
   "cell_type": "markdown",
   "id": "6ec91ce8",
   "metadata": {
    "id": "6ec91ce8"
   },
   "source": [
    "\n",
    "# Introduction to Python\n",
    "\n",
    "Brief introduction to basic Python syntax, libraries, plotting in Jupyter notebooks.\n"
   ]
  },
  {
   "cell_type": "markdown",
   "id": "-I-mGQzvALt3",
   "metadata": {
    "id": "-I-mGQzvALt3"
   },
   "source": [
    "## General introduction\n",
    "\n",
    "This notebook lists examples of simple Python commands and programs that can be used to help with the understanding of the MAT201 course, particularly in the area of dynamics. Students can use Python to check their answers and visually see the mathematics in action. More broadly, a wide knowledge and ability to use other programming languages may help with problem solving and employability. \n",
    "\n",
    "This is a Jupyter notebook launched from within the Anaconda data science platform. Anaconda can be downloaded here:\n",
    "\n",
    "[https://www.anaconda.com](https://www.anaconda.com)\n",
    "\n",
    "Python is an open-source programming language used extensively around the world. It is also vital for carrying out Scientific Computation.\n",
    "\n",
    "To execute commands in Jupyter, either Run the cell or hit SHIFT + ENTER.\n",
    "\n",
    "Alternatively, you can perform cloud computing using Google Colab:\n",
    "\n",
    "[https://colab.research.google.com/](https://colab.research.google.com/)\n",
    "\n",
    "You will need a Google account to perform cloud computing, but the commands are (largely) the same. One can also click the \"play\" button next to an executable segment of code to run that code."
   ]
  },
  {
   "cell_type": "markdown",
   "id": "cR4EewJ7VEvT",
   "metadata": {
    "id": "cR4EewJ7VEvT"
   },
   "source": [
    "Notebooks in Jupyter look like this: ![title](JupyterNotebook_my_first_plot.png)"
   ]
  },
  {
   "cell_type": "code",
   "execution_count": null,
   "id": "vqyaiKHHVEJi",
   "metadata": {
    "colab": {
     "base_uri": "https://localhost:8080/"
    },
    "executionInfo": {
     "elapsed": 10,
     "status": "ok",
     "timestamp": 1647872844649,
     "user": {
      "displayName": "James Threlfall",
      "photoUrl": "https://lh3.googleusercontent.com/a-/AOh14Gh5AMmwJn-QgnyAtyVfjDwEfQL-5FfwAhQ1uZjJ=s64",
      "userId": "12893452708265254015"
     },
     "user_tz": 0
    },
    "id": "vqyaiKHHVEJi",
    "outputId": "9db12b80-4d84-4f61-f05f-02612a4ce1f9"
   },
   "outputs": [
    {
     "name": "stdout",
     "output_type": "stream",
     "text": [
      "Hello, World\n"
     ]
    }
   ],
   "source": [
    "print(\"Hello, World\")"
   ]
  },
  {
   "cell_type": "markdown",
   "id": "Vt7Aw8S_WeVN",
   "metadata": {
    "id": "Vt7Aw8S_WeVN"
   },
   "source": [
    "The output should always appear below each code cell (if there is any).\n",
    "\n",
    "Note if you hit ENTER without the shift, the notebook will either open the cell for editing, or perform a carriage return within that cell instead. You can edit code or text, then run it with SHIFT + ENTER.\n",
    "\n",
    "Try modifying this statement yourself: **Python is ....**\n",
    "\n",
    "I encourage you to make copies of notebooks (to augment your lecture notes) and save them to your own computer or OneDrive areas. "
   ]
  },
  {
   "cell_type": "markdown",
   "id": "lL5a9mJDWqV0",
   "metadata": {
    "id": "lL5a9mJDWqV0"
   },
   "source": [
    "Python has extended functionality through libraries containing lots of extra commands, functions, and useful stuff. We import these libraries and commands using the *import* command:"
   ]
  },
  {
   "cell_type": "code",
   "execution_count": null,
   "id": "-b5QwEmVVDdR",
   "metadata": {
    "id": "-b5QwEmVVDdR"
   },
   "outputs": [],
   "source": [
    "import time\n",
    "time.sleep(3)"
   ]
  },
  {
   "cell_type": "markdown",
   "id": "0ZB6Tnf3XAYB",
   "metadata": {
    "id": "0ZB6Tnf3XAYB"
   },
   "source": [
    "In this case, we have imported a library called \"time\" in order to run a command called \"sleep\". This command runs for an amount of time given by its argument (in our case, 3 seconds) and produces no output. Note that when the code is running the symbol within the square brackets changes (indicating it is running)."
   ]
  },
  {
   "cell_type": "markdown",
   "id": "1FeIKZaxX2zu",
   "metadata": {
    "id": "1FeIKZaxX2zu"
   },
   "source": [
    "There are **many** detailed introductions to Jupyter notebooks, and Google colab, including textbooks, online workshops, videos, notebooks, theatrical productions (well maybe)... most are available on the web, like\n",
    "[this one](https://www.dataquest.io/blog/jupyter-notebook-tutorial/). Youtube videos [like this one](https://youtu.be/RLYoEyIHL6A) also allow you to see this process as you would on your machine.\n",
    "\n",
    "\n",
    "\n",
    "---\n",
    "\n"
   ]
  },
  {
   "cell_type": "markdown",
   "id": "pTx6EHP_0hl6",
   "metadata": {
    "id": "pTx6EHP_0hl6"
   },
   "source": [
    "## Applications to MAT201 content\n",
    "\n",
    "In MAT201, our focus is (as you might expect) on mathematics. The rest of this introduction will illustrate a Python library called [Sympy](https://www.sympy.org/en/index.html). Like other Python packages, it is well documented, and widely used\n",
    "\n",
    "Let's go ahead and load in the libraries we need: in this case, we'll focus solely on *sympy*:\n"
   ]
  },
  {
   "cell_type": "code",
   "execution_count": null,
   "id": "c10d447e",
   "metadata": {
    "id": "c10d447e"
   },
   "outputs": [],
   "source": [
    "import sympy as sym"
   ]
  },
  {
   "cell_type": "markdown",
   "id": "XsD0TeYDCvUh",
   "metadata": {
    "id": "XsD0TeYDCvUh"
   },
   "source": [
    "Let's very briefly look at some capabilities of *sympy*. *Sympy* has three data types, Real Integer and Rational. Rational numbers are probably better known as fractions. If we wanted to work with the fraction of one half, for example, we could write this as a real number $0.5$, or as a fraction:"
   ]
  },
  {
   "cell_type": "code",
   "execution_count": null,
   "id": "4ROByh4ZBQnW",
   "metadata": {
    "colab": {
     "base_uri": "https://localhost:8080/"
    },
    "executionInfo": {
     "elapsed": 11,
     "status": "ok",
     "timestamp": 1647872848831,
     "user": {
      "displayName": "James Threlfall",
      "photoUrl": "https://lh3.googleusercontent.com/a-/AOh14Gh5AMmwJn-QgnyAtyVfjDwEfQL-5FfwAhQ1uZjJ=s64",
      "userId": "12893452708265254015"
     },
     "user_tz": 0
    },
    "id": "4ROByh4ZBQnW",
    "outputId": "3472ef25-a132-4ab8-ac87-bfa3a8580c8e"
   },
   "outputs": [
    {
     "name": "stdout",
     "output_type": "stream",
     "text": [
      "1/2\n"
     ]
    }
   ],
   "source": [
    "onehalf = sym.Rational(1,2)\n",
    "print(onehalf)"
   ]
  },
  {
   "cell_type": "markdown",
   "id": "W3BRQHt2BagK",
   "metadata": {
    "id": "W3BRQHt2BagK"
   },
   "source": [
    "We can perform basic maths with symbols in the usual way (e.g. addition, subtraction, multiplication, division):"
   ]
  },
  {
   "cell_type": "code",
   "execution_count": null,
   "id": "tKw1eJPfBx3x",
   "metadata": {
    "colab": {
     "base_uri": "https://localhost:8080/"
    },
    "executionInfo": {
     "elapsed": 10,
     "status": "ok",
     "timestamp": 1647872848832,
     "user": {
      "displayName": "James Threlfall",
      "photoUrl": "https://lh3.googleusercontent.com/a-/AOh14Gh5AMmwJn-QgnyAtyVfjDwEfQL-5FfwAhQ1uZjJ=s64",
      "userId": "12893452708265254015"
     },
     "user_tz": 0
    },
    "id": "tKw1eJPfBx3x",
    "outputId": "6907936c-227f-4b94-fe2f-40d9201ea24c"
   },
   "outputs": [
    {
     "name": "stdout",
     "output_type": "stream",
     "text": [
      "4*onehalf= 2\n"
     ]
    }
   ],
   "source": [
    "print(\"4*onehalf=\", 4 * onehalf)"
   ]
  },
  {
   "cell_type": "markdown",
   "id": "Adj0U5GeBxgE",
   "metadata": {
    "id": "Adj0U5GeBxgE"
   },
   "source": [
    "We can use symbolic constants like $pi$, $e$ (as in the exponential) or indeed infinity:"
   ]
  },
  {
   "cell_type": "code",
   "execution_count": null,
   "id": "SJ_q_xh5B9NA",
   "metadata": {
    "colab": {
     "base_uri": "https://localhost:8080/"
    },
    "executionInfo": {
     "elapsed": 8,
     "status": "ok",
     "timestamp": 1647872848832,
     "user": {
      "displayName": "James Threlfall",
      "photoUrl": "https://lh3.googleusercontent.com/a-/AOh14Gh5AMmwJn-QgnyAtyVfjDwEfQL-5FfwAhQ1uZjJ=s64",
      "userId": "12893452708265254015"
     },
     "user_tz": 0
    },
    "id": "SJ_q_xh5B9NA",
    "outputId": "6d26c7f8-263d-417f-9d36-1a7315576912"
   },
   "outputs": [
    {
     "name": "stdout",
     "output_type": "stream",
     "text": [
      "3.14159265358979\n"
     ]
    }
   ],
   "source": [
    "mypi = sym.pi\n",
    "print(mypi.evalf())"
   ]
  },
  {
   "cell_type": "markdown",
   "id": "mJn6bWd-CQwn",
   "metadata": {
    "id": "mJn6bWd-CQwn"
   },
   "source": [
    "This is just for starters: we can build systems of equations if we tell Python that some symbols represent unknown numbers:"
   ]
  },
  {
   "cell_type": "code",
   "execution_count": null,
   "id": "Z9UmmHj3CMz-",
   "metadata": {
    "colab": {
     "base_uri": "https://localhost:8080/"
    },
    "executionInfo": {
     "elapsed": 7,
     "status": "ok",
     "timestamp": 1647872848833,
     "user": {
      "displayName": "James Threlfall",
      "photoUrl": "https://lh3.googleusercontent.com/a-/AOh14Gh5AMmwJn-QgnyAtyVfjDwEfQL-5FfwAhQ1uZjJ=s64",
      "userId": "12893452708265254015"
     },
     "user_tz": 0
    },
    "id": "Z9UmmHj3CMz-",
    "outputId": "f285a7d7-6204-4f2d-ee9c-5858700f6ad0"
   },
   "outputs": [
    {
     "name": "stdout",
     "output_type": "stream",
     "text": [
      "3*x + 1/2\n"
     ]
    }
   ],
   "source": [
    "x, y = sym.Symbol('x'), sym.Symbol('y')\n",
    "print(x + 2 * x + onehalf)"
   ]
  },
  {
   "cell_type": "markdown",
   "id": "C5I_1fn3CP-O",
   "metadata": {
    "id": "C5I_1fn3CP-O"
   },
   "source": [
    "See how Python has simplified the above expression, and added together the x terms? We can get it to do more complicated algebra:"
   ]
  },
  {
   "cell_type": "code",
   "execution_count": null,
   "id": "-QxVl4f_C6yy",
   "metadata": {
    "colab": {
     "base_uri": "https://localhost:8080/",
     "height": 54
    },
    "executionInfo": {
     "elapsed": 984,
     "status": "ok",
     "timestamp": 1647872849812,
     "user": {
      "displayName": "James Threlfall",
      "photoUrl": "https://lh3.googleusercontent.com/a-/AOh14Gh5AMmwJn-QgnyAtyVfjDwEfQL-5FfwAhQ1uZjJ=s64",
      "userId": "12893452708265254015"
     },
     "user_tz": 0
    },
    "id": "-QxVl4f_C6yy",
    "outputId": "0938ec85-c036-4322-88ef-39129ccda1e3"
   },
   "outputs": [
    {
     "data": {
      "text/latex": [
       "$\\displaystyle x^{2} + x y + \\frac{y^{2}}{4}$"
      ],
      "text/plain": [
       "x**2 + x*y + y**2/4"
      ]
     },
     "execution_count": 8,
     "metadata": {},
     "output_type": "execute_result"
    }
   ],
   "source": [
    "sym.expand( (x + onehalf * y)**2 )"
   ]
  },
  {
   "cell_type": "markdown",
   "id": "TID0QqnmDura",
   "metadata": {
    "id": "TID0QqnmDura"
   },
   "source": [
    "Sympy has expanded this binomial, just like we would using pen and paper. It knows all the rules we do! It also knows lots about trigonometric functions. The *simplify* command can simplify expressions, using all of the maths knowledge in the library. We know that $\\cos^2{(x)}+\\sin^2{(x)}=1$; so does sympy:"
   ]
  },
  {
   "cell_type": "code",
   "execution_count": null,
   "id": "O62zna5xDXWZ",
   "metadata": {
    "colab": {
     "base_uri": "https://localhost:8080/"
    },
    "executionInfo": {
     "elapsed": 22,
     "status": "ok",
     "timestamp": 1647872849813,
     "user": {
      "displayName": "James Threlfall",
      "photoUrl": "https://lh3.googleusercontent.com/a-/AOh14Gh5AMmwJn-QgnyAtyVfjDwEfQL-5FfwAhQ1uZjJ=s64",
      "userId": "12893452708265254015"
     },
     "user_tz": 0
    },
    "id": "O62zna5xDXWZ",
    "outputId": "f8f1d116-2170-49c2-efd3-227aedc3baa8"
   },
   "outputs": [
    {
     "name": "stdout",
     "output_type": "stream",
     "text": [
      "sin(x)**2 + cos(x)**2\n",
      "1\n"
     ]
    }
   ],
   "source": [
    "print( sym.cos(x) * sym.cos(x) + sym.sin(x) * sym.sin(x))\n",
    "print( sym.simplify( sym.cos(x) * sym.cos(x) + sym.sin(x) * sym.sin(x)) )"
   ]
  },
  {
   "cell_type": "markdown",
   "id": "FA_QrgsQDt90",
   "metadata": {
    "id": "FA_QrgsQDt90"
   },
   "source": [
    "It can even perform calculus operations like differentiation and integration:"
   ]
  },
  {
   "cell_type": "code",
   "execution_count": null,
   "id": "NQQxjrSKENQA",
   "metadata": {
    "colab": {
     "base_uri": "https://localhost:8080/",
     "height": 38
    },
    "executionInfo": {
     "elapsed": 20,
     "status": "ok",
     "timestamp": 1647872849814,
     "user": {
      "displayName": "James Threlfall",
      "photoUrl": "https://lh3.googleusercontent.com/a-/AOh14Gh5AMmwJn-QgnyAtyVfjDwEfQL-5FfwAhQ1uZjJ=s64",
      "userId": "12893452708265254015"
     },
     "user_tz": 0
    },
    "id": "NQQxjrSKENQA",
    "outputId": "bc16fc31-c905-4611-88e1-4ab55d48319c"
   },
   "outputs": [
    {
     "data": {
      "text/latex": [
       "$\\displaystyle x$"
      ],
      "text/plain": [
       "x"
      ]
     },
     "execution_count": 10,
     "metadata": {},
     "output_type": "execute_result"
    }
   ],
   "source": [
    "sym.diff(onehalf * x ** 2, x)"
   ]
  },
  {
   "cell_type": "markdown",
   "id": "7Fc4_nBbDMkk",
   "metadata": {
    "id": "7Fc4_nBbDMkk"
   },
   "source": [
    "where the command has differentiated the first expression with respect to x. We can perform partial derivatives just as easily: lets say we need \\begin{equation} \n",
    "\\frac{\\partial}{\\partial x} \\left(x^3+y+axy\\right), \n",
    "\\end{equation}\n",
    "where $x$ and $y$ are independent variables:"
   ]
  },
  {
   "cell_type": "code",
   "execution_count": null,
   "id": "GrtJ1vJ_EsiE",
   "metadata": {
    "colab": {
     "base_uri": "https://localhost:8080/",
     "height": 47
    },
    "executionInfo": {
     "elapsed": 18,
     "status": "ok",
     "timestamp": 1647872849814,
     "user": {
      "displayName": "James Threlfall",
      "photoUrl": "https://lh3.googleusercontent.com/a-/AOh14Gh5AMmwJn-QgnyAtyVfjDwEfQL-5FfwAhQ1uZjJ=s64",
      "userId": "12893452708265254015"
     },
     "user_tz": 0
    },
    "id": "GrtJ1vJ_EsiE",
    "outputId": "a854b169-2aa1-4d7e-f2be-9d629aa2d189"
   },
   "outputs": [
    {
     "data": {
      "text/latex": [
       "$\\displaystyle 3 x^{2} + \\frac{y}{2}$"
      ],
      "text/plain": [
       "3*x**2 + y/2"
      ]
     },
     "execution_count": 11,
     "metadata": {},
     "output_type": "execute_result"
    }
   ],
   "source": [
    "sym.diff(x ** 3 + y + onehalf * x * y , x)"
   ]
  },
  {
   "cell_type": "markdown",
   "id": "3gt3nw5MEsIl",
   "metadata": {
    "id": "3gt3nw5MEsIl"
   },
   "source": [
    "easy peasy! What about integration? We know that (ignoring the constants of integration for now) \n",
    "\\begin{equation}\\int \\frac{1}{{x}} ~{\\rm{d}}x=\\ln{|x|}+c,\\end{equation} but so does sympy:"
   ]
  },
  {
   "cell_type": "code",
   "execution_count": null,
   "id": "TTeGwaoOF37N",
   "metadata": {
    "colab": {
     "base_uri": "https://localhost:8080/",
     "height": 38
    },
    "executionInfo": {
     "elapsed": 16,
     "status": "ok",
     "timestamp": 1647872849815,
     "user": {
      "displayName": "James Threlfall",
      "photoUrl": "https://lh3.googleusercontent.com/a-/AOh14Gh5AMmwJn-QgnyAtyVfjDwEfQL-5FfwAhQ1uZjJ=s64",
      "userId": "12893452708265254015"
     },
     "user_tz": 0
    },
    "id": "TTeGwaoOF37N",
    "outputId": "6dd64374-c2e8-408c-989d-78ec9cf141f7"
   },
   "outputs": [
    {
     "data": {
      "text/latex": [
       "$\\displaystyle \\log{\\left(x \\right)}$"
      ],
      "text/plain": [
       "log(x)"
      ]
     },
     "execution_count": 12,
     "metadata": {},
     "output_type": "execute_result"
    }
   ],
   "source": [
    "sym.integrate(1 / x, x)"
   ]
  },
  {
   "cell_type": "markdown",
   "id": "jB5nlRxJGUbK",
   "metadata": {
    "id": "jB5nlRxJGUbK"
   },
   "source": [
    "(also noting that sympy refers to natural log ($ln$) as \"log\"). Sympy can also solve equations or sets of equations in one line:"
   ]
  },
  {
   "cell_type": "code",
   "execution_count": null,
   "id": "fcueow_VGiT_",
   "metadata": {
    "colab": {
     "base_uri": "https://localhost:8080/"
    },
    "executionInfo": {
     "elapsed": 16,
     "status": "ok",
     "timestamp": 1647872849816,
     "user": {
      "displayName": "James Threlfall",
      "photoUrl": "https://lh3.googleusercontent.com/a-/AOh14Gh5AMmwJn-QgnyAtyVfjDwEfQL-5FfwAhQ1uZjJ=s64",
      "userId": "12893452708265254015"
     },
     "user_tz": 0
    },
    "id": "fcueow_VGiT_",
    "outputId": "bcbdddba-5041-4200-ad18-603396bf490a"
   },
   "outputs": [
    {
     "data": {
      "text/plain": [
       "(-3, 1)"
      ]
     },
     "execution_count": 13,
     "metadata": {},
     "output_type": "execute_result"
    }
   ],
   "source": [
    "solution = sym.solve((x + 5 * y - 2, -3 * x + 6 * y - 15), (x, y))\n",
    "solution[x], solution[y]"
   ]
  },
  {
   "cell_type": "markdown",
   "id": "pPJ0NBpp5mfe",
   "metadata": {
    "id": "pPJ0NBpp5mfe"
   },
   "source": [
    "It can also solve matrix equations and tons of other clever things. However, this is plenty of information to begin to explore simple differential calculus that we'll encounter in our MAT201 dynamics lectures."
   ]
  },
  {
   "cell_type": "code",
   "execution_count": null,
   "id": "Aeyazb_7dJNj",
   "metadata": {
    "id": "Aeyazb_7dJNj"
   },
   "outputs": [],
   "source": []
  }
 ],
 "metadata": {
  "colab": {
   "collapsed_sections": [],
   "name": "00_JT_Python_Intro",
   "provenance": [
    {
     "file_id": "11FgYO5dn3ikxbWms6OLgrXynbQDsgHM5",
     "timestamp": 1647527620245
    }
   ]
  },
  "kernelspec": {
   "display_name": "Python 3 (ipykernel)",
   "language": "python",
   "name": "python3"
  },
  "language_info": {
   "codemirror_mode": {
    "name": "ipython",
    "version": 3
   },
   "file_extension": ".py",
   "mimetype": "text/x-python",
   "name": "python",
   "nbconvert_exporter": "python",
   "pygments_lexer": "ipython3",
   "version": "3.8.9"
  }
 },
 "nbformat": 4,
 "nbformat_minor": 5
}
