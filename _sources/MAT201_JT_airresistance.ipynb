{
 "cells": [
  {
   "cell_type": "markdown",
   "id": "6ec91ce8",
   "metadata": {
    "id": "6ec91ce8"
   },
   "source": [
    "# Fluid Resistance and Terminal speed\n",
    "Using Python's symbolic computation library, we will see how resistive forces affect motion."
   ]
  },
  {
   "cell_type": "markdown",
   "id": "-I-mGQzvALt3",
   "metadata": {
    "id": "-I-mGQzvALt3"
   },
   "source": [
    "In Lecture 3 of our Dynamics component of MAT201, we explored ideas of changing the balance of forces acting upon an object, particularly in the case where a resistive force is applied proportional to the velocity of the object. \n",
    "\n",
    "We'll explore some of the same ideas and use Python to solve these equations for us."
   ]
  },
  {
   "cell_type": "markdown",
   "id": "pTx6EHP_0hl6",
   "metadata": {
    "id": "pTx6EHP_0hl6"
   },
   "source": [
    "Let's go ahead and load in the libraries we need: in this case, we'll need *numpy*, *sympy* and some plotting routines for later:"
   ]
  },
  {
   "cell_type": "code",
   "execution_count": 1,
   "id": "c10d447e",
   "metadata": {
    "id": "c10d447e"
   },
   "outputs": [],
   "source": [
    "%matplotlib inline\n",
    "import sympy as sym\n",
    "import numpy as np\n",
    "import math \n",
    "import matplotlib.pyplot as plt \n",
    "import matplotlib.gridspec as gridspec\n",
    "from sympy.utilities.lambdify import lambdify, implemented_function"
   ]
  },
  {
   "cell_type": "markdown",
   "id": "7ny-gu7P511s",
   "metadata": {
    "id": "7ny-gu7P511s"
   },
   "source": [
    "## Resistive forces\n",
    "\n",
    "We have already considered general cases where an object may be subject to a single resistive force. To recap, we saw that an object subject to a resistive force $R(v)$ would therefore be subject to Newton's Second Law as:\n",
    "\\begin{equation}\n",
    " m\\frac{{\\rm d}v}{{\\rm d}t}=-R(v),\n",
    "\\end{equation}\n",
    "which can be separated and integrated to determine expresions for elapsed time $t$ as \n",
    "\\begin{equation}\n",
    "t=-m\\int_{v_0}^{v}\\frac{{\\rm d}v}{R(v)},\n",
    "\\end{equation}\n",
    "or indeed an expression for the object displacement $s$ as\n",
    "\\begin{equation}\n",
    "s=s_0+\\int_{t=0}^{t=t}v{\\rm d}t.\n",
    "\\end{equation}\n",
    "But what happens if multiple forces act upon the body? A good example of this is projectile motion, where an object is accelerating (due to gravity), but is also subject to a resistive force.\n"
   ]
  },
  {
   "cell_type": "markdown",
   "id": "2u0xv7tcRdBF",
   "metadata": {
    "id": "2u0xv7tcRdBF"
   },
   "source": [
    "## Projectile Motion\n",
    "\n",
    "In the case where an object is acted upon by several forces, some of which may vary according to variables like velocity, we must consider the *sum* of forces acting on the body, in order to use Newton's Second Law to describe the motion, e.g.\n",
    "\\begin{equation}\n",
    "\\sum{F}=mg-R(v)=ma.\n",
    "\\end{equation}\n",
    "Note that the signs associated with each force are incredibly important. \n",
    "\n",
    "The direction and magnitude of forces acting upon a body may confusingly change with time: consider a ball thrown directly upwards, which during *ascent* will have air resistance acting in the same direction as gravity, at its maximum height will be motionless (and hence no air resistance), and upon *descent* will have air resistance acting to counter gravity. We may have to break up our treatment of the dynamics of objects into different stages depending on the forces and how they act over time. \n",
    "\n",
    "In the lectures we saw a general case described for a mass released from rest from a cliff. This object goes on to achieve terminal velocity before impact. We'll repeat that general case to examine the behaviour of the solution.\n",
    "\n",
    "In that example, an object was released from rest, and was subject to a resistive force $-kv$ and the force of gravity. We first use Newton's Law to determine the acceleration of the object as a function of the object's velocity:\n"
   ]
  },
  {
   "cell_type": "code",
   "execution_count": 2,
   "id": "Y1PVmURWMLdR",
   "metadata": {
    "colab": {
     "base_uri": "https://localhost:8080/"
    },
    "id": "Y1PVmURWMLdR",
    "outputId": "fa294f1c-b66c-48e7-c730-d3f3b726e725"
   },
   "outputs": [
    {
     "name": "stdout",
     "output_type": "stream",
     "text": [
      "a= (-k*v + 9.81*m)/m\n"
     ]
    }
   ],
   "source": [
    "v = sym.Symbol('v',real=True)\n",
    "x = sym.Symbol('x',real=True)\n",
    "t = sym.Symbol('t',real=True, positive=True)\n",
    "m = sym.Symbol('m',real=True, positive=True)\n",
    "k = sym.Symbol('k',real=True, positive=True)\n",
    "D = sym.Symbol('D',real=True, positive=True)\n",
    "g = 9.81\n",
    "v_ini = 0\n",
    "F_res = -k * v\n",
    "F_g = m*g\n",
    "F_total = F_res + F_g\n",
    "a = F_total/m\n",
    "print(\"a=\",a)"
   ]
  },
  {
   "cell_type": "markdown",
   "id": "deAMVK9SX9uM",
   "metadata": {
    "id": "deAMVK9SX9uM"
   },
   "source": [
    "Over time the resistance force will grow with the velocity of the object, until it *matches* the force created by gravity. These forces will then cancel each other, yielding *no net acceleration*. The velocity at which this occurs is called the **terminal velocity**. To calculate the terminal velocity, we set acceleration $a=0$ and solve for the velocity:"
   ]
  },
  {
   "cell_type": "code",
   "execution_count": 3,
   "id": "8f225lUEU-_p",
   "metadata": {
    "colab": {
     "base_uri": "https://localhost:8080/"
    },
    "id": "8f225lUEU-_p",
    "outputId": "32939f40-aed0-4153-abd5-155a96a98904"
   },
   "outputs": [
    {
     "name": "stdout",
     "output_type": "stream",
     "text": [
      "[9.81*m/k]\n"
     ]
    }
   ],
   "source": [
    "v_terminal = sym.solve(F_total/m, v)\n",
    "print(v_terminal)"
   ]
  },
  {
   "cell_type": "markdown",
   "id": "WGy1Yqx9X1ES",
   "metadata": {
    "id": "WGy1Yqx9X1ES"
   },
   "source": [
    "As expected, this is the value is identical to the expression we determined in the lectures.\n",
    "\n",
    "To obtain the acceleration, velocity and position of the object over time, we have to separate and integrate Newton's Second Law. To emphasise that this is a separable equation, we collect all the terms involving velocity on one side of the equation (RHS), and keep some of the constants on the other (LHS):\n",
    "(NB: This may take a few seconds!)"
   ]
  },
  {
   "cell_type": "code",
   "execution_count": 5,
   "id": "c7B4i5SXRpN_",
   "metadata": {
    "colab": {
     "base_uri": "https://localhost:8080/"
    },
    "id": "c7B4i5SXRpN_",
    "outputId": "ff13c851-4460-41e0-9bcd-a9ddbc33436e"
   },
   "outputs": [
    {
     "name": "stdout",
     "output_type": "stream",
     "text": [
      "lhs:  t/m\n",
      "rhs:  1.0*log(-9.81*m)/k - 1.0*log(1.0*k*v - 9.81*m)/k\n",
      "v(x): 9.81*m*(1.0 - exp(-k*t/m))/k\n"
     ]
    }
   ],
   "source": [
    "lhs = sym.integrate(1/m,(t, 0, t))\n",
    "print(\"lhs: \",lhs)\n",
    "rhs = sym.integrate(1.0 / F_total,(v, 0, v))\n",
    "print(\"rhs: \",rhs)\n",
    "vofx = sym.solve(rhs - lhs, v)\n",
    "print(\"v(x):\",vofx[0])"
   ]
  },
  {
   "cell_type": "markdown",
   "id": "oV2O0wPsZWEi",
   "metadata": {
    "id": "oV2O0wPsZWEi"
   },
   "source": [
    "Having integrated each side separately, we can move one result over to the other side and ask Python to solve the equation \"RHS-LHS=0\", to determine velocity as a function of time:"
   ]
  },
  {
   "cell_type": "code",
   "execution_count": 7,
   "id": "OLX47As8Xal3",
   "metadata": {
    "colab": {
     "base_uri": "https://localhost:8080/"
    },
    "id": "OLX47As8Xal3",
    "outputId": "751d0d6b-1c65-41ca-83ca-0d98564d6877"
   },
   "outputs": [
    {
     "name": "stdout",
     "output_type": "stream",
     "text": [
      "v(t): [9.81*m*(1.0 - exp(-k*t/m))/k]\n"
     ]
    }
   ],
   "source": [
    "voft = sym.solve(rhs - lhs, v)\n",
    "print(\"v(t):\",voft)"
   ]
  },
  {
   "cell_type": "markdown",
   "id": "l-nzH-leZ7h_",
   "metadata": {
    "id": "l-nzH-leZ7h_"
   },
   "source": [
    "Once again this matches the velocity we found in the lectures. But what does this actually represent?\n",
    "\n",
    "Lets plot this on a graph, and include the solution to the same equations but **only** including the force of gravity. In the lectures, we did this using a Taylor series expansion, but we can let Python resolve the same set of equations but including only $F_g$. In order to visualise this, we'll assume a mass $m=2{\\rm{kg}}$ and $k=1$:\n",
    "\n"
   ]
  },
  {
   "cell_type": "code",
   "execution_count": 8,
   "id": "ZfJUrAE4aD3P",
   "metadata": {
    "colab": {
     "base_uri": "https://localhost:8080/",
     "height": 283
    },
    "id": "ZfJUrAE4aD3P",
    "outputId": "3a99a6c4-ef82-4664-e2d2-379557c7d57f"
   },
   "outputs": [
    {
     "data": {
      "image/png": "[encoded data removed]",
      "text/plain": [
       "<Figure size 576x288 with 1 Axes>"
      ]
     },
     "metadata": {
      "needs_background": "light"
     },
     "output_type": "display_data"
    }
   ],
   "source": [
    "func = lambdify(t, voft[0].subs({m: 2, k:1}),'numpy')\n",
    "lhs2 = sym.integrate(1/m,(t, 0, t))\n",
    "rhs2 = sym.integrate(1.0 / F_g,(v, 0, v))\n",
    "voft2 = sym.solve(rhs2 - lhs2, v)\n",
    "func2 = lambdify(t, voft2[0].subs({m: 2}),'numpy')\n",
    "xvals = np.arange(0,20,.2)\n",
    "yvals = func(xvals)\n",
    "yvals2 = func2(xvals)\n",
    "\n",
    "# make figure\n",
    "fig2 = plt.figure(figsize=(8,4))\n",
    "plt.plot(xvals,yvals,'r',label='mg-kv')\n",
    "plt.plot(xvals,yvals2,'r--',label='mg')\n",
    "plt.ylim([0, 25])\n",
    "plt.xlabel(\"t\")\n",
    "plt.ylabel(\"v(t)\")\n",
    "plt.legend(loc='best')\n",
    "plt.show()"
   ]
  },
  {
   "cell_type": "markdown",
   "id": "etp2Kct4lVwJ",
   "metadata": {
    "id": "etp2Kct4lVwJ"
   },
   "source": [
    "In the graph, you can see that both velocities initially grow in exactly the same way, but the red curve begins to decelerate after a short time. Air resistance quickly forces the object to slow and have a constant velocity: the resistive force **matches** the force due to gravity, meaning that there is no acceleration.\n",
    "\n",
    "We can also examine the acceleration as a function of time both with and without the resistive force. To do this, we differentiate our velocity result:"
   ]
  },
  {
   "cell_type": "code",
   "execution_count": 9,
   "id": "iSg_7m-ImFM2",
   "metadata": {
    "colab": {
     "base_uri": "https://localhost:8080/",
     "height": 300
    },
    "id": "iSg_7m-ImFM2",
    "outputId": "8cbeed8d-03d5-401f-c272-f786faac7e60"
   },
   "outputs": [
    {
     "name": "stdout",
     "output_type": "stream",
     "text": [
      "a(t): 9.81*exp(-k*t/m)\n"
     ]
    },
    {
     "data": {
      "image/png": "[encoded data removed]",
      "text/plain": [
       "<Figure size 576x288 with 1 Axes>"
      ]
     },
     "metadata": {
      "needs_background": "light"
     },
     "output_type": "display_data"
    }
   ],
   "source": [
    "aoft = sym.diff(voft[0],t)\n",
    "print(\"a(t):\", aoft)\n",
    "aoft2 = sym.diff(voft2[0],t)\n",
    "func3 = lambdify(t, aoft.subs({m: 2, k:1}),'numpy')\n",
    "ayvals = func3(xvals)\n",
    "\n",
    "# make figure\n",
    "fig3 = plt.figure(figsize=(8,4))\n",
    "plt.plot(xvals,ayvals,'b',label='mg-kv')\n",
    "plt.plot([0,20],[aoft2,aoft2],'b--',label='mg')\n",
    "plt.ylim([0, 10])\n",
    "plt.xlim([0,20])\n",
    "plt.xlabel(\"t\")\n",
    "plt.ylabel(\"a(t)\")\n",
    "plt.legend(loc='best')\n",
    "plt.show()"
   ]
  },
  {
   "cell_type": "markdown",
   "id": "Zi2FKawPpFzL",
   "metadata": {
    "id": "Zi2FKawPpFzL"
   },
   "source": [
    "We can see again that, initially the object accelerates at a value of $g=9.81{\\rm{ms}}^{-2}$, but air resistance causes the acceleration to fall to zero, at which point terminal velocity is achieved."
   ]
  },
  {
   "cell_type": "code",
   "execution_count": 10,
   "id": "MRabuI20phC8",
   "metadata": {
    "colab": {
     "base_uri": "https://localhost:8080/",
     "height": 300
    },
    "id": "MRabuI20phC8",
    "outputId": "2182f101-d4d0-472e-dd7c-660c56a27458"
   },
   "outputs": [
    {
     "name": "stdout",
     "output_type": "stream",
     "text": [
      "s(t): 9.81*m*t/k - 9.81*m**2/k**2 + 9.81*m**2*exp(-k*t/m)/k**2\n"
     ]
    },
    {
     "data": {
      "image/png": "[encoded data removed]",
      "text/plain": [
       "<Figure size 576x288 with 1 Axes>"
      ]
     },
     "metadata": {
      "needs_background": "light"
     },
     "output_type": "display_data"
    }
   ],
   "source": [
    "soft = sym.integrate(voft[0],(t, 0, t))\n",
    "print(\"s(t):\", sym.simplify(soft))\n",
    "soft2 = sym.integrate(voft2[0],(t, 0, t))\n",
    "func4 = lambdify(t, soft.subs({m: 2, k:1}),'numpy')\n",
    "func5 = lambdify(t, soft2.subs({m: 2, k:1}),'numpy')\n",
    "syvals = func4(xvals)\n",
    "syvals2 = func5(xvals)\n",
    "\n",
    "# make figure\n",
    "fig3 = plt.figure(figsize=(8,4))\n",
    "plt.plot(xvals,syvals,'g',label='mg-kv')\n",
    "plt.plot(xvals,syvals2,'g--',label='mg')\n",
    "plt.ylim([0, 400])\n",
    "plt.xlim([0,20])\n",
    "plt.xlabel(\"t\")\n",
    "plt.ylabel(\"s(t)\")\n",
    "plt.legend(loc='best')\n",
    "plt.show()"
   ]
  },
  {
   "cell_type": "markdown",
   "id": "hcpoO9yjbRBj",
   "metadata": {
    "id": "hcpoO9yjbRBj"
   },
   "source": [
    "Once more we obtain the expressions and graph found in the lectures. In this case, the displacement will grow over time faster in the case where there is no resistive force, as expected. In the case with resistance, the trend levels off: this is to be expected (if the acceleration is zero, the velocity is constant, we should expect distance to linearly depend on time)."
   ]
  },
  {
   "cell_type": "markdown",
   "id": "5Xx1l_GIeSVv",
   "metadata": {
    "id": "5Xx1l_GIeSVv"
   },
   "source": [
    "## Over To You\n",
    "\n",
    "This worksheet illustrates how to use symbolic Python to illustrate solutions of Newton's Second Law, for objects subject to both constant acceleration and a resistive force which depends on the velocity.\n",
    "\n",
    "\n",
    "Try this for yourself: \n",
    "\n",
    "\n",
    "1.   Change some of the constants in the problem: what happens when the mass is doubled or when the initial velocity is not zero? How do these constants affect the behaviour\n",
    "2.   The resistive force changes if the speed of the object is particularly high. In the lectures, we categorised these resistive forces as \n",
    "\\begin{equation}\n",
    "f = Dv^2,\n",
    "\\end{equation}\n",
    "for a different proportionality constant $D$. Change the form of the force from the low speed $-kv$ to the high speed $-Dv^2$ form in this notebook, and see if you can establish how objects behave in this second regime.\n",
    "3.   Attempt a few of the related tutorial questions, and see if you can confirm your worked solutions using the approaches demonstrated in this notebook.\n"
   ]
  },
  {
   "cell_type": "code",
   "execution_count": null,
   "id": "Aeyazb_7dJNj",
   "metadata": {
    "id": "Aeyazb_7dJNj"
   },
   "outputs": [],
   "source": []
  }
 ],
 "metadata": {
  "colab": {
   "collapsed_sections": [],
   "name": "MAT201_JT_airresistance.ipynb",
   "provenance": []
  },
  "kernelspec": {
   "display_name": "Python 3 (ipykernel)",
   "language": "python",
   "name": "python3"
  },
  "language_info": {
   "codemirror_mode": {
    "name": "ipython",
    "version": 3
   },
   "file_extension": ".py",
   "mimetype": "text/x-python",
   "name": "python",
   "nbconvert_exporter": "python",
   "pygments_lexer": "ipython3",
   "version": "3.8.9"
  }
 },
 "nbformat": 4,
 "nbformat_minor": 5
}
