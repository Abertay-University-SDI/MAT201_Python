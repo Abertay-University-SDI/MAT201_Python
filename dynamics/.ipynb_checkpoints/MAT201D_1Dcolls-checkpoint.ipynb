{
 "cells": [
  {
   "cell_type": "markdown",
   "id": "6ec91ce8",
   "metadata": {
    "id": "6ec91ce8"
   },
   "source": [
    "# 1D Oblique Sphere Collisions\n",
    "\n",
    "Using our knowledge of the conservation of linear momentum, we'll aim to set up an animated example of two objects colliding in 1D."
   ]
  },
  {
   "cell_type": "markdown",
   "id": "HhTPKmA6LVNB",
   "metadata": {
    "id": "HhTPKmA6LVNB"
   },
   "source": [
    "As always, we need to load in the Python libraries that we need to carry out the plotting, animation and (in this case) solve a set of simultaneous equations."
   ]
  },
  {
   "cell_type": "code",
   "execution_count": 1,
   "id": "c10d447e",
   "metadata": {
    "executionInfo": {
     "elapsed": 412,
     "status": "ok",
     "timestamp": 1646662034959,
     "user": {
      "displayName": "James Threlfall",
      "photoUrl": "https://lh3.googleusercontent.com/a-/AOh14Gh5AMmwJn-QgnyAtyVfjDwEfQL-5FfwAhQ1uZjJ=s64",
      "userId": "12893452708265254015"
     },
     "user_tz": 0
    },
    "id": "c10d447e"
   },
   "outputs": [],
   "source": [
    "%matplotlib inline\n",
    "import matplotlib.pyplot as plt\n",
    "import numpy as np\n",
    "import matplotlib.animation as animation\n",
    "import matplotlib.patches as patches\n",
    "#import random\n",
    "import math\n",
    "from IPython.display import HTML\n",
    "#import sys\n",
    "#!{sys.executable} -m pip install --upgrade Ipython"
   ]
  },
  {
   "cell_type": "markdown",
   "id": "df6f3fd1",
   "metadata": {},
   "source": [
    "## Mathematics recap\n",
    "\n",
    "For this course, we will restrict ourselves by considering two objects colliding in 1D. \n",
    "Each object is associated with a mass and a velocity before they collide.\n",
    "The behaviour of the objects after the collision is entirely determined by the state of the system before the collision, and several key pieces of maths.\n",
    "\n",
    "### Conservation of Total Linear Momentum\n",
    "\n",
    "The **total linear momentum** of the system is a conserved quantity: this means that the total linear momentum of the system before the collision remains the same before and after the collision. \n",
    "\n",
    "Linear momentum (commonly denoted with $p$) is the product of the mass of an object ($m$) multiplied by its linear velocity ($v$):\n",
    "\n",
    "$$\n",
    "p = mv\n",
    "$$\n",
    "\n",
    "If we label the mass of each object in the system as $m_1$ and $m_2$, and the linear velocity of each mass before the collision as $u_1$ and $u_2$, the total linear momentum before the collision is \n",
    "\n",
    "$$\n",
    "p_{\\rm{before}} = m_1u_1+m_2u_2.\n",
    "$$\n",
    "\n",
    "After the collision, assuming no change in mass of either object, the objective is therefore to identify any unknown velocities. The strategy to find these depends on the type of collision (for example, completely elastic, partially inelastic, or completely inelastic). If the collision is completely inelastic, the two objects will move as one after the collision, and hence there will only be one unknown ($v_{\\rm{after}}$. In other cases, each object will be associated with its own velocity, and hence there would be two unknowns, $v_1$ and $v_2$. In cases where we have more unknowns than equations, we require another equation to solve the system.\n",
    "\n",
    "### Newton's Law of Restitution\n",
    "\n",
    "Newton's Law of Restitution allows us to relate the velocities of the object before and after a collision through a parameter, $e$, called the \"coefficient of restitution\":\n",
    "\n",
    "$$\n",
    "\\frac{v_2 - v_1}{u_1-u_2} = e.\n",
    "$$\n",
    "\n",
    "The coefficient $e$ can take any value between $0$ and $1$, depending on the type of collision:\n",
    "* $e=0$ implies a completely inelastic collision\n",
    "* $e=1$ implies a completely elastic collision\n",
    "* $0<e<1$ implies an inelastic collision, and is much more representative of the real world (since in real collisions, some -not all and not no- energy is typically lost).\n",
    "\n",
    "Consider the situation when $e=0$: from the above equation, we simply cannot relate $u_1$ and $u_2$ to $v_1$ and $v_2$. In the situation where $e=0$, all we know is that $v_2-v_1=0$, which is another way of saying $v_2=v_1$, i.e. both objects *stick together* and travel at the same speed.\n",
    "\n",
    "In all other situations, Newton's Law of Restitution allows $u_1$ and $u_2$ to relate to post-collision velocities $v_1$ and $v_2$.\n",
    "\n",
    "### Problem solving strategy\n",
    "\n",
    "For problems we will encounter, our aim is to describe the system after the collision, based on the initial conditions and knowledge of the type of collision (usually by specifying $e$). This would typically lead to a set of simultaneous equations to solve for $v_1$ and $v_2$ (but will still work in cases where objects stick together after the collision, as we will see).\n"
   ]
  },
  {
   "cell_type": "markdown",
   "id": "I71We155Lhlc",
   "metadata": {
    "id": "I71We155Lhlc"
   },
   "source": [
    "## Animating Collisions\n",
    "\n",
    "It would be nice if we could create an animation showing the behaviour of a pair of objects before and after a collision.\n",
    "\n",
    "We will go through the process of creating an animation for one specific collision, detailing each of the steps. The idea is that we can then use a subroutine to complete the same task, and use it to examine different cases.\n",
    "\n",
    "For the illustrative example, we will consider two objects, A and B. Each has a mass and an initial speed:"
   ]
  },
  {
   "cell_type": "code",
   "execution_count": 14,
   "id": "5f5bOWq3L1jL",
   "metadata": {
    "executionInfo": {
     "elapsed": 14,
     "status": "ok",
     "timestamp": 1646662035593,
     "user": {
      "displayName": "James Threlfall",
      "photoUrl": "https://lh3.googleusercontent.com/a-/AOh14Gh5AMmwJn-QgnyAtyVfjDwEfQL-5FfwAhQ1uZjJ=s64",
      "userId": "12893452708265254015"
     },
     "user_tz": 0
    },
    "id": "5f5bOWq3L1jL"
   },
   "outputs": [],
   "source": [
    "#initial velocity (m/s)\n",
    "u_A = 4.0\n",
    "u_B = 1.0\n",
    "# masses (kg)\n",
    "m_A = 2.0\n",
    "m_B = 4.0"
   ]
  },
  {
   "cell_type": "markdown",
   "id": "E-ZFqRxbL0Ez",
   "metadata": {
    "id": "E-ZFqRxbL0Ez"
   },
   "source": [
    "We should also set up the coefficient of restitution and the step size in time of the simulation"
   ]
  },
  {
   "cell_type": "code",
   "execution_count": 3,
   "id": "Y3E6c4eCLz6o",
   "metadata": {
    "executionInfo": {
     "elapsed": 13,
     "status": "ok",
     "timestamp": 1646662035593,
     "user": {
      "displayName": "James Threlfall",
      "photoUrl": "https://lh3.googleusercontent.com/a-/AOh14Gh5AMmwJn-QgnyAtyVfjDwEfQL-5FfwAhQ1uZjJ=s64",
      "userId": "12893452708265254015"
     },
     "user_tz": 0
    },
    "id": "Y3E6c4eCLz6o"
   },
   "outputs": [],
   "source": [
    "# The coefficient of restitution:\n",
    "e = 0\n",
    "# The time step for the animation (s)\n",
    "dt = 0.05\n",
    "vx0_A = u_A \n",
    "vx0_B = u_B "
   ]
  },
  {
   "cell_type": "markdown",
   "id": "7Qplrd68Ok7y",
   "metadata": {
    "id": "7Qplrd68Ok7y"
   },
   "source": [
    "The initial position is tricky; the balls are travelling at different speeds, so the collision might take place off-screen if we don't take care. \n",
    "\n",
    "Our tactic is to fix the collision to take place at $\\left(x=0,y=0\\right)$. We know the velocity the balls travel at, and they are not accelerating; our first year CGAD maths says displacement is $s=ut+1/2at^2$, which reduces to $s=ut$ if $a=0$. \n",
    "\n",
    "So our position will behave like $x=u_x t$ before the collision, which will take place at $t=0$. Our neat trick here is to pick a time *before* $t=0$ and see where the ball would be. I fix $t=-1$, and hence $x=-u_x$ as our initial position. "
   ]
  },
  {
   "cell_type": "code",
   "execution_count": 4,
   "id": "6f37a1d6",
   "metadata": {
    "executionInfo": {
     "elapsed": 14,
     "status": "ok",
     "timestamp": 1646662035594,
     "user": {
      "displayName": "James Threlfall",
      "photoUrl": "https://lh3.googleusercontent.com/a-/AOh14Gh5AMmwJn-QgnyAtyVfjDwEfQL-5FfwAhQ1uZjJ=s64",
      "userId": "12893452708265254015"
     },
     "user_tz": 0
    },
    "id": "6f37a1d6"
   },
   "outputs": [],
   "source": [
    "# Initial position and velocity vectors.\n",
    "x0_A = -u_A\n",
    "x0_B = -u_B\n",
    "y0_A = 0.0\n",
    "y0_B = 0.0"
   ]
  },
  {
   "cell_type": "markdown",
   "id": "7jML8eTFSD2y",
   "metadata": {
    "id": "7jML8eTFSD2y"
   },
   "source": [
    "Now that our initial positions are fixed, this will essentially also fix the size of our plotting area. We'll fix the extent of our plot to be twice as big as the largest initial displacement in x, in order to prevent either ball beginning off-screen."
   ]
  },
  {
   "cell_type": "code",
   "execution_count": 5,
   "id": "N_g_NLf3SFNR",
   "metadata": {
    "executionInfo": {
     "elapsed": 14,
     "status": "ok",
     "timestamp": 1646662035595,
     "user": {
      "displayName": "James Threlfall",
      "photoUrl": "https://lh3.googleusercontent.com/a-/AOh14Gh5AMmwJn-QgnyAtyVfjDwEfQL-5FfwAhQ1uZjJ=s64",
      "userId": "12893452708265254015"
     },
     "user_tz": 0
    },
    "id": "N_g_NLf3SFNR"
   },
   "outputs": [],
   "source": [
    "lval = (max(abs(x0_A), abs(x0_B)))\n",
    "extent = 2 * int(math.ceil(lval))"
   ]
  },
  {
   "cell_type": "markdown",
   "id": "7ZLXITsYSG5C",
   "metadata": {
    "id": "7ZLXITsYSG5C"
   },
   "source": [
    "Using the equations we defined earlier we will need to solve our system of two equations\n",
    "\n",
    "1.   Conservation of Total Linear Momentum\n",
    "2.   Newton's Law of Restitution\n",
    "\n",
    "These produce a set of simultaneous equations to solve for $v_x$ of each particle. \n",
    "\n",
    "When we tackle these problems by hand, we usually use substitution or row operations. Python is excellent at solving simultaneous equations (as we will see), provided we format the simultaneous equations in matrix form $Ax=B$. This then means that the solutions are given by inverting matrix $A$ and multiplying it to the coefficients in $B$; mathematically, $A^{-1}Ax=Ix=A^{-1}B$ for identity matrix $I$. We'll therefore arrange some of the coefficients in the form of a matrix:"
   ]
  },
  {
   "cell_type": "code",
   "execution_count": 6,
   "id": "Z4FvSLwRSHfn",
   "metadata": {
    "executionInfo": {
     "elapsed": 14,
     "status": "ok",
     "timestamp": 1646662035595,
     "user": {
      "displayName": "James Threlfall",
      "photoUrl": "https://lh3.googleusercontent.com/a-/AOh14Gh5AMmwJn-QgnyAtyVfjDwEfQL-5FfwAhQ1uZjJ=s64",
      "userId": "12893452708265254015"
     },
     "user_tz": 0
    },
    "id": "Z4FvSLwRSHfn"
   },
   "outputs": [],
   "source": [
    "# matrix of coeffs (to use to solve simultaneous equations)\n",
    "A = [[1, -1], [m_B, m_A]]"
   ]
  },
  {
   "cell_type": "markdown",
   "id": "5AO9txhqjB4n",
   "metadata": {
    "id": "5AO9txhqjB4n"
   },
   "source": [
    "We know that the collisions will take place at the origin. However, we're moving in time using discreet timesteps; depending on the size of dt, we might not actually hit the origin exactly, but potentially miss it by a small amount.\n",
    "\n",
    "We'lll model each ball as a circle. Another way to detect a collision (without relying on it taking place at the origin) is to check if one of the circles overlaps the other. To do this, we'll make a function to check the distance between the centres of the circles. If the distance is less than the radius of each circle added together, then the circles have overlapped."
   ]
  },
  {
   "cell_type": "code",
   "execution_count": 7,
   "id": "k5_0nyJuoQJt",
   "metadata": {
    "executionInfo": {
     "elapsed": 14,
     "status": "ok",
     "timestamp": 1646662035596,
     "user": {
      "displayName": "James Threlfall",
      "photoUrl": "https://lh3.googleusercontent.com/a-/AOh14Gh5AMmwJn-QgnyAtyVfjDwEfQL-5FfwAhQ1uZjJ=s64",
      "userId": "12893452708265254015"
     },
     "user_tz": 0
    },
    "id": "k5_0nyJuoQJt"
   },
   "outputs": [],
   "source": [
    "def overlap(x1, x2, r1, r2):\n",
    "# subroutine to check if circles overlap  \n",
    "    distSq = (x1 - x2) * (x1 - x2) ;\n",
    "    radSumSq = (r1 + r2) * (r1 + r2);\n",
    "    if (distSq == radSumSq):\n",
    "        return 1\n",
    "    elif (distSq > radSumSq):\n",
    "        return -1\n",
    "    else:\n",
    "        return 0"
   ]
  },
  {
   "cell_type": "markdown",
   "id": "TuJLdb3dkmXb",
   "metadata": {
    "id": "TuJLdb3dkmXb"
   },
   "source": [
    "We now need a function that returns the position of each ball over time.\n",
    "\n",
    "We need this function iterate in time (by dt), and with each iteration, we need to check if the balls have overlapped using the overlap function we just created. If an overlap is detected, then we need to calculate the remaining coefficients in the simultaneous equations, and have Pythons linear algebra package (\"linalg\") solve the simultaneous equations and return the new velocities parallel to LoC."
   ]
  },
  {
   "cell_type": "code",
   "execution_count": 8,
   "id": "39db7198",
   "metadata": {
    "executionInfo": {
     "elapsed": 14,
     "status": "ok",
     "timestamp": 1646662035596,
     "user": {
      "displayName": "James Threlfall",
      "photoUrl": "https://lh3.googleusercontent.com/a-/AOh14Gh5AMmwJn-QgnyAtyVfjDwEfQL-5FfwAhQ1uZjJ=s64",
      "userId": "12893452708265254015"
     },
     "user_tz": 0
    },
    "id": "39db7198"
   },
   "outputs": [],
   "source": [
    "def get_pos(t=0):\n",
    "    global vA, vB\n",
    "# position generation  \n",
    "    \"\"\"A generator yielding ball positions at time t.\"\"\"\n",
    "    x_A, y_A, vx_A = x0_A, y0_A, vx0_A\n",
    "    x_B, y_B, vx_B = x0_B, y0_B, vx0_B\n",
    "    xpos = [x_A, x_B]\n",
    "    vA = vx_A  \n",
    "    vB = vx_B\n",
    "    ol = 0\n",
    "    while all(i <= extent for i in xpos):\n",
    "    # iterate while within bounds  \n",
    "        t += dt\n",
    "        x_A += vx_A * dt\n",
    "        y_A += y0_A\n",
    "        x_B += vx_B * dt\n",
    "        y_B += y0_B        \n",
    "        if (overlap(x_A,x_B,0.08,0.08) != -1) and (ol == 0) :\n",
    "             # if impact detected, solve for new vx values\n",
    "             ol = 1 # prevent repeated bounces\n",
    "             Y = [e * (vx_A - vx_B), m_A * vx_A + m_B * vx_B]\n",
    "             res = np.linalg.inv(A).dot(Y)  #solve simultaneous equations\n",
    "             vx_B, vx_A = res[0], res[1]    #new velocities\n",
    "             vA = vx_A  \n",
    "             vB = vx_B\n",
    "        yield x_A, y_A, x_B, y_B"
   ]
  },
  {
   "cell_type": "markdown",
   "id": "YB9RXWFylkTl",
   "metadata": {
    "id": "YB9RXWFylkTl"
   },
   "source": [
    "In order to animate, we need to set up aspects of the figure and some initial parameters"
   ]
  },
  {
   "cell_type": "code",
   "execution_count": 9,
   "id": "3043d841",
   "metadata": {
    "executionInfo": {
     "elapsed": 15,
     "status": "ok",
     "timestamp": 1646662035597,
     "user": {
      "displayName": "James Threlfall",
      "photoUrl": "https://lh3.googleusercontent.com/a-/AOh14Gh5AMmwJn-QgnyAtyVfjDwEfQL-5FfwAhQ1uZjJ=s64",
      "userId": "12893452708265254015"
     },
     "user_tz": 0
    },
    "id": "3043d841"
   },
   "outputs": [],
   "source": [
    "def init():\n",
    "    \"\"\"Initialize the animation figure.\"\"\"\n",
    "    ax.set_xlim(-extent, extent)\n",
    "    ax.set_ylim(-2, 2)\n",
    "    ax.set_xlabel('$x$ (m)')\n",
    "    lineA.set_data([],[])\n",
    "    lineB.set_data([],[])\n",
    "    lineA.set_data(xdata_A, ydata_A)\n",
    "    lineB.set_data(xdata_B, ydata_B)\n",
    "    ballA.set_center((x0_A, y0_A))\n",
    "    ballB.set_center((x0_B, y0_B))\n",
    "    v1_text.set_text('initial')\n",
    "    v2_text.set_text('initial')\n",
    "    return lineA, ballA, lineB, ballB, v1_text, v2_text,"
   ]
  },
  {
   "cell_type": "markdown",
   "id": "4ECpb1hhlpdQ",
   "metadata": {
    "id": "4ECpb1hhlpdQ"
   },
   "source": [
    "The animation appends the position information (so that we can plot the trajectory of each ball), and also includes info on the total velocity of each ball to be printed as text on the figure in each frame."
   ]
  },
  {
   "cell_type": "code",
   "execution_count": 10,
   "id": "039f3628",
   "metadata": {
    "executionInfo": {
     "elapsed": 15,
     "status": "ok",
     "timestamp": 1646662035597,
     "user": {
      "displayName": "James Threlfall",
      "photoUrl": "https://lh3.googleusercontent.com/a-/AOh14Gh5AMmwJn-QgnyAtyVfjDwEfQL-5FfwAhQ1uZjJ=s64",
      "userId": "12893452708265254015"
     },
     "user_tz": 0
    },
    "id": "039f3628"
   },
   "outputs": [],
   "source": [
    "def animate(pos):\n",
    "    \"\"\"For each frame, advance the animation to the new position, pos.\"\"\"\n",
    "    x_A, y_A, x_B, y_B = pos\n",
    "    xdata_A.append(x_A)\n",
    "    ydata_A.append(y_A)\n",
    "    lineA.set_data(xdata_A, ydata_A)\n",
    "    xdata_B.append(x_B)\n",
    "    ydata_B.append(y_B)\n",
    "    lineB.set_data(xdata_B, ydata_B)\n",
    "    ballA.set_center((x_A, y_A))\n",
    "    ballB.set_center((x_B, y_B))\n",
    "    v1_text.set_text(f\"$v= {vA:.3f} m/s$\")\n",
    "    v2_text.set_text(f\"$v= {vB:.3f} m/s$\")\n",
    "    return lineA, ballA, lineB, ballB, v1_text, v2_text,"
   ]
  },
  {
   "cell_type": "markdown",
   "id": "ba5vq6_wl7jZ",
   "metadata": {
    "id": "ba5vq6_wl7jZ"
   },
   "source": [
    "We're nearly there! Lets set up a figure, fix the size (using the extent variable from earlier), and plot a dashed line where the LoC should be. \n",
    "\n",
    "Note that, this LoC is simply for context, and is approximate: the collision actually takes place when an overlap is detected in the code, and so there may be a small offset between the plotted LoC and the true LoC location."
   ]
  },
  {
   "cell_type": "code",
   "execution_count": 11,
   "id": "g3GTSFH2l9eT",
   "metadata": {
    "colab": {
     "base_uri": "https://localhost:8080/",
     "height": 111
    },
    "executionInfo": {
     "elapsed": 15,
     "status": "ok",
     "timestamp": 1646662035598,
     "user": {
      "displayName": "James Threlfall",
      "photoUrl": "https://lh3.googleusercontent.com/a-/AOh14Gh5AMmwJn-QgnyAtyVfjDwEfQL-5FfwAhQ1uZjJ=s64",
      "userId": "12893452708265254015"
     },
     "user_tz": 0
    },
    "id": "g3GTSFH2l9eT",
    "outputId": "e116686a-3343-402f-eba8-53439fe6f74d"
   },
   "outputs": [
    {
     "data": {
      "text/plain": [
       "<matplotlib.lines.Line2D at 0x1295a1160>"
      ]
     },
     "execution_count": 11,
     "metadata": {},
     "output_type": "execute_result"
    },
    {
     "data": {
      "image/png": "[encoded data removed]",
      "text/plain": [
       "<Figure size 432x288 with 1 Axes>"
      ]
     },
     "metadata": {
      "needs_background": "light"
     },
     "output_type": "display_data"
    }
   ],
   "source": [
    "# Set up a new figure, with equal aspect ratio.\n",
    "fig, ax = plt.subplots()\n",
    "fig.set_size_inches(6, 4)\n",
    "ax.set_xlim(left=-extent, right=extent)\n",
    "ax.set_ylim(bottom=-2, top=2)\n",
    "ax.set_aspect('equal')\n",
    "ax.axhline(y=0, xmin=-extent, xmax=extent, c=\"black\", linewidth=1, linestyle=\"--\", zorder=0)"
   ]
  },
  {
   "cell_type": "markdown",
   "id": "L9h7SuLhl96u",
   "metadata": {
    "id": "L9h7SuLhl96u"
   },
   "source": [
    "We also need to set up plot objects, like lines representing the trajectories and the circles representing the current location of each ball."
   ]
  },
  {
   "cell_type": "code",
   "execution_count": 12,
   "id": "Fqi8U19ymCrY",
   "metadata": {
    "executionInfo": {
     "elapsed": 4,
     "status": "ok",
     "timestamp": 1646662035924,
     "user": {
      "displayName": "James Threlfall",
      "photoUrl": "https://lh3.googleusercontent.com/a-/AOh14Gh5AMmwJn-QgnyAtyVfjDwEfQL-5FfwAhQ1uZjJ=s64",
      "userId": "12893452708265254015"
     },
     "user_tz": 0
    },
    "id": "Fqi8U19ymCrY"
   },
   "outputs": [],
   "source": [
    "# These are the objects we need to keep track of.\n",
    "lineA, = ax.plot([], [], lw=2, linestyle='dotted', color='blue')\n",
    "lineB, = ax.plot([], [], lw=2, linestyle='dotted', color='red')\n",
    "ballA = plt.Circle((x0_A, y0_A), 0.08, color='blue')\n",
    "ballB = plt.Circle((x0_B, y0_B), 0.08, color='red')\n",
    "v1_text = ax.text(-0.9 * extent, -1.5, '', color='blue')\n",
    "v2_text = ax.text(0.5 * extent, 1.5, '', color='red')\n",
    "ax.add_patch(ballA)\n",
    "ax.add_patch(ballB)\n",
    "xdata_A, ydata_A = [], []\n",
    "xdata_B, ydata_B = [], []"
   ]
  },
  {
   "cell_type": "markdown",
   "id": "NuMdZZFXmEgV",
   "metadata": {
    "id": "NuMdZZFXmEgV"
   },
   "source": [
    "Final step is to create the animation. The length of the simulation in time is the interval, and will impact the length of time the animation will take to create."
   ]
  },
  {
   "cell_type": "code",
   "execution_count": 13,
   "id": "c4a79f64",
   "metadata": {
    "colab": {
     "base_uri": "https://localhost:8080/",
     "height": 453
    },
    "executionInfo": {
     "elapsed": 9934,
     "status": "ok",
     "timestamp": 1646662045855,
     "user": {
      "displayName": "James Threlfall",
      "photoUrl": "https://lh3.googleusercontent.com/a-/AOh14Gh5AMmwJn-QgnyAtyVfjDwEfQL-5FfwAhQ1uZjJ=s64",
      "userId": "12893452708265254015"
     },
     "user_tz": 0
    },
    "id": "c4a79f64",
    "outputId": "26bb19ec-7fed-47c5-af75-c50d9f362c68"
   },
   "outputs": [
    {
     "data": {
      "text/html": [
       "<video width=\"432\" height=\"288\" controls autoplay>\n",
       "  <source type=\"video/mp4\" src=\"data:video/mp4;base64,AAAAIGZ0eXBNNFYgAAACAE00ViBpc29taXNvMmF2YzEAAAAIZnJlZQAAK9VtZGF0AAACoAYF//+c\n",
       "3EXpvebZSLeWLNgg2SPu73gyNjQgLSBjb3JlIDE1NyAtIEguMjY0L01QRUctNCBBVkMgY29kZWMg\n",
       "LSBDb3B5bGVmdCAyMDAzLTIwMTggLSBodHRwOi8vd3d3LnZpZGVvbGFuLm9yZy94MjY0Lmh0bWwg\n",
       "LSBvcHRpb25zOiBjYWJhYz0xIHJlZj0zIGRlYmxvY2s9MTowOjAgYW5hbHlzZT0weDM6MHgxMTMg\n",
       "bWU9aGV4IHN1Ym1lPTcgcHN5PTEgcHN5X3JkPTEuMDA6MC4wMCBtaXhlZF9yZWY9MSBtZV9yYW5n\n",
       "ZT0xNiBjaHJvbWFfbWU9MSB0cmVsbGlzPTEgOHg4ZGN0PTEgY3FtPTAgZGVhZHpvbmU9MjEsMTEg\n",
       "ZmFzdF9wc2tpcD0xIGNocm9tYV9xcF9vZmZzZXQ9LTIgdGhyZWFkcz05IGxvb2thaGVhZF90aHJl\n",
       "YWRzPTEgc2xpY2VkX3RocmVhZHM9MCBucj0wIGRlY2ltYXRlPTEgaW50ZXJsYWNlZD0wIGJsdXJh\n",
       "eV9jb21wYXQ9MCBjb25zdHJhaW5lZF9pbnRyYT0wIGJmcmFtZXM9MyBiX3B5cmFtaWQ9MiBiX2Fk\n",
       "YXB0PTEgYl9iaWFzPTAgZGlyZWN0PTEgd2VpZ2h0Yj0xIG9wZW5fZ29wPTAgd2VpZ2h0cD0yIGtl\n",
       "eWludD0yNTAga2V5aW50X21pbj0yMCBzY2VuZWN1dD00MCBpbnRyYV9yZWZyZXNoPTAgcmNfbG9v\n",
       "a2FoZWFkPTQwIHJjPWNyZiBtYnRyZWU9MSBjcmY9MjMuMCBxY29tcD0wLjYwIHFwbWluPTAgcXBt\n",
       "YXg9NjkgcXBzdGVwPTQgaXBfcmF0aW89MS40MCBhcT0xOjEuMDAAgAAADSNliIQAN//+9vD+BTY7\n",
       "mNCXEc3onTMfvxW4ujQ3vc4AAAMAADfc5kT+ypMG5sAAAuAACeERTWSmlm92D/n4AMwUYKydiHJG\n",
       "S67N6we0Ck0l8KpinbAKashpa64pwp8mZ9Ot1GoJmLHXYQ62b/yyt7ZqrQfM8zo3Rz+tv1CVTen5\n",
       "r1eBK0S1e9sx6oL0IuZ87RSVT6Kv1AHRSR45gVWTIMZc0ybN9fmyt8YsPo+uS/dM8hhIbPQ11rC3\n",
       "UMLDT/CICRJwmf2lRxwbJpr2m2Z/H+HR73vPTTEzd0PDU/P5M5TX3SDMtkLd1w9+Mr4Kz2OuU8Xv\n",
       "6buYu1+mbeqwn1ufJMcS7vwivZMsfkA2Wf2QaQR+C65RtKejDcMloQlrcXjwO1HlP0fEq1wOjCsa\n",
       "gpD5I9ZbcSZ1dYE2+qU3jBwkFGDGXyeOggV2iBWs5VyDhl5/h11bbOJDxMPgsP+oJ6VPZtCEcMLT\n",
       "XxCyDzZkE/kksX0yT6IOKViZeoCGxj04Lg7TgTHzCgyxsvQ7+VScr3MDA5+EDJ9b+6F1b0PvQhUS\n",
       "7VqEefkUg+QTaf4fLA2Kh4SGfRU3lyEVQu55FGbPRZMUJqZ+oR8Nq/9Eq2YkAVb+IwfDVl09UTYV\n",
       "8hP94J/U5GIO70uC5jPaP1LHWrqq3sPUy5x5zPdgjjgB+tpkUQ7JtuqmeES91ta/abLapoMlOWJQ\n",
       "ow+xX7+7HRWWSjbdOcHBTYM/BCWuwqAFLCeo/JuVwl5/104U4CykFzm2YrvpZI0+L/L7ZjcPt1EG\n",
       "BoHxYuICBOR7gEFdcrpSFw6aYGjan6Q3O2/T9GHfC5HAVFjg3+afBR6koBwnXNmwLLsQNV4yoHbV\n",
       "DvKcNH3FLOhFYsC9aZaWxB54351/xzf/MSaB/qmpUYmdwxTH1YuGJBACeMguK1TaKn3blyaOpb3l\n",
       "saiFczH5mH9y3oHOEp+nSMmWoGGo6l6DmVYrQ9I4efT3ecfcWDnxp0VoCEH81MBUu8SwWTFSltfx\n",
       "w/zILjKem9RvwuyQOj+SSgYAuTKIKhw0yfz+V8XiyvSxQ6IK8K/1RFwRcNhv0P5Mv7VqCNL1lNCI\n",
       "GefrDYZlQN65UsitT7UzbMr2MJFoSqNQfBkysWrfOhiPAc9BK0FfhyvVlD1z/QhXeOFTyX6Mleib\n",
       "v4nzSPnug2lzG8/SKnxG5LlHxf5ZUhuwvLGsjN4Soe6AT+v8sNGt2egTAyGLlV1i4Lz/Zh0VmV4J\n",
       "Qxr9uYOJAXLuEBQVUQpqMtSKqY+SjFOiFOORs4SHFWtmXfeA4CGbTaA1vskBM8WoDy3uyewT/4Kw\n",
       "qjxv0l2ERmokCuIDpCTgB0M30KK+w5n6XkrW/1967jyoyz1xbUviSEhWB6RDfJT5ksqveRVMDyeA\n",
       "zqP5RJKoL3NAOGYRkxRUF+E/29JszZyzs0ysGm4Z0hjXfyZ2JeBNNQdFfn+l32wr/9sPv2pyGTrE\n",
       "ZbW40UUMJgQUXa3ZcEf7qP1jn1Rzm494eAW4V+TJG1SGvSpuJG8fQsCznkZpH19KU3CWVQB+ptjT\n",
       "bjXtB+Z8IKMpMrMglVmi93Sfb9/8DEsVysmfgMTQJcOeSKi0O/KLbkxdcX/qnQPPwoNi+HumUuRQ\n",
       "/yhYvRGbBBJWns7YLnfb6810sB0nMYS1qXn7G74FKg4sfdRu7tdiGn3q7NR3lSLmwcDYurYoMip8\n",
       "5YVpcmC65UmeWVxpLCrdn3ZHt7xE3mevPTc1J30d6RHIorMmxclwAmOJgoc8qHvmdpt4VWC1NDUD\n",
       "SB1Wk+/3vgeylDLugZ+HZrU0yUe5Zuhxl9k+/lY91LlYxcZbR7QamEMvMQfWkgG+uzE6RayO9Vh0\n",
       "Y68zF4CNw/3JgqRlGlr66lg/z6V/dFe+B3V7r/PPl5T00dCzAn+N1tlWB5riUqCWjyMmiZ32lRZF\n",
       "dkzE67Qd8gKREoNIg+DvxPtvhdZIw1lX6R+L4gpz0VMKf/LDgddkNQOBMmrMjO6XleYhC0PSrYVH\n",
       "QAdZDghEdQ7UV0fbnzpOvR46mSEaJtnLS3F8+cDr+ikeep3e6FxzMCKhREuYvIaRrFrM3HepG43z\n",
       "8t8H/kqhC/uNhtITijht/SrF7gBg4lgwBn9wUviT6LmrGYwyE9qx4mZmVd3DYIkWx875pGiC/hEY\n",
       "54gu1cad7U7WfPAC3xOC/OIdiI++30ZStQbCdIjqn7nGtnexmhUsaLT+MQ1GXHIE2idsseIeXWPl\n",
       "9mqe1lZxRkgQ+VO0Te1lKGA4Nc5rkY+Fu5jlllrLSprgQqe9u/FXPUckmSFCMkFsly+f6Cvr3YLM\n",
       "odC6woIgBGHjGLh6/O4gdbDvvBzaQM9szFzsnMTzx8EpN9tN+r+HuJjOjsKRO1i9Rm21zm6Q1u8J\n",
       "kA3K4nuwXbBQ9EtHBST5h1h6r2noYHsp5Gg0RUAo+DIhOBt1F3I66AKY3JY2H5BPP5Hz0zH4a/g2\n",
       "nZYSuJVwS4IurMHeX5Ng6+W+DhXjHs3JDkBsQrNlER7L3LbIERvRIixZ5Xwx91jywt5DMEWY/7q8\n",
       "D0AvGh1xXxHXMNMPKrF5zx7nfcnDpA4TPVVvssyYN+DfeUEFIErQb6vdN9X4jTMPKIviwjD2RKnR\n",
       "HBQlcLiGwUId1Z3bS134306NSknPwTtaT1+IOoCbb+O5cgGlFoKR3dPLO52MQIdk/zql9lhk4YKX\n",
       "//3DuRmaTXi1WjI7lkbyDyPe/+kjMSNZmuASEXBoziOS00xkrDmWtZbzh3oCUsKRpQfVRQJQtcT3\n",
       "K+PQqDx8n6K3VdMEt55YvqJwgwnua7JLi4qf8/YA/r+nYT5wXY+GWf/2M48ADHSPxGDVhmeK50Ad\n",
       "vv2uIzZoBQtUX+GMrHQ5pXV/9oj30Zvhbv7Jwy14DGuZQGyARYxzOIr9dPJTZnOYL8DPGj9adBVJ\n",
       "LNs1YenDJu2Ut9d1QWVf7lYXcZlJiqkmsw/xgwP/u+1/m254Cukak4d/zdbomdXFzqCvfenhExr6\n",
       "Wm1MgdLJI20v9259VQ4F+apRCG7tyfdlFhQlts1VqoeNc40ka52c459vLP00h1X06KdMhQT4bNQk\n",
       "PPvmJh9cHvp7SDyxhgnfgbcUQFDa3bbs/vlU43e3EYAVIQDQ9myYpmsKnpRwR8d35uXWort3Um94\n",
       "5jxZXCLZUk5QZTLOBH5o8zuCdVjpSd/TYy9WShm1MREPkDZ8yzDExlCUSX/iYiB+nq8mNfAXliNL\n",
       "iwDN4ld1HATNAlCvbcW2Ez1V5YtwEaxSWeu57EQcsiDMW5a1TTRIUdIU633659iFcBDwVooPtLlJ\n",
       "YqhfGQACsk9xOxfpd6dq/l88441IwUm/XEKhi6IydIWI3HQ3ny4hjkE2IUASO1qzswB2RX0vhoHW\n",
       "kyxDAlTx8tDzcCxEGX40PzNpAMEDofvCH3gy5QkEOwsg5XLxj38MrzUfq7ayYNRq1pxKdxJLuQWr\n",
       "mWuLgEoCRiI/31kGkkvyVspBqPJzR0AGfjJYbUr3i7BPc+mI0JTtZo4Ans59nSCQckDGgUlJ2KsK\n",
       "O0qhOgcq587k3YtAO6kJO9csD87VCwdutcR+8IaXrr94NVlrukyo+QMzVtFgic74lyO4QcEwgxZq\n",
       "Hyx7yJR9PpYCzJegvz2mPYlb//aSC6e2yDEphrkLfGSil0qAS74EZCPoVhapKHb0qovDVWuVEkrU\n",
       "lNDuGIcmE1Fulrf/9jIoGMUCqCtkcS9b0TbPpPnPlWCPyqRHoj6k5XcEJks3/W55IvAMCaWK3w17\n",
       "cfKPHp8/2ei9OJxH6AP/IhlApSBAJ7y8D3fHQzDaYBDl6HJVggTzaaW2TS4pKd/J4TQf9xKyde/q\n",
       "lyw6uQZ9fuSMsGsRzfVV5HxeY4jAldcl3SvLsNtjJVXcpVR1Zcmq/m6wy8RGu0U2APXNc6EI1tn5\n",
       "cXvNnRkNBgDMRxE02aYmrrOLn7g1qxNXIXM6+9L/tggnfme3JbcFAEl80DyTTbGhOs8nATaS/Y2P\n",
       "4LNVwz+KQ6E0LFkMfHZpVY+yWsBoX9MSEujIAyBL9V77PE/dIpuCILAVHB+GQtKyS7tyv3wX1HxI\n",
       "sdWCdkAyK0LltIgfdNsvzVs/vn3zM7NmNoIxwEQr2iC9MwbqxsT1qY8+VN+MvwXxgRvua7iWV0w5\n",
       "fpVPuwnXq9OcQ9gARoiF5EYP2GEfE9z3L77bApMQ5GZVllfoUsx1VPafEdm07CuSeK6Fwozvs+b7\n",
       "tc6OgA0Ft+5pRysTT5OH5Rnll5bj2DtWYmo7AK54uDAaZMsbIYj4/8Kv//OBKTEAM3frRalrVYTw\n",
       "zkM8oHfQ1O6s3coOovzX837kAn5wSUMoFKIXVoTGqGUgLhB6MqvKBiBvV4yOjXLUO/s6Bm+uKWuF\n",
       "7TbpGzF9yuvckcjlwPp2xQ6ZSzVjGM2eqAfmZNo3E9tbqZ7Ega8K8eOuAJNy4z7dI6Oh0OthHD36\n",
       "7HDe4cuYYo9W6lVvOdll5afBNci/qlwMIMUAhgMeKc0xdAAAAwAAAwAAfsEAAADAQZohbEN//qeE\n",
       "AA4jJyQGb7P8r+kyClefNV8DF0u8WuF9+knR0Jr0Z+nJInCY/ac7gG76wyvLI2s9T7uUlU5K6Zlr\n",
       "9qZJ7hwJBPSH0gzoPGrDRPhO3bvbyGKtWNDbrUuztQRb93NaYtedi/Q163lMEbzBCxEH1EnNYj33\n",
       "SbGhhciCZnpPfzwU13dneZah5tM3g4fA3T55wg6jyCAL9afwfcPsBjr7BUui3dRxB79WCl4ZNPD/\n",
       "aZhMvkiQoZmf/+JOAAAAXkGaQjwhkymEN//+p4QABfgClIggB0M4BLne7in9vGYdE0BNSUXs7sHi\n",
       "e1dHJK0A9AZFfSnE5D42yR+Vxl0CIHZ8qqQQgQ9/qs0qEaG5nv3fWkdnqmshRN07lvhHMIEAAABl\n",
       "QZpjSeEPJlMCG//+p4QABfgCjhcaPALUgHCUWAyUDk+HuUAqU+Iiik32axMmySblLX6up0vVmarr\n",
       "6gMpEAV2nxng+89mi5je6SzJdfkp9XE78cEe2EQSliugbz9FW84pLX8lbXAAAACaQZqFSeEPJlMF\n",
       "ETw3//6nhAAF+FBQMlAPnCOY8w5vChlAXpBJZbky2RkzN/rhC4Om4GbXIBhQ63fJdQqgvLmHitPa\n",
       "+zGqC95BzrtZmgDlcsucSmitUrTQ7loCO+D35tJPL1pFGj2HEXSMZA+hIonaHclFLojhuUXU/IWL\n",
       "TpeAu7Tl6Q634zp4Rdwd+4kGme47Z44l/wnMbmrp2QAAADsBnqRqQr8ABMcsSIYwAmrzf8hh/xxE\n",
       "USmXWmqDVEDFhK4DxcqZduu9R7vqASFmgSQ4TTPQ1ju6Ix3m4QAAAHtBmqZJ4Q8mUwIb//6nhAAF\n",
       "0DtKBegBF6H5sBKhBMRA+DFWGZGwLpPqjP0foJjcdOsHgy1YPs2/X4AX3ImSOaUQNAG/7ASkyl7d\n",
       "belwfYzoPJeRL2s2IA5ZJPx5UqXe1Ks29vDiaDa1joWkJI+fwBzVFcC3D72yReuoYeEAAABzQZrH\n",
       "SeEPJlMCG//+p4QABdNhGUiduAOS54DZ26F50r2ogQWQiLkRBE20gseQtroxc83eM9cf5z7Xp1fq\n",
       "5floJlYDvncWB6litiDfcH4s8MN89gdGHUZpsxXxRtoQ2oUzyjAbqeZ2keF1WDHl2b0GTAeQcQAA\n",
       "AJJBmuhJ4Q8mUwIb//6nhAAF0Zlb+qAoRjpNDK3VNCr/GOyGGh0cTdQosXFBw5FOGSstlj9NnF0X\n",
       "hrhjLR1r+zkaomI1U5IpYdyBthNTcDb6NXtZYXZYjDz9RT/MAc4e/8HA7Ubua9rduJY8IUEyM45b\n",
       "GMZBwxvrRo6aqbAoSb22zHruYXDblPRuU+C4fwoZgKhqwAAAAH9BmwlJ4Q8mUwIb//6nhAAF0lmS\n",
       "gqiAy7L1MJ3UE1ZhPUuUfpuFCZBjlZLxNNqVNFQoWzNcD/md2Z/Z3ophD1kCgQ4p+Qxzv61SWs7h\n",
       "6RLzvewMLha5GiOrD9WseUIIgg+2I1nXKkIjLw3fSM8yTt0HM9Hpa1FVNdC5o9MEySg2AAAAa0Gb\n",
       "KknhDyZTAhv//qeEAAWtTE7nGjwA4k4bgazwL0olsaElkChgVIMAOmHnYdTsQGHDpoU3OyxJiKOV\n",
       "5kdN1gvpTz7YuHl7v4m0TqgW0/J+nalOxasSEqxZJW+NdewIZsONGnA8eaiZKMfTAAAAbUGbS0nh\n",
       "DyZTAhv//qeEAAWtTI38JoAnrF5dqNbgV+DNNDS4/gHqu8wVrOV3Wl3KfZSSEhhko3e3yxtz0C55\n",
       "+6hmG9eq4RMWKkqAEEKBGlufyclNEWMkxaVmZJwd1ATlaIyxC+j/zCsrwbsOXHAAAAB3QZtsSeEP\n",
       "JlMCG//+p4QABa2ZXIlAKTAAgOPYqS4MdfKGYcd5jNIkjrAqstNOjX0HRUp20bGfxQbG3Gv35CA2\n",
       "OrCDDxxcWWr4j1yqftWplcIR/1amRZC/z4h+DkfdiRR00puqelBY01CLdzyF8komKmHg2ocm2OAA\n",
       "AAB0QZuNSeEPJlMCG//+p4QABa5Zkf8CAKM2y0Zw/USXjd/IWZRxbPlYA6Uu4+suAQCASX70qLB5\n",
       "x7QqdErUULiqH6kelqOLZ2mvMURdPldQAeyjm4KFHQKKk5k73SHyIsrpCe+ZCmFrKf0eX4hJ2QJx\n",
       "HO/CQsEAAAB+QZuuSeEPJlMCHf/+qZYAAsmjPR3AEQ8XrPMBz3KfVJ/NOWayrNlh0AKHHpxDLS5B\n",
       "f0XdZ+mpK2BCpQcbrV41ISg3iBmuFfYn1YVAd5guy+dVZ6b0dWDbeZfqS5fX3lvJ2G57hIujTwdn\n",
       "HmkqkV7f/gzL60tTv639HY1RyjQRAAAAfkGbz0nhDyZTAh3//qmWAALKoP5BabgEx1srj5nae3IY\n",
       "HD1pIfx4ifi1xzLnpoWUV74v/NbA7do5RQzMfvqDjYxPAWq62a5cLndefaF5tF52vGMUwZ6v4gjH\n",
       "4GKsebN6i235t2MXvwGDqtvKJo/BMCjyIoVYJD5NC5fc/YCxoQAAAKdBm/FJ4Q8mUwURPD///qmW\n",
       "AALLAS/DEMAtRnQNrd58mu7TErw5K6myMKHPEDiRlbv5hzHG3lnNY5Cb3fYOXxLdL2VapgRVWnHN\n",
       "Fv9TqljWEszyIm9K31ycryMyzujEIDCsXa5yMSTVIAvzlYUoWvlp0bWHMZjlf8Gn3dw2QddlOCc7\n",
       "9HhEKI6xgt5vftq6nwLPREU0RprisCELCCu8PU/m7Ctl9tJhkgAAADUBnhBqQr8ABHZBDyCrCAE0\n",
       "vJr1b14Sbvl5R7KjJwJ6caPhzib61uufw0+v3M85ifUKohucMAAAAS9BmhVJ4Q8mUwId//6plgAJ\n",
       "AbocAswXqne2MTCdn0v5AoqCDF//YBc9+oY7PExwoPXO4BYyuyH2vvLPttL5YxiC86t/oSvz3yDy\n",
       "EqX0q9usOr0b/g9gSG0ohK4uxmcCPnKg2ThluQwxxKLkah/hoRW2sf0LkarAuXHsR5ez5O3BiwH4\n",
       "4MR7SEzo2+cuZ9ISayLJVnSb8PAe+W5YZFhXyLW6LC6DIVl1wb/qpZIZ/S8D0AkB7iOyyvShWbez\n",
       "vJg36TV3rMCPXiR1uuiR4sA6MRmX25RUbuKl+iGY3263icDk8XPVeSaxL7QMoANku0Y6XotCHmm1\n",
       "nIAP7XfTIevsjtR8Cm9vDQ8mDEdrqYBlLro/KLdGLPcAyX3FAPALdeV644tItJRVgUdyU6ZzhelI\n",
       "v58AAAAtQZ4zRRE8M/8AB8ORLkIfD7QACHhz690VWBoMywyEOaAq7uRV2Zd3b0ff+XzAAAAAMQGe\n",
       "UnRCvwAOfwIEfIDX0gAnbupJeApZpY9MYCCnqvsqMa8q/qLqcE1dPAlw2FI2BnEAAAAyAZ5UakK/\n",
       "AARWaPoAP55vgXr+VcspM1dV3xxAmB1mpaHAtfsK124cLRP6UyH5dLxfakEAAAB/QZpYSahBaJlM\n",
       "CHf//qmWAAK3xgkBCroBfdD6qOa3tiieb0DpyFDPZKCImWC/j06i1ZKV9mmqL9yd8HNX1WACPcmt\n",
       "JWWfMgF7hu01bOnB0kZvjsyErdcHAjRcXv4aW8d8qxNd2tZsn/PAE9jE7T+OZSNw0rKjwdLEsX8f\n",
       "yWdsPgAAACZBnnZFESwv/wADOBJIbF+RACaMBMhx43cisnm8OxDl3J2TH/3Z/wAAACoBnpdqQr8A\n",
       "BDFm7vPoAP0vvhD3z8T8/BpE0xrIB1ok9XBL3riUSfhm7SMAAABtQZqbSahBbJlMCH///qmWAAKm\n",
       "CLG9iAL40QMiUSPz01avAskLnXSdHuUap2oRD8Lm2/qo05KwMHIswrpHn+50Ofd3RqaY2KZy5ZSA\n",
       "X73aM5c7odAA7EhvDJUVUPv+wnKhWcJZfCcxLWNdSEfQOAAAADNBnrlFFSwv/wADGwv/jXi4AEQa\n",
       "MUm8bQfYEroD9iCtO1n280Q9EST22935EDTqLmYW0HEAAAAjAZ7aakK/AAQoaMHyAASpgzSb5LhX\n",
       "CL6nwI99AV7O9fXX7ZgAAABdQZreSahBbJlMCH///qmWAAKmxC70kA1Rlws9d5gmHM18xEPeRERT\n",
       "e56RjgZ34yIEnbwgiD/D6e2Vehaa0sZ5ePLbUqBWzTZDc6+wE4oAS7t6OPLJtFCcvC8O7ZxZAAAA\n",
       "NEGe/EUVLC//AAMkKtsAIU9QIZwM89/NfItC3VC2EvVCtiV9olrkxw/9z1OAAbISdjTaYpsAAAAt\n",
       "AZ8dakK/AAQ2ZMQAmrzgWGsCECYfHY6g67amk/Oq31DPCLos8t7Ykdvwg1SsAAAAUkGbAkmoQWyZ\n",
       "TAh///6plgACla6OhOQ1ADnsoye1JoCFDzMrZTdtXJqIzRggtugBa3ILS9jTEwPGMMiKtq9umu2k\n",
       "cVtP9TPWPxsTbmg/U8wtJBwAAAAlQZ8gRRUsM/8AAjqMVzpZ8AH3JdsxGgUljLvrAmulXvNsDGRh\n",
       "UQAAAC4Bn190Qr8ABA1B24WDlmAE0uavGTxhgPsuDV++TWapt2xUiclYfeSVrSaifyJgAAAALwGf\n",
       "QWpCvwAEBthS0z0AH885Dur2XQKInR0/M6H/KNwj8jEgNVUwPa+zCKcg/kTBAAAAUkGbRkmoQWyZ\n",
       "TAh///6plgAClQEwKW8AtRrA6fWnOtZn0SnT13RQAV1cjhNDfN4Ku6ig2gIx96h0xtudYLo0q2xx\n",
       "7OCF9rId8QFCSnyKRcX5zUwAAAA3QZ9kRRUsM/8AAjsfhwARB662nzkMNGJM6Z0yQcmeOk9D5oQT\n",
       "zwAf98LAnZ+hhbtrABGhEzXEfQAAADgBn4N0Qr8ABBNEmcugA/aR0oDr7kmIq6zsqeursCbjktE2\n",
       "vWM46FnAgDL0BksqZM2y9AbgP0X29QAAACQBn4VqQr8ABBZAvT811sAB+jmPo4JxNUY7Mx2UEcD7\n",
       "BM/8JM0AAABGQZuJSahBbJlMCH///qmWAAKDkst/BDEAOI500vkuTpoGePIs+j8+36yVl/5F0d8V\n",
       "bxi921I/BZvC7lQWT6x3y8ACk6SHgQAAABtBn6dFFSwv/wAC/NwBhM0AJnyR8dlAQhDqMuAAAAAw\n",
       "AZ/IakK/AAP5U0VT0AH6SmnU8TdVGPyvBd//89F+7OYBD8AA3hcUTY41IXC6+MV8AAAAVEGbzUmo\n",
       "QWyZTAh///6plgACgipjQlQBPmcjMJ1dE1XPDp7KyqfGVtKulx+k6TqTgXtAMaBP0DKFUplQ4LDt\n",
       "fPq57WhtgkEtE6gTA4u29UZpNeoyXwAAACZBn+tFFSwz/wACJDPFVvwAkeCC7ntkWc14Wjw4YaRI\n",
       "/rfFGQMV8AAAACwBngp0Qr8AA/Zwi/nQAfo/qGha0h3fK2YQc3ITW3hZAHezVaAU8HYOnwfccAAA\n",
       "ACYBngxqQr8AA/PZ6TVWACdvBZYlIIKEWDFtwolM6F1R3O6ly4vuOQAAAGdBmhFJqEFsmUwIf//+\n",
       "qZYAAnGA7RrWS2wBHRioObswvcLSSj4+yS8nxNrqacWM9+7qU2omzztyzmtyy7PCuK+/q8n7p8Wk\n",
       "PUge96XMNFXzsFt8ViQ2hMFGBUHWFJgfQDp+88zMTGzBAAAALkGeL0UVLDP/AAIau5VWj5mAEIPq\n",
       "RFExRah0z3ThzCfHuNtMY88BcrszACDceK0AAAArAZ5OdEK/AAPaLPByda3QAfuJPzxipFsG2Nic\n",
       "2p7tevrAa3YBaMpTLayu/wAAACgBnlBqQr8AA+EFpxKKzACasdDWuSBF87F1Ud2vkA9YKYRGwJYu\n",
       "2GLSAAAAUUGaVUmoQWyZTAh///6plgACcXLRn8oAoJC4/p6JmypBjSilmTA5jebHo1llM3F/upGA\n",
       "WGQVOu5j14orC1kiDrDPHKRYru7goXpL9zEthB+h8QAAADtBnnNFFSwz/wACE8r6gbABtBQxq8lv\n",
       "I4yI98i0QDqVugX74a2hG3e/wmtLEJs6lV7WHgBmHA6d+GMWkAAAADQBnpJ0Qr8AA+Bwi/nQAfuG\n",
       "xD/uHmnBHmY3mcxq7TQ7C848Zwv5LT/0JAdZRgd8/ivFkgGVAAAAKAGelGpCvwAD5IFgAnbt6Ae+\n",
       "COxb0UAzBnekH8I8OLVLRzZ//1C8SikAAABaQZqZSahBbJlMCH///qmWAAJh8jQgRMNgC+MkrmXu\n",
       "UGkqFbvLjbGZOdmH1FoqnvN7D1l1S9jXDUW6jWi79y1ZLca3+RHMyUG1NKMAVA2tF01Yjw00jftp\n",
       "Z2fAAAAAMUGet0UVLDP/AAIHiXmONlxZOADaUNV8DqwspHJw5B0rP/MYfwZILV65TUlxviLe2kEA\n",
       "AAApAZ7WdEK/AAPMTdl/MAJpZtF4g4MDlS4KpP9WGtIF5ML/Zk7hxkadtIEAAAAfAZ7YakK/AAPA\n",
       "XMevGoAD+QDwTacavaq4Ctt4vdtbSAAAAGdBmt1JqEFsmUwIf//+qZYAAmFy0Z/KANrhxvfp5CnK\n",
       "MpkgIozSuwPrGuh5qk23lEwZ9vN+XeUGGIO6L6ev5T7FgpOvgVmZcesVPIRsL74A8YDvPF1SUsgH\n",
       "QpOCHsbk+pYkyxILPAXLAAAAK0Ge+0UVLDP/AAIDy1fHwAHaHcoMsOZrek1PXLwBLoCnkIyQwJwN\n",
       "+LixMXEAAAA3AZ8adEK/AAPAp7YYwAmmdorc6zHxKwGXq4/zfbGktNJLCDK0YNroSf8EoT/Am0oY\n",
       "wkYtgIoGfQAAAB8BnxxqQr8AA8wCvqAca2AA/j+Li3DaP5uHaNU5rfd1AAAAQEGbAEmoQWyZTAh/\n",
       "//6plgACUhdnryEMQAteLqhMnW0Vj2Up5XXjy/Z5kX5gLAyoedEBGmhahty5KHdmCWbUI9IAAAAa\n",
       "QZ8+RRUsL/8AAsVmq/z4ASSRkKXLaIzU6esAAAArAZ9fakK/AAO3U0VT0AH6Sn1Xp/zwSdxSvreU\n",
       "l1yNWNfLsvAaTlLryEjagQAAAFRBm0RJqEFsmUwIf//+qZYAAlMt5jP5QBPnNQlD9CLQEu33HwuY\n",
       "yvExq2GBXXyAdwlPk7ZHtPFGzi/M+/IJiZMu2mKfSxV16GfUCM7QDjtqQnGY6YAAAAAWQZ9iRRUs\n",
       "M/8AAfbPyF3xRcwCDUVN+QAAACkBn4F0Qr8AA7Rwi/nQAfpJCzHTUMbtpnIUA0TSnOk7ebDVQaWd\n",
       "xQPvSAAAACYBn4NqQr8AA7HZ8U1WACdvLk931YoQdwDvhzK6hneLnsqEuaCq4QAAAD1Bm4hJqEFs\n",
       "mUwIf//+qZYAAkIJQA5zmwAtRjfJpLmX/uY2BYXHxTM1ByzjZr2P+9iUv2JdzgCkJJbqwsbBAAAA\n",
       "LUGfpkUVLDP/AAHwmnVOCbGACH+LzYZ7H/XGZ3eFdkqBepS63foPftlRi52q4QAAAC8Bn8V0Qr8A\n",
       "A6BN2X8wAml2fyToGgGUC76YayS8Vp6QL9g0962Mx5lOk8e1nfU1IQAAACoBn8dqQr8AA58Fpoy3\n",
       "3QAfzKZj5GkHAZZudtCo7tfHjtYKbJwH720NT7gAAABGQZvMSahBbJlMCH///qmWAAJBctGbyQBy\n",
       "zT6N5cfJJu0zTdkItQztxu/n12FG97lkMsvXP3DxiwSQW3Wlw23NCyVZti3LgAAAADpBn+pFFSwz\n",
       "/wAB63SZobAB+6E660aKPNLPhnM4EjP+/50z/crpr7lCNHMuGClp28WRpY8uwHLSVmFBAAAALgGe\n",
       "CXRCvwADnfqLx6AD9hD75mmxMQrG3r3gS3VKwBHeefS4/2Gg0wN36THANmAAAAApAZ4LakK/AAOi\n",
       "gWACdub49/S/ZefU347X1wvQcG5WkXxx1BLduVmjiV8AAAA/QZoQSahBbJlMCH///qmWAAIyF2g0\n",
       "r+MQAldkYwzWJ2h+ERl3xpp0Z0hvtoGyNHwYCxi+SKJZQyCES9uhS03BAAAAOEGeLkUVLDP/AAHg\n",
       "OH/6nBHD0mAEI0X6y+E+Jhsib2tFcMgMMSX6tvECIjClQ4fx2C8+/6/WCOWBAAAALQGeTXRCvwAD\n",
       "ik3ZfzACaV7cPaRb8W17VG3WnT2KVH9L9g0+dJ7DzsB7RzCLNwAAABkBnk9qQr8AA4TcmjMJVYAT\n",
       "V3WePWrApUDAAAAAXkGaVEmoQWyZTAh3//6plgACMXLRnX6AHRM8DLRFX1zeBvhDX6MbJOx+6nji\n",
       "KmolY4PGLY+TppcTrS6FBWpd1bZWoLP6bmQE9I/nwjxhOAnmpNLX07EtyZZPMDS76EAAAAApQZ5y\n",
       "RRUsM/8AAeXqhAAc4e+9Nwr0ZNaOAc2DODSpWyMiLjt2vdheMeEAAAA5AZ6RdEK/AAOGl6oAGMAJ\n",
       "phcMLfi6qy4RkWNpeG5x9P/bS8MDpHSoq+STnc1Mz7B8R/Fi7gbKEA3oAAAAIwGek2pCvwADigK+\n",
       "n5rrYAD8l9leXJtho2Pq/HoPsEz/wlpAAAAAOEGal0moQWyZTAh3//6plgACIgQhK7qJ0AFy8ZCm\n",
       "2v4TQjE0ErqATaBHw1DghIaN+u7gTX0+QHmLAAAAJkGetUUVLC//AAKPZqwSlAA2QIvAQl1B0aT1\n",
       "i5X0WWxKHMXEJtBAAAAAJwGe1mpCvwADdVh0VVABOUQEOB9fTxWXibsC9zUssu3ckAF6CXItBQAA\n",
       "AE5BmtpJqEFsmUwId//+qZYAAiFyx1VnADdjxEwdchMtIXiUvVAbe7wpVtUhoJRkqtltOKlYNDsJ\n",
       "qfx9cIngDdxed2sZXefQbxLe++Ozz3UAAAArQZ74RRUsL/8AAoacEYKAA8AKIwj1WYJuV/9nMCKj\n",
       "eVxK4185OQTT+QjGZAAAADMBnxlqQr8AA3RVHQAfzmEbweOJUsAcoOzBafSp+MOGxGEF9E515Om0\n",
       "tT93gAYNr94vwcEAAABSQZsdSahBbJlMCHf//qmWAAIga+UAHG+EpgsPErLox0f8oqxtsdkeaari\n",
       "cljDPfrzwqqihS0I6gF6tgXT0t97nY0pnylQLWtS6R6e+5PaYrvqwAAAACNBnztFFSwv/wACjrxl\n",
       "wfbWAE0ysJ+qMpwMBoOlhqDg6RTwgQAAAC4Bn1xqQr8AA11/FJ2fQAft3fDKF5xSax/wXywDxBh6\n",
       "KQL5rGj/OoTTbO06Mi0lAAAAVkGbQEmoQWyZTAhv//6nhAAEFvZjptQDwAbLsvRqVS+62xX1TXfz\n",
       "A+ZhILWgiiueq3ssgiFujseK1fzGMKiOAo5udAwTToAn+UfcYtITTrRMA1G6Jy2gAAAAMEGffkUV\n",
       "LC//AAJzt8uUq8ACIIQw+yrxP0bjU/KZnwuf117OedQMQGuN8ril8qY0YAAAAB4Bn59qQr8AA1bz\n",
       "kWPaAD+CS+WJ8BLlBf6W/bfxXsEAAABUQZuDSahBbJlMCFf//jhAAD4Zy77QAJToQ7hFu4pmqL7w\n",
       "NY6UDP/kNlC/0SqsGpPMxCJSjTj75R4b6ui5QeBnrcEdyP2eaq1IVjgRlg2LTvUqK5kYAAAAUEGf\n",
       "oUUVLC//AAJ0nBGp8ACdZUoNvDKBMgPhLKgQ6AxOL6GbJqf6cLmm3Ej+LpPL4aoue7xf39WUjMjw\n",
       "3OBWMyei4yzQY9auaUOJstuQ5NUxAAAAQAGfwmpCvwADYoFgAnbj8ddsKiY4pX49XxlNGllQ1wC5\n",
       "MKhH40IsnKoOerqKmGDOWb9x7YuHKJ9tVSJLKO20V7AAAAcybW9vdgAAAGxtdmhkAAAAAAAAAAAA\n",
       "AAAAAAAD6AAAE4gAAQAAAQAAAAAAAAAAAAAAAAEAAAAAAAAAAAAAAAAAAAABAAAAAAAAAAAAAAAA\n",
       "AABAAAAAAAAAAAAAAAAAAAAAAAAAAAAAAAAAAAAAAAAAAgAABlx0cmFrAAAAXHRraGQAAAADAAAA\n",
       "AAAAAAAAAAABAAAAAAAAE4gAAAAAAAAAAAAAAAAAAAAAAAEAAAAAAAAAAAAAAAAAAAABAAAAAAAA\n",
       "AAAAAAAAAABAAAAAAbAAAAEgAAAAAAAkZWR0cwAAABxlbHN0AAAAAAAAAAEAABOIAAAEAAABAAAA\n",
       "AAXUbWRpYQAAACBtZGhkAAAAAAAAAAAAAAAAAAAoAAAAyABVxAAAAAAALWhkbHIAAAAAAAAAAHZp\n",
       "ZGUAAAAAAAAAAAAAAABWaWRlb0hhbmRsZXIAAAAFf21pbmYAAAAUdm1oZAAAAAEAAAAAAAAAAAAA\n",
       "ACRkaW5mAAAAHGRyZWYAAAAAAAAAAQAAAAx1cmwgAAAAAQAABT9zdGJsAAAAt3N0c2QAAAAAAAAA\n",
       "AQAAAKdhdmMxAAAAAAAAAAEAAAAAAAAAAAAAAAAAAAAAAbABIABIAAAASAAAAAAAAAABAAAAAAAA\n",
       "AAAAAAAAAAAAAAAAAAAAAAAAAAAAAAAAAAAAGP//AAAANWF2Y0MBZAAV/+EAGGdkABWs2UGwloQA\n",
       "AAMABAAAAwCgPFi2WAEABmjr48siwP34+AAAAAAcdXVpZGtoQPJfJE/FujmlG88DI/MAAAAAAAAA\n",
       "GHN0dHMAAAAAAAAAAQAAAGQAAAIAAAAAFHN0c3MAAAAAAAAAAQAAAAEAAAKAY3R0cwAAAAAAAABO\n",
       "AAAABAAABAAAAAABAAAGAAAAAAEAAAIAAAAACgAABAAAAAABAAAGAAAAAAEAAAIAAAAAAQAACgAA\n",
       "AAABAAAEAAAAAAEAAAAAAAAAAQAAAgAAAAABAAAIAAAAAAIAAAIAAAAAAQAACAAAAAACAAACAAAA\n",
       "AAEAAAgAAAAAAgAAAgAAAAABAAAKAAAAAAEAAAQAAAAAAQAAAAAAAAABAAACAAAAAAEAAAoAAAAA\n",
       "AQAABAAAAAABAAAAAAAAAAEAAAIAAAAAAQAACAAAAAACAAACAAAAAAEAAAoAAAAAAQAABAAAAAAB\n",
       "AAAAAAAAAAEAAAIAAAAAAQAACgAAAAABAAAEAAAAAAEAAAAAAAAAAQAAAgAAAAABAAAKAAAAAAEA\n",
       "AAQAAAAAAQAAAAAAAAABAAACAAAAAAEAAAoAAAAAAQAABAAAAAABAAAAAAAAAAEAAAIAAAAAAQAA\n",
       "CgAAAAABAAAEAAAAAAEAAAAAAAAAAQAAAgAAAAABAAAIAAAAAAIAAAIAAAAAAQAACgAAAAABAAAE\n",
       "AAAAAAEAAAAAAAAAAQAAAgAAAAABAAAKAAAAAAEAAAQAAAAAAQAAAAAAAAABAAACAAAAAAEAAAoA\n",
       "AAAAAQAABAAAAAABAAAAAAAAAAEAAAIAAAAAAQAACgAAAAABAAAEAAAAAAEAAAAAAAAAAQAAAgAA\n",
       "AAABAAAKAAAAAAEAAAQAAAAAAQAAAAAAAAABAAACAAAAAAEAAAgAAAAAAgAAAgAAAAABAAAIAAAA\n",
       "AAIAAAIAAAAAAQAACAAAAAACAAACAAAAAAEAAAgAAAAAAgAAAgAAAAABAAAIAAAAAAIAAAIAAAAA\n",
       "HHN0c2MAAAAAAAAAAQAAAAEAAABkAAAAAQAAAaRzdHN6AAAAAAAAAAAAAABkAAAPywAAAMQAAABi\n",
       "AAAAaQAAAJ4AAAA/AAAAfwAAAHcAAACWAAAAgwAAAG8AAABxAAAAewAAAHgAAACCAAAAggAAAKsA\n",
       "AAA5AAABMwAAADEAAAA1AAAANgAAAIMAAAAqAAAALgAAAHEAAAA3AAAAJwAAAGEAAAA4AAAAMQAA\n",
       "AFYAAAApAAAAMgAAADMAAABWAAAAOwAAADwAAAAoAAAASgAAAB8AAAA0AAAAWAAAACoAAAAwAAAA\n",
       "KgAAAGsAAAAyAAAALwAAACwAAABVAAAAPwAAADgAAAAsAAAAXgAAADUAAAAtAAAAIwAAAGsAAAAv\n",
       "AAAAOwAAACMAAABEAAAAHgAAAC8AAABYAAAAGgAAAC0AAAAqAAAAQQAAADEAAAAzAAAALgAAAEoA\n",
       "AAA+AAAAMgAAAC0AAABDAAAAPAAAADEAAAAdAAAAYgAAAC0AAAA9AAAAJwAAADwAAAAqAAAAKwAA\n",
       "AFIAAAAvAAAANwAAAFYAAAAnAAAAMgAAAFoAAAA0AAAAIgAAAFgAAABUAAAARAAAABRzdGNvAAAA\n",
       "AAAAAAEAAAAwAAAAYnVkdGEAAABabWV0YQAAAAAAAAAhaGRscgAAAAAAAAAAbWRpcmFwcGwAAAAA\n",
       "AAAAAAAAAAAtaWxzdAAAACWpdG9vAAAAHWRhdGEAAAABAAAAAExhdmY1OC43Ni4xMDA=\n",
       "\">\n",
       "  Your browser does not support the video tag.\n",
       "</video>"
      ],
      "text/plain": [
       "<IPython.core.display.HTML object>"
      ]
     },
     "execution_count": 13,
     "metadata": {},
     "output_type": "execute_result"
    }
   ],
   "source": [
    "interval = 1000*dt\n",
    "ani = animation.FuncAnimation(fig, animate, get_pos, blit=True,\n",
    "                      interval=interval, repeat=False, save_count=100)\n",
    "from IPython.display import HTML\n",
    "HTML(ani.to_html5_video())"
   ]
  },
  {
   "cell_type": "markdown",
   "id": "G8lpeAD2p9S_",
   "metadata": {
    "id": "G8lpeAD2p9S_"
   },
   "source": [
    "Hopefully you will see a blue ball impacting a red ball close to the origin, no matter what initial velocity or angle is imparted to either sphere.\n",
    "\n",
    "---\n",
    "\n"
   ]
  },
  {
   "cell_type": "code",
   "execution_count": null,
   "id": "1d654620",
   "metadata": {},
   "outputs": [],
   "source": [
    "def anim_collision(m_A, m_B, u_A, u_B, e):\n",
    "    # collision animator \n",
    "    dt = 0.05\n",
    "    vx0_A = u_A \n",
    "    vx0_B = u_B \n",
    "    # Initial position and velocity vectors.\n",
    "    x0_A = -u_A\n",
    "    x0_B = -u_B\n",
    "    y0_A = 0.0\n",
    "    y0_B = 0.0\n",
    "\n",
    "    lval = (max(abs(x0_A), abs(x0_B)))\n",
    "    extent = 2 * int(math.ceil(lval))\n",
    "    # matrix of coeffs (to use to solve simultaneous equations)\n",
    "    A = [[1, -1], [m_B, m_A]]\n",
    "    \n",
    "    # Set up a new figure, with equal aspect ratio.\n",
    "    fig, ax = plt.subplots()\n",
    "    fig.set_size_inches(6, 4)\n",
    "    ax.set_xlim(left=-extent, right=extent)\n",
    "    ax.set_ylim(bottom=-2, top=2)\n",
    "    ax.set_aspect('equal')\n",
    "    ax.axhline(y=0, xmin=-extent, xmax=extent, c=\"black\", linewidth=1, linestyle=\"--\", zorder=0)\n",
    "    \n",
    "    # These are the objects we need to keep track of.\n",
    "    lineA, = ax.plot([], [], lw=2, linestyle='dotted', color='blue')\n",
    "    lineB, = ax.plot([], [], lw=2, linestyle='dotted', color='red')\n",
    "    ballA = plt.Circle((x0_A, y0_A), 0.08, color='blue')\n",
    "    ballB = plt.Circle((x0_B, y0_B), 0.08, color='red')\n",
    "    v1_text = ax.text(-0.9 * extent, -1.5, '', color='blue')\n",
    "    v2_text = ax.text(0.5 * extent, 1.5, '', color='red')\n",
    "    ax.add_patch(ballA)\n",
    "    ax.add_patch(ballB)\n",
    "    xdata_A, ydata_A = [], []\n",
    "    xdata_B, ydata_B = [], []\n",
    "    interval = 1000*dt\n",
    "    ani = animation.FuncAnimation(fig, animate, get_pos, blit=True,\n",
    "                      interval=interval, repeat=False, save_count=100)\n",
    "\n",
    "HTML(ani.to_html5_video())"
   ]
  },
  {
   "cell_type": "markdown",
   "id": "d3b5364e",
   "metadata": {},
   "source": [
    "## Over To You\n",
    "\n",
    "This worksheet illustrates how to use symbolic Python can solve a set of simultaneous equations for us: those equations happen to be conservation of linear momentum and Newton's Law of Restitution, and are applied to spheres which collide in 2D."
   ]
  },
  {
   "cell_type": "code",
   "execution_count": null,
   "id": "N4vRQobws-Zw",
   "metadata": {
    "executionInfo": {
     "elapsed": 8,
     "status": "ok",
     "timestamp": 1646662045855,
     "user": {
      "displayName": "James Threlfall",
      "photoUrl": "https://lh3.googleusercontent.com/a-/AOh14Gh5AMmwJn-QgnyAtyVfjDwEfQL-5FfwAhQ1uZjJ=s64",
      "userId": "12893452708265254015"
     },
     "user_tz": 0
    },
    "id": "N4vRQobws-Zw"
   },
   "outputs": [],
   "source": []
  }
 ],
 "metadata": {
  "colab": {
   "collapsed_sections": [],
   "name": "06_JT_2D_SphereSphere_Collisions.ipynb",
   "provenance": []
  },
  "kernelspec": {
   "display_name": "Python 3 (ipykernel)",
   "language": "python",
   "name": "python3"
  },
  "language_info": {
   "codemirror_mode": {
    "name": "ipython",
    "version": 3
   },
   "file_extension": ".py",
   "mimetype": "text/x-python",
   "name": "python",
   "nbconvert_exporter": "python",
   "pygments_lexer": "ipython3",
   "version": "3.9.9"
  }
 },
 "nbformat": 4,
 "nbformat_minor": 5
}
