{
 "cells": [
  {
   "cell_type": "markdown",
   "metadata": {
    "id": "JIgwuWo3bl3j"
   },
   "source": [
    "# Quaternions (and rotations!)\n",
    "\n",
    "Having learned about complex numbers and their properties, it's really time to kick it up a notch: Quaternions are like an extended complex number, in that they have not one but three hyper-imaginary components. Quaternions are an industry standard way to perform rotations in 3D graphics, but they operate very differently to matrix transformations.\n",
    "\n",
    "In this notebook we will explore some of the properties of quaternions, and then apply those properties to rotate objects in 3D space."
   ]
  },
  {
   "cell_type": "code",
   "execution_count": 1,
   "metadata": {
    "executionInfo": {
     "elapsed": 725,
     "status": "ok",
     "timestamp": 1683647153487,
     "user": {
      "displayName": "James Threlfall",
      "userId": "12893452708265254015"
     },
     "user_tz": -60
    },
    "id": "LKr_6133VcTg"
   },
   "outputs": [],
   "source": [
    "## Libraries\n",
    "%matplotlib inline\n",
    "import numpy as np\n",
    "import math \n",
    "import matplotlib.pyplot as plt\n",
    "from mpl_toolkits.mplot3d import Axes3D\n",
    "from matplotlib.patches import FancyArrowPatch\n",
    "from mpl_toolkits.mplot3d import proj3d\n",
    "import sympy as sym"
   ]
  },
  {
   "cell_type": "markdown",
   "metadata": {
    "id": "vTFvKYIh0uAV"
   },
   "source": [
    "## Introduction\n",
    "Quaternions are like an extended form of complex number. They have one real and *three* hyperimaginary components, for example:\n",
    "\n",
    "$$\n",
    "\\vec{q} = a+b\\vec{i}+c\\vec{j}+d\\vec{k}.\n",
    "$$\n",
    "\n",
    "In this course we will label each of the $i,j,k$ components as vectors, as we will be learning to exploit their properties to perform rotations in 3D space.\n",
    "\n",
    "Quaternions have various properties that make them fantastic at performing rotations, as discussed in lectures.\n",
    "\n",
    "To play with quaternions in Python, we have to use a custom Python package that isn't commonly installed on Colab called \"quaternion\". We will ask Python to try loading it, and if it fails, force the local installation of the package and try again."
   ]
  },
  {
   "cell_type": "code",
   "execution_count": 2,
   "metadata": {
    "colab": {
     "base_uri": "https://localhost:8080/"
    },
    "executionInfo": {
     "elapsed": 9424,
     "status": "ok",
     "timestamp": 1683647162907,
     "user": {
      "displayName": "James Threlfall",
      "userId": "12893452708265254015"
     },
     "user_tz": -60
    },
    "id": "Ssar_A1e1BOA",
    "outputId": "e821447f-e96d-41a3-d638-965d585bf984"
   },
   "outputs": [],
   "source": [
    "try:\n",
    "    import quaternion\n",
    "except ModuleNotFoundError:\n",
    "    # Error handling\n",
    "    import sys\n",
    "    !{sys.executable} -m pip install --upgrade numpy-quaternion\n",
    "    import quaternion\n",
    "    pass"
   ]
  },
  {
   "cell_type": "markdown",
   "metadata": {
    "id": "r5ryChn_1UbE"
   },
   "source": [
    "## Using the quaternions package to do maths ##\n",
    "\n",
    "Now we can store and play with quaternions:"
   ]
  },
  {
   "cell_type": "code",
   "execution_count": 3,
   "metadata": {
    "executionInfo": {
     "elapsed": 20,
     "status": "ok",
     "timestamp": 1683647162907,
     "user": {
      "displayName": "James Threlfall",
      "userId": "12893452708265254015"
     },
     "user_tz": -60
    },
    "id": "HVAkN99hh2Xe"
   },
   "outputs": [],
   "source": [
    "q1 = np.quaternion(1,2,3,4)\n",
    "q2 = np.quaternion(5,6,7,8)"
   ]
  },
  {
   "cell_type": "markdown",
   "metadata": {
    "id": "CsMeNb0l1dXh"
   },
   "source": [
    "Python isn't strictly built to mess with quaternions, so to illustrate some of rotations later, we'll first set up some functions to carry out certain operations that we will use later. These functions are based on the concepts taught in lectures. \n",
    "\n",
    "For example, it will be useful to quickly evaluate the modulus and inverse of a given quaternion:\n",
    "\n",
    "$$\n",
    "{|\\vec{q}|} = \\sqrt{a^2+b^2+c^2+d^2}~~~~~~~~~{\\vec{q}^{-1}}=\\frac{\\bar{q}}{{|q|^2}}.\n",
    "$$"
   ]
  },
  {
   "cell_type": "code",
   "execution_count": 4,
   "metadata": {
    "executionInfo": {
     "elapsed": 20,
     "status": "ok",
     "timestamp": 1683647162908,
     "user": {
      "displayName": "James Threlfall",
      "userId": "12893452708265254015"
     },
     "user_tz": -60
    },
    "id": "R9Ko9w0riH1A"
   },
   "outputs": [],
   "source": [
    "def modq(q):\n",
    "  \"\"\"Function to create the |q| of a given quaternion.\n",
    "  \"\"\"\n",
    "  import quaternion\n",
    "  mq = q.w*q.w+q.x*q.x+q.y*q.y+q.z*q.z\n",
    "  mq = np.sqrt(mq)\n",
    "  return mq\n",
    "\n",
    "def invertq(q):\n",
    "  \"\"\"Function to create q^(-1) of a given quaternion.\n",
    "  \"\"\"\n",
    "  import quaternion\n",
    "  mq = q.w * q.w + q.x * q.x + q.y * q.y + q.z * q.z\n",
    "  mq = np.sqrt(mq)\n",
    "  q_inverse = q.conjugate()/mq/mq\n",
    "  return q_inverse"
   ]
  },
  {
   "cell_type": "markdown",
   "metadata": {
    "id": "N-VKeYup1yi7"
   },
   "source": [
    "The quaternion numpy addon package is capable of calculating the conjugate of a given quaternion, so lets now check that this and our functions calculate exactly what we would expect:"
   ]
  },
  {
   "cell_type": "code",
   "execution_count": 5,
   "metadata": {
    "colab": {
     "base_uri": "https://localhost:8080/"
    },
    "executionInfo": {
     "elapsed": 19,
     "status": "ok",
     "timestamp": 1683647162908,
     "user": {
      "displayName": "James Threlfall",
      "userId": "12893452708265254015"
     },
     "user_tz": -60
    },
    "id": "M_uQvcKwiJf0",
    "outputId": "ec4f37e7-1d54-414c-e18e-df11c0c21ccc"
   },
   "outputs": [
    {
     "name": "stdout",
     "output_type": "stream",
     "text": [
      "5.477225575051661\n",
      "5.477225575051661\n",
      "quaternion(0.0333333333333333, -0.0666666666666667, -0.1, -0.133333333333333)\n"
     ]
    }
   ],
   "source": [
    "print(np.sqrt(q1.w * q1.w + q1.x * q1.x + q1.y * q1.y + q1.z * q1.z))\n",
    "print(modq(q1))\n",
    "q1.conjugate()\n",
    "print(invertq(q1))"
   ]
  },
  {
   "cell_type": "markdown",
   "metadata": {
    "id": "cvUYDVOK2Lr4"
   },
   "source": [
    "We want to use quaternions to rotate objects. Our lectures described a specific method to rotate a chosen point about a specific axis. One must express the point as a quaternion $p$, before formatting the rotation as a quaternion $q_r$. Once done, the rotation can be carried out using the operations $q_r p q_r^{-1}$. \n",
    "\n",
    "To help us implement these quickly in Python, let us again define some specific functions to convert a point to a quaternion, or a quaternion into a point. We can also create functions which, if given a rotation angle and axis, generate the equivalent quaternion, and one which will evaluate a rotation angle and axis from a given quaternion.\n"
   ]
  },
  {
   "cell_type": "code",
   "execution_count": 6,
   "metadata": {
    "executionInfo": {
     "elapsed": 18,
     "status": "ok",
     "timestamp": 1683647162909,
     "user": {
      "displayName": "James Threlfall",
      "userId": "12893452708265254015"
     },
     "user_tz": -60
    },
    "id": "0BgjLZ8TmERN"
   },
   "outputs": [],
   "source": [
    "def point2quat(p):\n",
    "  \"\"\"Function to convert a point to a quaternion\n",
    "  \"\"\"\n",
    "  import quaternion\n",
    "  q = np.quaternion(0, p[0], p[1], p[2])\n",
    "  return q\n",
    "\n",
    "def quat2point(q):\n",
    "  \"\"\"Function to convert a point to a quaternion\n",
    "  \"\"\"\n",
    "  import quaternion\n",
    "  p = [q.x, q.y, q.z]\n",
    "  return p\n",
    "\n",
    "def rotation2quat(theta, v):\n",
    "  \"\"\"Function to represent an axis and rotation angle using quaternions\n",
    "  with theta read in degrees\n",
    "  \"\"\"\n",
    "  import quaternion\n",
    "  rtheta = 0.5 * theta\n",
    "  modv = np.sqrt(v[0]*v[0] + v[1]*v[1] + v[2]*v[2])\n",
    "  myI = v / modv\n",
    "  ct = np.cos(np.radians(rtheta))\n",
    "  st = np.sin(np.radians(rtheta))\n",
    "  q = np.quaternion(ct,myI[0]*st,myI[1]*st,myI[2]*st)\n",
    "  return q\n",
    "\n",
    "def quat2rotation(q):\n",
    "  \"\"\"Function to break apart quaternion to display rotation axis and angle\n",
    "  \"\"\"\n",
    "  import quaternion\n",
    "  mq = q.w * q.w + q.x * q.x + q.y * q.y + q.z * q.z\n",
    "  mq = np.sqrt(mq) \n",
    "  theta = math.degrees(np.arccos(q.w / mq))\n",
    "  axis = [q.x, q.y, q.z]\n",
    "  print(\"theta=\",2.*theta, \" axis=\",axis)  "
   ]
  },
  {
   "cell_type": "markdown",
   "metadata": {
    "id": "2NwMeKUGoxer"
   },
   "source": [
    "Let us now put these processes to the test. In our lectures we encountered several examples. \n",
    "\n",
    "### Example 1: rotation using quaternions ###\n",
    "The point $(2,3,1)$ is to be rotated about the $x$-axis by $90^o$ using quaternions.\n",
    " \n",
    "In only a few lines we can use Python to carry out the same rotation: "
   ]
  },
  {
   "cell_type": "code",
   "execution_count": 17,
   "metadata": {
    "colab": {
     "base_uri": "https://localhost:8080/"
    },
    "executionInfo": {
     "elapsed": 18,
     "status": "ok",
     "timestamp": 1683647162909,
     "user": {
      "displayName": "James Threlfall",
      "userId": "12893452708265254015"
     },
     "user_tz": -60
    },
    "id": "3Yaam3ZFm9pr",
    "outputId": "0925fc63-259a-47d6-a6cd-8827f2585caa"
   },
   "outputs": [
    {
     "name": "stdout",
     "output_type": "stream",
     "text": [
      "p= quaternion(0, 2, 3, 1)\n",
      "q= quaternion(0.707106781186548, 0.707106781186547, 0, 0)\n",
      "q^-1= quaternion(0.707106781186548, -0.707106781186547, -0, -0)\n"
     ]
    }
   ],
   "source": [
    "pt = [2,3,1]\n",
    "qp = point2quat(pt) #convert point to quaternion form\n",
    "print('p=', qp)\n",
    "theta = 90\n",
    "axis = [1,0,0]\n",
    "qr = rotation2quat(theta,axis) #rotate point about specified axis\n",
    "print('q=', qr)\n",
    "qri = invertq(qr) #calculate inverse of quaternion\n",
    "print('q^-1=', qri)"
   ]
  },
  {
   "cell_type": "code",
   "execution_count": 18,
   "metadata": {
    "colab": {
     "base_uri": "https://localhost:8080/"
    },
    "executionInfo": {
     "elapsed": 17,
     "status": "ok",
     "timestamp": 1683647162910,
     "user": {
      "displayName": "James Threlfall",
      "userId": "12893452708265254015"
     },
     "user_tz": -60
    },
    "id": "WRjTtqVdnRqs",
    "outputId": "10db1913-3945-49d8-d27d-212610d0af44"
   },
   "outputs": [
    {
     "name": "stdout",
     "output_type": "stream",
     "text": [
      "image coords: [2.0, -0.9999999999999993, 3.0]\n"
     ]
    }
   ],
   "source": [
    "im = quat2point(qr * qp * qri) #q * p * q^(-1)\n",
    "print('image coords:', im)"
   ]
  },
  {
   "cell_type": "markdown",
   "metadata": {
    "id": "eVbgH7Go4B7i"
   },
   "source": [
    "The image location displayed above matches the location we determined in the lectures using our mathematics.\n",
    "\n",
    "What about if we could somehow visualise this rotation further?\n",
    "To display an axis, we could create a type of arrow to indicate size and direction of any vectors:"
   ]
  },
  {
   "cell_type": "code",
   "execution_count": 19,
   "metadata": {
    "executionInfo": {
     "elapsed": 15,
     "status": "ok",
     "timestamp": 1683647162910,
     "user": {
      "displayName": "James Threlfall",
      "userId": "12893452708265254015"
     },
     "user_tz": -60
    },
    "id": "zTmJ4b_WYc8O"
   },
   "outputs": [],
   "source": [
    "class Arrow3D(FancyArrowPatch):\n",
    "    def __init__(self, xs, ys, zs, *args, **kwargs):\n",
    "        super().__init__((0,0), (0,0), *args, **kwargs)\n",
    "        self._verts3d = xs, ys, zs\n",
    "\n",
    "    def do_3d_projection(self, renderer=None):\n",
    "        xs3d, ys3d, zs3d = self._verts3d\n",
    "        xs, ys, zs = proj3d.proj_transform(xs3d, ys3d, zs3d, self.axes.M)\n",
    "        self.set_positions((xs[0],ys[0]),(xs[1],ys[1]))\n",
    "\n",
    "        return np.min(zs)"
   ]
  },
  {
   "cell_type": "markdown",
   "metadata": {
    "id": "e3Vmr6Ps4VxA"
   },
   "source": [
    "Now lets display the arrow (representing the axis of rotation), the original point and the rotated image of that point. We can add in a curved arrow indicating the direction of rotation and some text to help identify which object is which:"
   ]
  },
  {
   "cell_type": "code",
   "execution_count": 20,
   "metadata": {
    "colab": {
     "base_uri": "https://localhost:8080/",
     "height": 406
    },
    "executionInfo": {
     "elapsed": 15,
     "status": "ok",
     "timestamp": 1683647162910,
     "user": {
      "displayName": "James Threlfall",
      "userId": "12893452708265254015"
     },
     "user_tz": -60
    },
    "id": "mKx4ltLNYSB3",
    "outputId": "8dcc807e-5df7-442a-9ba3-2c8c518bfce8"
   },
   "outputs": [
    {
     "data": {
      "image/png": "[encoded data removed]",
      "text/plain": [
       "<Figure size 432x288 with 1 Axes>"
      ]
     },
     "metadata": {
      "needs_background": "light"
     },
     "output_type": "display_data"
    }
   ],
   "source": [
    "fig = plt.figure()\n",
    "ax = fig.add_subplot(111, projection='3d')\n",
    "ax.view_init(20, 55)\n",
    "ax.scatter(pt[0], pt[1], pt[2], color=\"r\", s=100)\n",
    "ax.text(pt[0]+2, pt[2]+1, pt[2]+1, pt, c='r')\n",
    "ax.scatter(im[0], im[1], im[2], color=\"b\", s=100)\n",
    "ax.text(im[0]-2, im[1]-1, im[2]+2, im, c='b')\n",
    "ax.axes.set_xlim3d(left=-5, right=5) \n",
    "ax.axes.set_ylim3d(bottom=-5, top=5) \n",
    "ax.axes.set_zlim3d(bottom=-5, top=5)\n",
    "ax.set_xlabel('x')\n",
    "ax.set_ylabel('y')\n",
    "ax.set_zlabel('z')\n",
    "vstring=\"{}i+{}j+{}k\".format(axis[0],axis[1],axis[2])\n",
    "arrow_prop_dict = dict(mutation_scale=20, arrowstyle='-|>', color='k', shrinkA=0, shrinkB=0, linewidth=2)\n",
    "a = Arrow3D([0, 3*axis[0]], [0, 3*axis[1]], [0, 3*axis[2]], **arrow_prop_dict)\n",
    "ax.text(0, 0, -2, vstring, c='k')\n",
    "a2 = Arrow3D([pt[0], im[0]], [pt[1], im[1]], [pt[2], im[2]], mutation_scale=20,\n",
    "            lw=1, arrowstyle=\"-|>\", color=\"b\", connectionstyle=\"arc3,rad=1\", linestyle='--')\n",
    "\n",
    "ax.add_artist(a)\n",
    "ax.add_artist(a2)\n",
    "ax.set_box_aspect([1,1,1])\n",
    "plt.show()"
   ]
  },
  {
   "cell_type": "markdown",
   "metadata": {
    "id": "lG1JqZkzo-oX"
   },
   "source": [
    "Example 2 in the lectures can also be evaluated this way, and displayed using the same tools:\n",
    "\n",
    "### Example 2 ###\n",
    "The point $(1,0,-2)$ is to be rotated by $60^o$ about the axis $\\vec{i}+2\\vec{j}-\\vec{k}$. Carry out the rotation using quaternions.\n"
   ]
  },
  {
   "cell_type": "code",
   "execution_count": 21,
   "metadata": {
    "colab": {
     "base_uri": "https://localhost:8080/"
    },
    "executionInfo": {
     "elapsed": 228,
     "status": "ok",
     "timestamp": 1683647293898,
     "user": {
      "displayName": "James Threlfall",
      "userId": "12893452708265254015"
     },
     "user_tz": -60
    },
    "id": "XuGR2Xsfn0Yj",
    "outputId": "ded23826-d965-407d-fbdf-7b371aa014e8"
   },
   "outputs": [
    {
     "name": "stdout",
     "output_type": "stream",
     "text": [
      "image coords: [-0.664213562373095, 0.8535533905932737, -1.9571067811865477]\n"
     ]
    }
   ],
   "source": [
    "pt2 = [1, 0, -2]\n",
    "qp2 = point2quat(pt2)\n",
    "axis2 = [1,2,-1]\n",
    "theta2 = 60.0\n",
    "qr2 = rotation2quat(theta2,axis2)\n",
    "qri2 = invertq(qr2)\n",
    "im2 = quat2point(qr2 * qp2 * qri2)\n",
    "print('image coords:', im2)"
   ]
  },
  {
   "cell_type": "markdown",
   "metadata": {
    "id": "3VQBtbvPMvaD"
   },
   "source": [
    "We can also visualise this rotation in 3D, using arrows to illustrate the rotation axis, the rotation itself and the old and new image locations:"
   ]
  },
  {
   "cell_type": "code",
   "execution_count": 22,
   "metadata": {
    "colab": {
     "base_uri": "https://localhost:8080/",
     "height": 406
    },
    "executionInfo": {
     "elapsed": 824,
     "status": "ok",
     "timestamp": 1683647336434,
     "user": {
      "displayName": "James Threlfall",
      "userId": "12893452708265254015"
     },
     "user_tz": -60
    },
    "id": "elKnFaNaY0sQ",
    "outputId": "70000361-ab2e-40e8-f37e-e184b4abeae9"
   },
   "outputs": [
    {
     "data": {
      "image/png": "[encoded data removed]",
      "text/plain": [
       "<Figure size 432x288 with 1 Axes>"
      ]
     },
     "metadata": {
      "needs_background": "light"
     },
     "output_type": "display_data"
    }
   ],
   "source": [
    "fig = plt.figure()\n",
    "ax = fig.add_subplot(111, projection='3d')\n",
    "ax.view_init(20, -55)\n",
    "imtext=[round(float(i), 2) for i in im2]\n",
    "ax.scatter(pt2[0], pt2[1], pt2[2], color=\"r\", s=100)\n",
    "ax.text(pt2[0]+0.5, pt2[2]+0.5, pt2[2]+1, pt2, c='r')\n",
    "ax.scatter(im2[0], im2[1], im2[2], color=\"b\", s=100)\n",
    "ax.text(im2[0]-1, im2[1]-1, im2[2]+0.5, imtext, c='b')\n",
    "ax.axes.set_xlim3d(left=-2, right=2) \n",
    "ax.axes.set_ylim3d(bottom=-2, top=2) \n",
    "ax.axes.set_zlim3d(bottom=-2, top=2)\n",
    "ax.set_xlabel('x')\n",
    "ax.set_ylabel('y')\n",
    "ax.set_zlabel('z')\n",
    "vstring=\"{}i+{}j+{}k\".format(axis2[0],axis2[1],axis2[2])\n",
    "arrow_prop_dict = dict(mutation_scale=20, arrowstyle='-|>', color='k', shrinkA=0, shrinkB=0, linewidth=2)\n",
    "a = Arrow3D([0,axis2[0]], [0, axis2[1]], [0, axis2[2]], **arrow_prop_dict)\n",
    "ax.text(0, 0, 0.5, vstring, c='k')\n",
    "a2 = Arrow3D([pt2[0], im2[0]], [pt2[1], im2[1]], [pt2[2], im2[2]], mutation_scale=20,\n",
    "            lw=1, arrowstyle=\"-|>\", color=\"b\", connectionstyle=\"arc3,rad=-0.6\", linestyle='--')\n",
    "\n",
    "ax.add_artist(a)\n",
    "ax.add_artist(a2)\n",
    "plt.show()"
   ]
  },
  {
   "cell_type": "markdown",
   "metadata": {
    "id": "FlP67e7GpwMv"
   },
   "source": [
    "### Example 3: rotation axis not through origin ###\n",
    "Example 3 used the same direction for the axis of rotation as in Example 1, but now passing through a specific point. To carry out this example, we must first translate the point before carrying out the rotation, then translating the point back by the same amount at the end:\n",
    "\n"
   ]
  },
  {
   "cell_type": "code",
   "execution_count": 23,
   "metadata": {
    "colab": {
     "base_uri": "https://localhost:8080/"
    },
    "executionInfo": {
     "elapsed": 225,
     "status": "ok",
     "timestamp": 1683647364409,
     "user": {
      "displayName": "James Threlfall",
      "userId": "12893452708265254015"
     },
     "user_tz": -60
    },
    "id": "zG9aTYjOpPQR",
    "outputId": "1bb057b6-8b3b-49e6-b12b-442207bb4e0f"
   },
   "outputs": [
    {
     "name": "stdout",
     "output_type": "stream",
     "text": [
      "image coords: [2.0, 2.0, 2.0]\n"
     ]
    }
   ],
   "source": [
    "ptT = [a - b for a, b in zip(pt, [-1,2,1])]\n",
    "qp3 = point2quat(ptT)\n",
    "imT = quat2point(qr * qp3 * qri)\n",
    "im3 = [a + b for a, b in zip(imT, [-1,2,1])]\n",
    "print('image coords:', im3)"
   ]
  },
  {
   "cell_type": "markdown",
   "metadata": {
    "id": "oIW91lhgsW8y"
   },
   "source": [
    "## Concatenation ##\n",
    "\n",
    "One of the most powerful aspects of quaternion rotations involves concatenation: the idea that multiple rotations in sequence can be represented by a single equivalent quaternion.\n",
    "\n",
    "To follow a rotation $q_1pq_1^{-1}$ by a second rotation $q_2$, we would form $q_2(q_1pq_1^{-1})q_2^{-1}$. All the information about both rotations is stored in a quaternion $q_2q_1$ (and it's inverse, $(q_2q_1)^{-1}$, since $q_1^{-1}q_2^{-1}=(q_2q_1)^{-1}$). By multiplying the two quaternions together to form one new quaternion, we have stored all the information about two rotations in one *concatenated* quaternion.\n",
    "\n",
    "### Concatenation Example 1 ###\n",
    "In the lectures, this was illsutated by an example. The point $(-1,0,1)$ was to be rotated about the $z$-axis by $120^o$, followed by a rotation of $-90^o$ about an axis parallel to $\\underset{\\bar{}}{i}-\\underset{\\bar{}}{k}$.\n",
    "\n",
    "To carry this out using Python, we can create the two required quaternions, multiply them, find the inverse of the result, then perform the rotation. "
   ]
  },
  {
   "cell_type": "code",
   "execution_count": 24,
   "metadata": {
    "colab": {
     "base_uri": "https://localhost:8080/"
    },
    "executionInfo": {
     "elapsed": 4,
     "status": "ok",
     "timestamp": 1683647435701,
     "user": {
      "displayName": "James Threlfall",
      "userId": "12893452708265254015"
     },
     "user_tz": -60
    },
    "id": "oI2Of4Ljqa0y",
    "outputId": "b9373030-6b2d-47a2-cebc-5429d1a1ee1b"
   },
   "outputs": [
    {
     "name": "stdout",
     "output_type": "stream",
     "text": [
      "quaternion(0, 0.362372435695795, 1.06066017177982, 0.862372435695795)\n"
     ]
    }
   ],
   "source": [
    "qrc1 = rotation2quat(120, [0, 0, 1])\n",
    "qrc2 = rotation2quat(-90, [1, 0, -1])\n",
    "q2q1 = qrc2 * qrc1\n",
    "q2q1_inverse = invertq(q2q1)\n",
    "pc1 = [-1,0,1]\n",
    "qpc = point2quat(pc1)\n",
    "print(q2q1 * qpc * q2q1_inverse)\n",
    "imc = quat2point(q2q1 * qpc * q2q1_inverse)"
   ]
  },
  {
   "cell_type": "markdown",
   "metadata": {
    "id": "1NRiBHs67sDq"
   },
   "source": [
    "To convert the quaternion back to a rotation, we can use the *quat2rotation* function we created earlier:"
   ]
  },
  {
   "cell_type": "code",
   "execution_count": 15,
   "metadata": {
    "colab": {
     "base_uri": "https://localhost:8080/"
    },
    "executionInfo": {
     "elapsed": 7,
     "status": "ok",
     "timestamp": 1683647163461,
     "user": {
      "displayName": "James Threlfall",
      "userId": "12893452708265254015"
     },
     "user_tz": -60
    },
    "id": "rs2mHYvfstos",
    "outputId": "c8f97c8f-ddf4-432f-a1b6-20bdb1105f8b"
   },
   "outputs": [
    {
     "name": "stdout",
     "output_type": "stream",
     "text": [
      "theta= 189.11497523669803  axis= [-0.25, 0.4330127018922192, 0.8623724356957946]\n"
     ]
    }
   ],
   "source": [
    "quat2rotation(q2q1)"
   ]
  },
  {
   "cell_type": "markdown",
   "metadata": {
    "id": "xHf1vG7d7z7g"
   },
   "source": [
    "As expected, the solutions determined by Python match those we found using mathematics in the lectures.\n",
    "\n",
    "NB: The axis found by Python is $4\\times$ smaller than the axis we determined in the lectures using maths by hand. This is because our Python function returns the axis as a *unit vector*. It still points in exactly the same direction as the axis found from the lecture. Both are correct answers; one is just formatted slightly differently.\n",
    "\n",
    "\n",
    "## Over to you ##\n",
    "\n",
    "Examine some of the examples you completed in the tutorial questions, and see if Python is able to confirm your tactics and solutions. \n",
    "\n",
    "What do the old and new locations look like in 3D after you have performed the rotations?"
   ]
  },
  {
   "cell_type": "code",
   "execution_count": null,
   "metadata": {
    "executionInfo": {
     "elapsed": 6,
     "status": "ok",
     "timestamp": 1683647163461,
     "user": {
      "displayName": "James Threlfall",
      "userId": "12893452708265254015"
     },
     "user_tz": -60
    },
    "id": "s3skSZCVbf_Z"
   },
   "outputs": [],
   "source": []
  }
 ],
 "metadata": {
  "colab": {
   "authorship_tag": "ABX9TyNaYjGjxoDddKBC7VtcYSkd",
   "provenance": [
    {
     "file_id": "1iE7-JZiIokUI7c7cEwLp28rVY20X2FDN",
     "timestamp": 1682432990375
    }
   ]
  },
  "kernelspec": {
   "display_name": "Python 3 (ipykernel)",
   "language": "python",
   "name": "python3"
  },
  "language_info": {
   "codemirror_mode": {
    "name": "ipython",
    "version": 3
   },
   "file_extension": ".py",
   "mimetype": "text/x-python",
   "name": "python",
   "nbconvert_exporter": "python",
   "pygments_lexer": "ipython3",
   "version": "3.9.9"
  }
 },
 "nbformat": 4,
 "nbformat_minor": 1
}
