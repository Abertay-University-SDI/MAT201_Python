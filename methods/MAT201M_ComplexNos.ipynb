{
  "cells": [
    {
      "cell_type": "markdown",
      "metadata": {
        "id": "JIgwuWo3bl3j"
      },
      "source": [
        "# Complex Numbers\n",
        "\n",
        "Complex numbers are a rare example of more abstract mathematical ideas than can be useful practically. They are useful in a number of different mathematical fields and so have very wide implications on a number of branches of mathematics. However, in the field of computer graphics they have interesting properties which will allow us to describe rotations in a new and somewhat unexpected way. In order to perform rotations, we must understand the basic properties of complex numbers, as taught in the lectures."
      ]
    },
    {
      "cell_type": "code",
      "execution_count": 1,
      "metadata": {
        "id": "LKr_6133VcTg"
      },
      "outputs": [],
      "source": [
        "## Libraries\n",
        "import numpy as np\n",
        "import math \n",
        "import matplotlib.pyplot as plt\n",
        "import sympy as sym\n",
        "from matplotlib.patches import FancyArrowPatch"
      ]
    },
    {
      "cell_type": "markdown",
      "metadata": {
        "id": "WdaaHsASb5Ic"
      },
      "source": [
        "## Introduction\n",
        "As seen in the lectures, complex numbers comprise of a real part and an imaginary part, with the letter \"i\" indicating which is which. In general a complex number is denoted as\n",
        "\n",
        "$$\n",
        "z = A+iB,\n",
        "$$\n",
        "\n",
        "where $A$ is the real part, $B$ is the imaginary part and $i=\\sqrt{-1}$. \n",
        "\n",
        "To represent complex numbers in Python, there are two approaches. Python will interpret a number as complex if we append the second value in a sum with the letter j (j is a more common letter in engineering to represent the square-root of -1; i is used, for example, to represent electric current in physics equations): "
      ]
    },
    {
      "cell_type": "code",
      "execution_count": 2,
      "metadata": {
        "id": "AtcXScHOVfLO"
      },
      "outputs": [],
      "source": [
        "z1 = 1 + 2j\n",
        "z2 = -2 - 2j"
      ]
    },
    {
      "cell_type": "markdown",
      "metadata": {
        "id": "fhwxujRZdofs"
      },
      "source": [
        "## Basic arithmetic operations\n",
        "\n",
        "When we add or subtract complex numbers, we must add or subtract the real parts and imaginary components separately:\n",
        "\n",
        "$$\n",
        "(A+iB)+(C+iD)=(A+C)+i(B+D).\n",
        "$$\n",
        "\n",
        "Python understands this too:"
      ]
    },
    {
      "cell_type": "code",
      "execution_count": 3,
      "metadata": {
        "colab": {
          "base_uri": "https://localhost:8080/"
        },
        "id": "-zQjBgchVrU7",
        "outputId": "ee76e591-aa9f-4aa7-9b19-151bf892421b"
      },
      "outputs": [
        {
          "output_type": "stream",
          "name": "stdout",
          "text": [
            "z1+z2= (-1+0j)\n",
            "z1-z2= (3+4j)\n"
          ]
        }
      ],
      "source": [
        "print(\"z1+z2=\",z1+z2)\n",
        "print(\"z1-z2=\",z1-z2)"
      ]
    },
    {
      "cell_type": "markdown",
      "metadata": {
        "id": "WxrHD7s3d43F"
      },
      "source": [
        "When we multiply complex numbers, we create a product of four terms:\n",
        "\n",
        "$$\n",
        "\\begin{align}\n",
        "(A+iB)⋅(C+iD)&=A \\cdot C+iB\\cdot C+A\\cdot iD+iB\\cdot iD, \\\\\n",
        "&=AC+i(BC+AD)+i^2BD=(AC-BD)+i(BC+AD).\n",
        "\\end{align}\n",
        "$$\n",
        "The result is also a complex number, with the real part given as the addition of two of the pairs, and the complex part given by adding the remaining two.\n",
        "\n",
        "The key thing here is knowing how to treat $i$. We need to remember that when two imaginary numbers multiply, we need to take account of $i^2={\\sqrt{-1}}^2=-1$. Python also knows that this is the case.\n",
        "\n",
        "For example:\n",
        "$$\n",
        "\\begin{align}\n",
        "(1+2i)⋅(-2-2i)&=1 \\cdot -2+2i\\cdot -2+1\\cdot -2i+2i\\cdot -2i. \\\\\n",
        "&=-2+i(-4-2)-4i^2=(-2+4)-6i=2-6i\n",
        "\\end{align}\n",
        "$$\n",
        "\n",
        "Let's check using Python:"
      ]
    },
    {
      "cell_type": "code",
      "execution_count": 4,
      "metadata": {
        "colab": {
          "base_uri": "https://localhost:8080/"
        },
        "id": "FKSQI4NzcDN4",
        "outputId": "226ddba0-f97e-4292-9e1f-0c6ca862f369"
      },
      "outputs": [
        {
          "output_type": "stream",
          "name": "stdout",
          "text": [
            "z1*z2= (2-6j)\n"
          ]
        }
      ],
      "source": [
        "print(\"z1*z2=\",z1*z2)"
      ]
    },
    {
      "cell_type": "markdown",
      "metadata": {
        "id": "CkRO3Mo3t9bp"
      },
      "source": [
        "If we want to do some more advanced things with complex numbers in Python, we should use the \"complex\" datatype. This tells Python that we are serious about complex numbers and allows us access to more useful mathematical operations related to complex numbers. One example is the ability to immediately tell us what the conjugate of any given complex number is. \n",
        "\n",
        "From the lectures, we learned that the conjugate of a complex number, $\\bar{z}$, has an imaginary component of opposite sign:\n",
        "\n",
        "$$\n",
        "z=A+iB,\\\\\n",
        "\\bar{z}=A-iB.\n",
        "$$\n"
      ]
    },
    {
      "cell_type": "code",
      "execution_count": 5,
      "metadata": {
        "colab": {
          "base_uri": "https://localhost:8080/"
        },
        "id": "QpGQiTC7VyWj",
        "outputId": "f27a066d-0cde-4698-df2f-b2f38ba878ef"
      },
      "outputs": [
        {
          "output_type": "stream",
          "name": "stdout",
          "text": [
            "z3=  (3+1j)\n",
            "conj(z3)= (3-1j)\n"
          ]
        }
      ],
      "source": [
        "z3 = complex(3.,1.)\n",
        "print(\"z3= \",z3)\n",
        "print(\"conj(z3)=\",z3.conjugate())"
      ]
    },
    {
      "cell_type": "markdown",
      "metadata": {
        "id": "9bixYaI_u1KC"
      },
      "source": [
        "Remember too that any complex number multiplied by it's conjugate must entirely be real (the two imaginary products cancel, while the $i^2$ term becomes real)."
      ]
    },
    {
      "cell_type": "code",
      "execution_count": 6,
      "metadata": {
        "colab": {
          "base_uri": "https://localhost:8080/"
        },
        "id": "UmrDBGfEb4YM",
        "outputId": "fa54f921-eab1-4859-b8f8-2d6fe1368aae"
      },
      "outputs": [
        {
          "output_type": "stream",
          "name": "stdout",
          "text": [
            "z3*conj(z3) =  (10+0j)\n"
          ]
        }
      ],
      "source": [
        "print(\"z3*conj(z3) = \",z3*z3.conjugate())"
      ]
    },
    {
      "cell_type": "markdown",
      "metadata": {
        "id": "JzhvVqIlvIy0"
      },
      "source": [
        "## Complex number division\n",
        "\n",
        "The complex conjugate is really useful for dividing complex numbers. We can eliminate the presence of a complex term in the denominator by multiplying it by it's conjugate; to balance this, we also multiply the numerator by the complex conjugate of the denominator.\n",
        "\n",
        "In the lectures we saw how this worked for a general complex number division:\n",
        "\n",
        "$$\n",
        "\\frac{a+ib}{c+id}=\\frac{(a+ib)(c-id)}{(c+id)(c-id)}=\\frac{ac+i(bd)-i(ad)-i^2(bd)}{c^2+i(dc)-i(cd)-i^2(d^2)}=\\frac{(ac+bd)+i(bc-ad)}{c^2+d^2}\n",
        "$$\n",
        "\n",
        "noting that in this example the conjugate of $z=c-id$ is $\\bar{z}=c+id$.\n",
        "\n",
        "We can confirm this approach by having Python carry out a complex division using the division operator, then carrying out the same calculation using the steps seen in lectures:"
      ]
    },
    {
      "cell_type": "code",
      "execution_count": 7,
      "metadata": {
        "colab": {
          "base_uri": "https://localhost:8080/"
        },
        "id": "Hy1qmag3c9V5",
        "outputId": "e7a87412-4089-450d-8cdf-f559de377e6f"
      },
      "outputs": [
        {
          "output_type": "stream",
          "name": "stdout",
          "text": [
            "z2/z3= (-0.7999999999999999-0.4j)\n",
            "ans= (-8-4j) / (10+0j) = (-0.8-0.4j)\n"
          ]
        }
      ],
      "source": [
        "print(\"z2/z3=\",z2/z3)\n",
        "numerator = z2*z3.conjugate()\n",
        "denominator = z3*z3.conjugate()\n",
        "print(\"ans=\", numerator, \"/\", denominator, \"=\", numerator/denominator)"
      ]
    },
    {
      "cell_type": "markdown",
      "metadata": {
        "id": "uEiaiTaWv7u0"
      },
      "source": [
        "## Visualising complex numbers\n",
        "One way to visualise complex numbers is to use the Argand diagram. In this diagram we plot the real component of the complex number as the $x$-coordinate, and the imaginary component as the $y$-coordinate.\n",
        "\n",
        "To show this, we'll define a function called \"argand\". The argument of this function is a complex number. Our function will return the location of this complex number on the Argand diagram, highlighting the $x$- and $y$-components:"
      ]
    },
    {
      "cell_type": "code",
      "execution_count": 8,
      "metadata": {
        "id": "DkqlBu5sV_Zg"
      },
      "outputs": [],
      "source": [
        "def argand(a):\n",
        "    \"\"\"Function to create an argand diagram for a complex number a.\n",
        "  \"\"\"\n",
        "    for x in range(len(a)):\n",
        "        plt.plot([0,a[x].real],[0,a[x].imag],'ro-',label='python')\n",
        "        plt.text(a[x].real+0.15, a[x].imag+0.15, a[x], c='blue')\n",
        "        plt.plot([a[x].real,a[x].real],[0,a[x].imag],'k--',label='python')\n",
        "        plt.text(a[x].real+0.15, 0.5*a[x].imag+0.2, a[x].imag, c='k')\n",
        "        plt.plot([0,a[x].real],[0,0],'k--',label='python')\n",
        "        plt.text(0.5*a[x].real, -0.25, a[x].real, c='k')\n",
        "    limit=np.max(np.ceil(np.absolute(a))) # set limits for axis\n",
        "    plt.xlim((-limit,limit))\n",
        "    plt.ylim((-limit,limit))\n",
        "    plt.ylabel('Imaginary')\n",
        "    plt.xlabel('Real')\n",
        "    plt.show()"
      ]
    },
    {
      "cell_type": "markdown",
      "metadata": {
        "id": "7bJ_9-5hwx-8"
      },
      "source": [
        "Lets see what happens if we test this with one of our earlier complex numbers:"
      ]
    },
    {
      "cell_type": "code",
      "execution_count": 9,
      "metadata": {
        "colab": {
          "base_uri": "https://localhost:8080/",
          "height": 455
        },
        "id": "LfaM_lW8W04q",
        "outputId": "bc32b412-86df-42cc-8c6f-764ea04a10ce"
      },
      "outputs": [
        {
          "output_type": "display_data",
          "data": {
            "text/plain": [
              "<Figure size 640x480 with 1 Axes>"
            ],
            "image/png": "[encoded data removed]"
          },
          "metadata": {}
        }
      ],
      "source": [
        "argand([z3])"
      ]
    },
    {
      "cell_type": "markdown",
      "metadata": {
        "id": "HYk9Kyolw4Iz"
      },
      "source": [
        "You can see from the plot that the complex number $3+1j$ is represented by travelling $3$ along in $x$ and $1$ up in $y$. This form of complex number is sometimes known as \"Cartesian form\". One can alternatively express complex numbers in polar form, or \"modulus and argument\" form. For a complex number $z=A+iB$:\n",
        "\n",
        "\n",
        "*   The modulus of a complex number is the size of the line linking the Cartesian position and the origin, and is calculated as $|z|=\\sqrt{A^2+B^2}$.\n",
        "*   The argument of a complex number is the angle subtended between the line linking the complex number and the origin, and the positive real axis. \n",
        "\n",
        "The argument, $\\theta$, is calculated according to \n",
        "\n",
        "$$\n",
        "\\theta=\\tan^{-1}{\\left(\\frac{|B|}{|A|}\\right)},\n",
        "$$ \n",
        "\n",
        "when located in the positive $x$ and positive $y$ part of the diagram. If either $B$ or $A$ is positive one must add/subtract in order to form the argument of the complex number relative to the positive real axis.\n",
        "\n",
        "Most of the angle calculation methods baked into Python already take account of this, using the *atan2* function, or the *angle* command from numpy:\n",
        "\n",
        "\n",
        "\n",
        "\n",
        "\n",
        "\n",
        "\n",
        "\n"
      ]
    },
    {
      "cell_type": "code",
      "execution_count": 10,
      "metadata": {
        "colab": {
          "base_uri": "https://localhost:8080/"
        },
        "id": "SLS-pu1LW3po",
        "outputId": "33a3623e-d214-47e2-dfe5-dfc5447534d1"
      },
      "outputs": [
        {
          "output_type": "stream",
          "name": "stdout",
          "text": [
            "18.43494882292201\n",
            "18.43494882292201\n",
            "116.56505117707799\n"
          ]
        }
      ],
      "source": [
        "argz3 = np.arctan2(z3.imag, z3.real)\n",
        "print(math.degrees(argz3))\n",
        "print(np.angle(z3, deg=True))\n",
        "print(np.angle(complex(-1,2), deg=True))"
      ]
    },
    {
      "cell_type": "markdown",
      "metadata": {
        "id": "VMj7kDiMIZGg"
      },
      "source": [
        "*atan2* is a fairly common function in several computer languages: you can find more information about it through e.g. Google and other search engines. The numpy command *angle* can handle complex datatypes as input, which can save use some effort compared to *atan2*:"
      ]
    },
    {
      "cell_type": "code",
      "execution_count": 11,
      "metadata": {
        "colab": {
          "base_uri": "https://localhost:8080/"
        },
        "id": "QH8uNoXNeoC2",
        "outputId": "596e243c-70ab-4e6a-f43a-ef6b20867487"
      },
      "outputs": [
        {
          "output_type": "stream",
          "name": "stdout",
          "text": [
            "90.0\n"
          ]
        }
      ],
      "source": [
        "print(np.angle(0+1j,deg=True))"
      ]
    },
    {
      "cell_type": "markdown",
      "metadata": {
        "id": "wmiAsZNY0QPj"
      },
      "source": [
        "## Cmath\n",
        "Python has an explicit package solely for manipulating complex numbers, called *cmath*. It goes far beyond our needs (complex numbers are an entire interesting branch of mathematics with wide-ranging implications and applications). Some of the more basic functions can be useful however: *cmath* can quickly and directly convert to/from polar form, for example using the *polar* command:"
      ]
    },
    {
      "cell_type": "code",
      "execution_count": 12,
      "metadata": {
        "colab": {
          "base_uri": "https://localhost:8080/"
        },
        "id": "CnLkD7zZe-rJ",
        "outputId": "a460e7f7-3b29-456a-9c30-a7dee82ed228"
      },
      "outputs": [
        {
          "output_type": "stream",
          "name": "stdout",
          "text": [
            "(3.605551275463989, 0.982793723247329)\n",
            "(5.0990195135927845, 1.373400766945016)\n"
          ]
        }
      ],
      "source": [
        "#import cmath for complex number operations\n",
        "import cmath\n",
        "\n",
        "#find the polar coordinates of complex number\n",
        "print(cmath.polar(2 + 3j))\n",
        "print(cmath.polar(1 + 5j))"
      ]
    },
    {
      "cell_type": "markdown",
      "source": [
        "## Rotations with Complex Numbers\n",
        "\n",
        "We now have a relatively clear idea of some of the most useful properties of complex numbers. We will need these concepts to understand longer forms of complex numbers called \"Quaternions\", which are commonly used to rotate objects in 3D space.\n",
        "\n",
        "As a sneak peak of what we might expect from quaternions, we can also use complex numbers to rotate objects in 2D. The content of this section is strictly for information, and will not be examined upon. In the lectures we illustrated this idea with an example:\n",
        "\n",
        "### Lecture example: rotate a position using complex numbers\n",
        "**Rotate the coordinates $(1,5)$ by $60^o$ counterclockwise about the origin using complex numbers.**\n"
      ],
      "metadata": {
        "id": "5mjgfdtoVOcB"
      }
    },
    {
      "cell_type": "markdown",
      "source": [
        "Our first step is to express the coordinate as a complex number:"
      ],
      "metadata": {
        "id": "_EuJuSV3WMsE"
      }
    },
    {
      "cell_type": "code",
      "source": [
        "zp = complex(1.,5.)"
      ],
      "metadata": {
        "id": "h-f5NAoqWRKl"
      },
      "execution_count": 13,
      "outputs": []
    },
    {
      "cell_type": "markdown",
      "source": [
        "Next we must also express the rotation as a complex number. The modulus of the complex number must be one. "
      ],
      "metadata": {
        "id": "4CFpnJW5WZvC"
      }
    },
    {
      "cell_type": "code",
      "source": [
        "theta = 60\n",
        "zr = complex(np.cos(np.radians(theta)),np.sin(np.radians(theta)))"
      ],
      "metadata": {
        "id": "Ev8rAwHNWm5s"
      },
      "execution_count": 14,
      "outputs": []
    },
    {
      "cell_type": "markdown",
      "source": [
        "To carry out the rotation, we multiply both complex numbers together, with the rotation acting to the left of coordinate:"
      ],
      "metadata": {
        "id": "gbaJZYPWXAlS"
      }
    },
    {
      "cell_type": "code",
      "source": [
        "image = zr*zp\n",
        "imstr=\"{:.2f}+{:.2f}j\".format(image.real,image.imag)\n",
        "print(imstr) "
      ],
      "metadata": {
        "colab": {
          "base_uri": "https://localhost:8080/"
        },
        "id": "101nKV-KXK8l",
        "outputId": "f2040163-8748-42a1-9879-a3f4c9b3cfd3"
      },
      "execution_count": 15,
      "outputs": [
        {
          "output_type": "stream",
          "name": "stdout",
          "text": [
            "-3.83+3.37j\n"
          ]
        }
      ]
    },
    {
      "cell_type": "code",
      "source": [
        "hp = np.array([1, 5, 1])\n",
        "R_theta = np.matrix([[np.cos(math.radians(theta)), np.sin(math.radians(theta)), 0], \n",
        "                     [-np.sin(math.radians(theta)), np.cos(math.radians(theta)), 0], \n",
        "                     [0, 0, 1]]) \n",
        "rp = hp.transpose()*R_theta\n",
        "rmstr=\"({:.2f},{:.2f})\".format(rp[0,0], rp[0,1])\n",
        "print(\"achieved with matrix transforms: \", rmstr)\n",
        "lstr=\"({:.2f},{:.2f})\".format(0.5*(1.-5.*np.sqrt(3)), 0.5*(np.sqrt(3)+5.))\n",
        "print(\"lectures stated im= \", lstr) "
      ],
      "metadata": {
        "colab": {
          "base_uri": "https://localhost:8080/"
        },
        "id": "pQiF2EdteCNM",
        "outputId": "4903fd99-f63c-40da-a6f0-a1581c399059"
      },
      "execution_count": 16,
      "outputs": [
        {
          "output_type": "stream",
          "name": "stdout",
          "text": [
            "achieved with matrix transforms:  (-3.83,3.37)\n",
            "lectures stated im=  (-3.83,3.37)\n"
          ]
        }
      ]
    },
    {
      "cell_type": "code",
      "source": [
        "fig = plt.figure()\n",
        "ax = fig.add_subplot(111)\n",
        "ax.plot([0,zp.real],[0,zp.imag],'bo-',label='python')\n",
        "zpstr=\"{:.2f}+{:.2f}j\".format(zp.real,zp.imag)\n",
        "ax.text(zp.real+0.15, zp.imag+0.15, zpstr, c='blue')\n",
        "ax.plot([zp.real,zp.real],[0,zp.imag],'k--',label='python')\n",
        "ax.plot([0,zp.real],[0,0],'k--',label='python')\n",
        "ax.plot([0,image.real],[0,image.imag],'ro-',label='python')\n",
        "imstring=\"{:.2f}+{:.2f}j\".format(image.real,image.imag)\n",
        "ax.text(image.real+0.15, image.imag+0.15, imstr, c='red')\n",
        "ax.plot([image.real,image.real],[0,image.imag],'k--',label='python')\n",
        "ax.plot([0,image.real],[0,0],'k--',label='python')\n",
        "limit=np.max(np.ceil(np.absolute(image))) # set limits for axis\n",
        "style=\"Simple,tail_width=0.5,head_width=4,head_length=8\"\n",
        "kw = dict(arrowstyle=style)\n",
        "a1 = FancyArrowPatch((0.5*zp.real, 0.5*zp.imag), (0.5*image.real, 0.5*image.imag),connectionstyle=\"arc3,rad=0.3\", **kw)\n",
        "ax.add_patch(a1)\n",
        "ax.axis(xmin=-limit,xmax=limit, ymin=-limit,ymax=limit)\n",
        "angstring=\"{}$^o$\".format(theta)\n",
        "ax.text(0.2*(zp.real+image.real), 0.2*(zp.imag+image.imag),angstring, c='black')\n",
        "ax.set_ylabel('Imaginary')\n",
        "ax.set_xlabel('Real')\n",
        "plt.show()"
      ],
      "metadata": {
        "colab": {
          "base_uri": "https://localhost:8080/",
          "height": 455
        },
        "id": "m8_X3i6xXYo4",
        "outputId": "f802767f-7513-46c3-cbb1-8230218a6b28"
      },
      "execution_count": 17,
      "outputs": [
        {
          "output_type": "display_data",
          "data": {
            "text/plain": [
              "<Figure size 640x480 with 1 Axes>"
            ],
            "image/png": "[encoded data removed]"
          },
          "metadata": {}
        }
      ]
    },
    {
      "cell_type": "markdown",
      "source": [
        "Thus we have confirmed the process: converting a 2D position to a complex number and multiplying it by a complex number representing the rotation achieves the *same* image location as carrying out a 2D graphics transformation!\n",
        "\n",
        "To achieve the same result in three dimensions, we have to use quaternions (as we will see shortly!).. "
      ],
      "metadata": {
        "id": "oZ5F40v8duYL"
      }
    },
    {
      "cell_type": "markdown",
      "metadata": {
        "id": "-F6FR66h3uE6"
      },
      "source": [
        "## Over to you!\n",
        "These examples are one way that we can use Python to illustrate some of our methods taught in lectures.\n",
        "\n",
        "Can you confirm some of the tutorial question solutions using Python? Can you plot these on the Argand diagram, or evaluate them in polar form? Can you pick a different position and perform a rotation to satisfy yourself that complex numbers and graphics transformations can achieve identical results..?"
      ]
    },
    {
      "cell_type": "code",
      "execution_count": 17,
      "metadata": {
        "id": "D5Q02X9332b5"
      },
      "outputs": [],
      "source": []
    }
  ],
  "metadata": {
    "colab": {
      "provenance": []
    },
    "kernelspec": {
      "display_name": "Python 3 (ipykernel)",
      "language": "python",
      "name": "python3"
    },
    "language_info": {
      "codemirror_mode": {
        "name": "ipython",
        "version": 3
      },
      "file_extension": ".py",
      "mimetype": "text/x-python",
      "name": "python",
      "nbconvert_exporter": "python",
      "pygments_lexer": "ipython3",
      "version": "3.9.9"
    }
  },
  "nbformat": 4,
  "nbformat_minor": 0
}